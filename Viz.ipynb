{
 "cells": [
  {
   "cell_type": "code",
   "execution_count": 1,
   "metadata": {},
   "outputs": [],
   "source": [
    "import pandas as pd\n",
    "\n",
    "import chart_studio.plotly as py\n",
    "import plotly.graph_objs as go\n",
    "import plotly.express as px\n",
    "from plotly.offline import iplot, init_notebook_mode"
   ]
  },
  {
   "cell_type": "code",
   "execution_count": 2,
   "metadata": {},
   "outputs": [],
   "source": [
    "data = pd.read_csv('Data/spotify_songs.csv')"
   ]
  },
  {
   "cell_type": "code",
   "execution_count": 7,
   "metadata": {},
   "outputs": [
    {
     "name": "stdout",
     "output_type": "stream",
     "text": [
      "<class 'pandas.core.frame.DataFrame'>\n",
      "RangeIndex: 32833 entries, 0 to 32832\n",
      "Data columns (total 23 columns):\n",
      "track_id                    32833 non-null object\n",
      "track_name                  32828 non-null object\n",
      "track_artist                32828 non-null object\n",
      "track_popularity            32833 non-null int64\n",
      "track_album_id              32833 non-null object\n",
      "track_album_name            32828 non-null object\n",
      "track_album_release_date    32833 non-null object\n",
      "playlist_name               32833 non-null object\n",
      "playlist_id                 32833 non-null object\n",
      "playlist_genre              32833 non-null object\n",
      "playlist_subgenre           32833 non-null object\n",
      "danceability                32833 non-null float64\n",
      "energy                      32833 non-null float64\n",
      "key                         32833 non-null int64\n",
      "loudness                    32833 non-null float64\n",
      "mode                        32833 non-null int64\n",
      "speechiness                 32833 non-null float64\n",
      "acousticness                32833 non-null float64\n",
      "instrumentalness            32833 non-null float64\n",
      "liveness                    32833 non-null float64\n",
      "valence                     32833 non-null float64\n",
      "tempo                       32833 non-null float64\n",
      "duration_ms                 32833 non-null int64\n",
      "dtypes: float64(9), int64(4), object(10)\n",
      "memory usage: 5.8+ MB\n"
     ]
    }
   ],
   "source": [
    "data.info()"
   ]
  },
  {
   "cell_type": "code",
   "execution_count": 8,
   "metadata": {},
   "outputs": [],
   "source": [
    "data = data[['track_name', 'track_popularity', 'track_album_release_date',\n",
    "             'playlist_genre', 'danceability', 'energy', 'loudness',\n",
    "            'speechiness', 'instrumentalness', 'duration_ms']]"
   ]
  },
  {
   "cell_type": "code",
   "execution_count": 9,
   "metadata": {},
   "outputs": [
    {
     "data": {
      "text/html": [
       "<div>\n",
       "<style scoped>\n",
       "    .dataframe tbody tr th:only-of-type {\n",
       "        vertical-align: middle;\n",
       "    }\n",
       "\n",
       "    .dataframe tbody tr th {\n",
       "        vertical-align: top;\n",
       "    }\n",
       "\n",
       "    .dataframe thead th {\n",
       "        text-align: right;\n",
       "    }\n",
       "</style>\n",
       "<table border=\"1\" class=\"dataframe\">\n",
       "  <thead>\n",
       "    <tr style=\"text-align: right;\">\n",
       "      <th></th>\n",
       "      <th>track_name</th>\n",
       "      <th>track_popularity</th>\n",
       "      <th>track_album_release_date</th>\n",
       "      <th>playlist_genre</th>\n",
       "      <th>danceability</th>\n",
       "      <th>energy</th>\n",
       "      <th>loudness</th>\n",
       "      <th>speechiness</th>\n",
       "      <th>instrumentalness</th>\n",
       "      <th>duration_ms</th>\n",
       "    </tr>\n",
       "  </thead>\n",
       "  <tbody>\n",
       "    <tr>\n",
       "      <th>0</th>\n",
       "      <td>I Don't Care (with Justin Bieber) - Loud Luxur...</td>\n",
       "      <td>66</td>\n",
       "      <td>2019-06-14</td>\n",
       "      <td>pop</td>\n",
       "      <td>0.748</td>\n",
       "      <td>0.916</td>\n",
       "      <td>-2.634</td>\n",
       "      <td>0.0583</td>\n",
       "      <td>0.000000</td>\n",
       "      <td>194754</td>\n",
       "    </tr>\n",
       "    <tr>\n",
       "      <th>1</th>\n",
       "      <td>Memories - Dillon Francis Remix</td>\n",
       "      <td>67</td>\n",
       "      <td>2019-12-13</td>\n",
       "      <td>pop</td>\n",
       "      <td>0.726</td>\n",
       "      <td>0.815</td>\n",
       "      <td>-4.969</td>\n",
       "      <td>0.0373</td>\n",
       "      <td>0.004210</td>\n",
       "      <td>162600</td>\n",
       "    </tr>\n",
       "    <tr>\n",
       "      <th>2</th>\n",
       "      <td>All the Time - Don Diablo Remix</td>\n",
       "      <td>70</td>\n",
       "      <td>2019-07-05</td>\n",
       "      <td>pop</td>\n",
       "      <td>0.675</td>\n",
       "      <td>0.931</td>\n",
       "      <td>-3.432</td>\n",
       "      <td>0.0742</td>\n",
       "      <td>0.000023</td>\n",
       "      <td>176616</td>\n",
       "    </tr>\n",
       "    <tr>\n",
       "      <th>3</th>\n",
       "      <td>Call You Mine - Keanu Silva Remix</td>\n",
       "      <td>60</td>\n",
       "      <td>2019-07-19</td>\n",
       "      <td>pop</td>\n",
       "      <td>0.718</td>\n",
       "      <td>0.930</td>\n",
       "      <td>-3.778</td>\n",
       "      <td>0.1020</td>\n",
       "      <td>0.000009</td>\n",
       "      <td>169093</td>\n",
       "    </tr>\n",
       "    <tr>\n",
       "      <th>4</th>\n",
       "      <td>Someone You Loved - Future Humans Remix</td>\n",
       "      <td>69</td>\n",
       "      <td>2019-03-05</td>\n",
       "      <td>pop</td>\n",
       "      <td>0.650</td>\n",
       "      <td>0.833</td>\n",
       "      <td>-4.672</td>\n",
       "      <td>0.0359</td>\n",
       "      <td>0.000000</td>\n",
       "      <td>189052</td>\n",
       "    </tr>\n",
       "  </tbody>\n",
       "</table>\n",
       "</div>"
      ],
      "text/plain": [
       "                                          track_name  track_popularity  \\\n",
       "0  I Don't Care (with Justin Bieber) - Loud Luxur...                66   \n",
       "1                    Memories - Dillon Francis Remix                67   \n",
       "2                    All the Time - Don Diablo Remix                70   \n",
       "3                  Call You Mine - Keanu Silva Remix                60   \n",
       "4            Someone You Loved - Future Humans Remix                69   \n",
       "\n",
       "  track_album_release_date playlist_genre  danceability  energy  loudness  \\\n",
       "0               2019-06-14            pop         0.748   0.916    -2.634   \n",
       "1               2019-12-13            pop         0.726   0.815    -4.969   \n",
       "2               2019-07-05            pop         0.675   0.931    -3.432   \n",
       "3               2019-07-19            pop         0.718   0.930    -3.778   \n",
       "4               2019-03-05            pop         0.650   0.833    -4.672   \n",
       "\n",
       "   speechiness  instrumentalness  duration_ms  \n",
       "0       0.0583          0.000000       194754  \n",
       "1       0.0373          0.004210       162600  \n",
       "2       0.0742          0.000023       176616  \n",
       "3       0.1020          0.000009       169093  \n",
       "4       0.0359          0.000000       189052  "
      ]
     },
     "execution_count": 9,
     "metadata": {},
     "output_type": "execute_result"
    }
   ],
   "source": [
    "data.head()"
   ]
  },
  {
   "cell_type": "code",
   "execution_count": null,
   "metadata": {},
   "outputs": [],
   "source": []
  }
 ],
 "metadata": {
  "kernelspec": {
   "display_name": "Python 3",
   "language": "python",
   "name": "python3"
  },
  "language_info": {
   "codemirror_mode": {
    "name": "ipython",
    "version": 3
   },
   "file_extension": ".py",
   "mimetype": "text/x-python",
   "name": "python",
   "nbconvert_exporter": "python",
   "pygments_lexer": "ipython3",
   "version": "3.7.3"
  }
 },
 "nbformat": 4,
 "nbformat_minor": 2
}
