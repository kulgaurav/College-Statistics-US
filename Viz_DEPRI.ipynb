{
 "cells": [
  {
   "cell_type": "code",
   "execution_count": 32,
   "metadata": {},
   "outputs": [
    {
     "data": {
      "text/html": [
       "        <script type=\"text/javascript\">\n",
       "        window.PlotlyConfig = {MathJaxConfig: 'local'};\n",
       "        if (window.MathJax) {MathJax.Hub.Config({SVG: {font: \"STIX-Web\"}});}\n",
       "        if (typeof require !== 'undefined') {\n",
       "        require.undef(\"plotly\");\n",
       "        requirejs.config({\n",
       "            paths: {\n",
       "                'plotly': ['https://cdn.plot.ly/plotly-latest.min']\n",
       "            }\n",
       "        });\n",
       "        require(['plotly'], function(Plotly) {\n",
       "            window._Plotly = Plotly;\n",
       "        });\n",
       "        }\n",
       "        </script>\n",
       "        "
      ]
     },
     "metadata": {},
     "output_type": "display_data"
    },
    {
     "data": {
      "text/html": [
       "        <script type=\"text/javascript\">\n",
       "        window.PlotlyConfig = {MathJaxConfig: 'local'};\n",
       "        if (window.MathJax) {MathJax.Hub.Config({SVG: {font: \"STIX-Web\"}});}\n",
       "        if (typeof require !== 'undefined') {\n",
       "        require.undef(\"plotly\");\n",
       "        requirejs.config({\n",
       "            paths: {\n",
       "                'plotly': ['https://cdn.plot.ly/plotly-latest.min']\n",
       "            }\n",
       "        });\n",
       "        require(['plotly'], function(Plotly) {\n",
       "            window._Plotly = Plotly;\n",
       "        });\n",
       "        }\n",
       "        </script>\n",
       "        "
      ]
     },
     "metadata": {},
     "output_type": "display_data"
    }
   ],
   "source": [
    "import pandas as pd\n",
    "import numpy as np\n",
    "\n",
    "import chart_studio.plotly as py\n",
    "import plotly.graph_objs as go\n",
    "import plotly.express as px\n",
    "from plotly.offline import iplot, init_notebook_mode\n",
    "\n",
    "import ipywidgets as widgets\n",
    "\n",
    "import cufflinks as cf\n",
    "cf.go_offline()\n",
    "cf.set_config_file(offline=False, world_readable=True)\n",
    "init_notebook_mode(connected=True)"
   ]
  },
  {
   "cell_type": "code",
   "execution_count": 17,
   "metadata": {},
   "outputs": [],
   "source": [
    "data = pd.read_csv('Data/spotify_songs.csv')\n",
    "\n",
    "#data = data[:1000]"
   ]
  },
  {
   "cell_type": "code",
   "execution_count": 18,
   "metadata": {
    "scrolled": true
   },
   "outputs": [
    {
     "data": {
      "text/html": [
       "<div>\n",
       "<style scoped>\n",
       "    .dataframe tbody tr th:only-of-type {\n",
       "        vertical-align: middle;\n",
       "    }\n",
       "\n",
       "    .dataframe tbody tr th {\n",
       "        vertical-align: top;\n",
       "    }\n",
       "\n",
       "    .dataframe thead th {\n",
       "        text-align: right;\n",
       "    }\n",
       "</style>\n",
       "<table border=\"1\" class=\"dataframe\">\n",
       "  <thead>\n",
       "    <tr style=\"text-align: right;\">\n",
       "      <th></th>\n",
       "      <th>track_popularity</th>\n",
       "      <th>danceability</th>\n",
       "      <th>energy</th>\n",
       "      <th>key</th>\n",
       "      <th>loudness</th>\n",
       "      <th>mode</th>\n",
       "      <th>speechiness</th>\n",
       "      <th>acousticness</th>\n",
       "      <th>instrumentalness</th>\n",
       "      <th>liveness</th>\n",
       "      <th>valence</th>\n",
       "      <th>tempo</th>\n",
       "      <th>duration_ms</th>\n",
       "    </tr>\n",
       "  </thead>\n",
       "  <tbody>\n",
       "    <tr>\n",
       "      <th>count</th>\n",
       "      <td>32833.000000</td>\n",
       "      <td>32833.000000</td>\n",
       "      <td>32833.000000</td>\n",
       "      <td>32833.000000</td>\n",
       "      <td>32833.000000</td>\n",
       "      <td>32833.000000</td>\n",
       "      <td>32833.000000</td>\n",
       "      <td>32833.000000</td>\n",
       "      <td>32833.000000</td>\n",
       "      <td>32833.000000</td>\n",
       "      <td>32833.000000</td>\n",
       "      <td>32833.000000</td>\n",
       "      <td>32833.000000</td>\n",
       "    </tr>\n",
       "    <tr>\n",
       "      <th>mean</th>\n",
       "      <td>42.477081</td>\n",
       "      <td>0.654850</td>\n",
       "      <td>0.698619</td>\n",
       "      <td>5.374471</td>\n",
       "      <td>-6.719499</td>\n",
       "      <td>0.565711</td>\n",
       "      <td>0.107068</td>\n",
       "      <td>0.175334</td>\n",
       "      <td>0.084747</td>\n",
       "      <td>0.190176</td>\n",
       "      <td>0.510561</td>\n",
       "      <td>120.881132</td>\n",
       "      <td>225799.811622</td>\n",
       "    </tr>\n",
       "    <tr>\n",
       "      <th>std</th>\n",
       "      <td>24.984074</td>\n",
       "      <td>0.145085</td>\n",
       "      <td>0.180910</td>\n",
       "      <td>3.611657</td>\n",
       "      <td>2.988436</td>\n",
       "      <td>0.495671</td>\n",
       "      <td>0.101314</td>\n",
       "      <td>0.219633</td>\n",
       "      <td>0.224230</td>\n",
       "      <td>0.154317</td>\n",
       "      <td>0.233146</td>\n",
       "      <td>26.903624</td>\n",
       "      <td>59834.006182</td>\n",
       "    </tr>\n",
       "    <tr>\n",
       "      <th>min</th>\n",
       "      <td>0.000000</td>\n",
       "      <td>0.000000</td>\n",
       "      <td>0.000175</td>\n",
       "      <td>0.000000</td>\n",
       "      <td>-46.448000</td>\n",
       "      <td>0.000000</td>\n",
       "      <td>0.000000</td>\n",
       "      <td>0.000000</td>\n",
       "      <td>0.000000</td>\n",
       "      <td>0.000000</td>\n",
       "      <td>0.000000</td>\n",
       "      <td>0.000000</td>\n",
       "      <td>4000.000000</td>\n",
       "    </tr>\n",
       "    <tr>\n",
       "      <th>25%</th>\n",
       "      <td>24.000000</td>\n",
       "      <td>0.563000</td>\n",
       "      <td>0.581000</td>\n",
       "      <td>2.000000</td>\n",
       "      <td>-8.171000</td>\n",
       "      <td>0.000000</td>\n",
       "      <td>0.041000</td>\n",
       "      <td>0.015100</td>\n",
       "      <td>0.000000</td>\n",
       "      <td>0.092700</td>\n",
       "      <td>0.331000</td>\n",
       "      <td>99.960000</td>\n",
       "      <td>187819.000000</td>\n",
       "    </tr>\n",
       "    <tr>\n",
       "      <th>50%</th>\n",
       "      <td>45.000000</td>\n",
       "      <td>0.672000</td>\n",
       "      <td>0.721000</td>\n",
       "      <td>6.000000</td>\n",
       "      <td>-6.166000</td>\n",
       "      <td>1.000000</td>\n",
       "      <td>0.062500</td>\n",
       "      <td>0.080400</td>\n",
       "      <td>0.000016</td>\n",
       "      <td>0.127000</td>\n",
       "      <td>0.512000</td>\n",
       "      <td>121.984000</td>\n",
       "      <td>216000.000000</td>\n",
       "    </tr>\n",
       "    <tr>\n",
       "      <th>75%</th>\n",
       "      <td>62.000000</td>\n",
       "      <td>0.761000</td>\n",
       "      <td>0.840000</td>\n",
       "      <td>9.000000</td>\n",
       "      <td>-4.645000</td>\n",
       "      <td>1.000000</td>\n",
       "      <td>0.132000</td>\n",
       "      <td>0.255000</td>\n",
       "      <td>0.004830</td>\n",
       "      <td>0.248000</td>\n",
       "      <td>0.693000</td>\n",
       "      <td>133.918000</td>\n",
       "      <td>253585.000000</td>\n",
       "    </tr>\n",
       "    <tr>\n",
       "      <th>max</th>\n",
       "      <td>100.000000</td>\n",
       "      <td>0.983000</td>\n",
       "      <td>1.000000</td>\n",
       "      <td>11.000000</td>\n",
       "      <td>1.275000</td>\n",
       "      <td>1.000000</td>\n",
       "      <td>0.918000</td>\n",
       "      <td>0.994000</td>\n",
       "      <td>0.994000</td>\n",
       "      <td>0.996000</td>\n",
       "      <td>0.991000</td>\n",
       "      <td>239.440000</td>\n",
       "      <td>517810.000000</td>\n",
       "    </tr>\n",
       "  </tbody>\n",
       "</table>\n",
       "</div>"
      ],
      "text/plain": [
       "       track_popularity  danceability        energy           key  \\\n",
       "count      32833.000000  32833.000000  32833.000000  32833.000000   \n",
       "mean          42.477081      0.654850      0.698619      5.374471   \n",
       "std           24.984074      0.145085      0.180910      3.611657   \n",
       "min            0.000000      0.000000      0.000175      0.000000   \n",
       "25%           24.000000      0.563000      0.581000      2.000000   \n",
       "50%           45.000000      0.672000      0.721000      6.000000   \n",
       "75%           62.000000      0.761000      0.840000      9.000000   \n",
       "max          100.000000      0.983000      1.000000     11.000000   \n",
       "\n",
       "           loudness          mode   speechiness  acousticness  \\\n",
       "count  32833.000000  32833.000000  32833.000000  32833.000000   \n",
       "mean      -6.719499      0.565711      0.107068      0.175334   \n",
       "std        2.988436      0.495671      0.101314      0.219633   \n",
       "min      -46.448000      0.000000      0.000000      0.000000   \n",
       "25%       -8.171000      0.000000      0.041000      0.015100   \n",
       "50%       -6.166000      1.000000      0.062500      0.080400   \n",
       "75%       -4.645000      1.000000      0.132000      0.255000   \n",
       "max        1.275000      1.000000      0.918000      0.994000   \n",
       "\n",
       "       instrumentalness      liveness       valence         tempo  \\\n",
       "count      32833.000000  32833.000000  32833.000000  32833.000000   \n",
       "mean           0.084747      0.190176      0.510561    120.881132   \n",
       "std            0.224230      0.154317      0.233146     26.903624   \n",
       "min            0.000000      0.000000      0.000000      0.000000   \n",
       "25%            0.000000      0.092700      0.331000     99.960000   \n",
       "50%            0.000016      0.127000      0.512000    121.984000   \n",
       "75%            0.004830      0.248000      0.693000    133.918000   \n",
       "max            0.994000      0.996000      0.991000    239.440000   \n",
       "\n",
       "         duration_ms  \n",
       "count   32833.000000  \n",
       "mean   225799.811622  \n",
       "std     59834.006182  \n",
       "min      4000.000000  \n",
       "25%    187819.000000  \n",
       "50%    216000.000000  \n",
       "75%    253585.000000  \n",
       "max    517810.000000  "
      ]
     },
     "execution_count": 18,
     "metadata": {},
     "output_type": "execute_result"
    }
   ],
   "source": [
    "data.describe()"
   ]
  },
  {
   "cell_type": "code",
   "execution_count": 19,
   "metadata": {
    "scrolled": true
   },
   "outputs": [
    {
     "data": {
      "text/html": [
       "<div>\n",
       "<style scoped>\n",
       "    .dataframe tbody tr th:only-of-type {\n",
       "        vertical-align: middle;\n",
       "    }\n",
       "\n",
       "    .dataframe tbody tr th {\n",
       "        vertical-align: top;\n",
       "    }\n",
       "\n",
       "    .dataframe thead th {\n",
       "        text-align: right;\n",
       "    }\n",
       "</style>\n",
       "<table border=\"1\" class=\"dataframe\">\n",
       "  <thead>\n",
       "    <tr style=\"text-align: right;\">\n",
       "      <th></th>\n",
       "      <th>track_popularity</th>\n",
       "      <th>danceability</th>\n",
       "      <th>energy</th>\n",
       "      <th>key</th>\n",
       "      <th>loudness</th>\n",
       "      <th>mode</th>\n",
       "      <th>speechiness</th>\n",
       "      <th>acousticness</th>\n",
       "      <th>instrumentalness</th>\n",
       "      <th>liveness</th>\n",
       "      <th>valence</th>\n",
       "      <th>tempo</th>\n",
       "      <th>duration_ms</th>\n",
       "    </tr>\n",
       "  </thead>\n",
       "  <tbody>\n",
       "    <tr>\n",
       "      <th>track_popularity</th>\n",
       "      <td>1.000000</td>\n",
       "      <td>0.064748</td>\n",
       "      <td>-0.109112</td>\n",
       "      <td>-0.000650</td>\n",
       "      <td>0.057687</td>\n",
       "      <td>0.010637</td>\n",
       "      <td>0.006819</td>\n",
       "      <td>0.085159</td>\n",
       "      <td>-0.149872</td>\n",
       "      <td>-0.054584</td>\n",
       "      <td>0.033231</td>\n",
       "      <td>-0.005378</td>\n",
       "      <td>-0.143682</td>\n",
       "    </tr>\n",
       "    <tr>\n",
       "      <th>danceability</th>\n",
       "      <td>0.064748</td>\n",
       "      <td>1.000000</td>\n",
       "      <td>-0.086073</td>\n",
       "      <td>0.011736</td>\n",
       "      <td>0.025335</td>\n",
       "      <td>-0.058647</td>\n",
       "      <td>0.181721</td>\n",
       "      <td>-0.024519</td>\n",
       "      <td>-0.008655</td>\n",
       "      <td>-0.123859</td>\n",
       "      <td>0.330523</td>\n",
       "      <td>-0.184084</td>\n",
       "      <td>-0.096879</td>\n",
       "    </tr>\n",
       "    <tr>\n",
       "      <th>energy</th>\n",
       "      <td>-0.109112</td>\n",
       "      <td>-0.086073</td>\n",
       "      <td>1.000000</td>\n",
       "      <td>0.010052</td>\n",
       "      <td>0.676625</td>\n",
       "      <td>-0.004800</td>\n",
       "      <td>-0.032150</td>\n",
       "      <td>-0.539745</td>\n",
       "      <td>0.033247</td>\n",
       "      <td>0.161223</td>\n",
       "      <td>0.151103</td>\n",
       "      <td>0.149951</td>\n",
       "      <td>0.012611</td>\n",
       "    </tr>\n",
       "    <tr>\n",
       "      <th>key</th>\n",
       "      <td>-0.000650</td>\n",
       "      <td>0.011736</td>\n",
       "      <td>0.010052</td>\n",
       "      <td>1.000000</td>\n",
       "      <td>0.000959</td>\n",
       "      <td>-0.174093</td>\n",
       "      <td>0.022607</td>\n",
       "      <td>0.004306</td>\n",
       "      <td>0.005968</td>\n",
       "      <td>0.002887</td>\n",
       "      <td>0.019914</td>\n",
       "      <td>-0.013370</td>\n",
       "      <td>0.015139</td>\n",
       "    </tr>\n",
       "    <tr>\n",
       "      <th>loudness</th>\n",
       "      <td>0.057687</td>\n",
       "      <td>0.025335</td>\n",
       "      <td>0.676625</td>\n",
       "      <td>0.000959</td>\n",
       "      <td>1.000000</td>\n",
       "      <td>-0.019289</td>\n",
       "      <td>0.010339</td>\n",
       "      <td>-0.361638</td>\n",
       "      <td>-0.147824</td>\n",
       "      <td>0.077613</td>\n",
       "      <td>0.053384</td>\n",
       "      <td>0.093767</td>\n",
       "      <td>-0.115058</td>\n",
       "    </tr>\n",
       "    <tr>\n",
       "      <th>mode</th>\n",
       "      <td>0.010637</td>\n",
       "      <td>-0.058647</td>\n",
       "      <td>-0.004800</td>\n",
       "      <td>-0.174093</td>\n",
       "      <td>-0.019289</td>\n",
       "      <td>1.000000</td>\n",
       "      <td>-0.063512</td>\n",
       "      <td>0.009415</td>\n",
       "      <td>-0.006741</td>\n",
       "      <td>-0.005549</td>\n",
       "      <td>0.002614</td>\n",
       "      <td>0.014329</td>\n",
       "      <td>0.015634</td>\n",
       "    </tr>\n",
       "    <tr>\n",
       "      <th>speechiness</th>\n",
       "      <td>0.006819</td>\n",
       "      <td>0.181721</td>\n",
       "      <td>-0.032150</td>\n",
       "      <td>0.022607</td>\n",
       "      <td>0.010339</td>\n",
       "      <td>-0.063512</td>\n",
       "      <td>1.000000</td>\n",
       "      <td>0.026092</td>\n",
       "      <td>-0.103424</td>\n",
       "      <td>0.055426</td>\n",
       "      <td>0.064659</td>\n",
       "      <td>0.044603</td>\n",
       "      <td>-0.089431</td>\n",
       "    </tr>\n",
       "    <tr>\n",
       "      <th>acousticness</th>\n",
       "      <td>0.085159</td>\n",
       "      <td>-0.024519</td>\n",
       "      <td>-0.539745</td>\n",
       "      <td>0.004306</td>\n",
       "      <td>-0.361638</td>\n",
       "      <td>0.009415</td>\n",
       "      <td>0.026092</td>\n",
       "      <td>1.000000</td>\n",
       "      <td>-0.006850</td>\n",
       "      <td>-0.077243</td>\n",
       "      <td>-0.016845</td>\n",
       "      <td>-0.112724</td>\n",
       "      <td>-0.081581</td>\n",
       "    </tr>\n",
       "    <tr>\n",
       "      <th>instrumentalness</th>\n",
       "      <td>-0.149872</td>\n",
       "      <td>-0.008655</td>\n",
       "      <td>0.033247</td>\n",
       "      <td>0.005968</td>\n",
       "      <td>-0.147824</td>\n",
       "      <td>-0.006741</td>\n",
       "      <td>-0.103424</td>\n",
       "      <td>-0.006850</td>\n",
       "      <td>1.000000</td>\n",
       "      <td>-0.005507</td>\n",
       "      <td>-0.175402</td>\n",
       "      <td>0.023335</td>\n",
       "      <td>0.063235</td>\n",
       "    </tr>\n",
       "    <tr>\n",
       "      <th>liveness</th>\n",
       "      <td>-0.054584</td>\n",
       "      <td>-0.123859</td>\n",
       "      <td>0.161223</td>\n",
       "      <td>0.002887</td>\n",
       "      <td>0.077613</td>\n",
       "      <td>-0.005549</td>\n",
       "      <td>0.055426</td>\n",
       "      <td>-0.077243</td>\n",
       "      <td>-0.005507</td>\n",
       "      <td>1.000000</td>\n",
       "      <td>-0.020560</td>\n",
       "      <td>0.021018</td>\n",
       "      <td>0.006138</td>\n",
       "    </tr>\n",
       "    <tr>\n",
       "      <th>valence</th>\n",
       "      <td>0.033231</td>\n",
       "      <td>0.330523</td>\n",
       "      <td>0.151103</td>\n",
       "      <td>0.019914</td>\n",
       "      <td>0.053384</td>\n",
       "      <td>0.002614</td>\n",
       "      <td>0.064659</td>\n",
       "      <td>-0.016845</td>\n",
       "      <td>-0.175402</td>\n",
       "      <td>-0.020560</td>\n",
       "      <td>1.000000</td>\n",
       "      <td>-0.025732</td>\n",
       "      <td>-0.032225</td>\n",
       "    </tr>\n",
       "    <tr>\n",
       "      <th>tempo</th>\n",
       "      <td>-0.005378</td>\n",
       "      <td>-0.184084</td>\n",
       "      <td>0.149951</td>\n",
       "      <td>-0.013370</td>\n",
       "      <td>0.093767</td>\n",
       "      <td>0.014329</td>\n",
       "      <td>0.044603</td>\n",
       "      <td>-0.112724</td>\n",
       "      <td>0.023335</td>\n",
       "      <td>0.021018</td>\n",
       "      <td>-0.025732</td>\n",
       "      <td>1.000000</td>\n",
       "      <td>-0.001412</td>\n",
       "    </tr>\n",
       "    <tr>\n",
       "      <th>duration_ms</th>\n",
       "      <td>-0.143682</td>\n",
       "      <td>-0.096879</td>\n",
       "      <td>0.012611</td>\n",
       "      <td>0.015139</td>\n",
       "      <td>-0.115058</td>\n",
       "      <td>0.015634</td>\n",
       "      <td>-0.089431</td>\n",
       "      <td>-0.081581</td>\n",
       "      <td>0.063235</td>\n",
       "      <td>0.006138</td>\n",
       "      <td>-0.032225</td>\n",
       "      <td>-0.001412</td>\n",
       "      <td>1.000000</td>\n",
       "    </tr>\n",
       "  </tbody>\n",
       "</table>\n",
       "</div>"
      ],
      "text/plain": [
       "                  track_popularity  danceability    energy       key  \\\n",
       "track_popularity          1.000000      0.064748 -0.109112 -0.000650   \n",
       "danceability              0.064748      1.000000 -0.086073  0.011736   \n",
       "energy                   -0.109112     -0.086073  1.000000  0.010052   \n",
       "key                      -0.000650      0.011736  0.010052  1.000000   \n",
       "loudness                  0.057687      0.025335  0.676625  0.000959   \n",
       "mode                      0.010637     -0.058647 -0.004800 -0.174093   \n",
       "speechiness               0.006819      0.181721 -0.032150  0.022607   \n",
       "acousticness              0.085159     -0.024519 -0.539745  0.004306   \n",
       "instrumentalness         -0.149872     -0.008655  0.033247  0.005968   \n",
       "liveness                 -0.054584     -0.123859  0.161223  0.002887   \n",
       "valence                   0.033231      0.330523  0.151103  0.019914   \n",
       "tempo                    -0.005378     -0.184084  0.149951 -0.013370   \n",
       "duration_ms              -0.143682     -0.096879  0.012611  0.015139   \n",
       "\n",
       "                  loudness      mode  speechiness  acousticness  \\\n",
       "track_popularity  0.057687  0.010637     0.006819      0.085159   \n",
       "danceability      0.025335 -0.058647     0.181721     -0.024519   \n",
       "energy            0.676625 -0.004800    -0.032150     -0.539745   \n",
       "key               0.000959 -0.174093     0.022607      0.004306   \n",
       "loudness          1.000000 -0.019289     0.010339     -0.361638   \n",
       "mode             -0.019289  1.000000    -0.063512      0.009415   \n",
       "speechiness       0.010339 -0.063512     1.000000      0.026092   \n",
       "acousticness     -0.361638  0.009415     0.026092      1.000000   \n",
       "instrumentalness -0.147824 -0.006741    -0.103424     -0.006850   \n",
       "liveness          0.077613 -0.005549     0.055426     -0.077243   \n",
       "valence           0.053384  0.002614     0.064659     -0.016845   \n",
       "tempo             0.093767  0.014329     0.044603     -0.112724   \n",
       "duration_ms      -0.115058  0.015634    -0.089431     -0.081581   \n",
       "\n",
       "                  instrumentalness  liveness   valence     tempo  duration_ms  \n",
       "track_popularity         -0.149872 -0.054584  0.033231 -0.005378    -0.143682  \n",
       "danceability             -0.008655 -0.123859  0.330523 -0.184084    -0.096879  \n",
       "energy                    0.033247  0.161223  0.151103  0.149951     0.012611  \n",
       "key                       0.005968  0.002887  0.019914 -0.013370     0.015139  \n",
       "loudness                 -0.147824  0.077613  0.053384  0.093767    -0.115058  \n",
       "mode                     -0.006741 -0.005549  0.002614  0.014329     0.015634  \n",
       "speechiness              -0.103424  0.055426  0.064659  0.044603    -0.089431  \n",
       "acousticness             -0.006850 -0.077243 -0.016845 -0.112724    -0.081581  \n",
       "instrumentalness          1.000000 -0.005507 -0.175402  0.023335     0.063235  \n",
       "liveness                 -0.005507  1.000000 -0.020560  0.021018     0.006138  \n",
       "valence                  -0.175402 -0.020560  1.000000 -0.025732    -0.032225  \n",
       "tempo                     0.023335  0.021018 -0.025732  1.000000    -0.001412  \n",
       "duration_ms               0.063235  0.006138 -0.032225 -0.001412     1.000000  "
      ]
     },
     "execution_count": 19,
     "metadata": {},
     "output_type": "execute_result"
    }
   ],
   "source": [
    "data.corr()"
   ]
  },
  {
   "cell_type": "code",
   "execution_count": 20,
   "metadata": {},
   "outputs": [],
   "source": [
    "data.drop(['track_id', 'playlist_id', 'track_album_id','track_album_name' ], axis = 1, inplace = True) "
   ]
  },
  {
   "cell_type": "code",
   "execution_count": 21,
   "metadata": {},
   "outputs": [
    {
     "name": "stdout",
     "output_type": "stream",
     "text": [
      "loudness          acousticness        0.361638\n",
      "acousticness      loudness            0.361638\n",
      "                  energy              0.539745\n",
      "energy            acousticness        0.539745\n",
      "                  loudness            0.676625\n",
      "loudness          energy              0.676625\n",
      "track_popularity  track_popularity    1.000000\n",
      "speechiness       speechiness         1.000000\n",
      "valence           valence             1.000000\n",
      "liveness          liveness            1.000000\n",
      "dtype: float64\n"
     ]
    }
   ],
   "source": [
    "c = data.corr().abs()\n",
    "\n",
    "s = c.unstack()\n",
    "so = s.sort_values(kind=\"quicksort\")\n",
    "\n",
    "print(so[150:160])"
   ]
  },
  {
   "cell_type": "code",
   "execution_count": 22,
   "metadata": {
    "scrolled": true
   },
   "outputs": [
    {
     "data": {
      "text/html": [
       "<div>\n",
       "<style scoped>\n",
       "    .dataframe tbody tr th:only-of-type {\n",
       "        vertical-align: middle;\n",
       "    }\n",
       "\n",
       "    .dataframe tbody tr th {\n",
       "        vertical-align: top;\n",
       "    }\n",
       "\n",
       "    .dataframe thead th {\n",
       "        text-align: right;\n",
       "    }\n",
       "</style>\n",
       "<table border=\"1\" class=\"dataframe\">\n",
       "  <thead>\n",
       "    <tr style=\"text-align: right;\">\n",
       "      <th></th>\n",
       "      <th>track_name</th>\n",
       "      <th>track_artist</th>\n",
       "      <th>track_popularity</th>\n",
       "      <th>track_album_release_date</th>\n",
       "      <th>playlist_name</th>\n",
       "      <th>playlist_genre</th>\n",
       "      <th>playlist_subgenre</th>\n",
       "      <th>danceability</th>\n",
       "      <th>energy</th>\n",
       "      <th>key</th>\n",
       "      <th>loudness</th>\n",
       "      <th>mode</th>\n",
       "      <th>speechiness</th>\n",
       "      <th>acousticness</th>\n",
       "      <th>instrumentalness</th>\n",
       "      <th>liveness</th>\n",
       "      <th>valence</th>\n",
       "      <th>tempo</th>\n",
       "      <th>duration_ms</th>\n",
       "    </tr>\n",
       "  </thead>\n",
       "  <tbody>\n",
       "    <tr>\n",
       "      <th>0</th>\n",
       "      <td>I Don't Care (with Justin Bieber) - Loud Luxur...</td>\n",
       "      <td>Ed Sheeran</td>\n",
       "      <td>66</td>\n",
       "      <td>2019-06-14</td>\n",
       "      <td>Pop Remix</td>\n",
       "      <td>pop</td>\n",
       "      <td>dance pop</td>\n",
       "      <td>0.748</td>\n",
       "      <td>0.916</td>\n",
       "      <td>6</td>\n",
       "      <td>-2.634</td>\n",
       "      <td>1</td>\n",
       "      <td>0.0583</td>\n",
       "      <td>0.1020</td>\n",
       "      <td>0.000000</td>\n",
       "      <td>0.0653</td>\n",
       "      <td>0.518</td>\n",
       "      <td>122.036</td>\n",
       "      <td>194754</td>\n",
       "    </tr>\n",
       "    <tr>\n",
       "      <th>1</th>\n",
       "      <td>Memories - Dillon Francis Remix</td>\n",
       "      <td>Maroon 5</td>\n",
       "      <td>67</td>\n",
       "      <td>2019-12-13</td>\n",
       "      <td>Pop Remix</td>\n",
       "      <td>pop</td>\n",
       "      <td>dance pop</td>\n",
       "      <td>0.726</td>\n",
       "      <td>0.815</td>\n",
       "      <td>11</td>\n",
       "      <td>-4.969</td>\n",
       "      <td>1</td>\n",
       "      <td>0.0373</td>\n",
       "      <td>0.0724</td>\n",
       "      <td>0.004210</td>\n",
       "      <td>0.3570</td>\n",
       "      <td>0.693</td>\n",
       "      <td>99.972</td>\n",
       "      <td>162600</td>\n",
       "    </tr>\n",
       "    <tr>\n",
       "      <th>2</th>\n",
       "      <td>All the Time - Don Diablo Remix</td>\n",
       "      <td>Zara Larsson</td>\n",
       "      <td>70</td>\n",
       "      <td>2019-07-05</td>\n",
       "      <td>Pop Remix</td>\n",
       "      <td>pop</td>\n",
       "      <td>dance pop</td>\n",
       "      <td>0.675</td>\n",
       "      <td>0.931</td>\n",
       "      <td>1</td>\n",
       "      <td>-3.432</td>\n",
       "      <td>0</td>\n",
       "      <td>0.0742</td>\n",
       "      <td>0.0794</td>\n",
       "      <td>0.000023</td>\n",
       "      <td>0.1100</td>\n",
       "      <td>0.613</td>\n",
       "      <td>124.008</td>\n",
       "      <td>176616</td>\n",
       "    </tr>\n",
       "    <tr>\n",
       "      <th>3</th>\n",
       "      <td>Call You Mine - Keanu Silva Remix</td>\n",
       "      <td>The Chainsmokers</td>\n",
       "      <td>60</td>\n",
       "      <td>2019-07-19</td>\n",
       "      <td>Pop Remix</td>\n",
       "      <td>pop</td>\n",
       "      <td>dance pop</td>\n",
       "      <td>0.718</td>\n",
       "      <td>0.930</td>\n",
       "      <td>7</td>\n",
       "      <td>-3.778</td>\n",
       "      <td>1</td>\n",
       "      <td>0.1020</td>\n",
       "      <td>0.0287</td>\n",
       "      <td>0.000009</td>\n",
       "      <td>0.2040</td>\n",
       "      <td>0.277</td>\n",
       "      <td>121.956</td>\n",
       "      <td>169093</td>\n",
       "    </tr>\n",
       "    <tr>\n",
       "      <th>4</th>\n",
       "      <td>Someone You Loved - Future Humans Remix</td>\n",
       "      <td>Lewis Capaldi</td>\n",
       "      <td>69</td>\n",
       "      <td>2019-03-05</td>\n",
       "      <td>Pop Remix</td>\n",
       "      <td>pop</td>\n",
       "      <td>dance pop</td>\n",
       "      <td>0.650</td>\n",
       "      <td>0.833</td>\n",
       "      <td>1</td>\n",
       "      <td>-4.672</td>\n",
       "      <td>1</td>\n",
       "      <td>0.0359</td>\n",
       "      <td>0.0803</td>\n",
       "      <td>0.000000</td>\n",
       "      <td>0.0833</td>\n",
       "      <td>0.725</td>\n",
       "      <td>123.976</td>\n",
       "      <td>189052</td>\n",
       "    </tr>\n",
       "  </tbody>\n",
       "</table>\n",
       "</div>"
      ],
      "text/plain": [
       "                                          track_name      track_artist  \\\n",
       "0  I Don't Care (with Justin Bieber) - Loud Luxur...        Ed Sheeran   \n",
       "1                    Memories - Dillon Francis Remix          Maroon 5   \n",
       "2                    All the Time - Don Diablo Remix      Zara Larsson   \n",
       "3                  Call You Mine - Keanu Silva Remix  The Chainsmokers   \n",
       "4            Someone You Loved - Future Humans Remix     Lewis Capaldi   \n",
       "\n",
       "   track_popularity track_album_release_date playlist_name playlist_genre  \\\n",
       "0                66               2019-06-14     Pop Remix            pop   \n",
       "1                67               2019-12-13     Pop Remix            pop   \n",
       "2                70               2019-07-05     Pop Remix            pop   \n",
       "3                60               2019-07-19     Pop Remix            pop   \n",
       "4                69               2019-03-05     Pop Remix            pop   \n",
       "\n",
       "  playlist_subgenre  danceability  energy  key  loudness  mode  speechiness  \\\n",
       "0         dance pop         0.748   0.916    6    -2.634     1       0.0583   \n",
       "1         dance pop         0.726   0.815   11    -4.969     1       0.0373   \n",
       "2         dance pop         0.675   0.931    1    -3.432     0       0.0742   \n",
       "3         dance pop         0.718   0.930    7    -3.778     1       0.1020   \n",
       "4         dance pop         0.650   0.833    1    -4.672     1       0.0359   \n",
       "\n",
       "   acousticness  instrumentalness  liveness  valence    tempo  duration_ms  \n",
       "0        0.1020          0.000000    0.0653    0.518  122.036       194754  \n",
       "1        0.0724          0.004210    0.3570    0.693   99.972       162600  \n",
       "2        0.0794          0.000023    0.1100    0.613  124.008       176616  \n",
       "3        0.0287          0.000009    0.2040    0.277  121.956       169093  \n",
       "4        0.0803          0.000000    0.0833    0.725  123.976       189052  "
      ]
     },
     "execution_count": 22,
     "metadata": {},
     "output_type": "execute_result"
    }
   ],
   "source": [
    "data.head()"
   ]
  },
  {
   "cell_type": "code",
   "execution_count": 23,
   "metadata": {},
   "outputs": [],
   "source": [
    "releaseYearCol = lambda x: x['track_album_release_date'].split(\"-\")[0]\n",
    "data['releaseYear'] = data.apply(releaseYearCol, axis=1)"
   ]
  },
  {
   "cell_type": "code",
   "execution_count": 36,
   "metadata": {},
   "outputs": [
    {
     "data": {
      "application/vnd.plotly.v1+json": {
       "config": {
        "plotlyServerURL": "https://plot.ly"
       },
       "data": [
        {
         "line": {
          "color": "firebrick",
          "width": 4
         },
         "name": "High 2000",
         "type": "scatter",
         "x": [
          8,
          30,
          34,
          35,
          46,
          53,
          55,
          55,
          55,
          55,
          56,
          56,
          56,
          56,
          56,
          57,
          58,
          58,
          60,
          60,
          60,
          60,
          61,
          62,
          62,
          62,
          62,
          63,
          63,
          64,
          66,
          66,
          66,
          67,
          67,
          67,
          67,
          67,
          67,
          68,
          68,
          69,
          69,
          69,
          70,
          70,
          70,
          74,
          83,
          87
         ],
         "y": [
          "2019",
          "2019",
          "2019",
          "2019",
          "2019",
          "2019",
          "2019",
          "2019",
          "2019",
          "2019",
          "2019",
          "2019",
          "2019",
          "2019",
          "2019",
          "2019",
          "2019",
          "2019",
          "2019",
          "2019",
          "2019",
          "2019",
          "2019",
          "2019",
          "2019",
          "2019",
          "2019",
          "2019",
          "2019",
          "2019",
          "2019",
          "2019",
          "2019",
          "2019",
          "2019",
          "2019",
          "2019",
          "2019",
          "2019",
          "2019",
          "2019",
          "2019",
          "2019",
          "2019",
          "2019",
          "2019",
          "2019",
          "2019",
          "2019",
          "2019"
         ]
        },
        {
         "line": {
          "color": "royalblue",
          "dash": "dot",
          "width": 4
         },
         "name": "Low 2000",
         "type": "scatter",
         "x": [
          8,
          30,
          34,
          35,
          46,
          53,
          55,
          55,
          55,
          55,
          56,
          56,
          56,
          56,
          56,
          57,
          58,
          58,
          60,
          60,
          60,
          60,
          61,
          62,
          62,
          62,
          62,
          63,
          63,
          64,
          66,
          66,
          66,
          67,
          67,
          67,
          67,
          67,
          67,
          68,
          68,
          69,
          69,
          69,
          70,
          70,
          70,
          74,
          83,
          87
         ],
         "y": [
          0.6629999999999999,
          0.679,
          0.535,
          0.467,
          0.649,
          0.64,
          0.748,
          0.728,
          0.755,
          0.355,
          0.609,
          0.75,
          0.6409999999999999,
          0.846,
          0.789,
          0.64,
          0.62,
          0.679,
          0.6940000000000001,
          0.716,
          0.742,
          0.718,
          0.622,
          0.449,
          0.6779999999999999,
          0.684,
          0.625,
          0.675,
          0.69,
          0.708,
          0.748,
          0.805,
          0.682,
          0.726,
          0.563,
          0.675,
          0.7440000000000001,
          0.43700000000000006,
          0.642,
          0.5720000000000001,
          0.594,
          0.542,
          0.65,
          0.746,
          0.675,
          0.732,
          0.5720000000000001,
          0.7659999999999999,
          0.67,
          0.693
         ]
        }
       ],
       "layout": {
        "template": {
         "data": {
          "bar": [
           {
            "error_x": {
             "color": "#2a3f5f"
            },
            "error_y": {
             "color": "#2a3f5f"
            },
            "marker": {
             "line": {
              "color": "#E5ECF6",
              "width": 0.5
             }
            },
            "type": "bar"
           }
          ],
          "barpolar": [
           {
            "marker": {
             "line": {
              "color": "#E5ECF6",
              "width": 0.5
             }
            },
            "type": "barpolar"
           }
          ],
          "carpet": [
           {
            "aaxis": {
             "endlinecolor": "#2a3f5f",
             "gridcolor": "white",
             "linecolor": "white",
             "minorgridcolor": "white",
             "startlinecolor": "#2a3f5f"
            },
            "baxis": {
             "endlinecolor": "#2a3f5f",
             "gridcolor": "white",
             "linecolor": "white",
             "minorgridcolor": "white",
             "startlinecolor": "#2a3f5f"
            },
            "type": "carpet"
           }
          ],
          "choropleth": [
           {
            "colorbar": {
             "outlinewidth": 0,
             "ticks": ""
            },
            "type": "choropleth"
           }
          ],
          "contour": [
           {
            "colorbar": {
             "outlinewidth": 0,
             "ticks": ""
            },
            "colorscale": [
             [
              0,
              "#0d0887"
             ],
             [
              0.1111111111111111,
              "#46039f"
             ],
             [
              0.2222222222222222,
              "#7201a8"
             ],
             [
              0.3333333333333333,
              "#9c179e"
             ],
             [
              0.4444444444444444,
              "#bd3786"
             ],
             [
              0.5555555555555556,
              "#d8576b"
             ],
             [
              0.6666666666666666,
              "#ed7953"
             ],
             [
              0.7777777777777778,
              "#fb9f3a"
             ],
             [
              0.8888888888888888,
              "#fdca26"
             ],
             [
              1,
              "#f0f921"
             ]
            ],
            "type": "contour"
           }
          ],
          "contourcarpet": [
           {
            "colorbar": {
             "outlinewidth": 0,
             "ticks": ""
            },
            "type": "contourcarpet"
           }
          ],
          "heatmap": [
           {
            "colorbar": {
             "outlinewidth": 0,
             "ticks": ""
            },
            "colorscale": [
             [
              0,
              "#0d0887"
             ],
             [
              0.1111111111111111,
              "#46039f"
             ],
             [
              0.2222222222222222,
              "#7201a8"
             ],
             [
              0.3333333333333333,
              "#9c179e"
             ],
             [
              0.4444444444444444,
              "#bd3786"
             ],
             [
              0.5555555555555556,
              "#d8576b"
             ],
             [
              0.6666666666666666,
              "#ed7953"
             ],
             [
              0.7777777777777778,
              "#fb9f3a"
             ],
             [
              0.8888888888888888,
              "#fdca26"
             ],
             [
              1,
              "#f0f921"
             ]
            ],
            "type": "heatmap"
           }
          ],
          "heatmapgl": [
           {
            "colorbar": {
             "outlinewidth": 0,
             "ticks": ""
            },
            "colorscale": [
             [
              0,
              "#0d0887"
             ],
             [
              0.1111111111111111,
              "#46039f"
             ],
             [
              0.2222222222222222,
              "#7201a8"
             ],
             [
              0.3333333333333333,
              "#9c179e"
             ],
             [
              0.4444444444444444,
              "#bd3786"
             ],
             [
              0.5555555555555556,
              "#d8576b"
             ],
             [
              0.6666666666666666,
              "#ed7953"
             ],
             [
              0.7777777777777778,
              "#fb9f3a"
             ],
             [
              0.8888888888888888,
              "#fdca26"
             ],
             [
              1,
              "#f0f921"
             ]
            ],
            "type": "heatmapgl"
           }
          ],
          "histogram": [
           {
            "marker": {
             "colorbar": {
              "outlinewidth": 0,
              "ticks": ""
             }
            },
            "type": "histogram"
           }
          ],
          "histogram2d": [
           {
            "colorbar": {
             "outlinewidth": 0,
             "ticks": ""
            },
            "colorscale": [
             [
              0,
              "#0d0887"
             ],
             [
              0.1111111111111111,
              "#46039f"
             ],
             [
              0.2222222222222222,
              "#7201a8"
             ],
             [
              0.3333333333333333,
              "#9c179e"
             ],
             [
              0.4444444444444444,
              "#bd3786"
             ],
             [
              0.5555555555555556,
              "#d8576b"
             ],
             [
              0.6666666666666666,
              "#ed7953"
             ],
             [
              0.7777777777777778,
              "#fb9f3a"
             ],
             [
              0.8888888888888888,
              "#fdca26"
             ],
             [
              1,
              "#f0f921"
             ]
            ],
            "type": "histogram2d"
           }
          ],
          "histogram2dcontour": [
           {
            "colorbar": {
             "outlinewidth": 0,
             "ticks": ""
            },
            "colorscale": [
             [
              0,
              "#0d0887"
             ],
             [
              0.1111111111111111,
              "#46039f"
             ],
             [
              0.2222222222222222,
              "#7201a8"
             ],
             [
              0.3333333333333333,
              "#9c179e"
             ],
             [
              0.4444444444444444,
              "#bd3786"
             ],
             [
              0.5555555555555556,
              "#d8576b"
             ],
             [
              0.6666666666666666,
              "#ed7953"
             ],
             [
              0.7777777777777778,
              "#fb9f3a"
             ],
             [
              0.8888888888888888,
              "#fdca26"
             ],
             [
              1,
              "#f0f921"
             ]
            ],
            "type": "histogram2dcontour"
           }
          ],
          "mesh3d": [
           {
            "colorbar": {
             "outlinewidth": 0,
             "ticks": ""
            },
            "type": "mesh3d"
           }
          ],
          "parcoords": [
           {
            "line": {
             "colorbar": {
              "outlinewidth": 0,
              "ticks": ""
             }
            },
            "type": "parcoords"
           }
          ],
          "pie": [
           {
            "automargin": true,
            "type": "pie"
           }
          ],
          "scatter": [
           {
            "marker": {
             "colorbar": {
              "outlinewidth": 0,
              "ticks": ""
             }
            },
            "type": "scatter"
           }
          ],
          "scatter3d": [
           {
            "line": {
             "colorbar": {
              "outlinewidth": 0,
              "ticks": ""
             }
            },
            "marker": {
             "colorbar": {
              "outlinewidth": 0,
              "ticks": ""
             }
            },
            "type": "scatter3d"
           }
          ],
          "scattercarpet": [
           {
            "marker": {
             "colorbar": {
              "outlinewidth": 0,
              "ticks": ""
             }
            },
            "type": "scattercarpet"
           }
          ],
          "scattergeo": [
           {
            "marker": {
             "colorbar": {
              "outlinewidth": 0,
              "ticks": ""
             }
            },
            "type": "scattergeo"
           }
          ],
          "scattergl": [
           {
            "marker": {
             "colorbar": {
              "outlinewidth": 0,
              "ticks": ""
             }
            },
            "type": "scattergl"
           }
          ],
          "scattermapbox": [
           {
            "marker": {
             "colorbar": {
              "outlinewidth": 0,
              "ticks": ""
             }
            },
            "type": "scattermapbox"
           }
          ],
          "scatterpolar": [
           {
            "marker": {
             "colorbar": {
              "outlinewidth": 0,
              "ticks": ""
             }
            },
            "type": "scatterpolar"
           }
          ],
          "scatterpolargl": [
           {
            "marker": {
             "colorbar": {
              "outlinewidth": 0,
              "ticks": ""
             }
            },
            "type": "scatterpolargl"
           }
          ],
          "scatterternary": [
           {
            "marker": {
             "colorbar": {
              "outlinewidth": 0,
              "ticks": ""
             }
            },
            "type": "scatterternary"
           }
          ],
          "surface": [
           {
            "colorbar": {
             "outlinewidth": 0,
             "ticks": ""
            },
            "colorscale": [
             [
              0,
              "#0d0887"
             ],
             [
              0.1111111111111111,
              "#46039f"
             ],
             [
              0.2222222222222222,
              "#7201a8"
             ],
             [
              0.3333333333333333,
              "#9c179e"
             ],
             [
              0.4444444444444444,
              "#bd3786"
             ],
             [
              0.5555555555555556,
              "#d8576b"
             ],
             [
              0.6666666666666666,
              "#ed7953"
             ],
             [
              0.7777777777777778,
              "#fb9f3a"
             ],
             [
              0.8888888888888888,
              "#fdca26"
             ],
             [
              1,
              "#f0f921"
             ]
            ],
            "type": "surface"
           }
          ],
          "table": [
           {
            "cells": {
             "fill": {
              "color": "#EBF0F8"
             },
             "line": {
              "color": "white"
             }
            },
            "header": {
             "fill": {
              "color": "#C8D4E3"
             },
             "line": {
              "color": "white"
             }
            },
            "type": "table"
           }
          ]
         },
         "layout": {
          "annotationdefaults": {
           "arrowcolor": "#2a3f5f",
           "arrowhead": 0,
           "arrowwidth": 1
          },
          "coloraxis": {
           "colorbar": {
            "outlinewidth": 0,
            "ticks": ""
           }
          },
          "colorscale": {
           "diverging": [
            [
             0,
             "#8e0152"
            ],
            [
             0.1,
             "#c51b7d"
            ],
            [
             0.2,
             "#de77ae"
            ],
            [
             0.3,
             "#f1b6da"
            ],
            [
             0.4,
             "#fde0ef"
            ],
            [
             0.5,
             "#f7f7f7"
            ],
            [
             0.6,
             "#e6f5d0"
            ],
            [
             0.7,
             "#b8e186"
            ],
            [
             0.8,
             "#7fbc41"
            ],
            [
             0.9,
             "#4d9221"
            ],
            [
             1,
             "#276419"
            ]
           ],
           "sequential": [
            [
             0,
             "#0d0887"
            ],
            [
             0.1111111111111111,
             "#46039f"
            ],
            [
             0.2222222222222222,
             "#7201a8"
            ],
            [
             0.3333333333333333,
             "#9c179e"
            ],
            [
             0.4444444444444444,
             "#bd3786"
            ],
            [
             0.5555555555555556,
             "#d8576b"
            ],
            [
             0.6666666666666666,
             "#ed7953"
            ],
            [
             0.7777777777777778,
             "#fb9f3a"
            ],
            [
             0.8888888888888888,
             "#fdca26"
            ],
            [
             1,
             "#f0f921"
            ]
           ],
           "sequentialminus": [
            [
             0,
             "#0d0887"
            ],
            [
             0.1111111111111111,
             "#46039f"
            ],
            [
             0.2222222222222222,
             "#7201a8"
            ],
            [
             0.3333333333333333,
             "#9c179e"
            ],
            [
             0.4444444444444444,
             "#bd3786"
            ],
            [
             0.5555555555555556,
             "#d8576b"
            ],
            [
             0.6666666666666666,
             "#ed7953"
            ],
            [
             0.7777777777777778,
             "#fb9f3a"
            ],
            [
             0.8888888888888888,
             "#fdca26"
            ],
            [
             1,
             "#f0f921"
            ]
           ]
          },
          "colorway": [
           "#636efa",
           "#EF553B",
           "#00cc96",
           "#ab63fa",
           "#FFA15A",
           "#19d3f3",
           "#FF6692",
           "#B6E880",
           "#FF97FF",
           "#FECB52"
          ],
          "font": {
           "color": "#2a3f5f"
          },
          "geo": {
           "bgcolor": "white",
           "lakecolor": "white",
           "landcolor": "#E5ECF6",
           "showlakes": true,
           "showland": true,
           "subunitcolor": "white"
          },
          "hoverlabel": {
           "align": "left"
          },
          "hovermode": "closest",
          "mapbox": {
           "style": "light"
          },
          "paper_bgcolor": "white",
          "plot_bgcolor": "#E5ECF6",
          "polar": {
           "angularaxis": {
            "gridcolor": "white",
            "linecolor": "white",
            "ticks": ""
           },
           "bgcolor": "#E5ECF6",
           "radialaxis": {
            "gridcolor": "white",
            "linecolor": "white",
            "ticks": ""
           }
          },
          "scene": {
           "xaxis": {
            "backgroundcolor": "#E5ECF6",
            "gridcolor": "white",
            "gridwidth": 2,
            "linecolor": "white",
            "showbackground": true,
            "ticks": "",
            "zerolinecolor": "white"
           },
           "yaxis": {
            "backgroundcolor": "#E5ECF6",
            "gridcolor": "white",
            "gridwidth": 2,
            "linecolor": "white",
            "showbackground": true,
            "ticks": "",
            "zerolinecolor": "white"
           },
           "zaxis": {
            "backgroundcolor": "#E5ECF6",
            "gridcolor": "white",
            "gridwidth": 2,
            "linecolor": "white",
            "showbackground": true,
            "ticks": "",
            "zerolinecolor": "white"
           }
          },
          "shapedefaults": {
           "line": {
            "color": "#2a3f5f"
           }
          },
          "ternary": {
           "aaxis": {
            "gridcolor": "white",
            "linecolor": "white",
            "ticks": ""
           },
           "baxis": {
            "gridcolor": "white",
            "linecolor": "white",
            "ticks": ""
           },
           "bgcolor": "#E5ECF6",
           "caxis": {
            "gridcolor": "white",
            "linecolor": "white",
            "ticks": ""
           }
          },
          "title": {
           "x": 0.05
          },
          "xaxis": {
           "automargin": true,
           "gridcolor": "white",
           "linecolor": "white",
           "ticks": "",
           "title": {
            "standoff": 15
           },
           "zerolinecolor": "white",
           "zerolinewidth": 2
          },
          "yaxis": {
           "automargin": true,
           "gridcolor": "white",
           "linecolor": "white",
           "ticks": "",
           "title": {
            "standoff": 15
           },
           "zerolinecolor": "white",
           "zerolinewidth": 2
          }
         }
        },
        "title": {
         "text": "Average High and Low Temperatures in New York"
        },
        "xaxis": {
         "title": {
          "text": "Popularity"
         }
        },
        "yaxis": {
         "title": {
          "text": "Energy"
         }
        }
       }
      },
      "text/html": [
       "<div>\n",
       "        \n",
       "        \n",
       "            <div id=\"908d2bdc-e1b2-4866-8be2-699b2477dc1d\" class=\"plotly-graph-div\" style=\"height:525px; width:100%;\"></div>\n",
       "            <script type=\"text/javascript\">\n",
       "                require([\"plotly\"], function(Plotly) {\n",
       "                    window.PLOTLYENV=window.PLOTLYENV || {};\n",
       "                    \n",
       "                if (document.getElementById(\"908d2bdc-e1b2-4866-8be2-699b2477dc1d\")) {\n",
       "                    Plotly.newPlot(\n",
       "                        '908d2bdc-e1b2-4866-8be2-699b2477dc1d',\n",
       "                        [{\"line\": {\"color\": \"firebrick\", \"width\": 4}, \"name\": \"High 2000\", \"type\": \"scatter\", \"x\": [8, 30, 34, 35, 46, 53, 55, 55, 55, 55, 56, 56, 56, 56, 56, 57, 58, 58, 60, 60, 60, 60, 61, 62, 62, 62, 62, 63, 63, 64, 66, 66, 66, 67, 67, 67, 67, 67, 67, 68, 68, 69, 69, 69, 70, 70, 70, 74, 83, 87], \"y\": [\"2019\", \"2019\", \"2019\", \"2019\", \"2019\", \"2019\", \"2019\", \"2019\", \"2019\", \"2019\", \"2019\", \"2019\", \"2019\", \"2019\", \"2019\", \"2019\", \"2019\", \"2019\", \"2019\", \"2019\", \"2019\", \"2019\", \"2019\", \"2019\", \"2019\", \"2019\", \"2019\", \"2019\", \"2019\", \"2019\", \"2019\", \"2019\", \"2019\", \"2019\", \"2019\", \"2019\", \"2019\", \"2019\", \"2019\", \"2019\", \"2019\", \"2019\", \"2019\", \"2019\", \"2019\", \"2019\", \"2019\", \"2019\", \"2019\", \"2019\"]}, {\"line\": {\"color\": \"royalblue\", \"dash\": \"dot\", \"width\": 4}, \"name\": \"Low 2000\", \"type\": \"scatter\", \"x\": [8, 30, 34, 35, 46, 53, 55, 55, 55, 55, 56, 56, 56, 56, 56, 57, 58, 58, 60, 60, 60, 60, 61, 62, 62, 62, 62, 63, 63, 64, 66, 66, 66, 67, 67, 67, 67, 67, 67, 68, 68, 69, 69, 69, 70, 70, 70, 74, 83, 87], \"y\": [0.6629999999999999, 0.679, 0.535, 0.467, 0.649, 0.64, 0.748, 0.728, 0.755, 0.355, 0.609, 0.75, 0.6409999999999999, 0.846, 0.789, 0.64, 0.62, 0.679, 0.6940000000000001, 0.716, 0.742, 0.718, 0.622, 0.449, 0.6779999999999999, 0.684, 0.625, 0.675, 0.69, 0.708, 0.748, 0.805, 0.682, 0.726, 0.563, 0.675, 0.7440000000000001, 0.43700000000000006, 0.642, 0.5720000000000001, 0.594, 0.542, 0.65, 0.746, 0.675, 0.732, 0.5720000000000001, 0.7659999999999999, 0.67, 0.693]}],\n",
       "                        {\"template\": {\"data\": {\"bar\": [{\"error_x\": {\"color\": \"#2a3f5f\"}, \"error_y\": {\"color\": \"#2a3f5f\"}, \"marker\": {\"line\": {\"color\": \"#E5ECF6\", \"width\": 0.5}}, \"type\": \"bar\"}], \"barpolar\": [{\"marker\": {\"line\": {\"color\": \"#E5ECF6\", \"width\": 0.5}}, \"type\": \"barpolar\"}], \"carpet\": [{\"aaxis\": {\"endlinecolor\": \"#2a3f5f\", \"gridcolor\": \"white\", \"linecolor\": \"white\", \"minorgridcolor\": \"white\", \"startlinecolor\": \"#2a3f5f\"}, \"baxis\": {\"endlinecolor\": \"#2a3f5f\", \"gridcolor\": \"white\", \"linecolor\": \"white\", \"minorgridcolor\": \"white\", \"startlinecolor\": \"#2a3f5f\"}, \"type\": \"carpet\"}], \"choropleth\": [{\"colorbar\": {\"outlinewidth\": 0, \"ticks\": \"\"}, \"type\": \"choropleth\"}], \"contour\": [{\"colorbar\": {\"outlinewidth\": 0, \"ticks\": \"\"}, \"colorscale\": [[0.0, \"#0d0887\"], [0.1111111111111111, \"#46039f\"], [0.2222222222222222, \"#7201a8\"], [0.3333333333333333, \"#9c179e\"], [0.4444444444444444, \"#bd3786\"], [0.5555555555555556, \"#d8576b\"], [0.6666666666666666, \"#ed7953\"], [0.7777777777777778, \"#fb9f3a\"], [0.8888888888888888, \"#fdca26\"], [1.0, \"#f0f921\"]], \"type\": \"contour\"}], \"contourcarpet\": [{\"colorbar\": {\"outlinewidth\": 0, \"ticks\": \"\"}, \"type\": \"contourcarpet\"}], \"heatmap\": [{\"colorbar\": {\"outlinewidth\": 0, \"ticks\": \"\"}, \"colorscale\": [[0.0, \"#0d0887\"], [0.1111111111111111, \"#46039f\"], [0.2222222222222222, \"#7201a8\"], [0.3333333333333333, \"#9c179e\"], [0.4444444444444444, \"#bd3786\"], [0.5555555555555556, \"#d8576b\"], [0.6666666666666666, \"#ed7953\"], [0.7777777777777778, \"#fb9f3a\"], [0.8888888888888888, \"#fdca26\"], [1.0, \"#f0f921\"]], \"type\": \"heatmap\"}], \"heatmapgl\": [{\"colorbar\": {\"outlinewidth\": 0, \"ticks\": \"\"}, \"colorscale\": [[0.0, \"#0d0887\"], [0.1111111111111111, \"#46039f\"], [0.2222222222222222, \"#7201a8\"], [0.3333333333333333, \"#9c179e\"], [0.4444444444444444, \"#bd3786\"], [0.5555555555555556, \"#d8576b\"], [0.6666666666666666, \"#ed7953\"], [0.7777777777777778, \"#fb9f3a\"], [0.8888888888888888, \"#fdca26\"], [1.0, \"#f0f921\"]], \"type\": \"heatmapgl\"}], \"histogram\": [{\"marker\": {\"colorbar\": {\"outlinewidth\": 0, \"ticks\": \"\"}}, \"type\": \"histogram\"}], \"histogram2d\": [{\"colorbar\": {\"outlinewidth\": 0, \"ticks\": \"\"}, \"colorscale\": [[0.0, \"#0d0887\"], [0.1111111111111111, \"#46039f\"], [0.2222222222222222, \"#7201a8\"], [0.3333333333333333, \"#9c179e\"], [0.4444444444444444, \"#bd3786\"], [0.5555555555555556, \"#d8576b\"], [0.6666666666666666, \"#ed7953\"], [0.7777777777777778, \"#fb9f3a\"], [0.8888888888888888, \"#fdca26\"], [1.0, \"#f0f921\"]], \"type\": \"histogram2d\"}], \"histogram2dcontour\": [{\"colorbar\": {\"outlinewidth\": 0, \"ticks\": \"\"}, \"colorscale\": [[0.0, \"#0d0887\"], [0.1111111111111111, \"#46039f\"], [0.2222222222222222, \"#7201a8\"], [0.3333333333333333, \"#9c179e\"], [0.4444444444444444, \"#bd3786\"], [0.5555555555555556, \"#d8576b\"], [0.6666666666666666, \"#ed7953\"], [0.7777777777777778, \"#fb9f3a\"], [0.8888888888888888, \"#fdca26\"], [1.0, \"#f0f921\"]], \"type\": \"histogram2dcontour\"}], \"mesh3d\": [{\"colorbar\": {\"outlinewidth\": 0, \"ticks\": \"\"}, \"type\": \"mesh3d\"}], \"parcoords\": [{\"line\": {\"colorbar\": {\"outlinewidth\": 0, \"ticks\": \"\"}}, \"type\": \"parcoords\"}], \"pie\": [{\"automargin\": true, \"type\": \"pie\"}], \"scatter\": [{\"marker\": {\"colorbar\": {\"outlinewidth\": 0, \"ticks\": \"\"}}, \"type\": \"scatter\"}], \"scatter3d\": [{\"line\": {\"colorbar\": {\"outlinewidth\": 0, \"ticks\": \"\"}}, \"marker\": {\"colorbar\": {\"outlinewidth\": 0, \"ticks\": \"\"}}, \"type\": \"scatter3d\"}], \"scattercarpet\": [{\"marker\": {\"colorbar\": {\"outlinewidth\": 0, \"ticks\": \"\"}}, \"type\": \"scattercarpet\"}], \"scattergeo\": [{\"marker\": {\"colorbar\": {\"outlinewidth\": 0, \"ticks\": \"\"}}, \"type\": \"scattergeo\"}], \"scattergl\": [{\"marker\": {\"colorbar\": {\"outlinewidth\": 0, \"ticks\": \"\"}}, \"type\": \"scattergl\"}], \"scattermapbox\": [{\"marker\": {\"colorbar\": {\"outlinewidth\": 0, \"ticks\": \"\"}}, \"type\": \"scattermapbox\"}], \"scatterpolar\": [{\"marker\": {\"colorbar\": {\"outlinewidth\": 0, \"ticks\": \"\"}}, \"type\": \"scatterpolar\"}], \"scatterpolargl\": [{\"marker\": {\"colorbar\": {\"outlinewidth\": 0, \"ticks\": \"\"}}, \"type\": \"scatterpolargl\"}], \"scatterternary\": [{\"marker\": {\"colorbar\": {\"outlinewidth\": 0, \"ticks\": \"\"}}, \"type\": \"scatterternary\"}], \"surface\": [{\"colorbar\": {\"outlinewidth\": 0, \"ticks\": \"\"}, \"colorscale\": [[0.0, \"#0d0887\"], [0.1111111111111111, \"#46039f\"], [0.2222222222222222, \"#7201a8\"], [0.3333333333333333, \"#9c179e\"], [0.4444444444444444, \"#bd3786\"], [0.5555555555555556, \"#d8576b\"], [0.6666666666666666, \"#ed7953\"], [0.7777777777777778, \"#fb9f3a\"], [0.8888888888888888, \"#fdca26\"], [1.0, \"#f0f921\"]], \"type\": \"surface\"}], \"table\": [{\"cells\": {\"fill\": {\"color\": \"#EBF0F8\"}, \"line\": {\"color\": \"white\"}}, \"header\": {\"fill\": {\"color\": \"#C8D4E3\"}, \"line\": {\"color\": \"white\"}}, \"type\": \"table\"}]}, \"layout\": {\"annotationdefaults\": {\"arrowcolor\": \"#2a3f5f\", \"arrowhead\": 0, \"arrowwidth\": 1}, \"coloraxis\": {\"colorbar\": {\"outlinewidth\": 0, \"ticks\": \"\"}}, \"colorscale\": {\"diverging\": [[0, \"#8e0152\"], [0.1, \"#c51b7d\"], [0.2, \"#de77ae\"], [0.3, \"#f1b6da\"], [0.4, \"#fde0ef\"], [0.5, \"#f7f7f7\"], [0.6, \"#e6f5d0\"], [0.7, \"#b8e186\"], [0.8, \"#7fbc41\"], [0.9, \"#4d9221\"], [1, \"#276419\"]], \"sequential\": [[0.0, \"#0d0887\"], [0.1111111111111111, \"#46039f\"], [0.2222222222222222, \"#7201a8\"], [0.3333333333333333, \"#9c179e\"], [0.4444444444444444, \"#bd3786\"], [0.5555555555555556, \"#d8576b\"], [0.6666666666666666, \"#ed7953\"], [0.7777777777777778, \"#fb9f3a\"], [0.8888888888888888, \"#fdca26\"], [1.0, \"#f0f921\"]], \"sequentialminus\": [[0.0, \"#0d0887\"], [0.1111111111111111, \"#46039f\"], [0.2222222222222222, \"#7201a8\"], [0.3333333333333333, \"#9c179e\"], [0.4444444444444444, \"#bd3786\"], [0.5555555555555556, \"#d8576b\"], [0.6666666666666666, \"#ed7953\"], [0.7777777777777778, \"#fb9f3a\"], [0.8888888888888888, \"#fdca26\"], [1.0, \"#f0f921\"]]}, \"colorway\": [\"#636efa\", \"#EF553B\", \"#00cc96\", \"#ab63fa\", \"#FFA15A\", \"#19d3f3\", \"#FF6692\", \"#B6E880\", \"#FF97FF\", \"#FECB52\"], \"font\": {\"color\": \"#2a3f5f\"}, \"geo\": {\"bgcolor\": \"white\", \"lakecolor\": \"white\", \"landcolor\": \"#E5ECF6\", \"showlakes\": true, \"showland\": true, \"subunitcolor\": \"white\"}, \"hoverlabel\": {\"align\": \"left\"}, \"hovermode\": \"closest\", \"mapbox\": {\"style\": \"light\"}, \"paper_bgcolor\": \"white\", \"plot_bgcolor\": \"#E5ECF6\", \"polar\": {\"angularaxis\": {\"gridcolor\": \"white\", \"linecolor\": \"white\", \"ticks\": \"\"}, \"bgcolor\": \"#E5ECF6\", \"radialaxis\": {\"gridcolor\": \"white\", \"linecolor\": \"white\", \"ticks\": \"\"}}, \"scene\": {\"xaxis\": {\"backgroundcolor\": \"#E5ECF6\", \"gridcolor\": \"white\", \"gridwidth\": 2, \"linecolor\": \"white\", \"showbackground\": true, \"ticks\": \"\", \"zerolinecolor\": \"white\"}, \"yaxis\": {\"backgroundcolor\": \"#E5ECF6\", \"gridcolor\": \"white\", \"gridwidth\": 2, \"linecolor\": \"white\", \"showbackground\": true, \"ticks\": \"\", \"zerolinecolor\": \"white\"}, \"zaxis\": {\"backgroundcolor\": \"#E5ECF6\", \"gridcolor\": \"white\", \"gridwidth\": 2, \"linecolor\": \"white\", \"showbackground\": true, \"ticks\": \"\", \"zerolinecolor\": \"white\"}}, \"shapedefaults\": {\"line\": {\"color\": \"#2a3f5f\"}}, \"ternary\": {\"aaxis\": {\"gridcolor\": \"white\", \"linecolor\": \"white\", \"ticks\": \"\"}, \"baxis\": {\"gridcolor\": \"white\", \"linecolor\": \"white\", \"ticks\": \"\"}, \"bgcolor\": \"#E5ECF6\", \"caxis\": {\"gridcolor\": \"white\", \"linecolor\": \"white\", \"ticks\": \"\"}}, \"title\": {\"x\": 0.05}, \"xaxis\": {\"automargin\": true, \"gridcolor\": \"white\", \"linecolor\": \"white\", \"ticks\": \"\", \"title\": {\"standoff\": 15}, \"zerolinecolor\": \"white\", \"zerolinewidth\": 2}, \"yaxis\": {\"automargin\": true, \"gridcolor\": \"white\", \"linecolor\": \"white\", \"ticks\": \"\", \"title\": {\"standoff\": 15}, \"zerolinecolor\": \"white\", \"zerolinewidth\": 2}}}, \"title\": {\"text\": \"Average High and Low Temperatures in New York\"}, \"xaxis\": {\"title\": {\"text\": \"Popularity\"}}, \"yaxis\": {\"title\": {\"text\": \"Energy\"}}},\n",
       "                        {\"responsive\": true}\n",
       "                    ).then(function(){\n",
       "                            \n",
       "var gd = document.getElementById('908d2bdc-e1b2-4866-8be2-699b2477dc1d');\n",
       "var x = new MutationObserver(function (mutations, observer) {{\n",
       "        var display = window.getComputedStyle(gd).display;\n",
       "        if (!display || display === 'none') {{\n",
       "            console.log([gd, 'removed!']);\n",
       "            Plotly.purge(gd);\n",
       "            observer.disconnect();\n",
       "        }}\n",
       "}});\n",
       "\n",
       "// Listen for the removal of the full notebook cells\n",
       "var notebookContainer = gd.closest('#notebook-container');\n",
       "if (notebookContainer) {{\n",
       "    x.observe(notebookContainer, {childList: true});\n",
       "}}\n",
       "\n",
       "// Listen for the clearing of the current output cell\n",
       "var outputEl = gd.closest('.output');\n",
       "if (outputEl) {{\n",
       "    x.observe(outputEl, {childList: true});\n",
       "}}\n",
       "\n",
       "                        })\n",
       "                };\n",
       "                });\n",
       "            </script>\n",
       "        </div>"
      ]
     },
     "metadata": {},
     "output_type": "display_data"
    }
   ],
   "source": [
    "# Data for the year 2019 \n",
    "#Popularity > \n",
    "\n",
    "dataPopFactors = data[data['releaseYear'] == '2019']\n",
    "dataPopFactors =dataPopFactors[]\n",
    "\n",
    "\n",
    "dataPopFactors = dataPopFactors.sort_values('track_popularity')\n",
    "\n",
    "\n",
    "# Add data\n",
    "month =  dataPopFactors['track_popularity'].to_numpy()\n",
    "high_2000 = dataPopFactors['releaseYear'].to_numpy()\n",
    "low_2000 = dataPopFactors['danceability'].to_numpy()\n",
    "\n",
    "fig = go.Figure()\n",
    "# Create and style traces\n",
    "\n",
    "fig.add_trace(go.Scatter(x=month, y=high_2000, name='High 2000',\n",
    "                         line = dict(color='firebrick', width=4)))\n",
    "\n",
    "fig.add_trace(go.Scatter(x=month, y=low_2000, name='Low 2000',\n",
    "                         line=dict(color='royalblue', width=4, dash='dot')))\n",
    "\n",
    "# Edit the layout\n",
    "fig.update_layout(title='Average High and Low Temperatures in New York',\n",
    "                   xaxis_title='Popularity',\n",
    "                   yaxis_title='Energy')\n",
    "\n",
    "\n",
    "fig.show()"
   ]
  },
  {
   "cell_type": "code",
   "execution_count": 61,
   "metadata": {
    "scrolled": false
   },
   "outputs": [
    {
     "data": {
      "text/plain": [
       "False"
      ]
     },
     "execution_count": 61,
     "metadata": {},
     "output_type": "execute_result"
    }
   ],
   "source": [
    "data['releaseYear'].isna().any()"
   ]
  },
  {
   "cell_type": "code",
   "execution_count": 77,
   "metadata": {
    "scrolled": true
   },
   "outputs": [
    {
     "data": {
      "text/html": [
       "<div>\n",
       "<style scoped>\n",
       "    .dataframe tbody tr th:only-of-type {\n",
       "        vertical-align: middle;\n",
       "    }\n",
       "\n",
       "    .dataframe tbody tr th {\n",
       "        vertical-align: top;\n",
       "    }\n",
       "\n",
       "    .dataframe thead tr th {\n",
       "        text-align: left;\n",
       "    }\n",
       "\n",
       "    .dataframe thead tr:last-of-type th {\n",
       "        text-align: right;\n",
       "    }\n",
       "</style>\n",
       "<table border=\"1\" class=\"dataframe\">\n",
       "  <thead>\n",
       "    <tr>\n",
       "      <th></th>\n",
       "      <th>releaseYear</th>\n",
       "    </tr>\n",
       "    <tr>\n",
       "      <th></th>\n",
       "      <th>count</th>\n",
       "    </tr>\n",
       "    <tr>\n",
       "      <th>releaseYear</th>\n",
       "      <th></th>\n",
       "    </tr>\n",
       "  </thead>\n",
       "  <tbody>\n",
       "    <tr>\n",
       "      <th>2016</th>\n",
       "      <td>2127</td>\n",
       "    </tr>\n",
       "    <tr>\n",
       "      <th>2017</th>\n",
       "      <td>2430</td>\n",
       "    </tr>\n",
       "    <tr>\n",
       "      <th>2018</th>\n",
       "      <td>3312</td>\n",
       "    </tr>\n",
       "    <tr>\n",
       "      <th>2019</th>\n",
       "      <td>9081</td>\n",
       "    </tr>\n",
       "    <tr>\n",
       "      <th>2020</th>\n",
       "      <td>785</td>\n",
       "    </tr>\n",
       "  </tbody>\n",
       "</table>\n",
       "</div>"
      ],
      "text/plain": [
       "            releaseYear\n",
       "                  count\n",
       "releaseYear            \n",
       "2016               2127\n",
       "2017               2430\n",
       "2018               3312\n",
       "2019               9081\n",
       "2020                785"
      ]
     },
     "execution_count": 77,
     "metadata": {},
     "output_type": "execute_result"
    }
   ],
   "source": [
    "dataGroupedWithYear = data.groupby('releaseYear').agg({'releaseYear': ['count']})\n",
    "dataGroupedWithYear.tail()"
   ]
  },
  {
   "cell_type": "markdown",
   "metadata": {},
   "source": [
    "## Genre distribution with poularity"
   ]
  },
  {
   "cell_type": "code",
   "execution_count": 134,
   "metadata": {},
   "outputs": [
    {
     "data": {
      "application/vnd.jupyter.widget-view+json": {
       "model_id": "5413e088e9214cb480748f00e8e36dd6",
       "version_major": 2,
       "version_minor": 0
      },
      "text/plain": [
       "FigureWidget({\n",
       "    'data': [{'marker': {'color': 'gray'},\n",
       "              'mode': 'markers',\n",
       "              'sele…"
      ]
     },
     "metadata": {},
     "output_type": "display_data"
    }
   ],
   "source": [
    "\n",
    "data_viz_1 = pd.read_csv('Data/song_group.csv')\n",
    "\n",
    "\n",
    "#Choose the five year time\n",
    "data_viz_1 = data_viz_1[data_viz_1['year'] > 2010]\n",
    "\n",
    "val_in_sanky = ['year', 'genre', 'subgenre']\n",
    "\n",
    "dimensions = [dict(values=data_viz_1[label], label=label) for label in val_in_sanky]\n",
    "\n",
    "\n",
    "color = np.zeros(len(data_viz_1), dtype='uint8')\n",
    "colorscale =  [[0.1, '#2C0C50'], [1.0, '#2C0C50']]\n",
    "#cmin = -0.5\n",
    "#cmax = 2.5\n",
    "\n",
    "\n",
    "fig = go.FigureWidget(\n",
    "    data=[go.Scatter(x=data_viz_1.playlist_subgenre_count, y=data_viz_1['track_popularity_median'],\n",
    "                 marker={'color': 'gray'}, mode='markers', selected={'marker': {'color': 'firebrick'}},\n",
    "    unselected={'marker': {'opacity': 0.1}}), go.Parcats(\n",
    "        domain={'y': [0, 0.4]}, dimensions=dimensions,\n",
    "        line={'colorscale': colorscale, 'cmin': 0,\n",
    "              'cmax': 1, 'color': color, 'shape': 'hspline'})\n",
    "    ])\n",
    "\n",
    "fig.update_layout(height=1200, autosize=False,xaxis={'title': 'Count'},\n",
    "                  yaxis={'title': 'Popularity', 'domain': [0.6, 1]},\n",
    "                  dragmode='lasso', hovermode='closest')\n",
    "\n",
    "color_toggle = widgets.ToggleButtons(\n",
    "    options=['None', 'Red', 'Blue'],\n",
    "    index=1, description='Brush Color:', disabled=False)\n",
    "\n",
    "def update_color(trace, points, state):\n",
    "    # Update scatter selection\n",
    "    fig.data[0].selectedpoints = points.point_inds\n",
    "\n",
    "    # Update parcats colors\n",
    "    new_color = np.zeros(len(cars_df), dtype='uint8')\n",
    "    new_color[points.point_inds] = 1\n",
    "    fig.data[1].line.color = new_color\n",
    "\n",
    "# Register callback on scatter selection...\n",
    "fig.data[0].on_selection(update_color)\n",
    "# and parcats click\n",
    "fig.data[1].on_click(update_color)\n",
    "\n",
    "fig"
   ]
  },
  {
   "cell_type": "code",
   "execution_count": 135,
   "metadata": {},
   "outputs": [],
   "source": [
    "fig.write_html(\"file.html\")"
   ]
  },
  {
   "cell_type": "code",
   "execution_count": null,
   "metadata": {},
   "outputs": [],
   "source": []
  }
 ],
 "metadata": {
  "kernelspec": {
   "display_name": "Python 3",
   "language": "python",
   "name": "python3"
  },
  "language_info": {
   "codemirror_mode": {
    "name": "ipython",
    "version": 3
   },
   "file_extension": ".py",
   "mimetype": "text/x-python",
   "name": "python",
   "nbconvert_exporter": "python",
   "pygments_lexer": "ipython3",
   "version": "3.7.3"
  },
  "widgets": {
   "application/vnd.jupyter.widget-state+json": {
    "state": {
     "011d91e347704f1ebff1069d97749055": {
      "model_module": "@jupyter-widgets/base",
      "model_module_version": "1.2.0",
      "model_name": "LayoutModel",
      "state": {}
     },
     "02a3081c8c8a4296a09d75d862fdab02": {
      "buffers": [
       {
        "data": "AAAAAAAAAAAAAAAAAAAAAAAAAAAAAAAAAAAAAAAAAAAAAAAAAAAAAAAAAAAAAAAAAAAAAAAAAAAAAAAAAAAAAAAAAAAAAAAAAAAAAAAAAAAAAAAAAAAAAAAAAAAAAAAAAAAAAAAAAAAAAAAAAAAAAAAAAAAA",
        "encoding": "base64",
        "path": [
         "_data",
         0,
         "marker",
         "color",
         "value"
        ]
       },
       {
        "data": "AAAAAACAOkAAAAAAAABCQAAAAAAAwENAAAAAAAAAMkAAAAAAAIBEQAAAAAAAgE1AAAAAAACAS0AAAAAAAEBEQAAAAAAAAFBAAAAAAAAAT0AAAAAAAIBDQAAAAAAAAFBAAAAAAAAATkAAAAAAAIBDQAAAAAAAAC5AAAAAAACASkAAAAAAAMBEQAAAAAAAgExAAAAAAADAQ0AAAAAAAABMQAAAAAAAgEBAAAAAAAAAAEAAAAAAAIBGQAAAAAAAgExAAAAAAABAQUAAAAAAAIBCQAAAAAAAAERAAAAAAAAAOkAAAAAAAMBCQAAAAAAAAExAAAAAAACAUUAAAAAAAABIQAAAAAAAAFBAAAAAAADAS0AAAAAAAABJQAAAAAAAwE9AAAAAAACAT0AAAAAAAEBEQAAAAAAAACBAAAAAAAAATEAAAAAAAIBCQAAAAAAAgEpAAAAAAAAARUAAAAAAAIBLQAAAAAAAACZAAAAAAACAQEAAAAAAAIBEQAAAAAAAwE5AAAAAAAAAP0AAAAAAAABCQAAAAAAAgEZAAAAAAADAQkAAAAAAAABKQAAAAAAAwFFAAAAAAACgUUAAAAAAAIBHQAAAAAAAQEhAAAAAAABATUAAAAAAAIBKQAAAAAAAQFJAAAAAAAAAUkAAAAAAAEBHQAAAAAAAAE1AAAAAAABATEAAAAAAAABCQAAAAAAAAElAAAAAAAAARUAAAAAAAIBIQAAAAAAAAEZAAAAAAAAARUAAAAAAAABDQAAAAAAAgEtAAAAAAAAAQkAAAAAAAABEQAAAAAAAAEpAAAAAAAAARUAAAAAAAABSQAAAAAAAQE5AAAAAAADAUEAAAAAAAIBGQAAAAAAAAExAAAAAAAAARkAAAAAAAIBKQAAAAAAAwFFAAAAAAABAT0AAAAAAAEBHQAAAAAAAgDJAAAAAAACAUEAAAAAAAABIQAAAAAAAAExAAAAAAACARkAAAAAAAIBLQAAAAAAAgERAAAAAAACAQUAAAAAAAABCQAAAAAAAgENAAAAAAACAQkAAAAAAAIBDQAAAAAAAAEZAAAAAAAAAP0AAAAAAAEBTQAAAAAAAgEZAAAAAAABASUAAAAAAAEBDQAAAAAAAAEVAAAAAAAAAN0AAAAAAAABIQAAAAAAAgFVAAAAAAACARUAAAAAAAAAmQAAAAAAAgElAAAAAAACAR0AAAAAAAIBLQAAAAAAAAEVAAAAAAACAREAAAAAAAEBDQAAAAAAAgElA",
        "encoding": "base64",
        "path": [
         "_data",
         0,
         "y",
         "value"
        ]
       },
       {
        "data": "AAAAAAAAAAAAAAAAAAAAAAAAAAAAAAAAAAAAAAAAAAAAAAAAAAAAAAAAAAAAAAAAAAAAAAAAAAAAAAAAAAAAAAAAAAAAAAAAAAAAAAAAAAAAAAAAAAAAAAAAAAAAAAAAAAAAAAAAAAAAAAAAAAAAAAAAAAAA",
        "encoding": "base64",
        "path": [
         "_data",
         1,
         "line",
         "color",
         "value"
        ]
       }
      ],
      "model_module": "plotlywidget",
      "model_module_version": "1.5.4",
      "model_name": "FigureModel",
      "state": {
       "_config": {
        "plotlyServerURL": "https://plot.ly"
       },
       "_data": [
        {
         "marker": {
          "cmax": 2.5,
          "cmin": -0.5,
          "color": {
           "dtype": "uint8",
           "shape": [
            117
           ],
           "value": {}
          },
          "colorbar": {
           "ticktext": [
            "None",
            "Red",
            "Blue"
           ],
           "tickvals": [
            0,
            1,
            2
           ]
          },
          "colorscale": [
           [
            0,
            "#F7CF3B"
           ],
           [
            0.33,
            "#F7CF3B"
           ],
           [
            0.33,
            "#2FED68"
           ],
           [
            0.66,
            "#2FED68"
           ],
           [
            0.66,
            "#2C0C50"
           ],
           [
            1,
            "#2C0C50"
           ]
          ],
          "showscale": true
         },
         "mode": "markers",
         "type": "scatter",
         "uid": "cb7e5583-c263-480d-880c-f04560d2b272",
         "x": [
          70,
          88,
          214,
          126,
          153,
          39,
          37,
          146,
          39,
          136,
          317,
          39,
          52,
          166,
          3,
          130,
          106,
          27,
          128,
          34,
          9,
          20,
          19,
          29,
          32,
          155,
          158,
          141,
          148,
          57,
          41,
          150,
          81,
          162,
          190,
          72,
          132,
          174,
          3,
          155,
          183,
          65,
          131,
          84,
          21,
          22,
          43,
          30,
          56,
          302,
          151,
          246,
          214,
          85,
          76,
          192,
          228,
          174,
          204,
          98,
          137,
          138,
          1,
          176,
          163,
          217,
          57,
          268,
          8,
          19,
          68,
          34,
          652,
          674,
          584,
          411,
          343,
          574,
          396,
          566,
          657,
          110,
          342,
          264,
          510,
          176,
          2,
          419,
          194,
          757,
          68,
          805,
          12,
          105,
          367,
          93,
          39,
          47,
          65,
          33,
          21,
          54,
          26,
          30,
          59,
          7,
          99,
          5,
          75,
          3,
          15,
          5,
          98,
          56,
          3,
          32,
          13
         ],
         "y": {
          "dtype": "float64",
          "shape": [
           117
          ],
          "value": {}
         }
        },
        {
         "dimensions": [
          {
           "label": "year",
           "values": [
            2016,
            2016,
            2016,
            2016,
            2016,
            2016,
            2016,
            2016,
            2016,
            2016,
            2016,
            2016,
            2016,
            2016,
            2016,
            2016,
            2016,
            2016,
            2016,
            2016,
            2016,
            2016,
            2016,
            2016,
            2017,
            2017,
            2017,
            2017,
            2017,
            2017,
            2017,
            2017,
            2017,
            2017,
            2017,
            2017,
            2017,
            2017,
            2017,
            2017,
            2017,
            2017,
            2017,
            2017,
            2017,
            2017,
            2017,
            2017,
            2018,
            2018,
            2018,
            2018,
            2018,
            2018,
            2018,
            2018,
            2018,
            2018,
            2018,
            2018,
            2018,
            2018,
            2018,
            2018,
            2018,
            2018,
            2018,
            2018,
            2018,
            2018,
            2018,
            2018,
            2019,
            2019,
            2019,
            2019,
            2019,
            2019,
            2019,
            2019,
            2019,
            2019,
            2019,
            2019,
            2019,
            2019,
            2019,
            2019,
            2019,
            2019,
            2019,
            2019,
            2019,
            2019,
            2019,
            2019,
            2020,
            2020,
            2020,
            2020,
            2020,
            2020,
            2020,
            2020,
            2020,
            2020,
            2020,
            2020,
            2020,
            2020,
            2020,
            2020,
            2020,
            2020,
            2020,
            2020,
            2020
           ]
          },
          {
           "label": "genre",
           "values": [
            "edm",
            "edm",
            "edm",
            "edm",
            "latin",
            "latin",
            "latin",
            "latin",
            "pop",
            "pop",
            "pop",
            "pop",
            "r&b",
            "r&b",
            "r&b",
            "r&b",
            "rap",
            "rap",
            "rap",
            "rap",
            "rock",
            "rock",
            "rock",
            "rock",
            "edm",
            "edm",
            "edm",
            "edm",
            "latin",
            "latin",
            "latin",
            "latin",
            "pop",
            "pop",
            "pop",
            "pop",
            "r&b",
            "r&b",
            "r&b",
            "r&b",
            "rap",
            "rap",
            "rap",
            "rap",
            "rock",
            "rock",
            "rock",
            "rock",
            "edm",
            "edm",
            "edm",
            "edm",
            "latin",
            "latin",
            "latin",
            "latin",
            "pop",
            "pop",
            "pop",
            "pop",
            "r&b",
            "r&b",
            "r&b",
            "r&b",
            "rap",
            "rap",
            "rap",
            "rap",
            "rock",
            "rock",
            "rock",
            "rock",
            "edm",
            "edm",
            "edm",
            "edm",
            "latin",
            "latin",
            "latin",
            "latin",
            "pop",
            "pop",
            "pop",
            "pop",
            "r&b",
            "r&b",
            "r&b",
            "r&b",
            "rap",
            "rap",
            "rap",
            "rap",
            "rock",
            "rock",
            "rock",
            "rock",
            "edm",
            "edm",
            "edm",
            "edm",
            "latin",
            "latin",
            "latin",
            "latin",
            "pop",
            "pop",
            "pop",
            "pop",
            "r&b",
            "r&b",
            "r&b",
            "rap",
            "rap",
            "rap",
            "rock",
            "rock",
            "rock"
           ]
          },
          {
           "label": "subgenre",
           "values": [
            "big room",
            "electro house",
            "pop edm",
            "progressive electro house",
            "latin hip hop",
            "latin pop",
            "reggaeton",
            "tropical",
            "dance pop",
            "electropop",
            "indie poptimism",
            "post-teen pop",
            "hip pop",
            "neo soul",
            "new jack swing",
            "urban contemporary",
            "gangster rap",
            "hip hop",
            "southern hip hop",
            "trap",
            "album rock",
            "classic rock",
            "hard rock",
            "permanent wave",
            "big room",
            "electro house",
            "pop edm",
            "progressive electro house",
            "latin hip hop",
            "latin pop",
            "reggaeton",
            "tropical",
            "dance pop",
            "electropop",
            "indie poptimism",
            "post-teen pop",
            "hip pop",
            "neo soul",
            "new jack swing",
            "urban contemporary",
            "gangster rap",
            "hip hop",
            "southern hip hop",
            "trap",
            "album rock",
            "classic rock",
            "hard rock",
            "permanent wave",
            "big room",
            "electro house",
            "pop edm",
            "progressive electro house",
            "latin hip hop",
            "latin pop",
            "reggaeton",
            "tropical",
            "dance pop",
            "electropop",
            "indie poptimism",
            "post-teen pop",
            "hip pop",
            "neo soul",
            "new jack swing",
            "urban contemporary",
            "gangster rap",
            "hip hop",
            "southern hip hop",
            "trap",
            "album rock",
            "classic rock",
            "hard rock",
            "permanent wave",
            "big room",
            "electro house",
            "pop edm",
            "progressive electro house",
            "latin hip hop",
            "latin pop",
            "reggaeton",
            "tropical",
            "dance pop",
            "electropop",
            "indie poptimism",
            "post-teen pop",
            "hip pop",
            "neo soul",
            "new jack swing",
            "urban contemporary",
            "gangster rap",
            "hip hop",
            "southern hip hop",
            "trap",
            "album rock",
            "classic rock",
            "hard rock",
            "permanent wave",
            "big room",
            "electro house",
            "pop edm",
            "progressive electro house",
            "latin hip hop",
            "latin pop",
            "reggaeton",
            "tropical",
            "dance pop",
            "electropop",
            "indie poptimism",
            "post-teen pop",
            "hip pop",
            "neo soul",
            "urban contemporary",
            "gangster rap",
            "hip hop",
            "trap",
            "classic rock",
            "hard rock",
            "permanent wave"
           ]
          }
         ],
         "domain": {
          "y": [
           0,
           0.4
          ]
         },
         "line": {
          "cmax": 2.5,
          "cmin": -0.5,
          "color": {
           "dtype": "uint8",
           "shape": [
            117
           ],
           "value": {}
          },
          "colorscale": [
           [
            0,
            "#F7CF3B"
           ],
           [
            0.33,
            "#F7CF3B"
           ],
           [
            0.33,
            "#2FED68"
           ],
           [
            0.66,
            "#2FED68"
           ],
           [
            0.66,
            "#2C0C50"
           ],
           [
            1,
            "#2C0C50"
           ]
          ],
          "shape": "hspline"
         },
         "type": "parcats",
         "uid": "704ee674-2927-41de-b329-012c6e6df6d8"
        }
       ],
       "_js2py_relayout": {},
       "_js2py_restyle": {},
       "_js2py_update": {},
       "_last_layout_edit_id": 1,
       "_last_trace_edit_id": 1,
       "_layout": {
        "autosize": false,
        "dragmode": "lasso",
        "height": 1200,
        "hovermode": "closest",
        "template": {
         "data": {
          "bar": [
           {
            "error_x": {
             "color": "#2a3f5f"
            },
            "error_y": {
             "color": "#2a3f5f"
            },
            "marker": {
             "line": {
              "color": "#E5ECF6",
              "width": 0.5
             }
            },
            "type": "bar"
           }
          ],
          "barpolar": [
           {
            "marker": {
             "line": {
              "color": "#E5ECF6",
              "width": 0.5
             }
            },
            "type": "barpolar"
           }
          ],
          "carpet": [
           {
            "aaxis": {
             "endlinecolor": "#2a3f5f",
             "gridcolor": "white",
             "linecolor": "white",
             "minorgridcolor": "white",
             "startlinecolor": "#2a3f5f"
            },
            "baxis": {
             "endlinecolor": "#2a3f5f",
             "gridcolor": "white",
             "linecolor": "white",
             "minorgridcolor": "white",
             "startlinecolor": "#2a3f5f"
            },
            "type": "carpet"
           }
          ],
          "choropleth": [
           {
            "colorbar": {
             "outlinewidth": 0,
             "ticks": ""
            },
            "type": "choropleth"
           }
          ],
          "contour": [
           {
            "colorbar": {
             "outlinewidth": 0,
             "ticks": ""
            },
            "colorscale": [
             [
              0,
              "#0d0887"
             ],
             [
              0.1111111111111111,
              "#46039f"
             ],
             [
              0.2222222222222222,
              "#7201a8"
             ],
             [
              0.3333333333333333,
              "#9c179e"
             ],
             [
              0.4444444444444444,
              "#bd3786"
             ],
             [
              0.5555555555555556,
              "#d8576b"
             ],
             [
              0.6666666666666666,
              "#ed7953"
             ],
             [
              0.7777777777777778,
              "#fb9f3a"
             ],
             [
              0.8888888888888888,
              "#fdca26"
             ],
             [
              1,
              "#f0f921"
             ]
            ],
            "type": "contour"
           }
          ],
          "contourcarpet": [
           {
            "colorbar": {
             "outlinewidth": 0,
             "ticks": ""
            },
            "type": "contourcarpet"
           }
          ],
          "heatmap": [
           {
            "colorbar": {
             "outlinewidth": 0,
             "ticks": ""
            },
            "colorscale": [
             [
              0,
              "#0d0887"
             ],
             [
              0.1111111111111111,
              "#46039f"
             ],
             [
              0.2222222222222222,
              "#7201a8"
             ],
             [
              0.3333333333333333,
              "#9c179e"
             ],
             [
              0.4444444444444444,
              "#bd3786"
             ],
             [
              0.5555555555555556,
              "#d8576b"
             ],
             [
              0.6666666666666666,
              "#ed7953"
             ],
             [
              0.7777777777777778,
              "#fb9f3a"
             ],
             [
              0.8888888888888888,
              "#fdca26"
             ],
             [
              1,
              "#f0f921"
             ]
            ],
            "type": "heatmap"
           }
          ],
          "heatmapgl": [
           {
            "colorbar": {
             "outlinewidth": 0,
             "ticks": ""
            },
            "colorscale": [
             [
              0,
              "#0d0887"
             ],
             [
              0.1111111111111111,
              "#46039f"
             ],
             [
              0.2222222222222222,
              "#7201a8"
             ],
             [
              0.3333333333333333,
              "#9c179e"
             ],
             [
              0.4444444444444444,
              "#bd3786"
             ],
             [
              0.5555555555555556,
              "#d8576b"
             ],
             [
              0.6666666666666666,
              "#ed7953"
             ],
             [
              0.7777777777777778,
              "#fb9f3a"
             ],
             [
              0.8888888888888888,
              "#fdca26"
             ],
             [
              1,
              "#f0f921"
             ]
            ],
            "type": "heatmapgl"
           }
          ],
          "histogram": [
           {
            "marker": {
             "colorbar": {
              "outlinewidth": 0,
              "ticks": ""
             }
            },
            "type": "histogram"
           }
          ],
          "histogram2d": [
           {
            "colorbar": {
             "outlinewidth": 0,
             "ticks": ""
            },
            "colorscale": [
             [
              0,
              "#0d0887"
             ],
             [
              0.1111111111111111,
              "#46039f"
             ],
             [
              0.2222222222222222,
              "#7201a8"
             ],
             [
              0.3333333333333333,
              "#9c179e"
             ],
             [
              0.4444444444444444,
              "#bd3786"
             ],
             [
              0.5555555555555556,
              "#d8576b"
             ],
             [
              0.6666666666666666,
              "#ed7953"
             ],
             [
              0.7777777777777778,
              "#fb9f3a"
             ],
             [
              0.8888888888888888,
              "#fdca26"
             ],
             [
              1,
              "#f0f921"
             ]
            ],
            "type": "histogram2d"
           }
          ],
          "histogram2dcontour": [
           {
            "colorbar": {
             "outlinewidth": 0,
             "ticks": ""
            },
            "colorscale": [
             [
              0,
              "#0d0887"
             ],
             [
              0.1111111111111111,
              "#46039f"
             ],
             [
              0.2222222222222222,
              "#7201a8"
             ],
             [
              0.3333333333333333,
              "#9c179e"
             ],
             [
              0.4444444444444444,
              "#bd3786"
             ],
             [
              0.5555555555555556,
              "#d8576b"
             ],
             [
              0.6666666666666666,
              "#ed7953"
             ],
             [
              0.7777777777777778,
              "#fb9f3a"
             ],
             [
              0.8888888888888888,
              "#fdca26"
             ],
             [
              1,
              "#f0f921"
             ]
            ],
            "type": "histogram2dcontour"
           }
          ],
          "mesh3d": [
           {
            "colorbar": {
             "outlinewidth": 0,
             "ticks": ""
            },
            "type": "mesh3d"
           }
          ],
          "parcoords": [
           {
            "line": {
             "colorbar": {
              "outlinewidth": 0,
              "ticks": ""
             }
            },
            "type": "parcoords"
           }
          ],
          "pie": [
           {
            "automargin": true,
            "type": "pie"
           }
          ],
          "scatter": [
           {
            "marker": {
             "colorbar": {
              "outlinewidth": 0,
              "ticks": ""
             }
            },
            "type": "scatter"
           }
          ],
          "scatter3d": [
           {
            "line": {
             "colorbar": {
              "outlinewidth": 0,
              "ticks": ""
             }
            },
            "marker": {
             "colorbar": {
              "outlinewidth": 0,
              "ticks": ""
             }
            },
            "type": "scatter3d"
           }
          ],
          "scattercarpet": [
           {
            "marker": {
             "colorbar": {
              "outlinewidth": 0,
              "ticks": ""
             }
            },
            "type": "scattercarpet"
           }
          ],
          "scattergeo": [
           {
            "marker": {
             "colorbar": {
              "outlinewidth": 0,
              "ticks": ""
             }
            },
            "type": "scattergeo"
           }
          ],
          "scattergl": [
           {
            "marker": {
             "colorbar": {
              "outlinewidth": 0,
              "ticks": ""
             }
            },
            "type": "scattergl"
           }
          ],
          "scattermapbox": [
           {
            "marker": {
             "colorbar": {
              "outlinewidth": 0,
              "ticks": ""
             }
            },
            "type": "scattermapbox"
           }
          ],
          "scatterpolar": [
           {
            "marker": {
             "colorbar": {
              "outlinewidth": 0,
              "ticks": ""
             }
            },
            "type": "scatterpolar"
           }
          ],
          "scatterpolargl": [
           {
            "marker": {
             "colorbar": {
              "outlinewidth": 0,
              "ticks": ""
             }
            },
            "type": "scatterpolargl"
           }
          ],
          "scatterternary": [
           {
            "marker": {
             "colorbar": {
              "outlinewidth": 0,
              "ticks": ""
             }
            },
            "type": "scatterternary"
           }
          ],
          "surface": [
           {
            "colorbar": {
             "outlinewidth": 0,
             "ticks": ""
            },
            "colorscale": [
             [
              0,
              "#0d0887"
             ],
             [
              0.1111111111111111,
              "#46039f"
             ],
             [
              0.2222222222222222,
              "#7201a8"
             ],
             [
              0.3333333333333333,
              "#9c179e"
             ],
             [
              0.4444444444444444,
              "#bd3786"
             ],
             [
              0.5555555555555556,
              "#d8576b"
             ],
             [
              0.6666666666666666,
              "#ed7953"
             ],
             [
              0.7777777777777778,
              "#fb9f3a"
             ],
             [
              0.8888888888888888,
              "#fdca26"
             ],
             [
              1,
              "#f0f921"
             ]
            ],
            "type": "surface"
           }
          ],
          "table": [
           {
            "cells": {
             "fill": {
              "color": "#EBF0F8"
             },
             "line": {
              "color": "white"
             }
            },
            "header": {
             "fill": {
              "color": "#C8D4E3"
             },
             "line": {
              "color": "white"
             }
            },
            "type": "table"
           }
          ]
         },
         "layout": {
          "annotationdefaults": {
           "arrowcolor": "#2a3f5f",
           "arrowhead": 0,
           "arrowwidth": 1
          },
          "coloraxis": {
           "colorbar": {
            "outlinewidth": 0,
            "ticks": ""
           }
          },
          "colorscale": {
           "diverging": [
            [
             0,
             "#8e0152"
            ],
            [
             0.1,
             "#c51b7d"
            ],
            [
             0.2,
             "#de77ae"
            ],
            [
             0.3,
             "#f1b6da"
            ],
            [
             0.4,
             "#fde0ef"
            ],
            [
             0.5,
             "#f7f7f7"
            ],
            [
             0.6,
             "#e6f5d0"
            ],
            [
             0.7,
             "#b8e186"
            ],
            [
             0.8,
             "#7fbc41"
            ],
            [
             0.9,
             "#4d9221"
            ],
            [
             1,
             "#276419"
            ]
           ],
           "sequential": [
            [
             0,
             "#0d0887"
            ],
            [
             0.1111111111111111,
             "#46039f"
            ],
            [
             0.2222222222222222,
             "#7201a8"
            ],
            [
             0.3333333333333333,
             "#9c179e"
            ],
            [
             0.4444444444444444,
             "#bd3786"
            ],
            [
             0.5555555555555556,
             "#d8576b"
            ],
            [
             0.6666666666666666,
             "#ed7953"
            ],
            [
             0.7777777777777778,
             "#fb9f3a"
            ],
            [
             0.8888888888888888,
             "#fdca26"
            ],
            [
             1,
             "#f0f921"
            ]
           ],
           "sequentialminus": [
            [
             0,
             "#0d0887"
            ],
            [
             0.1111111111111111,
             "#46039f"
            ],
            [
             0.2222222222222222,
             "#7201a8"
            ],
            [
             0.3333333333333333,
             "#9c179e"
            ],
            [
             0.4444444444444444,
             "#bd3786"
            ],
            [
             0.5555555555555556,
             "#d8576b"
            ],
            [
             0.6666666666666666,
             "#ed7953"
            ],
            [
             0.7777777777777778,
             "#fb9f3a"
            ],
            [
             0.8888888888888888,
             "#fdca26"
            ],
            [
             1,
             "#f0f921"
            ]
           ]
          },
          "colorway": [
           "#636efa",
           "#EF553B",
           "#00cc96",
           "#ab63fa",
           "#FFA15A",
           "#19d3f3",
           "#FF6692",
           "#B6E880",
           "#FF97FF",
           "#FECB52"
          ],
          "font": {
           "color": "#2a3f5f"
          },
          "geo": {
           "bgcolor": "white",
           "lakecolor": "white",
           "landcolor": "#E5ECF6",
           "showlakes": true,
           "showland": true,
           "subunitcolor": "white"
          },
          "hoverlabel": {
           "align": "left"
          },
          "hovermode": "closest",
          "mapbox": {
           "style": "light"
          },
          "paper_bgcolor": "white",
          "plot_bgcolor": "#E5ECF6",
          "polar": {
           "angularaxis": {
            "gridcolor": "white",
            "linecolor": "white",
            "ticks": ""
           },
           "bgcolor": "#E5ECF6",
           "radialaxis": {
            "gridcolor": "white",
            "linecolor": "white",
            "ticks": ""
           }
          },
          "scene": {
           "xaxis": {
            "backgroundcolor": "#E5ECF6",
            "gridcolor": "white",
            "gridwidth": 2,
            "linecolor": "white",
            "showbackground": true,
            "ticks": "",
            "zerolinecolor": "white"
           },
           "yaxis": {
            "backgroundcolor": "#E5ECF6",
            "gridcolor": "white",
            "gridwidth": 2,
            "linecolor": "white",
            "showbackground": true,
            "ticks": "",
            "zerolinecolor": "white"
           },
           "zaxis": {
            "backgroundcolor": "#E5ECF6",
            "gridcolor": "white",
            "gridwidth": 2,
            "linecolor": "white",
            "showbackground": true,
            "ticks": "",
            "zerolinecolor": "white"
           }
          },
          "shapedefaults": {
           "line": {
            "color": "#2a3f5f"
           }
          },
          "ternary": {
           "aaxis": {
            "gridcolor": "white",
            "linecolor": "white",
            "ticks": ""
           },
           "baxis": {
            "gridcolor": "white",
            "linecolor": "white",
            "ticks": ""
           },
           "bgcolor": "#E5ECF6",
           "caxis": {
            "gridcolor": "white",
            "linecolor": "white",
            "ticks": ""
           }
          },
          "title": {
           "x": 0.05
          },
          "xaxis": {
           "automargin": true,
           "gridcolor": "white",
           "linecolor": "white",
           "ticks": "",
           "title": {
            "standoff": 15
           },
           "zerolinecolor": "white",
           "zerolinewidth": 2
          },
          "yaxis": {
           "automargin": true,
           "gridcolor": "white",
           "linecolor": "white",
           "ticks": "",
           "title": {
            "standoff": 15
           },
           "zerolinecolor": "white",
           "zerolinewidth": 2
          }
         }
        },
        "width": 1500,
        "xaxis": {
         "title": {
          "text": "Count"
         }
        },
        "yaxis": {
         "domain": [
          0.6,
          1
         ],
         "title": {
          "text": "Popularity"
         }
        }
       },
       "_model_module_version": "1.5.4",
       "_py2js_addTraces": {},
       "_py2js_animate": {},
       "_py2js_deleteTraces": {},
       "_py2js_moveTraces": {},
       "_py2js_removeLayoutProps": {},
       "_py2js_removeTraceProps": {},
       "_py2js_restyle": {},
       "_view_count": 1,
       "_view_module_version": "1.5.4"
      }
     },
     "07db2a8b73e54d30b695b5bde64d9374": {
      "model_module": "@jupyter-widgets/controls",
      "model_module_version": "1.5.0",
      "model_name": "ToggleButtonsModel",
      "state": {
       "_options_labels": [
        "None",
        "Red",
        "Blue"
       ],
       "button_style": "",
       "description": "Brush Color:",
       "icons": [],
       "index": 1,
       "layout": "IPY_MODEL_5ab817b3dc304f31b16395aa2fefd5a3",
       "style": "IPY_MODEL_16222e8f5d854c098116cf402385d957",
       "tooltips": []
      }
     },
     "0882fc2b065744009446c4e61e01a8de": {
      "model_module": "@jupyter-widgets/controls",
      "model_module_version": "1.5.0",
      "model_name": "ToggleButtonsStyleModel",
      "state": {
       "button_width": "",
       "description_width": ""
      }
     },
     "08f5319b17654edf8da5e9274cecf84f": {
      "buffers": [
       {
        "data": "AAAAAAAAAAAAAAAAAAAAAAAAAAAAAAAAAAAAAAAAAAAAAAAAAAAAAAAAAAAAAAAAAAAAAAAAAAAAAAAAAAAAAAAAAAAAAAAAAAAAAAAAAAAAAAAAAAAAAAAAAAAAAAAAAAAAAAAAAAAAAAAAAAAAAAAAAAAA",
        "encoding": "base64",
        "path": [
         "_data",
         0,
         "marker",
         "color",
         "value"
        ]
       },
       {
        "data": "AAAAAACAOkAAAAAAAABCQAAAAAAAwENAAAAAAAAAMkAAAAAAAIBEQAAAAAAAgE1AAAAAAACAS0AAAAAAAEBEQAAAAAAAAFBAAAAAAAAAT0AAAAAAAIBDQAAAAAAAAFBAAAAAAAAATkAAAAAAAIBDQAAAAAAAAC5AAAAAAACASkAAAAAAAMBEQAAAAAAAgExAAAAAAADAQ0AAAAAAAABMQAAAAAAAgEBAAAAAAAAAAEAAAAAAAIBGQAAAAAAAgExAAAAAAABAQUAAAAAAAIBCQAAAAAAAAERAAAAAAAAAOkAAAAAAAMBCQAAAAAAAAExAAAAAAACAUUAAAAAAAABIQAAAAAAAAFBAAAAAAADAS0AAAAAAAABJQAAAAAAAwE9AAAAAAACAT0AAAAAAAEBEQAAAAAAAACBAAAAAAAAATEAAAAAAAIBCQAAAAAAAgEpAAAAAAAAARUAAAAAAAIBLQAAAAAAAACZAAAAAAACAQEAAAAAAAIBEQAAAAAAAwE5AAAAAAAAAP0AAAAAAAABCQAAAAAAAgEZAAAAAAADAQkAAAAAAAABKQAAAAAAAwFFAAAAAAACgUUAAAAAAAIBHQAAAAAAAQEhAAAAAAABATUAAAAAAAIBKQAAAAAAAQFJAAAAAAAAAUkAAAAAAAEBHQAAAAAAAAE1AAAAAAABATEAAAAAAAABCQAAAAAAAAElAAAAAAAAARUAAAAAAAIBIQAAAAAAAAEZAAAAAAAAARUAAAAAAAABDQAAAAAAAgEtAAAAAAAAAQkAAAAAAAABEQAAAAAAAAEpAAAAAAAAARUAAAAAAAABSQAAAAAAAQE5AAAAAAADAUEAAAAAAAIBGQAAAAAAAAExAAAAAAAAARkAAAAAAAIBKQAAAAAAAwFFAAAAAAABAT0AAAAAAAEBHQAAAAAAAgDJAAAAAAACAUEAAAAAAAABIQAAAAAAAAExAAAAAAACARkAAAAAAAIBLQAAAAAAAgERAAAAAAACAQUAAAAAAAABCQAAAAAAAgENAAAAAAACAQkAAAAAAAIBDQAAAAAAAAEZAAAAAAAAAP0AAAAAAAEBTQAAAAAAAgEZAAAAAAABASUAAAAAAAEBDQAAAAAAAAEVAAAAAAAAAN0AAAAAAAABIQAAAAAAAgFVAAAAAAACARUAAAAAAAAAmQAAAAAAAgElAAAAAAACAR0AAAAAAAIBLQAAAAAAAAEVAAAAAAACAREAAAAAAAEBDQAAAAAAAgElA",
        "encoding": "base64",
        "path": [
         "_data",
         0,
         "y",
         "value"
        ]
       },
       {
        "data": "AAAAAAAAAAAAAAAAAAAAAAAAAAAAAAAAAAAAAAAAAAAAAAAAAAAAAAAAAAAAAAAAAAAAAAAAAAAAAAAAAAAAAAAAAAAAAAAAAAAAAAAAAAAAAAAAAAAAAAAAAAAAAAAAAAAAAAAAAAAAAAAAAAAAAAAAAAAA",
        "encoding": "base64",
        "path": [
         "_data",
         1,
         "line",
         "color",
         "value"
        ]
       }
      ],
      "model_module": "plotlywidget",
      "model_module_version": "1.5.4",
      "model_name": "FigureModel",
      "state": {
       "_config": {
        "plotlyServerURL": "https://plot.ly"
       },
       "_data": [
        {
         "marker": {
          "cmax": 2.5,
          "cmin": -0.5,
          "color": {
           "dtype": "uint8",
           "shape": [
            117
           ],
           "value": {}
          },
          "colorbar": {
           "ticktext": [
            "None",
            "Red",
            "Blue"
           ],
           "tickvals": [
            0,
            1,
            2
           ]
          },
          "colorscale": [
           [
            0,
            "#F7CF3B"
           ],
           [
            0.33,
            "#F7CF3B"
           ],
           [
            0.33,
            "#2FED68"
           ],
           [
            0.66,
            "#2FED68"
           ],
           [
            0.66,
            "#2C0C50"
           ],
           [
            1,
            "#2C0C50"
           ]
          ],
          "showscale": true
         },
         "mode": "markers",
         "type": "scatter",
         "uid": "eaccf272-0187-4c82-8582-447eb3291c84",
         "x": [
          70,
          88,
          214,
          126,
          153,
          39,
          37,
          146,
          39,
          136,
          317,
          39,
          52,
          166,
          3,
          130,
          106,
          27,
          128,
          34,
          9,
          20,
          19,
          29,
          32,
          155,
          158,
          141,
          148,
          57,
          41,
          150,
          81,
          162,
          190,
          72,
          132,
          174,
          3,
          155,
          183,
          65,
          131,
          84,
          21,
          22,
          43,
          30,
          56,
          302,
          151,
          246,
          214,
          85,
          76,
          192,
          228,
          174,
          204,
          98,
          137,
          138,
          1,
          176,
          163,
          217,
          57,
          268,
          8,
          19,
          68,
          34,
          652,
          674,
          584,
          411,
          343,
          574,
          396,
          566,
          657,
          110,
          342,
          264,
          510,
          176,
          2,
          419,
          194,
          757,
          68,
          805,
          12,
          105,
          367,
          93,
          39,
          47,
          65,
          33,
          21,
          54,
          26,
          30,
          59,
          7,
          99,
          5,
          75,
          3,
          15,
          5,
          98,
          56,
          3,
          32,
          13
         ],
         "y": {
          "dtype": "float64",
          "shape": [
           117
          ],
          "value": {}
         }
        },
        {
         "dimensions": [
          {
           "label": "year",
           "values": [
            2016,
            2016,
            2016,
            2016,
            2016,
            2016,
            2016,
            2016,
            2016,
            2016,
            2016,
            2016,
            2016,
            2016,
            2016,
            2016,
            2016,
            2016,
            2016,
            2016,
            2016,
            2016,
            2016,
            2016,
            2017,
            2017,
            2017,
            2017,
            2017,
            2017,
            2017,
            2017,
            2017,
            2017,
            2017,
            2017,
            2017,
            2017,
            2017,
            2017,
            2017,
            2017,
            2017,
            2017,
            2017,
            2017,
            2017,
            2017,
            2018,
            2018,
            2018,
            2018,
            2018,
            2018,
            2018,
            2018,
            2018,
            2018,
            2018,
            2018,
            2018,
            2018,
            2018,
            2018,
            2018,
            2018,
            2018,
            2018,
            2018,
            2018,
            2018,
            2018,
            2019,
            2019,
            2019,
            2019,
            2019,
            2019,
            2019,
            2019,
            2019,
            2019,
            2019,
            2019,
            2019,
            2019,
            2019,
            2019,
            2019,
            2019,
            2019,
            2019,
            2019,
            2019,
            2019,
            2019,
            2020,
            2020,
            2020,
            2020,
            2020,
            2020,
            2020,
            2020,
            2020,
            2020,
            2020,
            2020,
            2020,
            2020,
            2020,
            2020,
            2020,
            2020,
            2020,
            2020,
            2020
           ]
          },
          {
           "label": "genre",
           "values": [
            "edm",
            "edm",
            "edm",
            "edm",
            "latin",
            "latin",
            "latin",
            "latin",
            "pop",
            "pop",
            "pop",
            "pop",
            "r&b",
            "r&b",
            "r&b",
            "r&b",
            "rap",
            "rap",
            "rap",
            "rap",
            "rock",
            "rock",
            "rock",
            "rock",
            "edm",
            "edm",
            "edm",
            "edm",
            "latin",
            "latin",
            "latin",
            "latin",
            "pop",
            "pop",
            "pop",
            "pop",
            "r&b",
            "r&b",
            "r&b",
            "r&b",
            "rap",
            "rap",
            "rap",
            "rap",
            "rock",
            "rock",
            "rock",
            "rock",
            "edm",
            "edm",
            "edm",
            "edm",
            "latin",
            "latin",
            "latin",
            "latin",
            "pop",
            "pop",
            "pop",
            "pop",
            "r&b",
            "r&b",
            "r&b",
            "r&b",
            "rap",
            "rap",
            "rap",
            "rap",
            "rock",
            "rock",
            "rock",
            "rock",
            "edm",
            "edm",
            "edm",
            "edm",
            "latin",
            "latin",
            "latin",
            "latin",
            "pop",
            "pop",
            "pop",
            "pop",
            "r&b",
            "r&b",
            "r&b",
            "r&b",
            "rap",
            "rap",
            "rap",
            "rap",
            "rock",
            "rock",
            "rock",
            "rock",
            "edm",
            "edm",
            "edm",
            "edm",
            "latin",
            "latin",
            "latin",
            "latin",
            "pop",
            "pop",
            "pop",
            "pop",
            "r&b",
            "r&b",
            "r&b",
            "rap",
            "rap",
            "rap",
            "rock",
            "rock",
            "rock"
           ]
          },
          {
           "label": "subgenre",
           "values": [
            "big room",
            "electro house",
            "pop edm",
            "progressive electro house",
            "latin hip hop",
            "latin pop",
            "reggaeton",
            "tropical",
            "dance pop",
            "electropop",
            "indie poptimism",
            "post-teen pop",
            "hip pop",
            "neo soul",
            "new jack swing",
            "urban contemporary",
            "gangster rap",
            "hip hop",
            "southern hip hop",
            "trap",
            "album rock",
            "classic rock",
            "hard rock",
            "permanent wave",
            "big room",
            "electro house",
            "pop edm",
            "progressive electro house",
            "latin hip hop",
            "latin pop",
            "reggaeton",
            "tropical",
            "dance pop",
            "electropop",
            "indie poptimism",
            "post-teen pop",
            "hip pop",
            "neo soul",
            "new jack swing",
            "urban contemporary",
            "gangster rap",
            "hip hop",
            "southern hip hop",
            "trap",
            "album rock",
            "classic rock",
            "hard rock",
            "permanent wave",
            "big room",
            "electro house",
            "pop edm",
            "progressive electro house",
            "latin hip hop",
            "latin pop",
            "reggaeton",
            "tropical",
            "dance pop",
            "electropop",
            "indie poptimism",
            "post-teen pop",
            "hip pop",
            "neo soul",
            "new jack swing",
            "urban contemporary",
            "gangster rap",
            "hip hop",
            "southern hip hop",
            "trap",
            "album rock",
            "classic rock",
            "hard rock",
            "permanent wave",
            "big room",
            "electro house",
            "pop edm",
            "progressive electro house",
            "latin hip hop",
            "latin pop",
            "reggaeton",
            "tropical",
            "dance pop",
            "electropop",
            "indie poptimism",
            "post-teen pop",
            "hip pop",
            "neo soul",
            "new jack swing",
            "urban contemporary",
            "gangster rap",
            "hip hop",
            "southern hip hop",
            "trap",
            "album rock",
            "classic rock",
            "hard rock",
            "permanent wave",
            "big room",
            "electro house",
            "pop edm",
            "progressive electro house",
            "latin hip hop",
            "latin pop",
            "reggaeton",
            "tropical",
            "dance pop",
            "electropop",
            "indie poptimism",
            "post-teen pop",
            "hip pop",
            "neo soul",
            "urban contemporary",
            "gangster rap",
            "hip hop",
            "trap",
            "classic rock",
            "hard rock",
            "permanent wave"
           ]
          }
         ],
         "domain": {
          "y": [
           0,
           0.4
          ]
         },
         "line": {
          "cmax": 2.5,
          "cmin": -0.5,
          "color": {
           "dtype": "uint8",
           "shape": [
            117
           ],
           "value": {}
          },
          "colorscale": [
           [
            0,
            "#F7CF3B"
           ],
           [
            0.33,
            "#F7CF3B"
           ],
           [
            0.33,
            "#2FED68"
           ],
           [
            0.66,
            "#2FED68"
           ],
           [
            0.66,
            "#2C0C50"
           ],
           [
            1,
            "#2C0C50"
           ]
          ],
          "shape": "hspline"
         },
         "type": "parcats",
         "uid": "988f85f4-a7ed-4a21-8e8e-2f52a34b6de8"
        }
       ],
       "_js2py_relayout": {},
       "_js2py_restyle": {},
       "_js2py_update": {},
       "_last_layout_edit_id": 1,
       "_last_trace_edit_id": 1,
       "_layout": {
        "autosize": false,
        "dragmode": "lasso",
        "height": 1200,
        "hovermode": "closest",
        "template": {
         "data": {
          "bar": [
           {
            "error_x": {
             "color": "#2a3f5f"
            },
            "error_y": {
             "color": "#2a3f5f"
            },
            "marker": {
             "line": {
              "color": "#E5ECF6",
              "width": 0.5
             }
            },
            "type": "bar"
           }
          ],
          "barpolar": [
           {
            "marker": {
             "line": {
              "color": "#E5ECF6",
              "width": 0.5
             }
            },
            "type": "barpolar"
           }
          ],
          "carpet": [
           {
            "aaxis": {
             "endlinecolor": "#2a3f5f",
             "gridcolor": "white",
             "linecolor": "white",
             "minorgridcolor": "white",
             "startlinecolor": "#2a3f5f"
            },
            "baxis": {
             "endlinecolor": "#2a3f5f",
             "gridcolor": "white",
             "linecolor": "white",
             "minorgridcolor": "white",
             "startlinecolor": "#2a3f5f"
            },
            "type": "carpet"
           }
          ],
          "choropleth": [
           {
            "colorbar": {
             "outlinewidth": 0,
             "ticks": ""
            },
            "type": "choropleth"
           }
          ],
          "contour": [
           {
            "colorbar": {
             "outlinewidth": 0,
             "ticks": ""
            },
            "colorscale": [
             [
              0,
              "#0d0887"
             ],
             [
              0.1111111111111111,
              "#46039f"
             ],
             [
              0.2222222222222222,
              "#7201a8"
             ],
             [
              0.3333333333333333,
              "#9c179e"
             ],
             [
              0.4444444444444444,
              "#bd3786"
             ],
             [
              0.5555555555555556,
              "#d8576b"
             ],
             [
              0.6666666666666666,
              "#ed7953"
             ],
             [
              0.7777777777777778,
              "#fb9f3a"
             ],
             [
              0.8888888888888888,
              "#fdca26"
             ],
             [
              1,
              "#f0f921"
             ]
            ],
            "type": "contour"
           }
          ],
          "contourcarpet": [
           {
            "colorbar": {
             "outlinewidth": 0,
             "ticks": ""
            },
            "type": "contourcarpet"
           }
          ],
          "heatmap": [
           {
            "colorbar": {
             "outlinewidth": 0,
             "ticks": ""
            },
            "colorscale": [
             [
              0,
              "#0d0887"
             ],
             [
              0.1111111111111111,
              "#46039f"
             ],
             [
              0.2222222222222222,
              "#7201a8"
             ],
             [
              0.3333333333333333,
              "#9c179e"
             ],
             [
              0.4444444444444444,
              "#bd3786"
             ],
             [
              0.5555555555555556,
              "#d8576b"
             ],
             [
              0.6666666666666666,
              "#ed7953"
             ],
             [
              0.7777777777777778,
              "#fb9f3a"
             ],
             [
              0.8888888888888888,
              "#fdca26"
             ],
             [
              1,
              "#f0f921"
             ]
            ],
            "type": "heatmap"
           }
          ],
          "heatmapgl": [
           {
            "colorbar": {
             "outlinewidth": 0,
             "ticks": ""
            },
            "colorscale": [
             [
              0,
              "#0d0887"
             ],
             [
              0.1111111111111111,
              "#46039f"
             ],
             [
              0.2222222222222222,
              "#7201a8"
             ],
             [
              0.3333333333333333,
              "#9c179e"
             ],
             [
              0.4444444444444444,
              "#bd3786"
             ],
             [
              0.5555555555555556,
              "#d8576b"
             ],
             [
              0.6666666666666666,
              "#ed7953"
             ],
             [
              0.7777777777777778,
              "#fb9f3a"
             ],
             [
              0.8888888888888888,
              "#fdca26"
             ],
             [
              1,
              "#f0f921"
             ]
            ],
            "type": "heatmapgl"
           }
          ],
          "histogram": [
           {
            "marker": {
             "colorbar": {
              "outlinewidth": 0,
              "ticks": ""
             }
            },
            "type": "histogram"
           }
          ],
          "histogram2d": [
           {
            "colorbar": {
             "outlinewidth": 0,
             "ticks": ""
            },
            "colorscale": [
             [
              0,
              "#0d0887"
             ],
             [
              0.1111111111111111,
              "#46039f"
             ],
             [
              0.2222222222222222,
              "#7201a8"
             ],
             [
              0.3333333333333333,
              "#9c179e"
             ],
             [
              0.4444444444444444,
              "#bd3786"
             ],
             [
              0.5555555555555556,
              "#d8576b"
             ],
             [
              0.6666666666666666,
              "#ed7953"
             ],
             [
              0.7777777777777778,
              "#fb9f3a"
             ],
             [
              0.8888888888888888,
              "#fdca26"
             ],
             [
              1,
              "#f0f921"
             ]
            ],
            "type": "histogram2d"
           }
          ],
          "histogram2dcontour": [
           {
            "colorbar": {
             "outlinewidth": 0,
             "ticks": ""
            },
            "colorscale": [
             [
              0,
              "#0d0887"
             ],
             [
              0.1111111111111111,
              "#46039f"
             ],
             [
              0.2222222222222222,
              "#7201a8"
             ],
             [
              0.3333333333333333,
              "#9c179e"
             ],
             [
              0.4444444444444444,
              "#bd3786"
             ],
             [
              0.5555555555555556,
              "#d8576b"
             ],
             [
              0.6666666666666666,
              "#ed7953"
             ],
             [
              0.7777777777777778,
              "#fb9f3a"
             ],
             [
              0.8888888888888888,
              "#fdca26"
             ],
             [
              1,
              "#f0f921"
             ]
            ],
            "type": "histogram2dcontour"
           }
          ],
          "mesh3d": [
           {
            "colorbar": {
             "outlinewidth": 0,
             "ticks": ""
            },
            "type": "mesh3d"
           }
          ],
          "parcoords": [
           {
            "line": {
             "colorbar": {
              "outlinewidth": 0,
              "ticks": ""
             }
            },
            "type": "parcoords"
           }
          ],
          "pie": [
           {
            "automargin": true,
            "type": "pie"
           }
          ],
          "scatter": [
           {
            "marker": {
             "colorbar": {
              "outlinewidth": 0,
              "ticks": ""
             }
            },
            "type": "scatter"
           }
          ],
          "scatter3d": [
           {
            "line": {
             "colorbar": {
              "outlinewidth": 0,
              "ticks": ""
             }
            },
            "marker": {
             "colorbar": {
              "outlinewidth": 0,
              "ticks": ""
             }
            },
            "type": "scatter3d"
           }
          ],
          "scattercarpet": [
           {
            "marker": {
             "colorbar": {
              "outlinewidth": 0,
              "ticks": ""
             }
            },
            "type": "scattercarpet"
           }
          ],
          "scattergeo": [
           {
            "marker": {
             "colorbar": {
              "outlinewidth": 0,
              "ticks": ""
             }
            },
            "type": "scattergeo"
           }
          ],
          "scattergl": [
           {
            "marker": {
             "colorbar": {
              "outlinewidth": 0,
              "ticks": ""
             }
            },
            "type": "scattergl"
           }
          ],
          "scattermapbox": [
           {
            "marker": {
             "colorbar": {
              "outlinewidth": 0,
              "ticks": ""
             }
            },
            "type": "scattermapbox"
           }
          ],
          "scatterpolar": [
           {
            "marker": {
             "colorbar": {
              "outlinewidth": 0,
              "ticks": ""
             }
            },
            "type": "scatterpolar"
           }
          ],
          "scatterpolargl": [
           {
            "marker": {
             "colorbar": {
              "outlinewidth": 0,
              "ticks": ""
             }
            },
            "type": "scatterpolargl"
           }
          ],
          "scatterternary": [
           {
            "marker": {
             "colorbar": {
              "outlinewidth": 0,
              "ticks": ""
             }
            },
            "type": "scatterternary"
           }
          ],
          "surface": [
           {
            "colorbar": {
             "outlinewidth": 0,
             "ticks": ""
            },
            "colorscale": [
             [
              0,
              "#0d0887"
             ],
             [
              0.1111111111111111,
              "#46039f"
             ],
             [
              0.2222222222222222,
              "#7201a8"
             ],
             [
              0.3333333333333333,
              "#9c179e"
             ],
             [
              0.4444444444444444,
              "#bd3786"
             ],
             [
              0.5555555555555556,
              "#d8576b"
             ],
             [
              0.6666666666666666,
              "#ed7953"
             ],
             [
              0.7777777777777778,
              "#fb9f3a"
             ],
             [
              0.8888888888888888,
              "#fdca26"
             ],
             [
              1,
              "#f0f921"
             ]
            ],
            "type": "surface"
           }
          ],
          "table": [
           {
            "cells": {
             "fill": {
              "color": "#EBF0F8"
             },
             "line": {
              "color": "white"
             }
            },
            "header": {
             "fill": {
              "color": "#C8D4E3"
             },
             "line": {
              "color": "white"
             }
            },
            "type": "table"
           }
          ]
         },
         "layout": {
          "annotationdefaults": {
           "arrowcolor": "#2a3f5f",
           "arrowhead": 0,
           "arrowwidth": 1
          },
          "coloraxis": {
           "colorbar": {
            "outlinewidth": 0,
            "ticks": ""
           }
          },
          "colorscale": {
           "diverging": [
            [
             0,
             "#8e0152"
            ],
            [
             0.1,
             "#c51b7d"
            ],
            [
             0.2,
             "#de77ae"
            ],
            [
             0.3,
             "#f1b6da"
            ],
            [
             0.4,
             "#fde0ef"
            ],
            [
             0.5,
             "#f7f7f7"
            ],
            [
             0.6,
             "#e6f5d0"
            ],
            [
             0.7,
             "#b8e186"
            ],
            [
             0.8,
             "#7fbc41"
            ],
            [
             0.9,
             "#4d9221"
            ],
            [
             1,
             "#276419"
            ]
           ],
           "sequential": [
            [
             0,
             "#0d0887"
            ],
            [
             0.1111111111111111,
             "#46039f"
            ],
            [
             0.2222222222222222,
             "#7201a8"
            ],
            [
             0.3333333333333333,
             "#9c179e"
            ],
            [
             0.4444444444444444,
             "#bd3786"
            ],
            [
             0.5555555555555556,
             "#d8576b"
            ],
            [
             0.6666666666666666,
             "#ed7953"
            ],
            [
             0.7777777777777778,
             "#fb9f3a"
            ],
            [
             0.8888888888888888,
             "#fdca26"
            ],
            [
             1,
             "#f0f921"
            ]
           ],
           "sequentialminus": [
            [
             0,
             "#0d0887"
            ],
            [
             0.1111111111111111,
             "#46039f"
            ],
            [
             0.2222222222222222,
             "#7201a8"
            ],
            [
             0.3333333333333333,
             "#9c179e"
            ],
            [
             0.4444444444444444,
             "#bd3786"
            ],
            [
             0.5555555555555556,
             "#d8576b"
            ],
            [
             0.6666666666666666,
             "#ed7953"
            ],
            [
             0.7777777777777778,
             "#fb9f3a"
            ],
            [
             0.8888888888888888,
             "#fdca26"
            ],
            [
             1,
             "#f0f921"
            ]
           ]
          },
          "colorway": [
           "#636efa",
           "#EF553B",
           "#00cc96",
           "#ab63fa",
           "#FFA15A",
           "#19d3f3",
           "#FF6692",
           "#B6E880",
           "#FF97FF",
           "#FECB52"
          ],
          "font": {
           "color": "#2a3f5f"
          },
          "geo": {
           "bgcolor": "white",
           "lakecolor": "white",
           "landcolor": "#E5ECF6",
           "showlakes": true,
           "showland": true,
           "subunitcolor": "white"
          },
          "hoverlabel": {
           "align": "left"
          },
          "hovermode": "closest",
          "mapbox": {
           "style": "light"
          },
          "paper_bgcolor": "white",
          "plot_bgcolor": "#E5ECF6",
          "polar": {
           "angularaxis": {
            "gridcolor": "white",
            "linecolor": "white",
            "ticks": ""
           },
           "bgcolor": "#E5ECF6",
           "radialaxis": {
            "gridcolor": "white",
            "linecolor": "white",
            "ticks": ""
           }
          },
          "scene": {
           "xaxis": {
            "backgroundcolor": "#E5ECF6",
            "gridcolor": "white",
            "gridwidth": 2,
            "linecolor": "white",
            "showbackground": true,
            "ticks": "",
            "zerolinecolor": "white"
           },
           "yaxis": {
            "backgroundcolor": "#E5ECF6",
            "gridcolor": "white",
            "gridwidth": 2,
            "linecolor": "white",
            "showbackground": true,
            "ticks": "",
            "zerolinecolor": "white"
           },
           "zaxis": {
            "backgroundcolor": "#E5ECF6",
            "gridcolor": "white",
            "gridwidth": 2,
            "linecolor": "white",
            "showbackground": true,
            "ticks": "",
            "zerolinecolor": "white"
           }
          },
          "shapedefaults": {
           "line": {
            "color": "#2a3f5f"
           }
          },
          "ternary": {
           "aaxis": {
            "gridcolor": "white",
            "linecolor": "white",
            "ticks": ""
           },
           "baxis": {
            "gridcolor": "white",
            "linecolor": "white",
            "ticks": ""
           },
           "bgcolor": "#E5ECF6",
           "caxis": {
            "gridcolor": "white",
            "linecolor": "white",
            "ticks": ""
           }
          },
          "title": {
           "x": 0.05
          },
          "xaxis": {
           "automargin": true,
           "gridcolor": "white",
           "linecolor": "white",
           "ticks": "",
           "title": {
            "standoff": 15
           },
           "zerolinecolor": "white",
           "zerolinewidth": 2
          },
          "yaxis": {
           "automargin": true,
           "gridcolor": "white",
           "linecolor": "white",
           "ticks": "",
           "title": {
            "standoff": 15
           },
           "zerolinecolor": "white",
           "zerolinewidth": 2
          }
         }
        },
        "width": 1200,
        "xaxis": {
         "title": {
          "text": "Count"
         }
        },
        "yaxis": {
         "domain": [
          0.6,
          1
         ],
         "title": {
          "text": "Popularity"
         }
        }
       },
       "_model_module_version": "1.5.4",
       "_py2js_addTraces": {},
       "_py2js_animate": {},
       "_py2js_deleteTraces": {},
       "_py2js_moveTraces": {},
       "_py2js_removeLayoutProps": {},
       "_py2js_removeTraceProps": {},
       "_py2js_restyle": {},
       "_view_count": 0,
       "_view_module_version": "1.5.4"
      }
     },
     "097e88c892ef4c709a393793396ad437": {
      "model_module": "@jupyter-widgets/base",
      "model_module_version": "1.2.0",
      "model_name": "LayoutModel",
      "state": {}
     },
     "0bafa21c929b4de18cddbd936e4380b7": {
      "model_module": "@jupyter-widgets/controls",
      "model_module_version": "1.5.0",
      "model_name": "ToggleButtonsStyleModel",
      "state": {
       "button_width": "",
       "description_width": ""
      }
     },
     "1060fdd236084a2b9b0eb37dd651f5f9": {
      "model_module": "@jupyter-widgets/controls",
      "model_module_version": "1.5.0",
      "model_name": "ToggleButtonsStyleModel",
      "state": {
       "button_width": "",
       "description_width": ""
      }
     },
     "16222e8f5d854c098116cf402385d957": {
      "model_module": "@jupyter-widgets/controls",
      "model_module_version": "1.5.0",
      "model_name": "ToggleButtonsStyleModel",
      "state": {
       "button_width": "",
       "description_width": ""
      }
     },
     "16f9b1f9490540e7b8cb0d4a62dcebb3": {
      "model_module": "@jupyter-widgets/base",
      "model_module_version": "1.2.0",
      "model_name": "LayoutModel",
      "state": {}
     },
     "1a69f811a67c48c988099939bc6f24f3": {
      "model_module": "@jupyter-widgets/controls",
      "model_module_version": "1.5.0",
      "model_name": "ToggleButtonsStyleModel",
      "state": {
       "button_width": "",
       "description_width": ""
      }
     },
     "2437bc0ada92404b88460b3d4675008c": {
      "model_module": "@jupyter-widgets/base",
      "model_module_version": "1.2.0",
      "model_name": "LayoutModel",
      "state": {}
     },
     "29229a29748b4e40bc6f072a1c20cd00": {
      "model_module": "@jupyter-widgets/controls",
      "model_module_version": "1.5.0",
      "model_name": "ToggleButtonsStyleModel",
      "state": {
       "button_width": "",
       "description_width": ""
      }
     },
     "2aa94b8e98834c2d8a03c22b27b795b6": {
      "model_module": "@jupyter-widgets/controls",
      "model_module_version": "1.5.0",
      "model_name": "ToggleButtonsModel",
      "state": {
       "_options_labels": [
        "None",
        "Red",
        "Blue"
       ],
       "button_style": "",
       "description": "Brush Color:",
       "icons": [],
       "index": 1,
       "layout": "IPY_MODEL_f45e44c404734fa8acebd1d43ea35716",
       "style": "IPY_MODEL_1a69f811a67c48c988099939bc6f24f3",
       "tooltips": []
      }
     },
     "31fe4c68d14444bbbfb1168e3fb5082c": {
      "model_module": "@jupyter-widgets/base",
      "model_module_version": "1.2.0",
      "model_name": "LayoutModel",
      "state": {}
     },
     "3ad54b9a4c1945c7b2ae4ad3cd321d93": {
      "model_module": "@jupyter-widgets/base",
      "model_module_version": "1.2.0",
      "model_name": "LayoutModel",
      "state": {}
     },
     "3d3cf11866be46388d79d0e6f3fe8b03": {
      "model_module": "@jupyter-widgets/controls",
      "model_module_version": "1.5.0",
      "model_name": "ToggleButtonsModel",
      "state": {
       "_options_labels": [
        "None",
        "Red",
        "Blue"
       ],
       "button_style": "",
       "description": "Brush Color:",
       "icons": [],
       "index": 1,
       "layout": "IPY_MODEL_7d188ce9c73c45728f9e4f783a7e9b3e",
       "style": "IPY_MODEL_9cf59590f6284f92b45b26db08609d98",
       "tooltips": []
      }
     },
     "3f227bcdcf65434098430fc942923f8d": {
      "buffers": [
       {
        "data": "AAAAAAAAAAAAAAAAAQEBAQEBAAAAAAEAAQEBAAIBAAEAAAAAAAAAAAAAAAAAAAIAAAAAAQEBAQAAAAAAAAAAAAABAQEBAQEAAAAAAQABAQABAAEBAQAAAQEBAAEBAQEBAQEBAAABAQAAAQACAgICAgICAgICAQAAAQEBAgEAAQEBAAAAAAAAAAAAAAAAAQACAAAAAgAAAQEBAAAAAQEAAAAAAAAAAAABAQEBAQECAAICAgAAAAAAAAAAAAAAAgIAAQABAQEBAAABAAAAAA==",
        "encoding": "base64",
        "path": [
         "_data",
         0,
         "marker",
         "color",
         "value"
        ]
       },
       {
        "data": "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",
        "encoding": "base64",
        "path": [
         "_data",
         0,
         "x",
         "value"
        ]
       },
       {
        "data": "AAAAAAAAAAAAAAAAAQEBAQEBAAAAAAEAAQEBAAIBAAEAAAAAAAAAAAAAAAAAAAIAAAAAAQEBAQAAAAAAAAAAAAABAQEBAQEAAAAAAQABAQABAAEBAQAAAQEBAAEBAQEBAQEBAAABAQAAAQACAgICAgICAgICAQAAAQEBAgEAAQEBAAAAAAAAAAAAAAAAAQACAAAAAgAAAQEBAAAAAQEAAAAAAAAAAAABAQEBAQECAAICAgAAAAAAAAAAAAAAAgIAAQABAQEBAAABAAAAAA==",
        "encoding": "base64",
        "path": [
         "_data",
         1,
         "line",
         "color",
         "value"
        ]
       }
      ],
      "model_module": "plotlywidget",
      "model_module_version": "1.5.4",
      "model_name": "FigureModel",
      "state": {
       "_config": {
        "plotlyServerURL": "https://plot.ly"
       },
       "_data": [
        {
         "marker": {
          "cmax": 2.5,
          "cmin": -0.5,
          "color": {
           "dtype": "uint8",
           "shape": [
            205
           ],
           "value": {}
          },
          "colorbar": {
           "ticktext": [
            "None",
            "Red",
            "Blue"
           ],
           "tickvals": [
            0,
            1,
            2
           ]
          },
          "colorscale": [
           [
            0,
            "gray"
           ],
           [
            0.33,
            "gray"
           ],
           [
            0.33,
            "firebrick"
           ],
           [
            0.66,
            "firebrick"
           ],
           [
            0.66,
            "blue"
           ],
           [
            1,
            "blue"
           ]
          ],
          "showscale": true
         },
         "mode": "markers",
         "selectedpoints": [
          32,
          90,
          159,
          160,
          182,
          184
         ],
         "type": "scatter",
         "uid": "f0a7cf61-1cf7-41f1-ae10-2ea66545bddb",
         "x": {
          "dtype": "float64",
          "shape": [
           205
          ],
          "value": {}
         },
         "y": [
          27,
          27,
          26,
          30,
          22,
          25,
          25,
          25,
          20,
          22,
          29,
          29,
          28,
          28,
          25,
          22,
          22,
          20,
          53,
          43,
          43,
          41,
          38,
          30,
          38,
          38,
          38,
          30,
          30,
          24,
          54,
          38,
          42,
          34,
          34,
          34,
          34,
          33,
          33,
          33,
          33,
          28,
          31,
          29,
          43,
          43,
          29,
          19,
          19,
          17,
          31,
          38,
          38,
          38,
          38,
          23,
          23,
          23,
          23,
          32,
          32,
          32,
          32,
          42,
          32,
          27,
          39,
          25,
          25,
          25,
          25,
          18,
          18,
          16,
          16,
          24,
          41,
          38,
          38,
          30,
          30,
          32,
          24,
          24,
          24,
          32,
          32,
          30,
          30,
          37,
          50,
          37,
          37,
          37,
          37,
          37,
          37,
          37,
          37,
          34,
          34,
          22,
          22,
          25,
          25,
          23,
          25,
          24,
          33,
          24,
          25,
          24,
          33,
          24,
          25,
          24,
          33,
          24,
          41,
          30,
          38,
          38,
          38,
          30,
          24,
          27,
          25,
          25,
          25,
          28,
          31,
          31,
          28,
          28,
          28,
          28,
          26,
          26,
          36,
          31,
          31,
          37,
          33,
          32,
          25,
          29,
          32,
          31,
          29,
          23,
          39,
          38,
          38,
          37,
          32,
          32,
          37,
          37,
          36,
          47,
          47,
          34,
          34,
          34,
          34,
          29,
          29,
          30,
          30,
          30,
          30,
          30,
          30,
          34,
          33,
          32,
          32,
          32,
          24,
          24,
          24,
          24,
          46,
          34,
          46,
          34,
          34,
          42,
          32,
          29,
          29,
          24,
          38,
          31,
          28,
          28,
          28,
          28,
          22,
          22,
          28,
          25,
          23,
          27,
          25
         ]
        },
        {
         "dimensions": [
          {
           "label": "body-style",
           "values": [
            "convertible",
            "convertible",
            "hatchback",
            "sedan",
            "sedan",
            "sedan",
            "sedan",
            "wagon",
            "sedan",
            "hatchback",
            "sedan",
            "sedan",
            "sedan",
            "sedan",
            "sedan",
            "sedan",
            "sedan",
            "sedan",
            "hatchback",
            "hatchback",
            "sedan",
            "hatchback",
            "hatchback",
            "hatchback",
            "hatchback",
            "sedan",
            "sedan",
            "sedan",
            "wagon",
            "hatchback",
            "hatchback",
            "hatchback",
            "hatchback",
            "hatchback",
            "hatchback",
            "sedan",
            "wagon",
            "hatchback",
            "hatchback",
            "sedan",
            "sedan",
            "sedan",
            "sedan",
            "sedan",
            "sedan",
            "sedan",
            "hatchback",
            "sedan",
            "sedan",
            "sedan",
            "hatchback",
            "hatchback",
            "hatchback",
            "sedan",
            "sedan",
            "hatchback",
            "hatchback",
            "hatchback",
            "hatchback",
            "hatchback",
            "sedan",
            "hatchback",
            "sedan",
            "sedan",
            "hatchback",
            "sedan",
            "sedan",
            "sedan",
            "wagon",
            "hardtop",
            "sedan",
            "sedan",
            "convertible",
            "sedan",
            "hardtop",
            "hatchback",
            "hatchback",
            "hatchback",
            "hatchback",
            "hatchback",
            "hatchback",
            "hatchback",
            "hatchback",
            "hatchback",
            "hatchback",
            "sedan",
            "sedan",
            "sedan",
            "sedan",
            "sedan",
            "sedan",
            "sedan",
            "sedan",
            "wagon",
            "sedan",
            "hatchback",
            "sedan",
            "wagon",
            "hardtop",
            "hatchback",
            "sedan",
            "sedan",
            "wagon",
            "sedan",
            "hatchback",
            "hatchback",
            "hatchback",
            "sedan",
            "sedan",
            "wagon",
            "wagon",
            "sedan",
            "sedan",
            "wagon",
            "wagon",
            "sedan",
            "sedan",
            "sedan",
            "hatchback",
            "hatchback",
            "hatchback",
            "sedan",
            "sedan",
            "wagon",
            "hatchback",
            "hatchback",
            "hardtop",
            "hardtop",
            "convertible",
            "hatchback",
            "wagon",
            "hatchback",
            "hatchback",
            "sedan",
            "hatchback",
            "sedan",
            "hatchback",
            "sedan",
            "hatchback",
            "hatchback",
            "hatchback",
            "sedan",
            "sedan",
            "sedan",
            "sedan",
            "sedan",
            "wagon",
            "wagon",
            "wagon",
            "wagon",
            "hatchback",
            "hatchback",
            "hatchback",
            "wagon",
            "wagon",
            "wagon",
            "sedan",
            "hatchback",
            "sedan",
            "hatchback",
            "sedan",
            "hatchback",
            "sedan",
            "sedan",
            "hatchback",
            "sedan",
            "hatchback",
            "hardtop",
            "hardtop",
            "hatchback",
            "hardtop",
            "hatchback",
            "convertible",
            "sedan",
            "sedan",
            "hatchback",
            "sedan",
            "hatchback",
            "hatchback",
            "hatchback",
            "sedan",
            "wagon",
            "sedan",
            "sedan",
            "sedan",
            "sedan",
            "sedan",
            "sedan",
            "sedan",
            "convertible",
            "hatchback",
            "sedan",
            "sedan",
            "wagon",
            "sedan",
            "wagon",
            "sedan",
            "wagon",
            "sedan",
            "wagon",
            "sedan",
            "sedan",
            "sedan",
            "sedan",
            "sedan"
           ]
          },
          {
           "categoryarray": [
            "rwd",
            "4wd",
            "fwd"
           ],
           "categoryorder": "array",
           "label": "drive-wheels",
           "ticktext": [
            "rwd",
            "4wd",
            "fwd"
           ],
           "values": [
            "rwd",
            "rwd",
            "rwd",
            "fwd",
            "4wd",
            "fwd",
            "fwd",
            "fwd",
            "fwd",
            "4wd",
            "rwd",
            "rwd",
            "rwd",
            "rwd",
            "rwd",
            "rwd",
            "rwd",
            "rwd",
            "fwd",
            "fwd",
            "fwd",
            "fwd",
            "fwd",
            "fwd",
            "fwd",
            "fwd",
            "fwd",
            "fwd",
            "fwd",
            "fwd",
            "fwd",
            "fwd",
            "fwd",
            "fwd",
            "fwd",
            "fwd",
            "fwd",
            "fwd",
            "fwd",
            "fwd",
            "fwd",
            "fwd",
            "fwd",
            "rwd",
            "fwd",
            "fwd",
            "rwd",
            "rwd",
            "rwd",
            "rwd",
            "fwd",
            "fwd",
            "fwd",
            "fwd",
            "fwd",
            "rwd",
            "rwd",
            "rwd",
            "rwd",
            "fwd",
            "fwd",
            "fwd",
            "fwd",
            "fwd",
            "fwd",
            "rwd",
            "rwd",
            "rwd",
            "rwd",
            "rwd",
            "rwd",
            "rwd",
            "rwd",
            "rwd",
            "rwd",
            "rwd",
            "fwd",
            "fwd",
            "fwd",
            "fwd",
            "fwd",
            "fwd",
            "fwd",
            "fwd",
            "fwd",
            "fwd",
            "fwd",
            "fwd",
            "fwd",
            "fwd",
            "fwd",
            "fwd",
            "fwd",
            "fwd",
            "fwd",
            "fwd",
            "fwd",
            "fwd",
            "fwd",
            "fwd",
            "fwd",
            "fwd",
            "fwd",
            "fwd",
            "rwd",
            "rwd",
            "rwd",
            "rwd",
            "rwd",
            "rwd",
            "rwd",
            "rwd",
            "rwd",
            "rwd",
            "rwd",
            "rwd",
            "rwd",
            "rwd",
            "fwd",
            "fwd",
            "fwd",
            "fwd",
            "fwd",
            "fwd",
            "rwd",
            "rwd",
            "rwd",
            "rwd",
            "rwd",
            "rwd",
            "fwd",
            "fwd",
            "fwd",
            "fwd",
            "fwd",
            "fwd",
            "fwd",
            "fwd",
            "fwd",
            "fwd",
            "4wd",
            "fwd",
            "fwd",
            "fwd",
            "4wd",
            "4wd",
            "fwd",
            "fwd",
            "4wd",
            "4wd",
            "fwd",
            "fwd",
            "fwd",
            "fwd",
            "4wd",
            "4wd",
            "fwd",
            "fwd",
            "fwd",
            "fwd",
            "fwd",
            "fwd",
            "fwd",
            "rwd",
            "rwd",
            "rwd",
            "rwd",
            "rwd",
            "rwd",
            "rwd",
            "rwd",
            "rwd",
            "rwd",
            "fwd",
            "fwd",
            "fwd",
            "fwd",
            "fwd",
            "rwd",
            "rwd",
            "rwd",
            "rwd",
            "fwd",
            "fwd",
            "fwd",
            "fwd",
            "fwd",
            "fwd",
            "fwd",
            "fwd",
            "fwd",
            "fwd",
            "fwd",
            "fwd",
            "rwd",
            "rwd",
            "rwd",
            "rwd",
            "rwd",
            "rwd",
            "rwd",
            "rwd",
            "rwd",
            "rwd",
            "rwd"
           ]
          },
          {
           "label": "fuel-type",
           "values": [
            "gas",
            "gas",
            "gas",
            "gas",
            "gas",
            "gas",
            "gas",
            "gas",
            "gas",
            "gas",
            "gas",
            "gas",
            "gas",
            "gas",
            "gas",
            "gas",
            "gas",
            "gas",
            "gas",
            "gas",
            "gas",
            "gas",
            "gas",
            "gas",
            "gas",
            "gas",
            "gas",
            "gas",
            "gas",
            "gas",
            "gas",
            "gas",
            "gas",
            "gas",
            "gas",
            "gas",
            "gas",
            "gas",
            "gas",
            "gas",
            "gas",
            "gas",
            "gas",
            "gas",
            "gas",
            "gas",
            "gas",
            "gas",
            "gas",
            "gas",
            "gas",
            "gas",
            "gas",
            "gas",
            "gas",
            "gas",
            "gas",
            "gas",
            "gas",
            "gas",
            "gas",
            "gas",
            "gas",
            "diesel",
            "gas",
            "gas",
            "diesel",
            "diesel",
            "diesel",
            "diesel",
            "diesel",
            "gas",
            "gas",
            "gas",
            "gas",
            "gas",
            "gas",
            "gas",
            "gas",
            "gas",
            "gas",
            "gas",
            "gas",
            "gas",
            "gas",
            "gas",
            "gas",
            "gas",
            "gas",
            "gas",
            "diesel",
            "gas",
            "gas",
            "gas",
            "gas",
            "gas",
            "gas",
            "gas",
            "gas",
            "gas",
            "gas",
            "gas",
            "gas",
            "gas",
            "gas",
            "gas",
            "gas",
            "gas",
            "diesel",
            "gas",
            "diesel",
            "gas",
            "diesel",
            "gas",
            "diesel",
            "gas",
            "diesel",
            "gas",
            "gas",
            "gas",
            "gas",
            "gas",
            "gas",
            "gas",
            "gas",
            "gas",
            "gas",
            "gas",
            "gas",
            "gas",
            "gas",
            "gas",
            "gas",
            "gas",
            "gas",
            "gas",
            "gas",
            "gas",
            "gas",
            "gas",
            "gas",
            "gas",
            "gas",
            "gas",
            "gas",
            "gas",
            "gas",
            "gas",
            "gas",
            "gas",
            "gas",
            "gas",
            "gas",
            "gas",
            "gas",
            "gas",
            "gas",
            "gas",
            "diesel",
            "diesel",
            "gas",
            "gas",
            "gas",
            "gas",
            "gas",
            "gas",
            "gas",
            "gas",
            "gas",
            "gas",
            "gas",
            "gas",
            "gas",
            "gas",
            "diesel",
            "gas",
            "gas",
            "gas",
            "gas",
            "gas",
            "gas",
            "gas",
            "diesel",
            "gas",
            "diesel",
            "gas",
            "gas",
            "diesel",
            "gas",
            "gas",
            "gas",
            "gas",
            "diesel",
            "gas",
            "gas",
            "gas",
            "gas",
            "gas",
            "gas",
            "gas",
            "gas",
            "gas",
            "gas",
            "diesel",
            "gas"
           ]
          }
         ],
         "domain": {
          "y": [
           0,
           0.4
          ]
         },
         "line": {
          "cmax": 2.5,
          "cmin": -0.5,
          "color": {
           "dtype": "uint8",
           "shape": [
            205
           ],
           "value": {}
          },
          "colorscale": [
           [
            0,
            "gray"
           ],
           [
            0.33,
            "gray"
           ],
           [
            0.33,
            "firebrick"
           ],
           [
            0.66,
            "firebrick"
           ],
           [
            0.66,
            "blue"
           ],
           [
            1,
            "blue"
           ]
          ],
          "shape": "hspline"
         },
         "type": "parcats",
         "uid": "cef5008c-38b7-4c8b-aafe-58dd62427946"
        }
       ],
       "_js2py_update": {},
       "_last_layout_edit_id": 18,
       "_last_trace_edit_id": 15,
       "_layout": {
        "autosize": true,
        "dragmode": "lasso",
        "height": 800,
        "hovermode": "closest",
        "template": {
         "data": {
          "bar": [
           {
            "error_x": {
             "color": "#2a3f5f"
            },
            "error_y": {
             "color": "#2a3f5f"
            },
            "marker": {
             "line": {
              "color": "#E5ECF6",
              "width": 0.5
             }
            },
            "type": "bar"
           }
          ],
          "barpolar": [
           {
            "marker": {
             "line": {
              "color": "#E5ECF6",
              "width": 0.5
             }
            },
            "type": "barpolar"
           }
          ],
          "carpet": [
           {
            "aaxis": {
             "endlinecolor": "#2a3f5f",
             "gridcolor": "white",
             "linecolor": "white",
             "minorgridcolor": "white",
             "startlinecolor": "#2a3f5f"
            },
            "baxis": {
             "endlinecolor": "#2a3f5f",
             "gridcolor": "white",
             "linecolor": "white",
             "minorgridcolor": "white",
             "startlinecolor": "#2a3f5f"
            },
            "type": "carpet"
           }
          ],
          "choropleth": [
           {
            "colorbar": {
             "outlinewidth": 0,
             "ticks": ""
            },
            "type": "choropleth"
           }
          ],
          "contour": [
           {
            "colorbar": {
             "outlinewidth": 0,
             "ticks": ""
            },
            "colorscale": [
             [
              0,
              "#0d0887"
             ],
             [
              0.1111111111111111,
              "#46039f"
             ],
             [
              0.2222222222222222,
              "#7201a8"
             ],
             [
              0.3333333333333333,
              "#9c179e"
             ],
             [
              0.4444444444444444,
              "#bd3786"
             ],
             [
              0.5555555555555556,
              "#d8576b"
             ],
             [
              0.6666666666666666,
              "#ed7953"
             ],
             [
              0.7777777777777778,
              "#fb9f3a"
             ],
             [
              0.8888888888888888,
              "#fdca26"
             ],
             [
              1,
              "#f0f921"
             ]
            ],
            "type": "contour"
           }
          ],
          "contourcarpet": [
           {
            "colorbar": {
             "outlinewidth": 0,
             "ticks": ""
            },
            "type": "contourcarpet"
           }
          ],
          "heatmap": [
           {
            "colorbar": {
             "outlinewidth": 0,
             "ticks": ""
            },
            "colorscale": [
             [
              0,
              "#0d0887"
             ],
             [
              0.1111111111111111,
              "#46039f"
             ],
             [
              0.2222222222222222,
              "#7201a8"
             ],
             [
              0.3333333333333333,
              "#9c179e"
             ],
             [
              0.4444444444444444,
              "#bd3786"
             ],
             [
              0.5555555555555556,
              "#d8576b"
             ],
             [
              0.6666666666666666,
              "#ed7953"
             ],
             [
              0.7777777777777778,
              "#fb9f3a"
             ],
             [
              0.8888888888888888,
              "#fdca26"
             ],
             [
              1,
              "#f0f921"
             ]
            ],
            "type": "heatmap"
           }
          ],
          "heatmapgl": [
           {
            "colorbar": {
             "outlinewidth": 0,
             "ticks": ""
            },
            "colorscale": [
             [
              0,
              "#0d0887"
             ],
             [
              0.1111111111111111,
              "#46039f"
             ],
             [
              0.2222222222222222,
              "#7201a8"
             ],
             [
              0.3333333333333333,
              "#9c179e"
             ],
             [
              0.4444444444444444,
              "#bd3786"
             ],
             [
              0.5555555555555556,
              "#d8576b"
             ],
             [
              0.6666666666666666,
              "#ed7953"
             ],
             [
              0.7777777777777778,
              "#fb9f3a"
             ],
             [
              0.8888888888888888,
              "#fdca26"
             ],
             [
              1,
              "#f0f921"
             ]
            ],
            "type": "heatmapgl"
           }
          ],
          "histogram": [
           {
            "marker": {
             "colorbar": {
              "outlinewidth": 0,
              "ticks": ""
             }
            },
            "type": "histogram"
           }
          ],
          "histogram2d": [
           {
            "colorbar": {
             "outlinewidth": 0,
             "ticks": ""
            },
            "colorscale": [
             [
              0,
              "#0d0887"
             ],
             [
              0.1111111111111111,
              "#46039f"
             ],
             [
              0.2222222222222222,
              "#7201a8"
             ],
             [
              0.3333333333333333,
              "#9c179e"
             ],
             [
              0.4444444444444444,
              "#bd3786"
             ],
             [
              0.5555555555555556,
              "#d8576b"
             ],
             [
              0.6666666666666666,
              "#ed7953"
             ],
             [
              0.7777777777777778,
              "#fb9f3a"
             ],
             [
              0.8888888888888888,
              "#fdca26"
             ],
             [
              1,
              "#f0f921"
             ]
            ],
            "type": "histogram2d"
           }
          ],
          "histogram2dcontour": [
           {
            "colorbar": {
             "outlinewidth": 0,
             "ticks": ""
            },
            "colorscale": [
             [
              0,
              "#0d0887"
             ],
             [
              0.1111111111111111,
              "#46039f"
             ],
             [
              0.2222222222222222,
              "#7201a8"
             ],
             [
              0.3333333333333333,
              "#9c179e"
             ],
             [
              0.4444444444444444,
              "#bd3786"
             ],
             [
              0.5555555555555556,
              "#d8576b"
             ],
             [
              0.6666666666666666,
              "#ed7953"
             ],
             [
              0.7777777777777778,
              "#fb9f3a"
             ],
             [
              0.8888888888888888,
              "#fdca26"
             ],
             [
              1,
              "#f0f921"
             ]
            ],
            "type": "histogram2dcontour"
           }
          ],
          "mesh3d": [
           {
            "colorbar": {
             "outlinewidth": 0,
             "ticks": ""
            },
            "type": "mesh3d"
           }
          ],
          "parcoords": [
           {
            "line": {
             "colorbar": {
              "outlinewidth": 0,
              "ticks": ""
             }
            },
            "type": "parcoords"
           }
          ],
          "pie": [
           {
            "automargin": true,
            "type": "pie"
           }
          ],
          "scatter": [
           {
            "marker": {
             "colorbar": {
              "outlinewidth": 0,
              "ticks": ""
             }
            },
            "type": "scatter"
           }
          ],
          "scatter3d": [
           {
            "line": {
             "colorbar": {
              "outlinewidth": 0,
              "ticks": ""
             }
            },
            "marker": {
             "colorbar": {
              "outlinewidth": 0,
              "ticks": ""
             }
            },
            "type": "scatter3d"
           }
          ],
          "scattercarpet": [
           {
            "marker": {
             "colorbar": {
              "outlinewidth": 0,
              "ticks": ""
             }
            },
            "type": "scattercarpet"
           }
          ],
          "scattergeo": [
           {
            "marker": {
             "colorbar": {
              "outlinewidth": 0,
              "ticks": ""
             }
            },
            "type": "scattergeo"
           }
          ],
          "scattergl": [
           {
            "marker": {
             "colorbar": {
              "outlinewidth": 0,
              "ticks": ""
             }
            },
            "type": "scattergl"
           }
          ],
          "scattermapbox": [
           {
            "marker": {
             "colorbar": {
              "outlinewidth": 0,
              "ticks": ""
             }
            },
            "type": "scattermapbox"
           }
          ],
          "scatterpolar": [
           {
            "marker": {
             "colorbar": {
              "outlinewidth": 0,
              "ticks": ""
             }
            },
            "type": "scatterpolar"
           }
          ],
          "scatterpolargl": [
           {
            "marker": {
             "colorbar": {
              "outlinewidth": 0,
              "ticks": ""
             }
            },
            "type": "scatterpolargl"
           }
          ],
          "scatterternary": [
           {
            "marker": {
             "colorbar": {
              "outlinewidth": 0,
              "ticks": ""
             }
            },
            "type": "scatterternary"
           }
          ],
          "surface": [
           {
            "colorbar": {
             "outlinewidth": 0,
             "ticks": ""
            },
            "colorscale": [
             [
              0,
              "#0d0887"
             ],
             [
              0.1111111111111111,
              "#46039f"
             ],
             [
              0.2222222222222222,
              "#7201a8"
             ],
             [
              0.3333333333333333,
              "#9c179e"
             ],
             [
              0.4444444444444444,
              "#bd3786"
             ],
             [
              0.5555555555555556,
              "#d8576b"
             ],
             [
              0.6666666666666666,
              "#ed7953"
             ],
             [
              0.7777777777777778,
              "#fb9f3a"
             ],
             [
              0.8888888888888888,
              "#fdca26"
             ],
             [
              1,
              "#f0f921"
             ]
            ],
            "type": "surface"
           }
          ],
          "table": [
           {
            "cells": {
             "fill": {
              "color": "#EBF0F8"
             },
             "line": {
              "color": "white"
             }
            },
            "header": {
             "fill": {
              "color": "#C8D4E3"
             },
             "line": {
              "color": "white"
             }
            },
            "type": "table"
           }
          ]
         },
         "layout": {
          "annotationdefaults": {
           "arrowcolor": "#2a3f5f",
           "arrowhead": 0,
           "arrowwidth": 1
          },
          "coloraxis": {
           "colorbar": {
            "outlinewidth": 0,
            "ticks": ""
           }
          },
          "colorscale": {
           "diverging": [
            [
             0,
             "#8e0152"
            ],
            [
             0.1,
             "#c51b7d"
            ],
            [
             0.2,
             "#de77ae"
            ],
            [
             0.3,
             "#f1b6da"
            ],
            [
             0.4,
             "#fde0ef"
            ],
            [
             0.5,
             "#f7f7f7"
            ],
            [
             0.6,
             "#e6f5d0"
            ],
            [
             0.7,
             "#b8e186"
            ],
            [
             0.8,
             "#7fbc41"
            ],
            [
             0.9,
             "#4d9221"
            ],
            [
             1,
             "#276419"
            ]
           ],
           "sequential": [
            [
             0,
             "#0d0887"
            ],
            [
             0.1111111111111111,
             "#46039f"
            ],
            [
             0.2222222222222222,
             "#7201a8"
            ],
            [
             0.3333333333333333,
             "#9c179e"
            ],
            [
             0.4444444444444444,
             "#bd3786"
            ],
            [
             0.5555555555555556,
             "#d8576b"
            ],
            [
             0.6666666666666666,
             "#ed7953"
            ],
            [
             0.7777777777777778,
             "#fb9f3a"
            ],
            [
             0.8888888888888888,
             "#fdca26"
            ],
            [
             1,
             "#f0f921"
            ]
           ],
           "sequentialminus": [
            [
             0,
             "#0d0887"
            ],
            [
             0.1111111111111111,
             "#46039f"
            ],
            [
             0.2222222222222222,
             "#7201a8"
            ],
            [
             0.3333333333333333,
             "#9c179e"
            ],
            [
             0.4444444444444444,
             "#bd3786"
            ],
            [
             0.5555555555555556,
             "#d8576b"
            ],
            [
             0.6666666666666666,
             "#ed7953"
            ],
            [
             0.7777777777777778,
             "#fb9f3a"
            ],
            [
             0.8888888888888888,
             "#fdca26"
            ],
            [
             1,
             "#f0f921"
            ]
           ]
          },
          "colorway": [
           "#636efa",
           "#EF553B",
           "#00cc96",
           "#ab63fa",
           "#FFA15A",
           "#19d3f3",
           "#FF6692",
           "#B6E880",
           "#FF97FF",
           "#FECB52"
          ],
          "font": {
           "color": "#2a3f5f"
          },
          "geo": {
           "bgcolor": "white",
           "lakecolor": "white",
           "landcolor": "#E5ECF6",
           "showlakes": true,
           "showland": true,
           "subunitcolor": "white"
          },
          "hoverlabel": {
           "align": "left"
          },
          "hovermode": "closest",
          "mapbox": {
           "style": "light"
          },
          "paper_bgcolor": "white",
          "plot_bgcolor": "#E5ECF6",
          "polar": {
           "angularaxis": {
            "gridcolor": "white",
            "linecolor": "white",
            "ticks": ""
           },
           "bgcolor": "#E5ECF6",
           "radialaxis": {
            "gridcolor": "white",
            "linecolor": "white",
            "ticks": ""
           }
          },
          "scene": {
           "xaxis": {
            "backgroundcolor": "#E5ECF6",
            "gridcolor": "white",
            "gridwidth": 2,
            "linecolor": "white",
            "showbackground": true,
            "ticks": "",
            "zerolinecolor": "white"
           },
           "yaxis": {
            "backgroundcolor": "#E5ECF6",
            "gridcolor": "white",
            "gridwidth": 2,
            "linecolor": "white",
            "showbackground": true,
            "ticks": "",
            "zerolinecolor": "white"
           },
           "zaxis": {
            "backgroundcolor": "#E5ECF6",
            "gridcolor": "white",
            "gridwidth": 2,
            "linecolor": "white",
            "showbackground": true,
            "ticks": "",
            "zerolinecolor": "white"
           }
          },
          "shapedefaults": {
           "line": {
            "color": "#2a3f5f"
           }
          },
          "ternary": {
           "aaxis": {
            "gridcolor": "white",
            "linecolor": "white",
            "ticks": ""
           },
           "baxis": {
            "gridcolor": "white",
            "linecolor": "white",
            "ticks": ""
           },
           "bgcolor": "#E5ECF6",
           "caxis": {
            "gridcolor": "white",
            "linecolor": "white",
            "ticks": ""
           }
          },
          "title": {
           "x": 0.05
          },
          "xaxis": {
           "automargin": true,
           "gridcolor": "white",
           "linecolor": "white",
           "ticks": "",
           "title": {
            "standoff": 15
           },
           "zerolinecolor": "white",
           "zerolinewidth": 2
          },
          "yaxis": {
           "automargin": true,
           "gridcolor": "white",
           "linecolor": "white",
           "ticks": "",
           "title": {
            "standoff": 15
           },
           "zerolinecolor": "white",
           "zerolinewidth": 2
          }
         }
        },
        "xaxis": {
         "autorange": true,
         "showspikes": false,
         "title": {
          "text": "Horsepower"
         }
        },
        "yaxis": {
         "autorange": true,
         "domain": [
          0.6,
          1
         ],
         "showspikes": false,
         "title": {
          "text": "MPG"
         }
        }
       },
       "_model_module_version": "1.5.4",
       "_py2js_addTraces": {},
       "_py2js_animate": {},
       "_py2js_deleteTraces": {},
       "_py2js_moveTraces": {},
       "_py2js_removeLayoutProps": {},
       "_py2js_removeTraceProps": {},
       "_view_count": 0,
       "_view_module_version": "1.5.4"
      }
     },
     "403738197e5a4686ab8debda8bea4871": {
      "model_module": "@jupyter-widgets/controls",
      "model_module_version": "1.5.0",
      "model_name": "VBoxModel",
      "state": {
       "children": [
        "IPY_MODEL_2aa94b8e98834c2d8a03c22b27b795b6",
        "IPY_MODEL_50da5319be0642dbaec0d8cbea17917f"
       ],
       "layout": "IPY_MODEL_8abcfbc5f11845c9923289fbbfe82eee"
      }
     },
     "444cc9d49650405da8c8e83d65e8e5f8": {
      "model_module": "@jupyter-widgets/base",
      "model_module_version": "1.2.0",
      "model_name": "LayoutModel",
      "state": {}
     },
     "47b9a47cf0424a3ea36a767d1ca00b8d": {
      "model_module": "@jupyter-widgets/controls",
      "model_module_version": "1.5.0",
      "model_name": "ToggleButtonsStyleModel",
      "state": {
       "button_width": "",
       "description_width": ""
      }
     },
     "48bcf0022bcb4ba69c8b297e8961f23e": {
      "model_module": "@jupyter-widgets/base",
      "model_module_version": "1.2.0",
      "model_name": "LayoutModel",
      "state": {}
     },
     "48c8d28af8a1422f8d51dccd0b2e2a12": {
      "model_module": "@jupyter-widgets/base",
      "model_module_version": "1.2.0",
      "model_name": "LayoutModel",
      "state": {}
     },
     "4a60608e9f894b2b92484c0093307672": {
      "model_module": "@jupyter-widgets/controls",
      "model_module_version": "1.5.0",
      "model_name": "VBoxModel",
      "state": {
       "children": [
        "IPY_MODEL_c69130ca6cd748ec8b41b4281eae08d3",
        "IPY_MODEL_e6949622b6824cc18939c9e9dd26c7d6"
       ],
       "layout": "IPY_MODEL_097e88c892ef4c709a393793396ad437"
      }
     },
     "4b099edd778e4c5ab6e3ee11fcb8f3ed": {
      "model_module": "@jupyter-widgets/controls",
      "model_module_version": "1.5.0",
      "model_name": "ToggleButtonsModel",
      "state": {
       "_options_labels": [
        "None",
        "Red",
        "Blue"
       ],
       "button_style": "",
       "description": "Brush Color:",
       "icons": [],
       "index": 1,
       "layout": "IPY_MODEL_3ad54b9a4c1945c7b2ae4ad3cd321d93",
       "style": "IPY_MODEL_55e8f5e4ef0c49d49734c03ffb860bf5",
       "tooltips": []
      }
     },
     "4cd09f9e6ff843fb8a73a1f7372bbf42": {
      "model_module": "@jupyter-widgets/controls",
      "model_module_version": "1.5.0",
      "model_name": "ToggleButtonsModel",
      "state": {
       "_options_labels": [
        "None",
        "Red",
        "Blue"
       ],
       "button_style": "",
       "description": "Brush Color:",
       "icons": [],
       "index": 0,
       "layout": "IPY_MODEL_4da4afc7c607436db9c8cc5906b5ff29",
       "style": "IPY_MODEL_47b9a47cf0424a3ea36a767d1ca00b8d",
       "tooltips": []
      }
     },
     "4ceec64f60a64fe490a56a5237678667": {
      "model_module": "@jupyter-widgets/base",
      "model_module_version": "1.2.0",
      "model_name": "LayoutModel",
      "state": {}
     },
     "4da4afc7c607436db9c8cc5906b5ff29": {
      "model_module": "@jupyter-widgets/base",
      "model_module_version": "1.2.0",
      "model_name": "LayoutModel",
      "state": {}
     },
     "50da5319be0642dbaec0d8cbea17917f": {
      "buffers": [
       {
        "data": "AAAAAAAAAAAAAAEAAAAAAAAAAAAAAAAAAAAAAAAAAAAAAAAAAAAAAAAAAAAAAAAAAAEAAQEAAAABAAAAAAAAAAABAAEAAAAAAAAAAQAAAAAAAAAAAAAAAAAAAAAAAAEAAAAAAAAAAAAAAAAAAAAAAAAAAAAA",
        "encoding": "base64",
        "path": [
         "_data",
         0,
         "marker",
         "color",
         "value"
        ]
       },
       {
        "data": "AAAAAACAOkAAAAAAAABCQAAAAAAAwENAAAAAAAAAMkAAAAAAAIBEQAAAAAAAgE1AAAAAAACAS0AAAAAAAEBEQAAAAAAAAFBAAAAAAAAAT0AAAAAAAIBDQAAAAAAAAFBAAAAAAAAATkAAAAAAAIBDQAAAAAAAAC5AAAAAAACASkAAAAAAAMBEQAAAAAAAgExAAAAAAADAQ0AAAAAAAABMQAAAAAAAgEBAAAAAAAAAAEAAAAAAAIBGQAAAAAAAgExAAAAAAABAQUAAAAAAAIBCQAAAAAAAAERAAAAAAAAAOkAAAAAAAMBCQAAAAAAAAExAAAAAAACAUUAAAAAAAABIQAAAAAAAAFBAAAAAAADAS0AAAAAAAABJQAAAAAAAwE9AAAAAAACAT0AAAAAAAEBEQAAAAAAAACBAAAAAAAAATEAAAAAAAIBCQAAAAAAAgEpAAAAAAAAARUAAAAAAAIBLQAAAAAAAACZAAAAAAACAQEAAAAAAAIBEQAAAAAAAwE5AAAAAAAAAP0AAAAAAAABCQAAAAAAAgEZAAAAAAADAQkAAAAAAAABKQAAAAAAAwFFAAAAAAACgUUAAAAAAAIBHQAAAAAAAQEhAAAAAAABATUAAAAAAAIBKQAAAAAAAQFJAAAAAAAAAUkAAAAAAAEBHQAAAAAAAAE1AAAAAAABATEAAAAAAAABCQAAAAAAAAElAAAAAAAAARUAAAAAAAIBIQAAAAAAAAEZAAAAAAAAARUAAAAAAAABDQAAAAAAAgEtAAAAAAAAAQkAAAAAAAABEQAAAAAAAAEpAAAAAAAAARUAAAAAAAABSQAAAAAAAQE5AAAAAAADAUEAAAAAAAIBGQAAAAAAAAExAAAAAAAAARkAAAAAAAIBKQAAAAAAAwFFAAAAAAABAT0AAAAAAAEBHQAAAAAAAgDJAAAAAAACAUEAAAAAAAABIQAAAAAAAAExAAAAAAACARkAAAAAAAIBLQAAAAAAAgERAAAAAAACAQUAAAAAAAABCQAAAAAAAgENAAAAAAACAQkAAAAAAAIBDQAAAAAAAAEZAAAAAAAAAP0AAAAAAAEBTQAAAAAAAgEZAAAAAAABASUAAAAAAAEBDQAAAAAAAAEVAAAAAAAAAN0AAAAAAAABIQAAAAAAAgFVAAAAAAACARUAAAAAAAAAmQAAAAAAAgElAAAAAAACAR0AAAAAAAIBLQAAAAAAAAEVAAAAAAACAREAAAAAAAEBDQAAAAAAAgElA",
        "encoding": "base64",
        "path": [
         "_data",
         0,
         "y",
         "value"
        ]
       },
       {
        "data": "AAAAAAAAAAAAAAEAAAAAAAAAAAAAAAAAAAAAAAAAAAAAAAAAAAAAAAAAAAAAAAAAAAEAAQEAAAABAAAAAAAAAAABAAEAAAAAAAAAAQAAAAAAAAAAAAAAAAAAAAAAAAEAAAAAAAAAAAAAAAAAAAAAAAAAAAAA",
        "encoding": "base64",
        "path": [
         "_data",
         1,
         "line",
         "color",
         "value"
        ]
       }
      ],
      "model_module": "plotlywidget",
      "model_module_version": "1.5.4",
      "model_name": "FigureModel",
      "state": {
       "_config": {
        "plotlyServerURL": "https://plot.ly"
       },
       "_data": [
        {
         "marker": {
          "cmax": 2.5,
          "cmin": -0.5,
          "color": {
           "dtype": "uint8",
           "shape": [
            117
           ],
           "value": {}
          },
          "colorbar": {
           "ticktext": [
            "None",
            "Red",
            "Blue"
           ],
           "tickvals": [
            0,
            1,
            2
           ]
          },
          "colorscale": [
           [
            0,
            "#ED6A24"
           ],
           [
            0.33,
            "#ED6A24"
           ],
           [
            0.33,
            "#A02A61"
           ],
           [
            0.66,
            "#A02A61"
           ],
           [
            0.66,
            "#2C0C50"
           ],
           [
            1,
            "#2C0C50"
           ]
          ],
          "showscale": true
         },
         "mode": "markers",
         "selectedpoints": [
          10,
          49,
          51,
          52,
          56,
          65,
          67,
          75,
          94
         ],
         "type": "scatter",
         "uid": "ac4bf03d-4bd9-4d07-a9e4-5238d1a56117",
         "x": [
          70,
          88,
          214,
          126,
          153,
          39,
          37,
          146,
          39,
          136,
          317,
          39,
          52,
          166,
          3,
          130,
          106,
          27,
          128,
          34,
          9,
          20,
          19,
          29,
          32,
          155,
          158,
          141,
          148,
          57,
          41,
          150,
          81,
          162,
          190,
          72,
          132,
          174,
          3,
          155,
          183,
          65,
          131,
          84,
          21,
          22,
          43,
          30,
          56,
          302,
          151,
          246,
          214,
          85,
          76,
          192,
          228,
          174,
          204,
          98,
          137,
          138,
          1,
          176,
          163,
          217,
          57,
          268,
          8,
          19,
          68,
          34,
          652,
          674,
          584,
          411,
          343,
          574,
          396,
          566,
          657,
          110,
          342,
          264,
          510,
          176,
          2,
          419,
          194,
          757,
          68,
          805,
          12,
          105,
          367,
          93,
          39,
          47,
          65,
          33,
          21,
          54,
          26,
          30,
          59,
          7,
          99,
          5,
          75,
          3,
          15,
          5,
          98,
          56,
          3,
          32,
          13
         ],
         "y": {
          "dtype": "float64",
          "shape": [
           117
          ],
          "value": {}
         }
        },
        {
         "dimensions": [
          {
           "label": "year",
           "values": [
            2016,
            2016,
            2016,
            2016,
            2016,
            2016,
            2016,
            2016,
            2016,
            2016,
            2016,
            2016,
            2016,
            2016,
            2016,
            2016,
            2016,
            2016,
            2016,
            2016,
            2016,
            2016,
            2016,
            2016,
            2017,
            2017,
            2017,
            2017,
            2017,
            2017,
            2017,
            2017,
            2017,
            2017,
            2017,
            2017,
            2017,
            2017,
            2017,
            2017,
            2017,
            2017,
            2017,
            2017,
            2017,
            2017,
            2017,
            2017,
            2018,
            2018,
            2018,
            2018,
            2018,
            2018,
            2018,
            2018,
            2018,
            2018,
            2018,
            2018,
            2018,
            2018,
            2018,
            2018,
            2018,
            2018,
            2018,
            2018,
            2018,
            2018,
            2018,
            2018,
            2019,
            2019,
            2019,
            2019,
            2019,
            2019,
            2019,
            2019,
            2019,
            2019,
            2019,
            2019,
            2019,
            2019,
            2019,
            2019,
            2019,
            2019,
            2019,
            2019,
            2019,
            2019,
            2019,
            2019,
            2020,
            2020,
            2020,
            2020,
            2020,
            2020,
            2020,
            2020,
            2020,
            2020,
            2020,
            2020,
            2020,
            2020,
            2020,
            2020,
            2020,
            2020,
            2020,
            2020,
            2020
           ]
          },
          {
           "label": "genre",
           "values": [
            "edm",
            "edm",
            "edm",
            "edm",
            "latin",
            "latin",
            "latin",
            "latin",
            "pop",
            "pop",
            "pop",
            "pop",
            "r&b",
            "r&b",
            "r&b",
            "r&b",
            "rap",
            "rap",
            "rap",
            "rap",
            "rock",
            "rock",
            "rock",
            "rock",
            "edm",
            "edm",
            "edm",
            "edm",
            "latin",
            "latin",
            "latin",
            "latin",
            "pop",
            "pop",
            "pop",
            "pop",
            "r&b",
            "r&b",
            "r&b",
            "r&b",
            "rap",
            "rap",
            "rap",
            "rap",
            "rock",
            "rock",
            "rock",
            "rock",
            "edm",
            "edm",
            "edm",
            "edm",
            "latin",
            "latin",
            "latin",
            "latin",
            "pop",
            "pop",
            "pop",
            "pop",
            "r&b",
            "r&b",
            "r&b",
            "r&b",
            "rap",
            "rap",
            "rap",
            "rap",
            "rock",
            "rock",
            "rock",
            "rock",
            "edm",
            "edm",
            "edm",
            "edm",
            "latin",
            "latin",
            "latin",
            "latin",
            "pop",
            "pop",
            "pop",
            "pop",
            "r&b",
            "r&b",
            "r&b",
            "r&b",
            "rap",
            "rap",
            "rap",
            "rap",
            "rock",
            "rock",
            "rock",
            "rock",
            "edm",
            "edm",
            "edm",
            "edm",
            "latin",
            "latin",
            "latin",
            "latin",
            "pop",
            "pop",
            "pop",
            "pop",
            "r&b",
            "r&b",
            "r&b",
            "rap",
            "rap",
            "rap",
            "rock",
            "rock",
            "rock"
           ]
          },
          {
           "label": "subgenre",
           "values": [
            "big room",
            "electro house",
            "pop edm",
            "progressive electro house",
            "latin hip hop",
            "latin pop",
            "reggaeton",
            "tropical",
            "dance pop",
            "electropop",
            "indie poptimism",
            "post-teen pop",
            "hip pop",
            "neo soul",
            "new jack swing",
            "urban contemporary",
            "gangster rap",
            "hip hop",
            "southern hip hop",
            "trap",
            "album rock",
            "classic rock",
            "hard rock",
            "permanent wave",
            "big room",
            "electro house",
            "pop edm",
            "progressive electro house",
            "latin hip hop",
            "latin pop",
            "reggaeton",
            "tropical",
            "dance pop",
            "electropop",
            "indie poptimism",
            "post-teen pop",
            "hip pop",
            "neo soul",
            "new jack swing",
            "urban contemporary",
            "gangster rap",
            "hip hop",
            "southern hip hop",
            "trap",
            "album rock",
            "classic rock",
            "hard rock",
            "permanent wave",
            "big room",
            "electro house",
            "pop edm",
            "progressive electro house",
            "latin hip hop",
            "latin pop",
            "reggaeton",
            "tropical",
            "dance pop",
            "electropop",
            "indie poptimism",
            "post-teen pop",
            "hip pop",
            "neo soul",
            "new jack swing",
            "urban contemporary",
            "gangster rap",
            "hip hop",
            "southern hip hop",
            "trap",
            "album rock",
            "classic rock",
            "hard rock",
            "permanent wave",
            "big room",
            "electro house",
            "pop edm",
            "progressive electro house",
            "latin hip hop",
            "latin pop",
            "reggaeton",
            "tropical",
            "dance pop",
            "electropop",
            "indie poptimism",
            "post-teen pop",
            "hip pop",
            "neo soul",
            "new jack swing",
            "urban contemporary",
            "gangster rap",
            "hip hop",
            "southern hip hop",
            "trap",
            "album rock",
            "classic rock",
            "hard rock",
            "permanent wave",
            "big room",
            "electro house",
            "pop edm",
            "progressive electro house",
            "latin hip hop",
            "latin pop",
            "reggaeton",
            "tropical",
            "dance pop",
            "electropop",
            "indie poptimism",
            "post-teen pop",
            "hip pop",
            "neo soul",
            "urban contemporary",
            "gangster rap",
            "hip hop",
            "trap",
            "classic rock",
            "hard rock",
            "permanent wave"
           ]
          }
         ],
         "domain": {
          "y": [
           0,
           0.4
          ]
         },
         "line": {
          "cmax": 2.5,
          "cmin": -0.5,
          "color": {
           "dtype": "uint8",
           "shape": [
            117
           ],
           "value": {}
          },
          "colorscale": [
           [
            0,
            "#ED6A24"
           ],
           [
            0.33,
            "#ED6A24"
           ],
           [
            0.33,
            "#A02A61"
           ],
           [
            0.66,
            "#A02A61"
           ],
           [
            0.66,
            "#2C0C50"
           ],
           [
            1,
            "#2C0C50"
           ]
          ],
          "shape": "hspline"
         },
         "type": "parcats",
         "uid": "7cbf4dbf-a696-4267-8dea-ca9d5fc3fd9a"
        }
       ],
       "_js2py_restyle": {},
       "_js2py_update": {},
       "_last_layout_edit_id": 4,
       "_last_trace_edit_id": 3,
       "_layout": {
        "autosize": true,
        "dragmode": "lasso",
        "height": 800,
        "hovermode": "closest",
        "template": {
         "data": {
          "bar": [
           {
            "error_x": {
             "color": "#2a3f5f"
            },
            "error_y": {
             "color": "#2a3f5f"
            },
            "marker": {
             "line": {
              "color": "#E5ECF6",
              "width": 0.5
             }
            },
            "type": "bar"
           }
          ],
          "barpolar": [
           {
            "marker": {
             "line": {
              "color": "#E5ECF6",
              "width": 0.5
             }
            },
            "type": "barpolar"
           }
          ],
          "carpet": [
           {
            "aaxis": {
             "endlinecolor": "#2a3f5f",
             "gridcolor": "white",
             "linecolor": "white",
             "minorgridcolor": "white",
             "startlinecolor": "#2a3f5f"
            },
            "baxis": {
             "endlinecolor": "#2a3f5f",
             "gridcolor": "white",
             "linecolor": "white",
             "minorgridcolor": "white",
             "startlinecolor": "#2a3f5f"
            },
            "type": "carpet"
           }
          ],
          "choropleth": [
           {
            "colorbar": {
             "outlinewidth": 0,
             "ticks": ""
            },
            "type": "choropleth"
           }
          ],
          "contour": [
           {
            "colorbar": {
             "outlinewidth": 0,
             "ticks": ""
            },
            "colorscale": [
             [
              0,
              "#0d0887"
             ],
             [
              0.1111111111111111,
              "#46039f"
             ],
             [
              0.2222222222222222,
              "#7201a8"
             ],
             [
              0.3333333333333333,
              "#9c179e"
             ],
             [
              0.4444444444444444,
              "#bd3786"
             ],
             [
              0.5555555555555556,
              "#d8576b"
             ],
             [
              0.6666666666666666,
              "#ed7953"
             ],
             [
              0.7777777777777778,
              "#fb9f3a"
             ],
             [
              0.8888888888888888,
              "#fdca26"
             ],
             [
              1,
              "#f0f921"
             ]
            ],
            "type": "contour"
           }
          ],
          "contourcarpet": [
           {
            "colorbar": {
             "outlinewidth": 0,
             "ticks": ""
            },
            "type": "contourcarpet"
           }
          ],
          "heatmap": [
           {
            "colorbar": {
             "outlinewidth": 0,
             "ticks": ""
            },
            "colorscale": [
             [
              0,
              "#0d0887"
             ],
             [
              0.1111111111111111,
              "#46039f"
             ],
             [
              0.2222222222222222,
              "#7201a8"
             ],
             [
              0.3333333333333333,
              "#9c179e"
             ],
             [
              0.4444444444444444,
              "#bd3786"
             ],
             [
              0.5555555555555556,
              "#d8576b"
             ],
             [
              0.6666666666666666,
              "#ed7953"
             ],
             [
              0.7777777777777778,
              "#fb9f3a"
             ],
             [
              0.8888888888888888,
              "#fdca26"
             ],
             [
              1,
              "#f0f921"
             ]
            ],
            "type": "heatmap"
           }
          ],
          "heatmapgl": [
           {
            "colorbar": {
             "outlinewidth": 0,
             "ticks": ""
            },
            "colorscale": [
             [
              0,
              "#0d0887"
             ],
             [
              0.1111111111111111,
              "#46039f"
             ],
             [
              0.2222222222222222,
              "#7201a8"
             ],
             [
              0.3333333333333333,
              "#9c179e"
             ],
             [
              0.4444444444444444,
              "#bd3786"
             ],
             [
              0.5555555555555556,
              "#d8576b"
             ],
             [
              0.6666666666666666,
              "#ed7953"
             ],
             [
              0.7777777777777778,
              "#fb9f3a"
             ],
             [
              0.8888888888888888,
              "#fdca26"
             ],
             [
              1,
              "#f0f921"
             ]
            ],
            "type": "heatmapgl"
           }
          ],
          "histogram": [
           {
            "marker": {
             "colorbar": {
              "outlinewidth": 0,
              "ticks": ""
             }
            },
            "type": "histogram"
           }
          ],
          "histogram2d": [
           {
            "colorbar": {
             "outlinewidth": 0,
             "ticks": ""
            },
            "colorscale": [
             [
              0,
              "#0d0887"
             ],
             [
              0.1111111111111111,
              "#46039f"
             ],
             [
              0.2222222222222222,
              "#7201a8"
             ],
             [
              0.3333333333333333,
              "#9c179e"
             ],
             [
              0.4444444444444444,
              "#bd3786"
             ],
             [
              0.5555555555555556,
              "#d8576b"
             ],
             [
              0.6666666666666666,
              "#ed7953"
             ],
             [
              0.7777777777777778,
              "#fb9f3a"
             ],
             [
              0.8888888888888888,
              "#fdca26"
             ],
             [
              1,
              "#f0f921"
             ]
            ],
            "type": "histogram2d"
           }
          ],
          "histogram2dcontour": [
           {
            "colorbar": {
             "outlinewidth": 0,
             "ticks": ""
            },
            "colorscale": [
             [
              0,
              "#0d0887"
             ],
             [
              0.1111111111111111,
              "#46039f"
             ],
             [
              0.2222222222222222,
              "#7201a8"
             ],
             [
              0.3333333333333333,
              "#9c179e"
             ],
             [
              0.4444444444444444,
              "#bd3786"
             ],
             [
              0.5555555555555556,
              "#d8576b"
             ],
             [
              0.6666666666666666,
              "#ed7953"
             ],
             [
              0.7777777777777778,
              "#fb9f3a"
             ],
             [
              0.8888888888888888,
              "#fdca26"
             ],
             [
              1,
              "#f0f921"
             ]
            ],
            "type": "histogram2dcontour"
           }
          ],
          "mesh3d": [
           {
            "colorbar": {
             "outlinewidth": 0,
             "ticks": ""
            },
            "type": "mesh3d"
           }
          ],
          "parcoords": [
           {
            "line": {
             "colorbar": {
              "outlinewidth": 0,
              "ticks": ""
             }
            },
            "type": "parcoords"
           }
          ],
          "pie": [
           {
            "automargin": true,
            "type": "pie"
           }
          ],
          "scatter": [
           {
            "marker": {
             "colorbar": {
              "outlinewidth": 0,
              "ticks": ""
             }
            },
            "type": "scatter"
           }
          ],
          "scatter3d": [
           {
            "line": {
             "colorbar": {
              "outlinewidth": 0,
              "ticks": ""
             }
            },
            "marker": {
             "colorbar": {
              "outlinewidth": 0,
              "ticks": ""
             }
            },
            "type": "scatter3d"
           }
          ],
          "scattercarpet": [
           {
            "marker": {
             "colorbar": {
              "outlinewidth": 0,
              "ticks": ""
             }
            },
            "type": "scattercarpet"
           }
          ],
          "scattergeo": [
           {
            "marker": {
             "colorbar": {
              "outlinewidth": 0,
              "ticks": ""
             }
            },
            "type": "scattergeo"
           }
          ],
          "scattergl": [
           {
            "marker": {
             "colorbar": {
              "outlinewidth": 0,
              "ticks": ""
             }
            },
            "type": "scattergl"
           }
          ],
          "scattermapbox": [
           {
            "marker": {
             "colorbar": {
              "outlinewidth": 0,
              "ticks": ""
             }
            },
            "type": "scattermapbox"
           }
          ],
          "scatterpolar": [
           {
            "marker": {
             "colorbar": {
              "outlinewidth": 0,
              "ticks": ""
             }
            },
            "type": "scatterpolar"
           }
          ],
          "scatterpolargl": [
           {
            "marker": {
             "colorbar": {
              "outlinewidth": 0,
              "ticks": ""
             }
            },
            "type": "scatterpolargl"
           }
          ],
          "scatterternary": [
           {
            "marker": {
             "colorbar": {
              "outlinewidth": 0,
              "ticks": ""
             }
            },
            "type": "scatterternary"
           }
          ],
          "surface": [
           {
            "colorbar": {
             "outlinewidth": 0,
             "ticks": ""
            },
            "colorscale": [
             [
              0,
              "#0d0887"
             ],
             [
              0.1111111111111111,
              "#46039f"
             ],
             [
              0.2222222222222222,
              "#7201a8"
             ],
             [
              0.3333333333333333,
              "#9c179e"
             ],
             [
              0.4444444444444444,
              "#bd3786"
             ],
             [
              0.5555555555555556,
              "#d8576b"
             ],
             [
              0.6666666666666666,
              "#ed7953"
             ],
             [
              0.7777777777777778,
              "#fb9f3a"
             ],
             [
              0.8888888888888888,
              "#fdca26"
             ],
             [
              1,
              "#f0f921"
             ]
            ],
            "type": "surface"
           }
          ],
          "table": [
           {
            "cells": {
             "fill": {
              "color": "#EBF0F8"
             },
             "line": {
              "color": "white"
             }
            },
            "header": {
             "fill": {
              "color": "#C8D4E3"
             },
             "line": {
              "color": "white"
             }
            },
            "type": "table"
           }
          ]
         },
         "layout": {
          "annotationdefaults": {
           "arrowcolor": "#2a3f5f",
           "arrowhead": 0,
           "arrowwidth": 1
          },
          "coloraxis": {
           "colorbar": {
            "outlinewidth": 0,
            "ticks": ""
           }
          },
          "colorscale": {
           "diverging": [
            [
             0,
             "#8e0152"
            ],
            [
             0.1,
             "#c51b7d"
            ],
            [
             0.2,
             "#de77ae"
            ],
            [
             0.3,
             "#f1b6da"
            ],
            [
             0.4,
             "#fde0ef"
            ],
            [
             0.5,
             "#f7f7f7"
            ],
            [
             0.6,
             "#e6f5d0"
            ],
            [
             0.7,
             "#b8e186"
            ],
            [
             0.8,
             "#7fbc41"
            ],
            [
             0.9,
             "#4d9221"
            ],
            [
             1,
             "#276419"
            ]
           ],
           "sequential": [
            [
             0,
             "#0d0887"
            ],
            [
             0.1111111111111111,
             "#46039f"
            ],
            [
             0.2222222222222222,
             "#7201a8"
            ],
            [
             0.3333333333333333,
             "#9c179e"
            ],
            [
             0.4444444444444444,
             "#bd3786"
            ],
            [
             0.5555555555555556,
             "#d8576b"
            ],
            [
             0.6666666666666666,
             "#ed7953"
            ],
            [
             0.7777777777777778,
             "#fb9f3a"
            ],
            [
             0.8888888888888888,
             "#fdca26"
            ],
            [
             1,
             "#f0f921"
            ]
           ],
           "sequentialminus": [
            [
             0,
             "#0d0887"
            ],
            [
             0.1111111111111111,
             "#46039f"
            ],
            [
             0.2222222222222222,
             "#7201a8"
            ],
            [
             0.3333333333333333,
             "#9c179e"
            ],
            [
             0.4444444444444444,
             "#bd3786"
            ],
            [
             0.5555555555555556,
             "#d8576b"
            ],
            [
             0.6666666666666666,
             "#ed7953"
            ],
            [
             0.7777777777777778,
             "#fb9f3a"
            ],
            [
             0.8888888888888888,
             "#fdca26"
            ],
            [
             1,
             "#f0f921"
            ]
           ]
          },
          "colorway": [
           "#636efa",
           "#EF553B",
           "#00cc96",
           "#ab63fa",
           "#FFA15A",
           "#19d3f3",
           "#FF6692",
           "#B6E880",
           "#FF97FF",
           "#FECB52"
          ],
          "font": {
           "color": "#2a3f5f"
          },
          "geo": {
           "bgcolor": "white",
           "lakecolor": "white",
           "landcolor": "#E5ECF6",
           "showlakes": true,
           "showland": true,
           "subunitcolor": "white"
          },
          "hoverlabel": {
           "align": "left"
          },
          "hovermode": "closest",
          "mapbox": {
           "style": "light"
          },
          "paper_bgcolor": "white",
          "plot_bgcolor": "#E5ECF6",
          "polar": {
           "angularaxis": {
            "gridcolor": "white",
            "linecolor": "white",
            "ticks": ""
           },
           "bgcolor": "#E5ECF6",
           "radialaxis": {
            "gridcolor": "white",
            "linecolor": "white",
            "ticks": ""
           }
          },
          "scene": {
           "xaxis": {
            "backgroundcolor": "#E5ECF6",
            "gridcolor": "white",
            "gridwidth": 2,
            "linecolor": "white",
            "showbackground": true,
            "ticks": "",
            "zerolinecolor": "white"
           },
           "yaxis": {
            "backgroundcolor": "#E5ECF6",
            "gridcolor": "white",
            "gridwidth": 2,
            "linecolor": "white",
            "showbackground": true,
            "ticks": "",
            "zerolinecolor": "white"
           },
           "zaxis": {
            "backgroundcolor": "#E5ECF6",
            "gridcolor": "white",
            "gridwidth": 2,
            "linecolor": "white",
            "showbackground": true,
            "ticks": "",
            "zerolinecolor": "white"
           }
          },
          "shapedefaults": {
           "line": {
            "color": "#2a3f5f"
           }
          },
          "ternary": {
           "aaxis": {
            "gridcolor": "white",
            "linecolor": "white",
            "ticks": ""
           },
           "baxis": {
            "gridcolor": "white",
            "linecolor": "white",
            "ticks": ""
           },
           "bgcolor": "#E5ECF6",
           "caxis": {
            "gridcolor": "white",
            "linecolor": "white",
            "ticks": ""
           }
          },
          "title": {
           "x": 0.05
          },
          "xaxis": {
           "automargin": true,
           "gridcolor": "white",
           "linecolor": "white",
           "ticks": "",
           "title": {
            "standoff": 15
           },
           "zerolinecolor": "white",
           "zerolinewidth": 2
          },
          "yaxis": {
           "automargin": true,
           "gridcolor": "white",
           "linecolor": "white",
           "ticks": "",
           "title": {
            "standoff": 15
           },
           "zerolinecolor": "white",
           "zerolinewidth": 2
          }
         }
        },
        "xaxis": {
         "title": {
          "text": "Count"
         }
        },
        "yaxis": {
         "domain": [
          0.6,
          1
         ],
         "title": {
          "text": "Popularity"
         }
        }
       },
       "_model_module_version": "1.5.4",
       "_py2js_addTraces": {},
       "_py2js_animate": {},
       "_py2js_deleteTraces": {},
       "_py2js_moveTraces": {},
       "_py2js_removeLayoutProps": {},
       "_py2js_removeTraceProps": {},
       "_view_count": 0,
       "_view_module_version": "1.5.4"
      }
     },
     "55e8f5e4ef0c49d49734c03ffb860bf5": {
      "model_module": "@jupyter-widgets/controls",
      "model_module_version": "1.5.0",
      "model_name": "ToggleButtonsStyleModel",
      "state": {
       "button_width": "",
       "description_width": ""
      }
     },
     "586ab44718fa41e6ab638c6b314d68a0": {
      "buffers": [
       {
        "data": "AAAAAAAAAAAAAAEAAAAAAQAAAAAAAAAAAAAAAAAAAAAAAQEAAAAAAQAAAAAAAAAAAAEAAAEAAAEBAQEAAAAAAQABAAEAAAAAAAAAAQAAAAEAAAEAAAEAAAEAAAAAAAEAAAAAAAAAAAAAAAAAAAAAAAAAAAAA",
        "encoding": "base64",
        "path": [
         "_data",
         0,
         "marker",
         "color",
         "value"
        ]
       },
       {
        "data": "AAAAAACAOkAAAAAAAABCQAAAAAAAwENAAAAAAAAAMkAAAAAAAIBEQAAAAAAAgE1AAAAAAACAS0AAAAAAAEBEQAAAAAAAAFBAAAAAAAAAT0AAAAAAAIBDQAAAAAAAAFBAAAAAAAAATkAAAAAAAIBDQAAAAAAAAC5AAAAAAACASkAAAAAAAMBEQAAAAAAAgExAAAAAAADAQ0AAAAAAAABMQAAAAAAAgEBAAAAAAAAAAEAAAAAAAIBGQAAAAAAAgExAAAAAAABAQUAAAAAAAIBCQAAAAAAAAERAAAAAAAAAOkAAAAAAAMBCQAAAAAAAAExAAAAAAACAUUAAAAAAAABIQAAAAAAAAFBAAAAAAADAS0AAAAAAAABJQAAAAAAAwE9AAAAAAACAT0AAAAAAAEBEQAAAAAAAACBAAAAAAAAATEAAAAAAAIBCQAAAAAAAgEpAAAAAAAAARUAAAAAAAIBLQAAAAAAAACZAAAAAAACAQEAAAAAAAIBEQAAAAAAAwE5AAAAAAAAAP0AAAAAAAABCQAAAAAAAgEZAAAAAAADAQkAAAAAAAABKQAAAAAAAwFFAAAAAAACgUUAAAAAAAIBHQAAAAAAAQEhAAAAAAABATUAAAAAAAIBKQAAAAAAAQFJAAAAAAAAAUkAAAAAAAEBHQAAAAAAAAE1AAAAAAABATEAAAAAAAABCQAAAAAAAAElAAAAAAAAARUAAAAAAAIBIQAAAAAAAAEZAAAAAAAAARUAAAAAAAABDQAAAAAAAgEtAAAAAAAAAQkAAAAAAAABEQAAAAAAAAEpAAAAAAAAARUAAAAAAAABSQAAAAAAAQE5AAAAAAADAUEAAAAAAAIBGQAAAAAAAAExAAAAAAAAARkAAAAAAAIBKQAAAAAAAwFFAAAAAAABAT0AAAAAAAEBHQAAAAAAAgDJAAAAAAACAUEAAAAAAAABIQAAAAAAAAExAAAAAAACARkAAAAAAAIBLQAAAAAAAgERAAAAAAACAQUAAAAAAAABCQAAAAAAAgENAAAAAAACAQkAAAAAAAIBDQAAAAAAAAEZAAAAAAAAAP0AAAAAAAEBTQAAAAAAAgEZAAAAAAABASUAAAAAAAEBDQAAAAAAAAEVAAAAAAAAAN0AAAAAAAABIQAAAAAAAgFVAAAAAAACARUAAAAAAAAAmQAAAAAAAgElAAAAAAACAR0AAAAAAAIBLQAAAAAAAAEVAAAAAAACAREAAAAAAAEBDQAAAAAAAgElA",
        "encoding": "base64",
        "path": [
         "_data",
         0,
         "y",
         "value"
        ]
       },
       {
        "data": "AAAAAAAAAAAAAAEAAAAAAQAAAAAAAAAAAAAAAAAAAAAAAQEAAAAAAQAAAAAAAAAAAAEAAAEAAAEBAQEAAAAAAQABAAEAAAAAAAAAAQAAAAEAAAEAAAEAAAEAAAAAAAEAAAAAAAAAAAAAAAAAAAAAAAAAAAAA",
        "encoding": "base64",
        "path": [
         "_data",
         1,
         "line",
         "color",
         "value"
        ]
       }
      ],
      "model_module": "plotlywidget",
      "model_module_version": "1.5.4",
      "model_name": "FigureModel",
      "state": {
       "_config": {
        "plotlyServerURL": "https://plot.ly"
       },
       "_data": [
        {
         "marker": {
          "cmax": 2.5,
          "cmin": -0.5,
          "color": {
           "dtype": "uint8",
           "shape": [
            117
           ],
           "value": {}
          },
          "colorbar": {
           "ticktext": [
            "None",
            "Red",
            "Blue"
           ],
           "tickvals": [
            0,
            1,
            2
           ]
          },
          "colorscale": [
           [
            0,
            "#F7CF3B"
           ],
           [
            0.33,
            "#F7CF3B"
           ],
           [
            0.33,
            "#2FED68"
           ],
           [
            0.66,
            "#2FED68"
           ],
           [
            0.66,
            "#2C0C50"
           ],
           [
            1,
            "#2C0C50"
           ]
          ],
          "showscale": true
         },
         "mode": "markers",
         "selectedpoints": [
          10,
          15,
          33,
          34,
          39,
          49,
          52,
          55,
          56,
          57,
          58,
          63,
          65,
          67,
          75,
          79,
          82,
          85,
          88,
          94
         ],
         "type": "scatter",
         "uid": "1146d87d-800d-45c6-939e-646b79290dea",
         "x": [
          70,
          88,
          214,
          126,
          153,
          39,
          37,
          146,
          39,
          136,
          317,
          39,
          52,
          166,
          3,
          130,
          106,
          27,
          128,
          34,
          9,
          20,
          19,
          29,
          32,
          155,
          158,
          141,
          148,
          57,
          41,
          150,
          81,
          162,
          190,
          72,
          132,
          174,
          3,
          155,
          183,
          65,
          131,
          84,
          21,
          22,
          43,
          30,
          56,
          302,
          151,
          246,
          214,
          85,
          76,
          192,
          228,
          174,
          204,
          98,
          137,
          138,
          1,
          176,
          163,
          217,
          57,
          268,
          8,
          19,
          68,
          34,
          652,
          674,
          584,
          411,
          343,
          574,
          396,
          566,
          657,
          110,
          342,
          264,
          510,
          176,
          2,
          419,
          194,
          757,
          68,
          805,
          12,
          105,
          367,
          93,
          39,
          47,
          65,
          33,
          21,
          54,
          26,
          30,
          59,
          7,
          99,
          5,
          75,
          3,
          15,
          5,
          98,
          56,
          3,
          32,
          13
         ],
         "y": {
          "dtype": "float64",
          "shape": [
           117
          ],
          "value": {}
         }
        },
        {
         "dimensions": [
          {
           "label": "year",
           "values": [
            2016,
            2016,
            2016,
            2016,
            2016,
            2016,
            2016,
            2016,
            2016,
            2016,
            2016,
            2016,
            2016,
            2016,
            2016,
            2016,
            2016,
            2016,
            2016,
            2016,
            2016,
            2016,
            2016,
            2016,
            2017,
            2017,
            2017,
            2017,
            2017,
            2017,
            2017,
            2017,
            2017,
            2017,
            2017,
            2017,
            2017,
            2017,
            2017,
            2017,
            2017,
            2017,
            2017,
            2017,
            2017,
            2017,
            2017,
            2017,
            2018,
            2018,
            2018,
            2018,
            2018,
            2018,
            2018,
            2018,
            2018,
            2018,
            2018,
            2018,
            2018,
            2018,
            2018,
            2018,
            2018,
            2018,
            2018,
            2018,
            2018,
            2018,
            2018,
            2018,
            2019,
            2019,
            2019,
            2019,
            2019,
            2019,
            2019,
            2019,
            2019,
            2019,
            2019,
            2019,
            2019,
            2019,
            2019,
            2019,
            2019,
            2019,
            2019,
            2019,
            2019,
            2019,
            2019,
            2019,
            2020,
            2020,
            2020,
            2020,
            2020,
            2020,
            2020,
            2020,
            2020,
            2020,
            2020,
            2020,
            2020,
            2020,
            2020,
            2020,
            2020,
            2020,
            2020,
            2020,
            2020
           ]
          },
          {
           "label": "genre",
           "values": [
            "edm",
            "edm",
            "edm",
            "edm",
            "latin",
            "latin",
            "latin",
            "latin",
            "pop",
            "pop",
            "pop",
            "pop",
            "r&b",
            "r&b",
            "r&b",
            "r&b",
            "rap",
            "rap",
            "rap",
            "rap",
            "rock",
            "rock",
            "rock",
            "rock",
            "edm",
            "edm",
            "edm",
            "edm",
            "latin",
            "latin",
            "latin",
            "latin",
            "pop",
            "pop",
            "pop",
            "pop",
            "r&b",
            "r&b",
            "r&b",
            "r&b",
            "rap",
            "rap",
            "rap",
            "rap",
            "rock",
            "rock",
            "rock",
            "rock",
            "edm",
            "edm",
            "edm",
            "edm",
            "latin",
            "latin",
            "latin",
            "latin",
            "pop",
            "pop",
            "pop",
            "pop",
            "r&b",
            "r&b",
            "r&b",
            "r&b",
            "rap",
            "rap",
            "rap",
            "rap",
            "rock",
            "rock",
            "rock",
            "rock",
            "edm",
            "edm",
            "edm",
            "edm",
            "latin",
            "latin",
            "latin",
            "latin",
            "pop",
            "pop",
            "pop",
            "pop",
            "r&b",
            "r&b",
            "r&b",
            "r&b",
            "rap",
            "rap",
            "rap",
            "rap",
            "rock",
            "rock",
            "rock",
            "rock",
            "edm",
            "edm",
            "edm",
            "edm",
            "latin",
            "latin",
            "latin",
            "latin",
            "pop",
            "pop",
            "pop",
            "pop",
            "r&b",
            "r&b",
            "r&b",
            "rap",
            "rap",
            "rap",
            "rock",
            "rock",
            "rock"
           ]
          },
          {
           "label": "subgenre",
           "values": [
            "big room",
            "electro house",
            "pop edm",
            "progressive electro house",
            "latin hip hop",
            "latin pop",
            "reggaeton",
            "tropical",
            "dance pop",
            "electropop",
            "indie poptimism",
            "post-teen pop",
            "hip pop",
            "neo soul",
            "new jack swing",
            "urban contemporary",
            "gangster rap",
            "hip hop",
            "southern hip hop",
            "trap",
            "album rock",
            "classic rock",
            "hard rock",
            "permanent wave",
            "big room",
            "electro house",
            "pop edm",
            "progressive electro house",
            "latin hip hop",
            "latin pop",
            "reggaeton",
            "tropical",
            "dance pop",
            "electropop",
            "indie poptimism",
            "post-teen pop",
            "hip pop",
            "neo soul",
            "new jack swing",
            "urban contemporary",
            "gangster rap",
            "hip hop",
            "southern hip hop",
            "trap",
            "album rock",
            "classic rock",
            "hard rock",
            "permanent wave",
            "big room",
            "electro house",
            "pop edm",
            "progressive electro house",
            "latin hip hop",
            "latin pop",
            "reggaeton",
            "tropical",
            "dance pop",
            "electropop",
            "indie poptimism",
            "post-teen pop",
            "hip pop",
            "neo soul",
            "new jack swing",
            "urban contemporary",
            "gangster rap",
            "hip hop",
            "southern hip hop",
            "trap",
            "album rock",
            "classic rock",
            "hard rock",
            "permanent wave",
            "big room",
            "electro house",
            "pop edm",
            "progressive electro house",
            "latin hip hop",
            "latin pop",
            "reggaeton",
            "tropical",
            "dance pop",
            "electropop",
            "indie poptimism",
            "post-teen pop",
            "hip pop",
            "neo soul",
            "new jack swing",
            "urban contemporary",
            "gangster rap",
            "hip hop",
            "southern hip hop",
            "trap",
            "album rock",
            "classic rock",
            "hard rock",
            "permanent wave",
            "big room",
            "electro house",
            "pop edm",
            "progressive electro house",
            "latin hip hop",
            "latin pop",
            "reggaeton",
            "tropical",
            "dance pop",
            "electropop",
            "indie poptimism",
            "post-teen pop",
            "hip pop",
            "neo soul",
            "urban contemporary",
            "gangster rap",
            "hip hop",
            "trap",
            "classic rock",
            "hard rock",
            "permanent wave"
           ]
          }
         ],
         "domain": {
          "y": [
           0,
           0.4
          ]
         },
         "line": {
          "cmax": 2.5,
          "cmin": -0.5,
          "color": {
           "dtype": "uint8",
           "shape": [
            117
           ],
           "value": {}
          },
          "colorscale": [
           [
            0,
            "#F7CF3B"
           ],
           [
            0.33,
            "#F7CF3B"
           ],
           [
            0.33,
            "#2FED68"
           ],
           [
            0.66,
            "#2FED68"
           ],
           [
            0.66,
            "#2C0C50"
           ],
           [
            1,
            "#2C0C50"
           ]
          ],
          "shape": "hspline"
         },
         "type": "parcats",
         "uid": "5c445eae-5821-4633-bafa-47befebe9fd7"
        }
       ],
       "_js2py_restyle": {},
       "_js2py_update": {},
       "_last_layout_edit_id": 4,
       "_last_trace_edit_id": 3,
       "_layout": {
        "autosize": true,
        "dragmode": "lasso",
        "height": 800,
        "hovermode": "closest",
        "template": {
         "data": {
          "bar": [
           {
            "error_x": {
             "color": "#2a3f5f"
            },
            "error_y": {
             "color": "#2a3f5f"
            },
            "marker": {
             "line": {
              "color": "#E5ECF6",
              "width": 0.5
             }
            },
            "type": "bar"
           }
          ],
          "barpolar": [
           {
            "marker": {
             "line": {
              "color": "#E5ECF6",
              "width": 0.5
             }
            },
            "type": "barpolar"
           }
          ],
          "carpet": [
           {
            "aaxis": {
             "endlinecolor": "#2a3f5f",
             "gridcolor": "white",
             "linecolor": "white",
             "minorgridcolor": "white",
             "startlinecolor": "#2a3f5f"
            },
            "baxis": {
             "endlinecolor": "#2a3f5f",
             "gridcolor": "white",
             "linecolor": "white",
             "minorgridcolor": "white",
             "startlinecolor": "#2a3f5f"
            },
            "type": "carpet"
           }
          ],
          "choropleth": [
           {
            "colorbar": {
             "outlinewidth": 0,
             "ticks": ""
            },
            "type": "choropleth"
           }
          ],
          "contour": [
           {
            "colorbar": {
             "outlinewidth": 0,
             "ticks": ""
            },
            "colorscale": [
             [
              0,
              "#0d0887"
             ],
             [
              0.1111111111111111,
              "#46039f"
             ],
             [
              0.2222222222222222,
              "#7201a8"
             ],
             [
              0.3333333333333333,
              "#9c179e"
             ],
             [
              0.4444444444444444,
              "#bd3786"
             ],
             [
              0.5555555555555556,
              "#d8576b"
             ],
             [
              0.6666666666666666,
              "#ed7953"
             ],
             [
              0.7777777777777778,
              "#fb9f3a"
             ],
             [
              0.8888888888888888,
              "#fdca26"
             ],
             [
              1,
              "#f0f921"
             ]
            ],
            "type": "contour"
           }
          ],
          "contourcarpet": [
           {
            "colorbar": {
             "outlinewidth": 0,
             "ticks": ""
            },
            "type": "contourcarpet"
           }
          ],
          "heatmap": [
           {
            "colorbar": {
             "outlinewidth": 0,
             "ticks": ""
            },
            "colorscale": [
             [
              0,
              "#0d0887"
             ],
             [
              0.1111111111111111,
              "#46039f"
             ],
             [
              0.2222222222222222,
              "#7201a8"
             ],
             [
              0.3333333333333333,
              "#9c179e"
             ],
             [
              0.4444444444444444,
              "#bd3786"
             ],
             [
              0.5555555555555556,
              "#d8576b"
             ],
             [
              0.6666666666666666,
              "#ed7953"
             ],
             [
              0.7777777777777778,
              "#fb9f3a"
             ],
             [
              0.8888888888888888,
              "#fdca26"
             ],
             [
              1,
              "#f0f921"
             ]
            ],
            "type": "heatmap"
           }
          ],
          "heatmapgl": [
           {
            "colorbar": {
             "outlinewidth": 0,
             "ticks": ""
            },
            "colorscale": [
             [
              0,
              "#0d0887"
             ],
             [
              0.1111111111111111,
              "#46039f"
             ],
             [
              0.2222222222222222,
              "#7201a8"
             ],
             [
              0.3333333333333333,
              "#9c179e"
             ],
             [
              0.4444444444444444,
              "#bd3786"
             ],
             [
              0.5555555555555556,
              "#d8576b"
             ],
             [
              0.6666666666666666,
              "#ed7953"
             ],
             [
              0.7777777777777778,
              "#fb9f3a"
             ],
             [
              0.8888888888888888,
              "#fdca26"
             ],
             [
              1,
              "#f0f921"
             ]
            ],
            "type": "heatmapgl"
           }
          ],
          "histogram": [
           {
            "marker": {
             "colorbar": {
              "outlinewidth": 0,
              "ticks": ""
             }
            },
            "type": "histogram"
           }
          ],
          "histogram2d": [
           {
            "colorbar": {
             "outlinewidth": 0,
             "ticks": ""
            },
            "colorscale": [
             [
              0,
              "#0d0887"
             ],
             [
              0.1111111111111111,
              "#46039f"
             ],
             [
              0.2222222222222222,
              "#7201a8"
             ],
             [
              0.3333333333333333,
              "#9c179e"
             ],
             [
              0.4444444444444444,
              "#bd3786"
             ],
             [
              0.5555555555555556,
              "#d8576b"
             ],
             [
              0.6666666666666666,
              "#ed7953"
             ],
             [
              0.7777777777777778,
              "#fb9f3a"
             ],
             [
              0.8888888888888888,
              "#fdca26"
             ],
             [
              1,
              "#f0f921"
             ]
            ],
            "type": "histogram2d"
           }
          ],
          "histogram2dcontour": [
           {
            "colorbar": {
             "outlinewidth": 0,
             "ticks": ""
            },
            "colorscale": [
             [
              0,
              "#0d0887"
             ],
             [
              0.1111111111111111,
              "#46039f"
             ],
             [
              0.2222222222222222,
              "#7201a8"
             ],
             [
              0.3333333333333333,
              "#9c179e"
             ],
             [
              0.4444444444444444,
              "#bd3786"
             ],
             [
              0.5555555555555556,
              "#d8576b"
             ],
             [
              0.6666666666666666,
              "#ed7953"
             ],
             [
              0.7777777777777778,
              "#fb9f3a"
             ],
             [
              0.8888888888888888,
              "#fdca26"
             ],
             [
              1,
              "#f0f921"
             ]
            ],
            "type": "histogram2dcontour"
           }
          ],
          "mesh3d": [
           {
            "colorbar": {
             "outlinewidth": 0,
             "ticks": ""
            },
            "type": "mesh3d"
           }
          ],
          "parcoords": [
           {
            "line": {
             "colorbar": {
              "outlinewidth": 0,
              "ticks": ""
             }
            },
            "type": "parcoords"
           }
          ],
          "pie": [
           {
            "automargin": true,
            "type": "pie"
           }
          ],
          "scatter": [
           {
            "marker": {
             "colorbar": {
              "outlinewidth": 0,
              "ticks": ""
             }
            },
            "type": "scatter"
           }
          ],
          "scatter3d": [
           {
            "line": {
             "colorbar": {
              "outlinewidth": 0,
              "ticks": ""
             }
            },
            "marker": {
             "colorbar": {
              "outlinewidth": 0,
              "ticks": ""
             }
            },
            "type": "scatter3d"
           }
          ],
          "scattercarpet": [
           {
            "marker": {
             "colorbar": {
              "outlinewidth": 0,
              "ticks": ""
             }
            },
            "type": "scattercarpet"
           }
          ],
          "scattergeo": [
           {
            "marker": {
             "colorbar": {
              "outlinewidth": 0,
              "ticks": ""
             }
            },
            "type": "scattergeo"
           }
          ],
          "scattergl": [
           {
            "marker": {
             "colorbar": {
              "outlinewidth": 0,
              "ticks": ""
             }
            },
            "type": "scattergl"
           }
          ],
          "scattermapbox": [
           {
            "marker": {
             "colorbar": {
              "outlinewidth": 0,
              "ticks": ""
             }
            },
            "type": "scattermapbox"
           }
          ],
          "scatterpolar": [
           {
            "marker": {
             "colorbar": {
              "outlinewidth": 0,
              "ticks": ""
             }
            },
            "type": "scatterpolar"
           }
          ],
          "scatterpolargl": [
           {
            "marker": {
             "colorbar": {
              "outlinewidth": 0,
              "ticks": ""
             }
            },
            "type": "scatterpolargl"
           }
          ],
          "scatterternary": [
           {
            "marker": {
             "colorbar": {
              "outlinewidth": 0,
              "ticks": ""
             }
            },
            "type": "scatterternary"
           }
          ],
          "surface": [
           {
            "colorbar": {
             "outlinewidth": 0,
             "ticks": ""
            },
            "colorscale": [
             [
              0,
              "#0d0887"
             ],
             [
              0.1111111111111111,
              "#46039f"
             ],
             [
              0.2222222222222222,
              "#7201a8"
             ],
             [
              0.3333333333333333,
              "#9c179e"
             ],
             [
              0.4444444444444444,
              "#bd3786"
             ],
             [
              0.5555555555555556,
              "#d8576b"
             ],
             [
              0.6666666666666666,
              "#ed7953"
             ],
             [
              0.7777777777777778,
              "#fb9f3a"
             ],
             [
              0.8888888888888888,
              "#fdca26"
             ],
             [
              1,
              "#f0f921"
             ]
            ],
            "type": "surface"
           }
          ],
          "table": [
           {
            "cells": {
             "fill": {
              "color": "#EBF0F8"
             },
             "line": {
              "color": "white"
             }
            },
            "header": {
             "fill": {
              "color": "#C8D4E3"
             },
             "line": {
              "color": "white"
             }
            },
            "type": "table"
           }
          ]
         },
         "layout": {
          "annotationdefaults": {
           "arrowcolor": "#2a3f5f",
           "arrowhead": 0,
           "arrowwidth": 1
          },
          "coloraxis": {
           "colorbar": {
            "outlinewidth": 0,
            "ticks": ""
           }
          },
          "colorscale": {
           "diverging": [
            [
             0,
             "#8e0152"
            ],
            [
             0.1,
             "#c51b7d"
            ],
            [
             0.2,
             "#de77ae"
            ],
            [
             0.3,
             "#f1b6da"
            ],
            [
             0.4,
             "#fde0ef"
            ],
            [
             0.5,
             "#f7f7f7"
            ],
            [
             0.6,
             "#e6f5d0"
            ],
            [
             0.7,
             "#b8e186"
            ],
            [
             0.8,
             "#7fbc41"
            ],
            [
             0.9,
             "#4d9221"
            ],
            [
             1,
             "#276419"
            ]
           ],
           "sequential": [
            [
             0,
             "#0d0887"
            ],
            [
             0.1111111111111111,
             "#46039f"
            ],
            [
             0.2222222222222222,
             "#7201a8"
            ],
            [
             0.3333333333333333,
             "#9c179e"
            ],
            [
             0.4444444444444444,
             "#bd3786"
            ],
            [
             0.5555555555555556,
             "#d8576b"
            ],
            [
             0.6666666666666666,
             "#ed7953"
            ],
            [
             0.7777777777777778,
             "#fb9f3a"
            ],
            [
             0.8888888888888888,
             "#fdca26"
            ],
            [
             1,
             "#f0f921"
            ]
           ],
           "sequentialminus": [
            [
             0,
             "#0d0887"
            ],
            [
             0.1111111111111111,
             "#46039f"
            ],
            [
             0.2222222222222222,
             "#7201a8"
            ],
            [
             0.3333333333333333,
             "#9c179e"
            ],
            [
             0.4444444444444444,
             "#bd3786"
            ],
            [
             0.5555555555555556,
             "#d8576b"
            ],
            [
             0.6666666666666666,
             "#ed7953"
            ],
            [
             0.7777777777777778,
             "#fb9f3a"
            ],
            [
             0.8888888888888888,
             "#fdca26"
            ],
            [
             1,
             "#f0f921"
            ]
           ]
          },
          "colorway": [
           "#636efa",
           "#EF553B",
           "#00cc96",
           "#ab63fa",
           "#FFA15A",
           "#19d3f3",
           "#FF6692",
           "#B6E880",
           "#FF97FF",
           "#FECB52"
          ],
          "font": {
           "color": "#2a3f5f"
          },
          "geo": {
           "bgcolor": "white",
           "lakecolor": "white",
           "landcolor": "#E5ECF6",
           "showlakes": true,
           "showland": true,
           "subunitcolor": "white"
          },
          "hoverlabel": {
           "align": "left"
          },
          "hovermode": "closest",
          "mapbox": {
           "style": "light"
          },
          "paper_bgcolor": "white",
          "plot_bgcolor": "#E5ECF6",
          "polar": {
           "angularaxis": {
            "gridcolor": "white",
            "linecolor": "white",
            "ticks": ""
           },
           "bgcolor": "#E5ECF6",
           "radialaxis": {
            "gridcolor": "white",
            "linecolor": "white",
            "ticks": ""
           }
          },
          "scene": {
           "xaxis": {
            "backgroundcolor": "#E5ECF6",
            "gridcolor": "white",
            "gridwidth": 2,
            "linecolor": "white",
            "showbackground": true,
            "ticks": "",
            "zerolinecolor": "white"
           },
           "yaxis": {
            "backgroundcolor": "#E5ECF6",
            "gridcolor": "white",
            "gridwidth": 2,
            "linecolor": "white",
            "showbackground": true,
            "ticks": "",
            "zerolinecolor": "white"
           },
           "zaxis": {
            "backgroundcolor": "#E5ECF6",
            "gridcolor": "white",
            "gridwidth": 2,
            "linecolor": "white",
            "showbackground": true,
            "ticks": "",
            "zerolinecolor": "white"
           }
          },
          "shapedefaults": {
           "line": {
            "color": "#2a3f5f"
           }
          },
          "ternary": {
           "aaxis": {
            "gridcolor": "white",
            "linecolor": "white",
            "ticks": ""
           },
           "baxis": {
            "gridcolor": "white",
            "linecolor": "white",
            "ticks": ""
           },
           "bgcolor": "#E5ECF6",
           "caxis": {
            "gridcolor": "white",
            "linecolor": "white",
            "ticks": ""
           }
          },
          "title": {
           "x": 0.05
          },
          "xaxis": {
           "automargin": true,
           "gridcolor": "white",
           "linecolor": "white",
           "ticks": "",
           "title": {
            "standoff": 15
           },
           "zerolinecolor": "white",
           "zerolinewidth": 2
          },
          "yaxis": {
           "automargin": true,
           "gridcolor": "white",
           "linecolor": "white",
           "ticks": "",
           "title": {
            "standoff": 15
           },
           "zerolinecolor": "white",
           "zerolinewidth": 2
          }
         }
        },
        "xaxis": {
         "title": {
          "text": "Count"
         }
        },
        "yaxis": {
         "domain": [
          0.6,
          1
         ],
         "title": {
          "text": "Popularity"
         }
        }
       },
       "_model_module_version": "1.5.4",
       "_py2js_addTraces": {},
       "_py2js_animate": {},
       "_py2js_deleteTraces": {},
       "_py2js_moveTraces": {},
       "_py2js_removeLayoutProps": {},
       "_py2js_removeTraceProps": {},
       "_view_count": 0,
       "_view_module_version": "1.5.4"
      }
     },
     "59c49ebd42e34c4bb95c50ae345b41d5": {
      "model_module": "@jupyter-widgets/controls",
      "model_module_version": "1.5.0",
      "model_name": "VBoxModel",
      "state": {
       "children": [
        "IPY_MODEL_c44e8dd36685489fbcadf5423c553c78",
        "IPY_MODEL_ec758d81f35f428ca047b8f373598127"
       ],
       "layout": "IPY_MODEL_b2e575000d464648bb5d70da13490339"
      }
     },
     "5ab817b3dc304f31b16395aa2fefd5a3": {
      "model_module": "@jupyter-widgets/base",
      "model_module_version": "1.2.0",
      "model_name": "LayoutModel",
      "state": {}
     },
     "5f1c9762ed8047e889132f08cd09b798": {
      "model_module": "@jupyter-widgets/controls",
      "model_module_version": "1.5.0",
      "model_name": "VBoxModel",
      "state": {
       "children": [
        "IPY_MODEL_a735700ec7ff49e6af9ca84bead7d891",
        "IPY_MODEL_63a250be99f846528bedaf92b63bc8c6"
       ],
       "layout": "IPY_MODEL_48c8d28af8a1422f8d51dccd0b2e2a12"
      }
     },
     "5f22a4673a4f4435839ca5be35ebdbd7": {
      "model_module": "@jupyter-widgets/base",
      "model_module_version": "1.2.0",
      "model_name": "LayoutModel",
      "state": {}
     },
     "637c30fff37f45d2b53537e595b67d1b": {
      "model_module": "@jupyter-widgets/controls",
      "model_module_version": "1.5.0",
      "model_name": "VBoxModel",
      "state": {
       "children": [
        "IPY_MODEL_dc72363be07b4add889123265f4a5cf5",
        "IPY_MODEL_c0939700ec7946fa9ca2eaeb4dd5b8f0"
       ],
       "layout": "IPY_MODEL_ffb171ad262b4c53b4ba0a4d9076884a"
      }
     },
     "63a250be99f846528bedaf92b63bc8c6": {
      "buffers": [
       {
        "data": "AAAAAAAAAAAAAAAAAAAAAAAAAAAAAAAAAAAAAAAAAAAAAAAAAAAAAAAAAAAAAAAAAAAAAAAAAAAAAAAAAAAAAAAAAAAAAAAAAAAAAAAAAAAAAAAAAAAAAAAAAAAAAAAAAAAAAAAAAAAAAAAAAAAAAAAAAAAA",
        "encoding": "base64",
        "path": [
         "_data",
         0,
         "marker",
         "color",
         "value"
        ]
       },
       {
        "data": "AAAAAACAOkAAAAAAAABCQAAAAAAAwENAAAAAAAAAMkAAAAAAAIBEQAAAAAAAgE1AAAAAAACAS0AAAAAAAEBEQAAAAAAAAFBAAAAAAAAAT0AAAAAAAIBDQAAAAAAAAFBAAAAAAAAATkAAAAAAAIBDQAAAAAAAAC5AAAAAAACASkAAAAAAAMBEQAAAAAAAgExAAAAAAADAQ0AAAAAAAABMQAAAAAAAgEBAAAAAAAAAAEAAAAAAAIBGQAAAAAAAgExAAAAAAABAQUAAAAAAAIBCQAAAAAAAAERAAAAAAAAAOkAAAAAAAMBCQAAAAAAAAExAAAAAAACAUUAAAAAAAABIQAAAAAAAAFBAAAAAAADAS0AAAAAAAABJQAAAAAAAwE9AAAAAAACAT0AAAAAAAEBEQAAAAAAAACBAAAAAAAAATEAAAAAAAIBCQAAAAAAAgEpAAAAAAAAARUAAAAAAAIBLQAAAAAAAACZAAAAAAACAQEAAAAAAAIBEQAAAAAAAwE5AAAAAAAAAP0AAAAAAAABCQAAAAAAAgEZAAAAAAADAQkAAAAAAAABKQAAAAAAAwFFAAAAAAACgUUAAAAAAAIBHQAAAAAAAQEhAAAAAAABATUAAAAAAAIBKQAAAAAAAQFJAAAAAAAAAUkAAAAAAAEBHQAAAAAAAAE1AAAAAAABATEAAAAAAAABCQAAAAAAAAElAAAAAAAAARUAAAAAAAIBIQAAAAAAAAEZAAAAAAAAARUAAAAAAAABDQAAAAAAAgEtAAAAAAAAAQkAAAAAAAABEQAAAAAAAAEpAAAAAAAAARUAAAAAAAABSQAAAAAAAQE5AAAAAAADAUEAAAAAAAIBGQAAAAAAAAExAAAAAAAAARkAAAAAAAIBKQAAAAAAAwFFAAAAAAABAT0AAAAAAAEBHQAAAAAAAgDJAAAAAAACAUEAAAAAAAABIQAAAAAAAAExAAAAAAACARkAAAAAAAIBLQAAAAAAAgERAAAAAAACAQUAAAAAAAABCQAAAAAAAgENAAAAAAACAQkAAAAAAAIBDQAAAAAAAAEZAAAAAAAAAP0AAAAAAAEBTQAAAAAAAgEZAAAAAAABASUAAAAAAAEBDQAAAAAAAAEVAAAAAAAAAN0AAAAAAAABIQAAAAAAAgFVAAAAAAACARUAAAAAAAAAmQAAAAAAAgElAAAAAAACAR0AAAAAAAIBLQAAAAAAAAEVAAAAAAACAREAAAAAAAEBDQAAAAAAAgElA",
        "encoding": "base64",
        "path": [
         "_data",
         0,
         "y",
         "value"
        ]
       },
       {
        "data": "AAAAAAAAAAAAAAAAAAAAAAAAAAAAAAAAAAAAAAAAAAAAAAAAAAAAAAAAAAAAAAAAAAAAAAAAAAAAAAAAAAAAAAAAAAAAAAAAAAAAAAAAAAAAAAAAAAAAAAAAAAAAAAAAAAAAAAAAAAAAAAAAAAAAAAAAAAAA",
        "encoding": "base64",
        "path": [
         "_data",
         1,
         "line",
         "color",
         "value"
        ]
       }
      ],
      "model_module": "plotlywidget",
      "model_module_version": "1.5.4",
      "model_name": "FigureModel",
      "state": {
       "_config": {
        "plotlyServerURL": "https://plot.ly"
       },
       "_data": [
        {
         "marker": {
          "cmax": 2.5,
          "cmin": -0.5,
          "color": {
           "dtype": "uint8",
           "shape": [
            117
           ],
           "value": {}
          },
          "colorbar": {
           "ticktext": [
            "None",
            "Red",
            "Blue"
           ],
           "tickvals": [
            0,
            1,
            2
           ]
          },
          "colorscale": [
           [
            0,
            "#F7CF3B"
           ],
           [
            0.33,
            "#F7CF3B"
           ],
           [
            0.33,
            "#2FED68"
           ],
           [
            0.66,
            "#2FED68"
           ],
           [
            0.66,
            "#2C0C50"
           ],
           [
            1,
            "#2C0C50"
           ]
          ],
          "showscale": true
         },
         "mode": "markers",
         "type": "scatter",
         "uid": "d258828b-06f3-4cdd-a8ab-80579501f958",
         "x": [
          70,
          88,
          214,
          126,
          153,
          39,
          37,
          146,
          39,
          136,
          317,
          39,
          52,
          166,
          3,
          130,
          106,
          27,
          128,
          34,
          9,
          20,
          19,
          29,
          32,
          155,
          158,
          141,
          148,
          57,
          41,
          150,
          81,
          162,
          190,
          72,
          132,
          174,
          3,
          155,
          183,
          65,
          131,
          84,
          21,
          22,
          43,
          30,
          56,
          302,
          151,
          246,
          214,
          85,
          76,
          192,
          228,
          174,
          204,
          98,
          137,
          138,
          1,
          176,
          163,
          217,
          57,
          268,
          8,
          19,
          68,
          34,
          652,
          674,
          584,
          411,
          343,
          574,
          396,
          566,
          657,
          110,
          342,
          264,
          510,
          176,
          2,
          419,
          194,
          757,
          68,
          805,
          12,
          105,
          367,
          93,
          39,
          47,
          65,
          33,
          21,
          54,
          26,
          30,
          59,
          7,
          99,
          5,
          75,
          3,
          15,
          5,
          98,
          56,
          3,
          32,
          13
         ],
         "y": {
          "dtype": "float64",
          "shape": [
           117
          ],
          "value": {}
         }
        },
        {
         "dimensions": [
          {
           "label": "year",
           "values": [
            2016,
            2016,
            2016,
            2016,
            2016,
            2016,
            2016,
            2016,
            2016,
            2016,
            2016,
            2016,
            2016,
            2016,
            2016,
            2016,
            2016,
            2016,
            2016,
            2016,
            2016,
            2016,
            2016,
            2016,
            2017,
            2017,
            2017,
            2017,
            2017,
            2017,
            2017,
            2017,
            2017,
            2017,
            2017,
            2017,
            2017,
            2017,
            2017,
            2017,
            2017,
            2017,
            2017,
            2017,
            2017,
            2017,
            2017,
            2017,
            2018,
            2018,
            2018,
            2018,
            2018,
            2018,
            2018,
            2018,
            2018,
            2018,
            2018,
            2018,
            2018,
            2018,
            2018,
            2018,
            2018,
            2018,
            2018,
            2018,
            2018,
            2018,
            2018,
            2018,
            2019,
            2019,
            2019,
            2019,
            2019,
            2019,
            2019,
            2019,
            2019,
            2019,
            2019,
            2019,
            2019,
            2019,
            2019,
            2019,
            2019,
            2019,
            2019,
            2019,
            2019,
            2019,
            2019,
            2019,
            2020,
            2020,
            2020,
            2020,
            2020,
            2020,
            2020,
            2020,
            2020,
            2020,
            2020,
            2020,
            2020,
            2020,
            2020,
            2020,
            2020,
            2020,
            2020,
            2020,
            2020
           ]
          },
          {
           "label": "genre",
           "values": [
            "edm",
            "edm",
            "edm",
            "edm",
            "latin",
            "latin",
            "latin",
            "latin",
            "pop",
            "pop",
            "pop",
            "pop",
            "r&b",
            "r&b",
            "r&b",
            "r&b",
            "rap",
            "rap",
            "rap",
            "rap",
            "rock",
            "rock",
            "rock",
            "rock",
            "edm",
            "edm",
            "edm",
            "edm",
            "latin",
            "latin",
            "latin",
            "latin",
            "pop",
            "pop",
            "pop",
            "pop",
            "r&b",
            "r&b",
            "r&b",
            "r&b",
            "rap",
            "rap",
            "rap",
            "rap",
            "rock",
            "rock",
            "rock",
            "rock",
            "edm",
            "edm",
            "edm",
            "edm",
            "latin",
            "latin",
            "latin",
            "latin",
            "pop",
            "pop",
            "pop",
            "pop",
            "r&b",
            "r&b",
            "r&b",
            "r&b",
            "rap",
            "rap",
            "rap",
            "rap",
            "rock",
            "rock",
            "rock",
            "rock",
            "edm",
            "edm",
            "edm",
            "edm",
            "latin",
            "latin",
            "latin",
            "latin",
            "pop",
            "pop",
            "pop",
            "pop",
            "r&b",
            "r&b",
            "r&b",
            "r&b",
            "rap",
            "rap",
            "rap",
            "rap",
            "rock",
            "rock",
            "rock",
            "rock",
            "edm",
            "edm",
            "edm",
            "edm",
            "latin",
            "latin",
            "latin",
            "latin",
            "pop",
            "pop",
            "pop",
            "pop",
            "r&b",
            "r&b",
            "r&b",
            "rap",
            "rap",
            "rap",
            "rock",
            "rock",
            "rock"
           ]
          },
          {
           "label": "subgenre",
           "values": [
            "big room",
            "electro house",
            "pop edm",
            "progressive electro house",
            "latin hip hop",
            "latin pop",
            "reggaeton",
            "tropical",
            "dance pop",
            "electropop",
            "indie poptimism",
            "post-teen pop",
            "hip pop",
            "neo soul",
            "new jack swing",
            "urban contemporary",
            "gangster rap",
            "hip hop",
            "southern hip hop",
            "trap",
            "album rock",
            "classic rock",
            "hard rock",
            "permanent wave",
            "big room",
            "electro house",
            "pop edm",
            "progressive electro house",
            "latin hip hop",
            "latin pop",
            "reggaeton",
            "tropical",
            "dance pop",
            "electropop",
            "indie poptimism",
            "post-teen pop",
            "hip pop",
            "neo soul",
            "new jack swing",
            "urban contemporary",
            "gangster rap",
            "hip hop",
            "southern hip hop",
            "trap",
            "album rock",
            "classic rock",
            "hard rock",
            "permanent wave",
            "big room",
            "electro house",
            "pop edm",
            "progressive electro house",
            "latin hip hop",
            "latin pop",
            "reggaeton",
            "tropical",
            "dance pop",
            "electropop",
            "indie poptimism",
            "post-teen pop",
            "hip pop",
            "neo soul",
            "new jack swing",
            "urban contemporary",
            "gangster rap",
            "hip hop",
            "southern hip hop",
            "trap",
            "album rock",
            "classic rock",
            "hard rock",
            "permanent wave",
            "big room",
            "electro house",
            "pop edm",
            "progressive electro house",
            "latin hip hop",
            "latin pop",
            "reggaeton",
            "tropical",
            "dance pop",
            "electropop",
            "indie poptimism",
            "post-teen pop",
            "hip pop",
            "neo soul",
            "new jack swing",
            "urban contemporary",
            "gangster rap",
            "hip hop",
            "southern hip hop",
            "trap",
            "album rock",
            "classic rock",
            "hard rock",
            "permanent wave",
            "big room",
            "electro house",
            "pop edm",
            "progressive electro house",
            "latin hip hop",
            "latin pop",
            "reggaeton",
            "tropical",
            "dance pop",
            "electropop",
            "indie poptimism",
            "post-teen pop",
            "hip pop",
            "neo soul",
            "urban contemporary",
            "gangster rap",
            "hip hop",
            "trap",
            "classic rock",
            "hard rock",
            "permanent wave"
           ]
          }
         ],
         "domain": {
          "y": [
           0,
           0.4
          ]
         },
         "line": {
          "cmax": 2.5,
          "cmin": -0.5,
          "color": {
           "dtype": "uint8",
           "shape": [
            117
           ],
           "value": {}
          },
          "colorscale": [
           [
            0,
            "#F7CF3B"
           ],
           [
            0.33,
            "#F7CF3B"
           ],
           [
            0.33,
            "#2FED68"
           ],
           [
            0.66,
            "#2FED68"
           ],
           [
            0.66,
            "#2C0C50"
           ],
           [
            1,
            "#2C0C50"
           ]
          ],
          "shape": "hspline"
         },
         "type": "parcats",
         "uid": "d26dd93d-ffbb-45d3-b85d-b2458750b245"
        }
       ],
       "_js2py_restyle": {},
       "_js2py_update": {},
       "_last_layout_edit_id": 2,
       "_last_trace_edit_id": 1,
       "_layout": {
        "autosize": true,
        "dragmode": "lasso",
        "height": 1200,
        "hovermode": "closest",
        "template": {
         "data": {
          "bar": [
           {
            "error_x": {
             "color": "#2a3f5f"
            },
            "error_y": {
             "color": "#2a3f5f"
            },
            "marker": {
             "line": {
              "color": "#E5ECF6",
              "width": 0.5
             }
            },
            "type": "bar"
           }
          ],
          "barpolar": [
           {
            "marker": {
             "line": {
              "color": "#E5ECF6",
              "width": 0.5
             }
            },
            "type": "barpolar"
           }
          ],
          "carpet": [
           {
            "aaxis": {
             "endlinecolor": "#2a3f5f",
             "gridcolor": "white",
             "linecolor": "white",
             "minorgridcolor": "white",
             "startlinecolor": "#2a3f5f"
            },
            "baxis": {
             "endlinecolor": "#2a3f5f",
             "gridcolor": "white",
             "linecolor": "white",
             "minorgridcolor": "white",
             "startlinecolor": "#2a3f5f"
            },
            "type": "carpet"
           }
          ],
          "choropleth": [
           {
            "colorbar": {
             "outlinewidth": 0,
             "ticks": ""
            },
            "type": "choropleth"
           }
          ],
          "contour": [
           {
            "colorbar": {
             "outlinewidth": 0,
             "ticks": ""
            },
            "colorscale": [
             [
              0,
              "#0d0887"
             ],
             [
              0.1111111111111111,
              "#46039f"
             ],
             [
              0.2222222222222222,
              "#7201a8"
             ],
             [
              0.3333333333333333,
              "#9c179e"
             ],
             [
              0.4444444444444444,
              "#bd3786"
             ],
             [
              0.5555555555555556,
              "#d8576b"
             ],
             [
              0.6666666666666666,
              "#ed7953"
             ],
             [
              0.7777777777777778,
              "#fb9f3a"
             ],
             [
              0.8888888888888888,
              "#fdca26"
             ],
             [
              1,
              "#f0f921"
             ]
            ],
            "type": "contour"
           }
          ],
          "contourcarpet": [
           {
            "colorbar": {
             "outlinewidth": 0,
             "ticks": ""
            },
            "type": "contourcarpet"
           }
          ],
          "heatmap": [
           {
            "colorbar": {
             "outlinewidth": 0,
             "ticks": ""
            },
            "colorscale": [
             [
              0,
              "#0d0887"
             ],
             [
              0.1111111111111111,
              "#46039f"
             ],
             [
              0.2222222222222222,
              "#7201a8"
             ],
             [
              0.3333333333333333,
              "#9c179e"
             ],
             [
              0.4444444444444444,
              "#bd3786"
             ],
             [
              0.5555555555555556,
              "#d8576b"
             ],
             [
              0.6666666666666666,
              "#ed7953"
             ],
             [
              0.7777777777777778,
              "#fb9f3a"
             ],
             [
              0.8888888888888888,
              "#fdca26"
             ],
             [
              1,
              "#f0f921"
             ]
            ],
            "type": "heatmap"
           }
          ],
          "heatmapgl": [
           {
            "colorbar": {
             "outlinewidth": 0,
             "ticks": ""
            },
            "colorscale": [
             [
              0,
              "#0d0887"
             ],
             [
              0.1111111111111111,
              "#46039f"
             ],
             [
              0.2222222222222222,
              "#7201a8"
             ],
             [
              0.3333333333333333,
              "#9c179e"
             ],
             [
              0.4444444444444444,
              "#bd3786"
             ],
             [
              0.5555555555555556,
              "#d8576b"
             ],
             [
              0.6666666666666666,
              "#ed7953"
             ],
             [
              0.7777777777777778,
              "#fb9f3a"
             ],
             [
              0.8888888888888888,
              "#fdca26"
             ],
             [
              1,
              "#f0f921"
             ]
            ],
            "type": "heatmapgl"
           }
          ],
          "histogram": [
           {
            "marker": {
             "colorbar": {
              "outlinewidth": 0,
              "ticks": ""
             }
            },
            "type": "histogram"
           }
          ],
          "histogram2d": [
           {
            "colorbar": {
             "outlinewidth": 0,
             "ticks": ""
            },
            "colorscale": [
             [
              0,
              "#0d0887"
             ],
             [
              0.1111111111111111,
              "#46039f"
             ],
             [
              0.2222222222222222,
              "#7201a8"
             ],
             [
              0.3333333333333333,
              "#9c179e"
             ],
             [
              0.4444444444444444,
              "#bd3786"
             ],
             [
              0.5555555555555556,
              "#d8576b"
             ],
             [
              0.6666666666666666,
              "#ed7953"
             ],
             [
              0.7777777777777778,
              "#fb9f3a"
             ],
             [
              0.8888888888888888,
              "#fdca26"
             ],
             [
              1,
              "#f0f921"
             ]
            ],
            "type": "histogram2d"
           }
          ],
          "histogram2dcontour": [
           {
            "colorbar": {
             "outlinewidth": 0,
             "ticks": ""
            },
            "colorscale": [
             [
              0,
              "#0d0887"
             ],
             [
              0.1111111111111111,
              "#46039f"
             ],
             [
              0.2222222222222222,
              "#7201a8"
             ],
             [
              0.3333333333333333,
              "#9c179e"
             ],
             [
              0.4444444444444444,
              "#bd3786"
             ],
             [
              0.5555555555555556,
              "#d8576b"
             ],
             [
              0.6666666666666666,
              "#ed7953"
             ],
             [
              0.7777777777777778,
              "#fb9f3a"
             ],
             [
              0.8888888888888888,
              "#fdca26"
             ],
             [
              1,
              "#f0f921"
             ]
            ],
            "type": "histogram2dcontour"
           }
          ],
          "mesh3d": [
           {
            "colorbar": {
             "outlinewidth": 0,
             "ticks": ""
            },
            "type": "mesh3d"
           }
          ],
          "parcoords": [
           {
            "line": {
             "colorbar": {
              "outlinewidth": 0,
              "ticks": ""
             }
            },
            "type": "parcoords"
           }
          ],
          "pie": [
           {
            "automargin": true,
            "type": "pie"
           }
          ],
          "scatter": [
           {
            "marker": {
             "colorbar": {
              "outlinewidth": 0,
              "ticks": ""
             }
            },
            "type": "scatter"
           }
          ],
          "scatter3d": [
           {
            "line": {
             "colorbar": {
              "outlinewidth": 0,
              "ticks": ""
             }
            },
            "marker": {
             "colorbar": {
              "outlinewidth": 0,
              "ticks": ""
             }
            },
            "type": "scatter3d"
           }
          ],
          "scattercarpet": [
           {
            "marker": {
             "colorbar": {
              "outlinewidth": 0,
              "ticks": ""
             }
            },
            "type": "scattercarpet"
           }
          ],
          "scattergeo": [
           {
            "marker": {
             "colorbar": {
              "outlinewidth": 0,
              "ticks": ""
             }
            },
            "type": "scattergeo"
           }
          ],
          "scattergl": [
           {
            "marker": {
             "colorbar": {
              "outlinewidth": 0,
              "ticks": ""
             }
            },
            "type": "scattergl"
           }
          ],
          "scattermapbox": [
           {
            "marker": {
             "colorbar": {
              "outlinewidth": 0,
              "ticks": ""
             }
            },
            "type": "scattermapbox"
           }
          ],
          "scatterpolar": [
           {
            "marker": {
             "colorbar": {
              "outlinewidth": 0,
              "ticks": ""
             }
            },
            "type": "scatterpolar"
           }
          ],
          "scatterpolargl": [
           {
            "marker": {
             "colorbar": {
              "outlinewidth": 0,
              "ticks": ""
             }
            },
            "type": "scatterpolargl"
           }
          ],
          "scatterternary": [
           {
            "marker": {
             "colorbar": {
              "outlinewidth": 0,
              "ticks": ""
             }
            },
            "type": "scatterternary"
           }
          ],
          "surface": [
           {
            "colorbar": {
             "outlinewidth": 0,
             "ticks": ""
            },
            "colorscale": [
             [
              0,
              "#0d0887"
             ],
             [
              0.1111111111111111,
              "#46039f"
             ],
             [
              0.2222222222222222,
              "#7201a8"
             ],
             [
              0.3333333333333333,
              "#9c179e"
             ],
             [
              0.4444444444444444,
              "#bd3786"
             ],
             [
              0.5555555555555556,
              "#d8576b"
             ],
             [
              0.6666666666666666,
              "#ed7953"
             ],
             [
              0.7777777777777778,
              "#fb9f3a"
             ],
             [
              0.8888888888888888,
              "#fdca26"
             ],
             [
              1,
              "#f0f921"
             ]
            ],
            "type": "surface"
           }
          ],
          "table": [
           {
            "cells": {
             "fill": {
              "color": "#EBF0F8"
             },
             "line": {
              "color": "white"
             }
            },
            "header": {
             "fill": {
              "color": "#C8D4E3"
             },
             "line": {
              "color": "white"
             }
            },
            "type": "table"
           }
          ]
         },
         "layout": {
          "annotationdefaults": {
           "arrowcolor": "#2a3f5f",
           "arrowhead": 0,
           "arrowwidth": 1
          },
          "coloraxis": {
           "colorbar": {
            "outlinewidth": 0,
            "ticks": ""
           }
          },
          "colorscale": {
           "diverging": [
            [
             0,
             "#8e0152"
            ],
            [
             0.1,
             "#c51b7d"
            ],
            [
             0.2,
             "#de77ae"
            ],
            [
             0.3,
             "#f1b6da"
            ],
            [
             0.4,
             "#fde0ef"
            ],
            [
             0.5,
             "#f7f7f7"
            ],
            [
             0.6,
             "#e6f5d0"
            ],
            [
             0.7,
             "#b8e186"
            ],
            [
             0.8,
             "#7fbc41"
            ],
            [
             0.9,
             "#4d9221"
            ],
            [
             1,
             "#276419"
            ]
           ],
           "sequential": [
            [
             0,
             "#0d0887"
            ],
            [
             0.1111111111111111,
             "#46039f"
            ],
            [
             0.2222222222222222,
             "#7201a8"
            ],
            [
             0.3333333333333333,
             "#9c179e"
            ],
            [
             0.4444444444444444,
             "#bd3786"
            ],
            [
             0.5555555555555556,
             "#d8576b"
            ],
            [
             0.6666666666666666,
             "#ed7953"
            ],
            [
             0.7777777777777778,
             "#fb9f3a"
            ],
            [
             0.8888888888888888,
             "#fdca26"
            ],
            [
             1,
             "#f0f921"
            ]
           ],
           "sequentialminus": [
            [
             0,
             "#0d0887"
            ],
            [
             0.1111111111111111,
             "#46039f"
            ],
            [
             0.2222222222222222,
             "#7201a8"
            ],
            [
             0.3333333333333333,
             "#9c179e"
            ],
            [
             0.4444444444444444,
             "#bd3786"
            ],
            [
             0.5555555555555556,
             "#d8576b"
            ],
            [
             0.6666666666666666,
             "#ed7953"
            ],
            [
             0.7777777777777778,
             "#fb9f3a"
            ],
            [
             0.8888888888888888,
             "#fdca26"
            ],
            [
             1,
             "#f0f921"
            ]
           ]
          },
          "colorway": [
           "#636efa",
           "#EF553B",
           "#00cc96",
           "#ab63fa",
           "#FFA15A",
           "#19d3f3",
           "#FF6692",
           "#B6E880",
           "#FF97FF",
           "#FECB52"
          ],
          "font": {
           "color": "#2a3f5f"
          },
          "geo": {
           "bgcolor": "white",
           "lakecolor": "white",
           "landcolor": "#E5ECF6",
           "showlakes": true,
           "showland": true,
           "subunitcolor": "white"
          },
          "hoverlabel": {
           "align": "left"
          },
          "hovermode": "closest",
          "mapbox": {
           "style": "light"
          },
          "paper_bgcolor": "white",
          "plot_bgcolor": "#E5ECF6",
          "polar": {
           "angularaxis": {
            "gridcolor": "white",
            "linecolor": "white",
            "ticks": ""
           },
           "bgcolor": "#E5ECF6",
           "radialaxis": {
            "gridcolor": "white",
            "linecolor": "white",
            "ticks": ""
           }
          },
          "scene": {
           "xaxis": {
            "backgroundcolor": "#E5ECF6",
            "gridcolor": "white",
            "gridwidth": 2,
            "linecolor": "white",
            "showbackground": true,
            "ticks": "",
            "zerolinecolor": "white"
           },
           "yaxis": {
            "backgroundcolor": "#E5ECF6",
            "gridcolor": "white",
            "gridwidth": 2,
            "linecolor": "white",
            "showbackground": true,
            "ticks": "",
            "zerolinecolor": "white"
           },
           "zaxis": {
            "backgroundcolor": "#E5ECF6",
            "gridcolor": "white",
            "gridwidth": 2,
            "linecolor": "white",
            "showbackground": true,
            "ticks": "",
            "zerolinecolor": "white"
           }
          },
          "shapedefaults": {
           "line": {
            "color": "#2a3f5f"
           }
          },
          "ternary": {
           "aaxis": {
            "gridcolor": "white",
            "linecolor": "white",
            "ticks": ""
           },
           "baxis": {
            "gridcolor": "white",
            "linecolor": "white",
            "ticks": ""
           },
           "bgcolor": "#E5ECF6",
           "caxis": {
            "gridcolor": "white",
            "linecolor": "white",
            "ticks": ""
           }
          },
          "title": {
           "x": 0.05
          },
          "xaxis": {
           "automargin": true,
           "gridcolor": "white",
           "linecolor": "white",
           "ticks": "",
           "title": {
            "standoff": 15
           },
           "zerolinecolor": "white",
           "zerolinewidth": 2
          },
          "yaxis": {
           "automargin": true,
           "gridcolor": "white",
           "linecolor": "white",
           "ticks": "",
           "title": {
            "standoff": 15
           },
           "zerolinecolor": "white",
           "zerolinewidth": 2
          }
         }
        },
        "xaxis": {
         "title": {
          "text": "Count"
         }
        },
        "yaxis": {
         "domain": [
          0.6,
          1
         ],
         "title": {
          "text": "Popularity"
         }
        }
       },
       "_model_module_version": "1.5.4",
       "_py2js_addTraces": {},
       "_py2js_animate": {},
       "_py2js_deleteTraces": {},
       "_py2js_moveTraces": {},
       "_py2js_removeLayoutProps": {},
       "_py2js_removeTraceProps": {},
       "_py2js_restyle": {},
       "_view_count": 0,
       "_view_module_version": "1.5.4"
      }
     },
     "69f651a7e920490aac67acaedef65ba6": {
      "model_module": "@jupyter-widgets/base",
      "model_module_version": "1.2.0",
      "model_name": "LayoutModel",
      "state": {}
     },
     "6d3c8c112ed642809e1143111c077a23": {
      "model_module": "@jupyter-widgets/controls",
      "model_module_version": "1.5.0",
      "model_name": "VBoxModel",
      "state": {
       "children": [
        "IPY_MODEL_b05c004718fb4811a9f8d2b9cb2c5977",
        "IPY_MODEL_d2b2547547d843a79670d8a4bdeec513"
       ],
       "layout": "IPY_MODEL_2437bc0ada92404b88460b3d4675008c"
      }
     },
     "7096cc6197394756a3fb7765a39f96b2": {
      "model_module": "@jupyter-widgets/base",
      "model_module_version": "1.2.0",
      "model_name": "LayoutModel",
      "state": {}
     },
     "74697b9efdb84493bb436f2efe3b4b54": {
      "model_module": "@jupyter-widgets/base",
      "model_module_version": "1.2.0",
      "model_name": "LayoutModel",
      "state": {}
     },
     "7486d4a1567c45d1a16e7b85014d5d6e": {
      "model_module": "@jupyter-widgets/base",
      "model_module_version": "1.2.0",
      "model_name": "LayoutModel",
      "state": {}
     },
     "7ad8c36bbece481d95655dd0bccad5fc": {
      "model_module": "@jupyter-widgets/controls",
      "model_module_version": "1.5.0",
      "model_name": "VBoxModel",
      "state": {
       "children": [
        "IPY_MODEL_07db2a8b73e54d30b695b5bde64d9374",
        "IPY_MODEL_586ab44718fa41e6ab638c6b314d68a0"
       ],
       "layout": "IPY_MODEL_c17cfa73cad4439c95229eb7588ac3f0"
      }
     },
     "7d188ce9c73c45728f9e4f783a7e9b3e": {
      "model_module": "@jupyter-widgets/base",
      "model_module_version": "1.2.0",
      "model_name": "LayoutModel",
      "state": {}
     },
     "7e5b5b65ab6d4fd992b9a6a9b9a957e7": {
      "model_module": "@jupyter-widgets/controls",
      "model_module_version": "1.5.0",
      "model_name": "VBoxModel",
      "state": {
       "children": [
        "IPY_MODEL_c0c2bc083f4844a9873dc1a91e1bf45b",
        "IPY_MODEL_08f5319b17654edf8da5e9274cecf84f"
       ],
       "layout": "IPY_MODEL_48bcf0022bcb4ba69c8b297e8961f23e"
      }
     },
     "81d96d8f92854be199a616576523bd4c": {
      "model_module": "@jupyter-widgets/controls",
      "model_module_version": "1.5.0",
      "model_name": "VBoxModel",
      "state": {
       "children": [
        "IPY_MODEL_4cd09f9e6ff843fb8a73a1f7372bbf42",
        "IPY_MODEL_3f227bcdcf65434098430fc942923f8d"
       ],
       "layout": "IPY_MODEL_69f651a7e920490aac67acaedef65ba6"
      }
     },
     "828d7b04764e4da3ae181f4ea1b3f87d": {
      "model_module": "@jupyter-widgets/base",
      "model_module_version": "1.2.0",
      "model_name": "LayoutModel",
      "state": {}
     },
     "85ccdde276174dce8e654733d0872e16": {
      "model_module": "@jupyter-widgets/controls",
      "model_module_version": "1.5.0",
      "model_name": "ToggleButtonsStyleModel",
      "state": {
       "button_width": "",
       "description_width": ""
      }
     },
     "88fe23b8431344e8a0be280d3d49e3f2": {
      "model_module": "@jupyter-widgets/controls",
      "model_module_version": "1.5.0",
      "model_name": "VBoxModel",
      "state": {
       "children": [
        "IPY_MODEL_ddc120a1f0a640f2bba054fc63e2762f",
        "IPY_MODEL_a1eb92de988e44988eab426e1a3310d3"
       ],
       "layout": "IPY_MODEL_97b94b9e9db34720b30ca8099a3b27b6"
      }
     },
     "8abcfbc5f11845c9923289fbbfe82eee": {
      "model_module": "@jupyter-widgets/base",
      "model_module_version": "1.2.0",
      "model_name": "LayoutModel",
      "state": {}
     },
     "8e53807b6e964980b4e885ad5fcdbfa8": {
      "buffers": [
       {
        "data": "AAAAAAAAAAAAAAAAAAAAAAAAAAAAAAAAAAAAAAAAAAAAAAAAAAAAAAAAAAAAAAAAAAAAAAAAAAAAAAAAAAAAAAAAAAAAAAAAAAAAAAAAAAAAAAAAAAAAAAAAAAAAAAAAAAAAAAAAAAAAAAAAAAAAAAAAAAAAAAAAAAAAAAAAAAAAAAAAAAAAAAAAAAAAAAAAAAAAAAAAAAAAAAAAAAAAAAAAAAAAAAAAAAAAAAAAAAAAAAAAAAAAAAAAAAAAAAAAAAAAAAAAAAAAAAAAAA==",
        "encoding": "base64",
        "path": [
         "_data",
         0,
         "marker",
         "color",
         "value"
        ]
       },
       {
        "data": "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",
        "encoding": "base64",
        "path": [
         "_data",
         0,
         "x",
         "value"
        ]
       },
       {
        "data": "AAAAAAAAAAAAAAAAAAAAAAAAAAAAAAAAAAAAAAAAAAAAAAAAAAAAAAAAAAAAAAAAAAAAAAAAAAAAAAAAAAAAAAAAAAAAAAAAAAAAAAAAAAAAAAAAAAAAAAAAAAAAAAAAAAAAAAAAAAAAAAAAAAAAAAAAAAAAAAAAAAAAAAAAAAAAAAAAAAAAAAAAAAAAAAAAAAAAAAAAAAAAAAAAAAAAAAAAAAAAAAAAAAAAAAAAAAAAAAAAAAAAAAAAAAAAAAAAAAAAAAAAAAAAAAAAAA==",
        "encoding": "base64",
        "path": [
         "_data",
         1,
         "line",
         "color",
         "value"
        ]
       }
      ],
      "model_module": "plotlywidget",
      "model_module_version": "1.5.4",
      "model_name": "FigureModel",
      "state": {
       "_config": {
        "plotlyServerURL": "https://plot.ly"
       },
       "_data": [
        {
         "marker": {
          "cmax": 2.5,
          "cmin": -0.5,
          "color": {
           "dtype": "uint8",
           "shape": [
            205
           ],
           "value": {}
          },
          "colorbar": {
           "ticktext": [
            "None",
            "Red",
            "Blue"
           ],
           "tickvals": [
            0,
            1,
            2
           ]
          },
          "colorscale": [
           [
            0,
            "gray"
           ],
           [
            0.33,
            "gray"
           ],
           [
            0.33,
            "firebrick"
           ],
           [
            0.66,
            "firebrick"
           ],
           [
            0.66,
            "blue"
           ],
           [
            1,
            "blue"
           ]
          ],
          "showscale": true
         },
         "mode": "markers",
         "type": "scatter",
         "uid": "77f9310b-f1b1-455e-a75d-cecea5dcb8a9",
         "x": {
          "dtype": "float64",
          "shape": [
           205
          ],
          "value": {}
         },
         "y": [
          27,
          27,
          26,
          30,
          22,
          25,
          25,
          25,
          20,
          22,
          29,
          29,
          28,
          28,
          25,
          22,
          22,
          20,
          53,
          43,
          43,
          41,
          38,
          30,
          38,
          38,
          38,
          30,
          30,
          24,
          54,
          38,
          42,
          34,
          34,
          34,
          34,
          33,
          33,
          33,
          33,
          28,
          31,
          29,
          43,
          43,
          29,
          19,
          19,
          17,
          31,
          38,
          38,
          38,
          38,
          23,
          23,
          23,
          23,
          32,
          32,
          32,
          32,
          42,
          32,
          27,
          39,
          25,
          25,
          25,
          25,
          18,
          18,
          16,
          16,
          24,
          41,
          38,
          38,
          30,
          30,
          32,
          24,
          24,
          24,
          32,
          32,
          30,
          30,
          37,
          50,
          37,
          37,
          37,
          37,
          37,
          37,
          37,
          37,
          34,
          34,
          22,
          22,
          25,
          25,
          23,
          25,
          24,
          33,
          24,
          25,
          24,
          33,
          24,
          25,
          24,
          33,
          24,
          41,
          30,
          38,
          38,
          38,
          30,
          24,
          27,
          25,
          25,
          25,
          28,
          31,
          31,
          28,
          28,
          28,
          28,
          26,
          26,
          36,
          31,
          31,
          37,
          33,
          32,
          25,
          29,
          32,
          31,
          29,
          23,
          39,
          38,
          38,
          37,
          32,
          32,
          37,
          37,
          36,
          47,
          47,
          34,
          34,
          34,
          34,
          29,
          29,
          30,
          30,
          30,
          30,
          30,
          30,
          34,
          33,
          32,
          32,
          32,
          24,
          24,
          24,
          24,
          46,
          34,
          46,
          34,
          34,
          42,
          32,
          29,
          29,
          24,
          38,
          31,
          28,
          28,
          28,
          28,
          22,
          22,
          28,
          25,
          23,
          27,
          25
         ]
        },
        {
         "dimensions": [
          {
           "label": "body-style",
           "values": [
            "convertible",
            "convertible",
            "hatchback",
            "sedan",
            "sedan",
            "sedan",
            "sedan",
            "wagon",
            "sedan",
            "hatchback",
            "sedan",
            "sedan",
            "sedan",
            "sedan",
            "sedan",
            "sedan",
            "sedan",
            "sedan",
            "hatchback",
            "hatchback",
            "sedan",
            "hatchback",
            "hatchback",
            "hatchback",
            "hatchback",
            "sedan",
            "sedan",
            "sedan",
            "wagon",
            "hatchback",
            "hatchback",
            "hatchback",
            "hatchback",
            "hatchback",
            "hatchback",
            "sedan",
            "wagon",
            "hatchback",
            "hatchback",
            "sedan",
            "sedan",
            "sedan",
            "sedan",
            "sedan",
            "sedan",
            "sedan",
            "hatchback",
            "sedan",
            "sedan",
            "sedan",
            "hatchback",
            "hatchback",
            "hatchback",
            "sedan",
            "sedan",
            "hatchback",
            "hatchback",
            "hatchback",
            "hatchback",
            "hatchback",
            "sedan",
            "hatchback",
            "sedan",
            "sedan",
            "hatchback",
            "sedan",
            "sedan",
            "sedan",
            "wagon",
            "hardtop",
            "sedan",
            "sedan",
            "convertible",
            "sedan",
            "hardtop",
            "hatchback",
            "hatchback",
            "hatchback",
            "hatchback",
            "hatchback",
            "hatchback",
            "hatchback",
            "hatchback",
            "hatchback",
            "hatchback",
            "sedan",
            "sedan",
            "sedan",
            "sedan",
            "sedan",
            "sedan",
            "sedan",
            "sedan",
            "wagon",
            "sedan",
            "hatchback",
            "sedan",
            "wagon",
            "hardtop",
            "hatchback",
            "sedan",
            "sedan",
            "wagon",
            "sedan",
            "hatchback",
            "hatchback",
            "hatchback",
            "sedan",
            "sedan",
            "wagon",
            "wagon",
            "sedan",
            "sedan",
            "wagon",
            "wagon",
            "sedan",
            "sedan",
            "sedan",
            "hatchback",
            "hatchback",
            "hatchback",
            "sedan",
            "sedan",
            "wagon",
            "hatchback",
            "hatchback",
            "hardtop",
            "hardtop",
            "convertible",
            "hatchback",
            "wagon",
            "hatchback",
            "hatchback",
            "sedan",
            "hatchback",
            "sedan",
            "hatchback",
            "sedan",
            "hatchback",
            "hatchback",
            "hatchback",
            "sedan",
            "sedan",
            "sedan",
            "sedan",
            "sedan",
            "wagon",
            "wagon",
            "wagon",
            "wagon",
            "hatchback",
            "hatchback",
            "hatchback",
            "wagon",
            "wagon",
            "wagon",
            "sedan",
            "hatchback",
            "sedan",
            "hatchback",
            "sedan",
            "hatchback",
            "sedan",
            "sedan",
            "hatchback",
            "sedan",
            "hatchback",
            "hardtop",
            "hardtop",
            "hatchback",
            "hardtop",
            "hatchback",
            "convertible",
            "sedan",
            "sedan",
            "hatchback",
            "sedan",
            "hatchback",
            "hatchback",
            "hatchback",
            "sedan",
            "wagon",
            "sedan",
            "sedan",
            "sedan",
            "sedan",
            "sedan",
            "sedan",
            "sedan",
            "convertible",
            "hatchback",
            "sedan",
            "sedan",
            "wagon",
            "sedan",
            "wagon",
            "sedan",
            "wagon",
            "sedan",
            "wagon",
            "sedan",
            "sedan",
            "sedan",
            "sedan",
            "sedan"
           ]
          },
          {
           "label": "drive-wheels",
           "values": [
            "rwd",
            "rwd",
            "rwd",
            "fwd",
            "4wd",
            "fwd",
            "fwd",
            "fwd",
            "fwd",
            "4wd",
            "rwd",
            "rwd",
            "rwd",
            "rwd",
            "rwd",
            "rwd",
            "rwd",
            "rwd",
            "fwd",
            "fwd",
            "fwd",
            "fwd",
            "fwd",
            "fwd",
            "fwd",
            "fwd",
            "fwd",
            "fwd",
            "fwd",
            "fwd",
            "fwd",
            "fwd",
            "fwd",
            "fwd",
            "fwd",
            "fwd",
            "fwd",
            "fwd",
            "fwd",
            "fwd",
            "fwd",
            "fwd",
            "fwd",
            "rwd",
            "fwd",
            "fwd",
            "rwd",
            "rwd",
            "rwd",
            "rwd",
            "fwd",
            "fwd",
            "fwd",
            "fwd",
            "fwd",
            "rwd",
            "rwd",
            "rwd",
            "rwd",
            "fwd",
            "fwd",
            "fwd",
            "fwd",
            "fwd",
            "fwd",
            "rwd",
            "rwd",
            "rwd",
            "rwd",
            "rwd",
            "rwd",
            "rwd",
            "rwd",
            "rwd",
            "rwd",
            "rwd",
            "fwd",
            "fwd",
            "fwd",
            "fwd",
            "fwd",
            "fwd",
            "fwd",
            "fwd",
            "fwd",
            "fwd",
            "fwd",
            "fwd",
            "fwd",
            "fwd",
            "fwd",
            "fwd",
            "fwd",
            "fwd",
            "fwd",
            "fwd",
            "fwd",
            "fwd",
            "fwd",
            "fwd",
            "fwd",
            "fwd",
            "fwd",
            "fwd",
            "rwd",
            "rwd",
            "rwd",
            "rwd",
            "rwd",
            "rwd",
            "rwd",
            "rwd",
            "rwd",
            "rwd",
            "rwd",
            "rwd",
            "rwd",
            "rwd",
            "fwd",
            "fwd",
            "fwd",
            "fwd",
            "fwd",
            "fwd",
            "rwd",
            "rwd",
            "rwd",
            "rwd",
            "rwd",
            "rwd",
            "fwd",
            "fwd",
            "fwd",
            "fwd",
            "fwd",
            "fwd",
            "fwd",
            "fwd",
            "fwd",
            "fwd",
            "4wd",
            "fwd",
            "fwd",
            "fwd",
            "4wd",
            "4wd",
            "fwd",
            "fwd",
            "4wd",
            "4wd",
            "fwd",
            "fwd",
            "fwd",
            "fwd",
            "4wd",
            "4wd",
            "fwd",
            "fwd",
            "fwd",
            "fwd",
            "fwd",
            "fwd",
            "fwd",
            "rwd",
            "rwd",
            "rwd",
            "rwd",
            "rwd",
            "rwd",
            "rwd",
            "rwd",
            "rwd",
            "rwd",
            "fwd",
            "fwd",
            "fwd",
            "fwd",
            "fwd",
            "rwd",
            "rwd",
            "rwd",
            "rwd",
            "fwd",
            "fwd",
            "fwd",
            "fwd",
            "fwd",
            "fwd",
            "fwd",
            "fwd",
            "fwd",
            "fwd",
            "fwd",
            "fwd",
            "rwd",
            "rwd",
            "rwd",
            "rwd",
            "rwd",
            "rwd",
            "rwd",
            "rwd",
            "rwd",
            "rwd",
            "rwd"
           ]
          },
          {
           "label": "fuel-type",
           "values": [
            "gas",
            "gas",
            "gas",
            "gas",
            "gas",
            "gas",
            "gas",
            "gas",
            "gas",
            "gas",
            "gas",
            "gas",
            "gas",
            "gas",
            "gas",
            "gas",
            "gas",
            "gas",
            "gas",
            "gas",
            "gas",
            "gas",
            "gas",
            "gas",
            "gas",
            "gas",
            "gas",
            "gas",
            "gas",
            "gas",
            "gas",
            "gas",
            "gas",
            "gas",
            "gas",
            "gas",
            "gas",
            "gas",
            "gas",
            "gas",
            "gas",
            "gas",
            "gas",
            "gas",
            "gas",
            "gas",
            "gas",
            "gas",
            "gas",
            "gas",
            "gas",
            "gas",
            "gas",
            "gas",
            "gas",
            "gas",
            "gas",
            "gas",
            "gas",
            "gas",
            "gas",
            "gas",
            "gas",
            "diesel",
            "gas",
            "gas",
            "diesel",
            "diesel",
            "diesel",
            "diesel",
            "diesel",
            "gas",
            "gas",
            "gas",
            "gas",
            "gas",
            "gas",
            "gas",
            "gas",
            "gas",
            "gas",
            "gas",
            "gas",
            "gas",
            "gas",
            "gas",
            "gas",
            "gas",
            "gas",
            "gas",
            "diesel",
            "gas",
            "gas",
            "gas",
            "gas",
            "gas",
            "gas",
            "gas",
            "gas",
            "gas",
            "gas",
            "gas",
            "gas",
            "gas",
            "gas",
            "gas",
            "gas",
            "gas",
            "diesel",
            "gas",
            "diesel",
            "gas",
            "diesel",
            "gas",
            "diesel",
            "gas",
            "diesel",
            "gas",
            "gas",
            "gas",
            "gas",
            "gas",
            "gas",
            "gas",
            "gas",
            "gas",
            "gas",
            "gas",
            "gas",
            "gas",
            "gas",
            "gas",
            "gas",
            "gas",
            "gas",
            "gas",
            "gas",
            "gas",
            "gas",
            "gas",
            "gas",
            "gas",
            "gas",
            "gas",
            "gas",
            "gas",
            "gas",
            "gas",
            "gas",
            "gas",
            "gas",
            "gas",
            "gas",
            "gas",
            "gas",
            "gas",
            "gas",
            "gas",
            "diesel",
            "diesel",
            "gas",
            "gas",
            "gas",
            "gas",
            "gas",
            "gas",
            "gas",
            "gas",
            "gas",
            "gas",
            "gas",
            "gas",
            "gas",
            "gas",
            "diesel",
            "gas",
            "gas",
            "gas",
            "gas",
            "gas",
            "gas",
            "gas",
            "diesel",
            "gas",
            "diesel",
            "gas",
            "gas",
            "diesel",
            "gas",
            "gas",
            "gas",
            "gas",
            "diesel",
            "gas",
            "gas",
            "gas",
            "gas",
            "gas",
            "gas",
            "gas",
            "gas",
            "gas",
            "gas",
            "diesel",
            "gas"
           ]
          }
         ],
         "domain": {
          "y": [
           0,
           0.4
          ]
         },
         "line": {
          "cmax": 2.5,
          "cmin": -0.5,
          "color": {
           "dtype": "uint8",
           "shape": [
            205
           ],
           "value": {}
          },
          "colorscale": [
           [
            0,
            "gray"
           ],
           [
            0.33,
            "gray"
           ],
           [
            0.33,
            "firebrick"
           ],
           [
            0.66,
            "firebrick"
           ],
           [
            0.66,
            "blue"
           ],
           [
            1,
            "blue"
           ]
          ],
          "shape": "hspline"
         },
         "type": "parcats",
         "uid": "ac2920b3-e183-4748-8468-a6a27c2964e4"
        }
       ],
       "_js2py_layoutDelta": {},
       "_js2py_pointsCallback": {},
       "_js2py_relayout": {},
       "_js2py_restyle": {},
       "_js2py_traceDeltas": {},
       "_js2py_update": {},
       "_last_layout_edit_id": 1,
       "_last_trace_edit_id": 1,
       "_layout": {
        "dragmode": "lasso",
        "height": 800,
        "hovermode": "closest",
        "template": {
         "data": {
          "bar": [
           {
            "error_x": {
             "color": "#2a3f5f"
            },
            "error_y": {
             "color": "#2a3f5f"
            },
            "marker": {
             "line": {
              "color": "#E5ECF6",
              "width": 0.5
             }
            },
            "type": "bar"
           }
          ],
          "barpolar": [
           {
            "marker": {
             "line": {
              "color": "#E5ECF6",
              "width": 0.5
             }
            },
            "type": "barpolar"
           }
          ],
          "carpet": [
           {
            "aaxis": {
             "endlinecolor": "#2a3f5f",
             "gridcolor": "white",
             "linecolor": "white",
             "minorgridcolor": "white",
             "startlinecolor": "#2a3f5f"
            },
            "baxis": {
             "endlinecolor": "#2a3f5f",
             "gridcolor": "white",
             "linecolor": "white",
             "minorgridcolor": "white",
             "startlinecolor": "#2a3f5f"
            },
            "type": "carpet"
           }
          ],
          "choropleth": [
           {
            "colorbar": {
             "outlinewidth": 0,
             "ticks": ""
            },
            "type": "choropleth"
           }
          ],
          "contour": [
           {
            "colorbar": {
             "outlinewidth": 0,
             "ticks": ""
            },
            "colorscale": [
             [
              0,
              "#0d0887"
             ],
             [
              0.1111111111111111,
              "#46039f"
             ],
             [
              0.2222222222222222,
              "#7201a8"
             ],
             [
              0.3333333333333333,
              "#9c179e"
             ],
             [
              0.4444444444444444,
              "#bd3786"
             ],
             [
              0.5555555555555556,
              "#d8576b"
             ],
             [
              0.6666666666666666,
              "#ed7953"
             ],
             [
              0.7777777777777778,
              "#fb9f3a"
             ],
             [
              0.8888888888888888,
              "#fdca26"
             ],
             [
              1,
              "#f0f921"
             ]
            ],
            "type": "contour"
           }
          ],
          "contourcarpet": [
           {
            "colorbar": {
             "outlinewidth": 0,
             "ticks": ""
            },
            "type": "contourcarpet"
           }
          ],
          "heatmap": [
           {
            "colorbar": {
             "outlinewidth": 0,
             "ticks": ""
            },
            "colorscale": [
             [
              0,
              "#0d0887"
             ],
             [
              0.1111111111111111,
              "#46039f"
             ],
             [
              0.2222222222222222,
              "#7201a8"
             ],
             [
              0.3333333333333333,
              "#9c179e"
             ],
             [
              0.4444444444444444,
              "#bd3786"
             ],
             [
              0.5555555555555556,
              "#d8576b"
             ],
             [
              0.6666666666666666,
              "#ed7953"
             ],
             [
              0.7777777777777778,
              "#fb9f3a"
             ],
             [
              0.8888888888888888,
              "#fdca26"
             ],
             [
              1,
              "#f0f921"
             ]
            ],
            "type": "heatmap"
           }
          ],
          "heatmapgl": [
           {
            "colorbar": {
             "outlinewidth": 0,
             "ticks": ""
            },
            "colorscale": [
             [
              0,
              "#0d0887"
             ],
             [
              0.1111111111111111,
              "#46039f"
             ],
             [
              0.2222222222222222,
              "#7201a8"
             ],
             [
              0.3333333333333333,
              "#9c179e"
             ],
             [
              0.4444444444444444,
              "#bd3786"
             ],
             [
              0.5555555555555556,
              "#d8576b"
             ],
             [
              0.6666666666666666,
              "#ed7953"
             ],
             [
              0.7777777777777778,
              "#fb9f3a"
             ],
             [
              0.8888888888888888,
              "#fdca26"
             ],
             [
              1,
              "#f0f921"
             ]
            ],
            "type": "heatmapgl"
           }
          ],
          "histogram": [
           {
            "marker": {
             "colorbar": {
              "outlinewidth": 0,
              "ticks": ""
             }
            },
            "type": "histogram"
           }
          ],
          "histogram2d": [
           {
            "colorbar": {
             "outlinewidth": 0,
             "ticks": ""
            },
            "colorscale": [
             [
              0,
              "#0d0887"
             ],
             [
              0.1111111111111111,
              "#46039f"
             ],
             [
              0.2222222222222222,
              "#7201a8"
             ],
             [
              0.3333333333333333,
              "#9c179e"
             ],
             [
              0.4444444444444444,
              "#bd3786"
             ],
             [
              0.5555555555555556,
              "#d8576b"
             ],
             [
              0.6666666666666666,
              "#ed7953"
             ],
             [
              0.7777777777777778,
              "#fb9f3a"
             ],
             [
              0.8888888888888888,
              "#fdca26"
             ],
             [
              1,
              "#f0f921"
             ]
            ],
            "type": "histogram2d"
           }
          ],
          "histogram2dcontour": [
           {
            "colorbar": {
             "outlinewidth": 0,
             "ticks": ""
            },
            "colorscale": [
             [
              0,
              "#0d0887"
             ],
             [
              0.1111111111111111,
              "#46039f"
             ],
             [
              0.2222222222222222,
              "#7201a8"
             ],
             [
              0.3333333333333333,
              "#9c179e"
             ],
             [
              0.4444444444444444,
              "#bd3786"
             ],
             [
              0.5555555555555556,
              "#d8576b"
             ],
             [
              0.6666666666666666,
              "#ed7953"
             ],
             [
              0.7777777777777778,
              "#fb9f3a"
             ],
             [
              0.8888888888888888,
              "#fdca26"
             ],
             [
              1,
              "#f0f921"
             ]
            ],
            "type": "histogram2dcontour"
           }
          ],
          "mesh3d": [
           {
            "colorbar": {
             "outlinewidth": 0,
             "ticks": ""
            },
            "type": "mesh3d"
           }
          ],
          "parcoords": [
           {
            "line": {
             "colorbar": {
              "outlinewidth": 0,
              "ticks": ""
             }
            },
            "type": "parcoords"
           }
          ],
          "pie": [
           {
            "automargin": true,
            "type": "pie"
           }
          ],
          "scatter": [
           {
            "marker": {
             "colorbar": {
              "outlinewidth": 0,
              "ticks": ""
             }
            },
            "type": "scatter"
           }
          ],
          "scatter3d": [
           {
            "line": {
             "colorbar": {
              "outlinewidth": 0,
              "ticks": ""
             }
            },
            "marker": {
             "colorbar": {
              "outlinewidth": 0,
              "ticks": ""
             }
            },
            "type": "scatter3d"
           }
          ],
          "scattercarpet": [
           {
            "marker": {
             "colorbar": {
              "outlinewidth": 0,
              "ticks": ""
             }
            },
            "type": "scattercarpet"
           }
          ],
          "scattergeo": [
           {
            "marker": {
             "colorbar": {
              "outlinewidth": 0,
              "ticks": ""
             }
            },
            "type": "scattergeo"
           }
          ],
          "scattergl": [
           {
            "marker": {
             "colorbar": {
              "outlinewidth": 0,
              "ticks": ""
             }
            },
            "type": "scattergl"
           }
          ],
          "scattermapbox": [
           {
            "marker": {
             "colorbar": {
              "outlinewidth": 0,
              "ticks": ""
             }
            },
            "type": "scattermapbox"
           }
          ],
          "scatterpolar": [
           {
            "marker": {
             "colorbar": {
              "outlinewidth": 0,
              "ticks": ""
             }
            },
            "type": "scatterpolar"
           }
          ],
          "scatterpolargl": [
           {
            "marker": {
             "colorbar": {
              "outlinewidth": 0,
              "ticks": ""
             }
            },
            "type": "scatterpolargl"
           }
          ],
          "scatterternary": [
           {
            "marker": {
             "colorbar": {
              "outlinewidth": 0,
              "ticks": ""
             }
            },
            "type": "scatterternary"
           }
          ],
          "surface": [
           {
            "colorbar": {
             "outlinewidth": 0,
             "ticks": ""
            },
            "colorscale": [
             [
              0,
              "#0d0887"
             ],
             [
              0.1111111111111111,
              "#46039f"
             ],
             [
              0.2222222222222222,
              "#7201a8"
             ],
             [
              0.3333333333333333,
              "#9c179e"
             ],
             [
              0.4444444444444444,
              "#bd3786"
             ],
             [
              0.5555555555555556,
              "#d8576b"
             ],
             [
              0.6666666666666666,
              "#ed7953"
             ],
             [
              0.7777777777777778,
              "#fb9f3a"
             ],
             [
              0.8888888888888888,
              "#fdca26"
             ],
             [
              1,
              "#f0f921"
             ]
            ],
            "type": "surface"
           }
          ],
          "table": [
           {
            "cells": {
             "fill": {
              "color": "#EBF0F8"
             },
             "line": {
              "color": "white"
             }
            },
            "header": {
             "fill": {
              "color": "#C8D4E3"
             },
             "line": {
              "color": "white"
             }
            },
            "type": "table"
           }
          ]
         },
         "layout": {
          "annotationdefaults": {
           "arrowcolor": "#2a3f5f",
           "arrowhead": 0,
           "arrowwidth": 1
          },
          "coloraxis": {
           "colorbar": {
            "outlinewidth": 0,
            "ticks": ""
           }
          },
          "colorscale": {
           "diverging": [
            [
             0,
             "#8e0152"
            ],
            [
             0.1,
             "#c51b7d"
            ],
            [
             0.2,
             "#de77ae"
            ],
            [
             0.3,
             "#f1b6da"
            ],
            [
             0.4,
             "#fde0ef"
            ],
            [
             0.5,
             "#f7f7f7"
            ],
            [
             0.6,
             "#e6f5d0"
            ],
            [
             0.7,
             "#b8e186"
            ],
            [
             0.8,
             "#7fbc41"
            ],
            [
             0.9,
             "#4d9221"
            ],
            [
             1,
             "#276419"
            ]
           ],
           "sequential": [
            [
             0,
             "#0d0887"
            ],
            [
             0.1111111111111111,
             "#46039f"
            ],
            [
             0.2222222222222222,
             "#7201a8"
            ],
            [
             0.3333333333333333,
             "#9c179e"
            ],
            [
             0.4444444444444444,
             "#bd3786"
            ],
            [
             0.5555555555555556,
             "#d8576b"
            ],
            [
             0.6666666666666666,
             "#ed7953"
            ],
            [
             0.7777777777777778,
             "#fb9f3a"
            ],
            [
             0.8888888888888888,
             "#fdca26"
            ],
            [
             1,
             "#f0f921"
            ]
           ],
           "sequentialminus": [
            [
             0,
             "#0d0887"
            ],
            [
             0.1111111111111111,
             "#46039f"
            ],
            [
             0.2222222222222222,
             "#7201a8"
            ],
            [
             0.3333333333333333,
             "#9c179e"
            ],
            [
             0.4444444444444444,
             "#bd3786"
            ],
            [
             0.5555555555555556,
             "#d8576b"
            ],
            [
             0.6666666666666666,
             "#ed7953"
            ],
            [
             0.7777777777777778,
             "#fb9f3a"
            ],
            [
             0.8888888888888888,
             "#fdca26"
            ],
            [
             1,
             "#f0f921"
            ]
           ]
          },
          "colorway": [
           "#636efa",
           "#EF553B",
           "#00cc96",
           "#ab63fa",
           "#FFA15A",
           "#19d3f3",
           "#FF6692",
           "#B6E880",
           "#FF97FF",
           "#FECB52"
          ],
          "font": {
           "color": "#2a3f5f"
          },
          "geo": {
           "bgcolor": "white",
           "lakecolor": "white",
           "landcolor": "#E5ECF6",
           "showlakes": true,
           "showland": true,
           "subunitcolor": "white"
          },
          "hoverlabel": {
           "align": "left"
          },
          "hovermode": "closest",
          "mapbox": {
           "style": "light"
          },
          "paper_bgcolor": "white",
          "plot_bgcolor": "#E5ECF6",
          "polar": {
           "angularaxis": {
            "gridcolor": "white",
            "linecolor": "white",
            "ticks": ""
           },
           "bgcolor": "#E5ECF6",
           "radialaxis": {
            "gridcolor": "white",
            "linecolor": "white",
            "ticks": ""
           }
          },
          "scene": {
           "xaxis": {
            "backgroundcolor": "#E5ECF6",
            "gridcolor": "white",
            "gridwidth": 2,
            "linecolor": "white",
            "showbackground": true,
            "ticks": "",
            "zerolinecolor": "white"
           },
           "yaxis": {
            "backgroundcolor": "#E5ECF6",
            "gridcolor": "white",
            "gridwidth": 2,
            "linecolor": "white",
            "showbackground": true,
            "ticks": "",
            "zerolinecolor": "white"
           },
           "zaxis": {
            "backgroundcolor": "#E5ECF6",
            "gridcolor": "white",
            "gridwidth": 2,
            "linecolor": "white",
            "showbackground": true,
            "ticks": "",
            "zerolinecolor": "white"
           }
          },
          "shapedefaults": {
           "line": {
            "color": "#2a3f5f"
           }
          },
          "ternary": {
           "aaxis": {
            "gridcolor": "white",
            "linecolor": "white",
            "ticks": ""
           },
           "baxis": {
            "gridcolor": "white",
            "linecolor": "white",
            "ticks": ""
           },
           "bgcolor": "#E5ECF6",
           "caxis": {
            "gridcolor": "white",
            "linecolor": "white",
            "ticks": ""
           }
          },
          "title": {
           "x": 0.05
          },
          "xaxis": {
           "automargin": true,
           "gridcolor": "white",
           "linecolor": "white",
           "ticks": "",
           "title": {
            "standoff": 15
           },
           "zerolinecolor": "white",
           "zerolinewidth": 2
          },
          "yaxis": {
           "automargin": true,
           "gridcolor": "white",
           "linecolor": "white",
           "ticks": "",
           "title": {
            "standoff": 15
           },
           "zerolinecolor": "white",
           "zerolinewidth": 2
          }
         }
        },
        "xaxis": {
         "title": {
          "text": "Horsepower"
         }
        },
        "yaxis": {
         "domain": [
          0.6,
          1
         ],
         "title": {
          "text": "MPG"
         }
        }
       },
       "_model_module_version": "1.5.4",
       "_py2js_addTraces": {},
       "_py2js_animate": {},
       "_py2js_deleteTraces": {},
       "_py2js_moveTraces": {},
       "_py2js_removeLayoutProps": {},
       "_py2js_removeTraceProps": {},
       "_py2js_restyle": {},
       "_view_count": 0,
       "_view_module_version": "1.5.4"
      }
     },
     "93bf790f76c848a893a9ceb803b2eacd": {
      "model_module": "@jupyter-widgets/controls",
      "model_module_version": "1.5.0",
      "model_name": "ToggleButtonsModel",
      "state": {
       "_options_labels": [
        "None",
        "Red",
        "Blue"
       ],
       "button_style": "",
       "description": "Brush Color:",
       "icons": [],
       "index": 2,
       "layout": "IPY_MODEL_c6c9fd6d91474d6dbde6f70b7760a3b0",
       "style": "IPY_MODEL_85ccdde276174dce8e654733d0872e16",
       "tooltips": []
      }
     },
     "94903605d4744f8ba1d897fadd9eef2c": {
      "buffers": [
       {
        "data": "AAAAAAAAAAAAAAAAAAAAAAAAAAAAAAAAAAAAAAAAAAAAAAAAAAAAAAAAAAAAAAAAAAAAAAAAAAAAAAAAAAAAAAAAAAAAAAAAAAAAAAAAAAAAAAAAAAAAAAAAAAAAAAAAAAAAAAAAAAAAAAAAAAAAAAAAAAAAAAAAAAAAAAAAAAAAAAAAAAAAAAAAAAAAAAAAAAAAAAAAAAAAAAAAAAAAAAAAAAAAAAAAAAAAAAAAAAAAAAAAAAAAAAAAAAAAAAAAAAAAAAAAAAAAAAAAAAAAAAAAAAAAAAAAAAAAAAAAAAAAAAAAAAAAAAAAAAAAAAAAAAAAAAAAAAAAAAAAAAAAAAAAAAAAAAAAAAAAAAAAAAAAAAAAAAAAAAAAAAAAAAAAAAAAAAAAAAAAAAAAAAAAAAAAAAAAAAAAAAAAAAAAAAAAAAAAAAAAAAAAAAAAAAAAAAAAAAAAAAAAAAAAAAAAAAAAAAAAAAAAAAAAAAAAAAAAAAAAAAAAAAAAAAAAAAAAAAAAAAAAAAAAAAAAAAAAAAAAAAAAAAAAAAAAAAAAAAAAAAAAAAAAAAAAAAAAAAAAAAAAAAAAAAAAAAAAAAAAAAAAAAAAAAAAAAAAAAAAAAAAAAAAAAAAAAAAAAAAAAAAAAAAAAAAAAAAAAAAAAAAAAAAAAAAAAAAAAAAAAAAAAAAAAAAAAAAAAAAAAAAAAAAAAAAAAAAAAAAAAAAAAAAAAAAAAAAAAAAAAAAAAAAAAAAAAAAAAAAAAAAAAAAAAAAAAAAAAAAAAAAAAAAAAAAAAAAAAAAAAAAAAAAAAAAAAAAAAAAAAAAAAAAAAAAAAAAAAAAAAAAAAAAAAAAAAAAAAAAAAAAAAAAAAAAAAAAAAAAAAAAAAAAAAAAAAAAAAAAAAAAAAAAAAAAAAAAAAAAAAAAAAAAAAAAAAAAAAAAAAAAAAAAAAAAAAAAAAAAAAAAAAAAAAAAAAAAAAAAAAAAAAAAAAAAAAAAAAAAAAAAAAAAAAAAAAAAAAAAAAAAAAAAAAAAAAAAAAAAAAAAAAAAAAAAAAAAAAAAAAAAAAAAAAAAAAAAAAAAAAAAAAAAAAAAAAAAAAAAAAAAAAAAAAAAAAAAAAAAAAAAAAAAAAAAAAAAAAAAAAAAAAAAAAAAAAAAAAAAAAAAAAAAAAAAAAAAAAAAAA==",
        "encoding": "base64",
        "path": [
         "_data",
         0,
         "marker",
         "color",
         "value"
        ]
       },
       {
        "data": "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",
        "encoding": "base64",
        "path": [
         "_data",
         0,
         "y",
         "value"
        ]
       },
       {
        "data": "AAAAAAAAAAAAAAAAAAAAAAAAAAAAAAAAAAAAAAAAAAAAAAAAAAAAAAAAAAAAAAAAAAAAAAAAAAAAAAAAAAAAAAAAAAAAAAAAAAAAAAAAAAAAAAAAAAAAAAAAAAAAAAAAAAAAAAAAAAAAAAAAAAAAAAAAAAAAAAAAAAAAAAAAAAAAAAAAAAAAAAAAAAAAAAAAAAAAAAAAAAAAAAAAAAAAAAAAAAAAAAAAAAAAAAAAAAAAAAAAAAAAAAAAAAAAAAAAAAAAAAAAAAAAAAAAAAAAAAAAAAAAAAAAAAAAAAAAAAAAAAAAAAAAAAAAAAAAAAAAAAAAAAAAAAAAAAAAAAAAAAAAAAAAAAAAAAAAAAAAAAAAAAAAAAAAAAAAAAAAAAAAAAAAAAAAAAAAAAAAAAAAAAAAAAAAAAAAAAAAAAAAAAAAAAAAAAAAAAAAAAAAAAAAAAAAAAAAAAAAAAAAAAAAAAAAAAAAAAAAAAAAAAAAAAAAAAAAAAAAAAAAAAAAAAAAAAAAAAAAAAAAAAAAAAAAAAAAAAAAAAAAAAAAAAAAAAAAAAAAAAAAAAAAAAAAAAAAAAAAAAAAAAAAAAAAAAAAAAAAAAAAAAAAAAAAAAAAAAAAAAAAAAAAAAAAAAAAAAAAAAAAAAAAAAAAAAAAAAAAAAAAAAAAAAAAAAAAAAAAAAAAAAAAAAAAAAAAAAAAAAAAAAAAAAAAAAAAAAAAAAAAAAAAAAAAAAAAAAAAAAAAAAAAAAAAAAAAAAAAAAAAAAAAAAAAAAAAAAAAAAAAAAAAAAAAAAAAAAAAAAAAAAAAAAAAAAAAAAAAAAAAAAAAAAAAAAAAAAAAAAAAAAAAAAAAAAAAAAAAAAAAAAAAAAAAAAAAAAAAAAAAAAAAAAAAAAAAAAAAAAAAAAAAAAAAAAAAAAAAAAAAAAAAAAAAAAAAAAAAAAAAAAAAAAAAAAAAAAAAAAAAAAAAAAAAAAAAAAAAAAAAAAAAAAAAAAAAAAAAAAAAAAAAAAAAAAAAAAAAAAAAAAAAAAAAAAAAAAAAAAAAAAAAAAAAAAAAAAAAAAAAAAAAAAAAAAAAAAAAAAAAAAAAAAAAAAAAAAAAAAAAAAAAAAAAAAAAAAAAAAAAAAAAAAAAAAAAAAAAAAAAAAAAAAAAAAAAAAAAAAAAAAAAAAAAAAAAAA==",
        "encoding": "base64",
        "path": [
         "_data",
         1,
         "line",
         "color",
         "value"
        ]
       }
      ],
      "model_module": "plotlywidget",
      "model_module_version": "1.5.4",
      "model_name": "FigureModel",
      "state": {
       "_config": {
        "plotlyServerURL": "https://plot.ly"
       },
       "_data": [
        {
         "marker": {
          "cmax": 2.5,
          "cmin": -0.5,
          "color": {
           "dtype": "uint8",
           "shape": [
            883
           ],
           "value": {}
          },
          "colorbar": {
           "ticktext": [
            "None",
            "Red",
            "Blue"
           ],
           "tickvals": [
            0,
            1,
            2
           ]
          },
          "colorscale": [
           [
            0,
            "gray"
           ],
           [
            0.33,
            "gray"
           ],
           [
            0.33,
            "firebrick"
           ],
           [
            0.66,
            "firebrick"
           ],
           [
            0.66,
            "blue"
           ],
           [
            1,
            "blue"
           ]
          ],
          "showscale": true
         },
         "mode": "markers",
         "type": "scatter",
         "uid": "20b45011-f897-4682-9c86-16bc1d869cd4",
         "x": [
          1,
          1,
          1,
          2,
          2,
          1,
          1,
          1,
          1,
          1,
          2,
          1,
          1,
          2,
          4,
          2,
          1,
          3,
          1,
          4,
          1,
          2,
          1,
          2,
          4,
          9,
          1,
          2,
          3,
          2,
          1,
          9,
          15,
          5,
          6,
          1,
          1,
          2,
          5,
          8,
          3,
          3,
          1,
          4,
          1,
          11,
          29,
          7,
          3,
          1,
          1,
          6,
          2,
          25,
          26,
          7,
          14,
          1,
          3,
          1,
          22,
          23,
          15,
          6,
          5,
          1,
          11,
          37,
          9,
          11,
          1,
          5,
          1,
          36,
          35,
          14,
          12,
          1,
          10,
          2,
          37,
          17,
          10,
          3,
          1,
          1,
          7,
          33,
          40,
          18,
          8,
          1,
          2,
          9,
          1,
          34,
          63,
          18,
          5,
          1,
          1,
          3,
          25,
          46,
          13,
          11,
          1,
          3,
          4,
          5,
          1,
          38,
          51,
          14,
          13,
          2,
          2,
          1,
          2,
          2,
          3,
          1,
          1,
          12,
          30,
          13,
          15,
          1,
          4,
          2,
          1,
          4,
          20,
          31,
          20,
          14,
          1,
          1,
          12,
          2,
          1,
          2,
          2,
          12,
          33,
          6,
          15,
          2,
          3,
          1,
          5,
          3,
          3,
          2,
          2,
          22,
          21,
          16,
          14,
          1,
          2,
          11,
          2,
          6,
          1,
          1,
          21,
          24,
          24,
          25,
          2,
          14,
          5,
          1,
          3,
          5,
          1,
          1,
          38,
          25,
          22,
          23,
          3,
          3,
          6,
          1,
          2,
          4,
          9,
          2,
          3,
          60,
          13,
          10,
          28,
          5,
          9,
          2,
          4,
          21,
          3,
          2,
          22,
          14,
          17,
          22,
          6,
          3,
          18,
          3,
          7,
          22,
          2,
          2,
          6,
          31,
          26,
          26,
          31,
          13,
          3,
          8,
          1,
          3,
          55,
          4,
          14,
          21,
          14,
          14,
          22,
          21,
          5,
          6,
          10,
          1,
          45,
          1,
          1,
          4,
          10,
          13,
          17,
          16,
          1,
          4,
          10,
          3,
          2,
          12,
          2,
          2,
          70,
          5,
          6,
          8,
          8,
          13,
          12,
          13,
          1,
          9,
          2,
          1,
          1,
          5,
          1,
          1,
          3,
          77,
          3,
          9,
          16,
          17,
          21,
          18,
          24,
          3,
          4,
          2,
          3,
          8,
          82,
          4,
          8,
          33,
          10,
          6,
          7,
          16,
          1,
          4,
          9,
          5,
          1,
          1,
          11,
          64,
          5,
          30,
          42,
          20,
          11,
          6,
          14,
          1,
          8,
          3,
          11,
          3,
          1,
          4,
          4,
          56,
          8,
          32,
          48,
          20,
          7,
          5,
          26,
          1,
          6,
          10,
          2,
          9,
          1,
          1,
          2,
          3,
          14,
          43,
          4,
          23,
          1,
          51,
          2,
          13,
          7,
          26,
          1,
          10,
          2,
          1,
          6,
          8,
          3,
          1,
          19,
          60,
          9,
          39,
          1,
          55,
          7,
          7,
          9,
          12,
          9,
          7,
          7,
          3,
          7,
          2,
          7,
          26,
          44,
          12,
          23,
          26,
          24,
          12,
          9,
          35,
          1,
          10,
          7,
          4,
          3,
          8,
          2,
          1,
          25,
          28,
          11,
          36,
          1,
          74,
          12,
          14,
          20,
          26,
          1,
          2,
          21,
          4,
          1,
          7,
          5,
          6,
          11,
          19,
          32,
          13,
          40,
          4,
          45,
          12,
          12,
          16,
          27,
          1,
          1,
          2,
          5,
          7,
          2,
          5,
          2,
          1,
          1,
          7,
          39,
          41,
          14,
          13,
          6,
          35,
          6,
          16,
          25,
          21,
          3,
          15,
          10,
          1,
          1,
          20,
          1,
          11,
          17,
          26,
          40,
          14,
          24,
          3,
          32,
          15,
          20,
          31,
          28,
          2,
          1,
          1,
          6,
          10,
          2,
          1,
          1,
          10,
          2,
          10,
          21,
          34,
          34,
          11,
          10,
          7,
          37,
          10,
          11,
          12,
          26,
          1,
          4,
          22,
          9,
          16,
          1,
          11,
          3,
          13,
          17,
          42,
          31,
          13,
          40,
          8,
          50,
          14,
          13,
          19,
          26,
          1,
          2,
          29,
          15,
          28,
          4,
          8,
          2,
          14,
          17,
          31,
          32,
          13,
          34,
          14,
          42,
          12,
          32,
          31,
          24,
          1,
          1,
          1,
          5,
          25,
          20,
          23,
          1,
          1,
          13,
          8,
          10,
          37,
          47,
          13,
          43,
          14,
          69,
          67,
          43,
          33,
          33,
          1,
          1,
          14,
          15,
          26,
          45,
          6,
          2,
          34,
          1,
          13,
          13,
          42,
          16,
          14,
          34,
          10,
          57,
          21,
          25,
          30,
          25,
          1,
          1,
          4,
          23,
          35,
          26,
          37,
          3,
          4,
          21,
          4,
          21,
          13,
          36,
          30,
          8,
          40,
          10,
          38,
          31,
          18,
          36,
          30,
          1,
          4,
          38,
          69,
          20,
          27,
          3,
          10,
          28,
          8,
          66,
          18,
          76,
          19,
          18,
          22,
          9,
          44,
          23,
          49,
          47,
          23,
          1,
          6,
          6,
          32,
          50,
          23,
          39,
          6,
          9,
          32,
          12,
          42,
          7,
          41,
          17,
          4,
          18,
          9,
          31,
          14,
          27,
          33,
          14,
          3,
          6,
          15,
          13,
          59,
          27,
          34,
          6,
          19,
          61,
          10,
          83,
          24,
          29,
          13,
          19,
          34,
          6,
          34,
          38,
          36,
          34,
          12,
          10,
          10,
          21,
          33,
          44,
          19,
          20,
          1,
          17,
          51,
          12,
          64,
          16,
          59,
          16,
          34,
          37,
          43,
          14,
          19,
          42,
          22,
          12,
          21,
          42,
          95,
          60,
          37,
          35,
          1,
          25,
          63,
          34,
          54,
          26,
          58,
          15,
          28,
          29,
          1,
          83,
          4,
          8,
          11,
          27,
          17,
          43,
          46,
          30,
          194,
          50,
          35,
          21,
          17,
          28,
          79,
          56,
          64,
          21,
          61,
          7,
          27,
          22,
          2,
          61,
          8,
          2,
          6,
          53,
          23,
          131,
          105,
          69,
          259,
          68,
          46,
          18,
          33,
          30,
          91,
          130,
          65,
          46,
          82,
          32,
          39,
          51,
          13,
          100,
          11,
          34,
          11,
          40,
          20,
          146,
          45,
          151,
          120,
          102,
          47,
          26,
          102,
          30,
          140,
          242,
          67,
          45,
          112,
          16,
          74,
          93,
          39,
          82,
          21,
          18,
          18,
          25,
          18,
          70,
          88,
          214,
          126,
          153,
          39,
          37,
          146,
          39,
          136,
          317,
          39,
          52,
          166,
          3,
          130,
          106,
          27,
          128,
          34,
          9,
          20,
          19,
          29,
          32,
          155,
          158,
          141,
          148,
          57,
          41,
          150,
          81,
          162,
          190,
          72,
          132,
          174,
          3,
          155,
          183,
          65,
          131,
          84,
          21,
          22,
          43,
          30,
          56,
          302,
          151,
          246,
          214,
          85,
          76,
          192,
          228,
          174,
          204,
          98,
          137,
          138,
          1,
          176,
          163,
          217,
          57,
          268,
          8,
          19,
          68,
          34,
          652,
          674,
          584,
          411,
          343,
          574,
          396,
          566,
          657,
          110,
          342,
          264,
          510,
          176,
          2,
          419,
          194,
          757,
          68,
          805,
          12,
          105,
          367,
          93,
          39,
          47,
          65,
          33,
          21,
          54,
          26,
          30,
          59,
          7,
          99,
          5,
          75,
          3,
          15,
          5,
          98,
          56,
          3,
          32,
          13
         ],
         "y": {
          "dtype": "float64",
          "shape": [
           883
          ],
          "value": {}
         }
        },
        {
         "dimensions": [
          {
           "label": "year",
           "values": [
            1957,
            1957,
            1958,
            1960,
            1960,
            1961,
            1962,
            1962,
            1963,
            1963,
            1963,
            1963,
            1964,
            1964,
            1964,
            1964,
            1965,
            1965,
            1965,
            1965,
            1965,
            1965,
            1966,
            1966,
            1966,
            1966,
            1966,
            1966,
            1967,
            1967,
            1967,
            1967,
            1967,
            1967,
            1967,
            1968,
            1968,
            1968,
            1968,
            1968,
            1968,
            1968,
            1969,
            1969,
            1969,
            1969,
            1969,
            1969,
            1969,
            1970,
            1970,
            1970,
            1970,
            1970,
            1970,
            1970,
            1970,
            1971,
            1971,
            1971,
            1971,
            1971,
            1971,
            1971,
            1972,
            1972,
            1972,
            1972,
            1972,
            1972,
            1973,
            1973,
            1973,
            1973,
            1973,
            1973,
            1973,
            1974,
            1974,
            1974,
            1974,
            1974,
            1974,
            1974,
            1975,
            1975,
            1975,
            1975,
            1975,
            1975,
            1975,
            1976,
            1976,
            1976,
            1976,
            1976,
            1976,
            1976,
            1976,
            1977,
            1977,
            1977,
            1977,
            1977,
            1977,
            1977,
            1978,
            1978,
            1978,
            1978,
            1978,
            1978,
            1978,
            1978,
            1978,
            1979,
            1979,
            1979,
            1979,
            1979,
            1979,
            1979,
            1979,
            1979,
            1979,
            1979,
            1979,
            1980,
            1980,
            1980,
            1980,
            1980,
            1980,
            1980,
            1980,
            1980,
            1981,
            1981,
            1981,
            1981,
            1981,
            1981,
            1981,
            1981,
            1981,
            1981,
            1981,
            1982,
            1982,
            1982,
            1982,
            1982,
            1982,
            1982,
            1982,
            1982,
            1982,
            1982,
            1982,
            1983,
            1983,
            1983,
            1983,
            1983,
            1983,
            1983,
            1983,
            1983,
            1983,
            1983,
            1984,
            1984,
            1984,
            1984,
            1984,
            1984,
            1984,
            1984,
            1984,
            1984,
            1984,
            1984,
            1985,
            1985,
            1985,
            1985,
            1985,
            1985,
            1985,
            1985,
            1985,
            1985,
            1985,
            1985,
            1985,
            1986,
            1986,
            1986,
            1986,
            1986,
            1986,
            1986,
            1986,
            1986,
            1986,
            1986,
            1987,
            1987,
            1987,
            1987,
            1987,
            1987,
            1987,
            1987,
            1987,
            1987,
            1987,
            1987,
            1987,
            1988,
            1988,
            1988,
            1988,
            1988,
            1988,
            1988,
            1988,
            1988,
            1988,
            1988,
            1988,
            1988,
            1989,
            1989,
            1989,
            1989,
            1989,
            1989,
            1989,
            1989,
            1989,
            1989,
            1989,
            1989,
            1990,
            1990,
            1990,
            1990,
            1990,
            1990,
            1990,
            1990,
            1990,
            1990,
            1990,
            1990,
            1990,
            1990,
            1990,
            1990,
            1991,
            1991,
            1991,
            1991,
            1991,
            1991,
            1991,
            1991,
            1991,
            1991,
            1991,
            1991,
            1991,
            1991,
            1991,
            1991,
            1991,
            1992,
            1992,
            1992,
            1992,
            1992,
            1992,
            1992,
            1992,
            1992,
            1992,
            1992,
            1992,
            1992,
            1993,
            1993,
            1993,
            1993,
            1993,
            1993,
            1993,
            1993,
            1993,
            1993,
            1993,
            1993,
            1993,
            1993,
            1993,
            1994,
            1994,
            1994,
            1994,
            1994,
            1994,
            1994,
            1994,
            1994,
            1994,
            1994,
            1994,
            1994,
            1994,
            1994,
            1994,
            1995,
            1995,
            1995,
            1995,
            1995,
            1995,
            1995,
            1995,
            1995,
            1995,
            1995,
            1995,
            1995,
            1995,
            1995,
            1995,
            1995,
            1995,
            1995,
            1996,
            1996,
            1996,
            1996,
            1996,
            1996,
            1996,
            1996,
            1996,
            1996,
            1996,
            1996,
            1996,
            1996,
            1996,
            1996,
            1996,
            1996,
            1997,
            1997,
            1997,
            1997,
            1997,
            1997,
            1997,
            1997,
            1997,
            1997,
            1997,
            1997,
            1997,
            1997,
            1997,
            1997,
            1998,
            1998,
            1998,
            1998,
            1998,
            1998,
            1998,
            1998,
            1998,
            1998,
            1998,
            1998,
            1998,
            1998,
            1998,
            1998,
            1998,
            1998,
            1999,
            1999,
            1999,
            1999,
            1999,
            1999,
            1999,
            1999,
            1999,
            1999,
            1999,
            1999,
            1999,
            1999,
            1999,
            1999,
            1999,
            1999,
            1999,
            2000,
            2000,
            2000,
            2000,
            2000,
            2000,
            2000,
            2000,
            2000,
            2000,
            2000,
            2000,
            2000,
            2000,
            2000,
            2000,
            2000,
            2000,
            2000,
            2000,
            2000,
            2001,
            2001,
            2001,
            2001,
            2001,
            2001,
            2001,
            2001,
            2001,
            2001,
            2001,
            2001,
            2001,
            2001,
            2001,
            2001,
            2001,
            2001,
            2001,
            2002,
            2002,
            2002,
            2002,
            2002,
            2002,
            2002,
            2002,
            2002,
            2002,
            2002,
            2002,
            2002,
            2002,
            2002,
            2002,
            2002,
            2002,
            2002,
            2002,
            2002,
            2002,
            2003,
            2003,
            2003,
            2003,
            2003,
            2003,
            2003,
            2003,
            2003,
            2003,
            2003,
            2003,
            2003,
            2003,
            2003,
            2003,
            2003,
            2003,
            2003,
            2003,
            2004,
            2004,
            2004,
            2004,
            2004,
            2004,
            2004,
            2004,
            2004,
            2004,
            2004,
            2004,
            2004,
            2004,
            2004,
            2004,
            2004,
            2004,
            2004,
            2004,
            2005,
            2005,
            2005,
            2005,
            2005,
            2005,
            2005,
            2005,
            2005,
            2005,
            2005,
            2005,
            2005,
            2005,
            2005,
            2005,
            2005,
            2005,
            2005,
            2005,
            2005,
            2005,
            2006,
            2006,
            2006,
            2006,
            2006,
            2006,
            2006,
            2006,
            2006,
            2006,
            2006,
            2006,
            2006,
            2006,
            2006,
            2006,
            2006,
            2006,
            2006,
            2006,
            2006,
            2006,
            2007,
            2007,
            2007,
            2007,
            2007,
            2007,
            2007,
            2007,
            2007,
            2007,
            2007,
            2007,
            2007,
            2007,
            2007,
            2007,
            2007,
            2007,
            2007,
            2007,
            2007,
            2007,
            2007,
            2008,
            2008,
            2008,
            2008,
            2008,
            2008,
            2008,
            2008,
            2008,
            2008,
            2008,
            2008,
            2008,
            2008,
            2008,
            2008,
            2008,
            2008,
            2008,
            2008,
            2008,
            2008,
            2009,
            2009,
            2009,
            2009,
            2009,
            2009,
            2009,
            2009,
            2009,
            2009,
            2009,
            2009,
            2009,
            2009,
            2009,
            2009,
            2009,
            2009,
            2009,
            2009,
            2009,
            2009,
            2009,
            2010,
            2010,
            2010,
            2010,
            2010,
            2010,
            2010,
            2010,
            2010,
            2010,
            2010,
            2010,
            2010,
            2010,
            2010,
            2010,
            2010,
            2010,
            2010,
            2010,
            2010,
            2010,
            2010,
            2011,
            2011,
            2011,
            2011,
            2011,
            2011,
            2011,
            2011,
            2011,
            2011,
            2011,
            2011,
            2011,
            2011,
            2011,
            2011,
            2011,
            2011,
            2011,
            2011,
            2011,
            2011,
            2012,
            2012,
            2012,
            2012,
            2012,
            2012,
            2012,
            2012,
            2012,
            2012,
            2012,
            2012,
            2012,
            2012,
            2012,
            2012,
            2012,
            2012,
            2012,
            2012,
            2012,
            2012,
            2012,
            2012,
            2013,
            2013,
            2013,
            2013,
            2013,
            2013,
            2013,
            2013,
            2013,
            2013,
            2013,
            2013,
            2013,
            2013,
            2013,
            2013,
            2013,
            2013,
            2013,
            2013,
            2013,
            2013,
            2013,
            2013,
            2014,
            2014,
            2014,
            2014,
            2014,
            2014,
            2014,
            2014,
            2014,
            2014,
            2014,
            2014,
            2014,
            2014,
            2014,
            2014,
            2014,
            2014,
            2014,
            2014,
            2014,
            2014,
            2014,
            2014,
            2015,
            2015,
            2015,
            2015,
            2015,
            2015,
            2015,
            2015,
            2015,
            2015,
            2015,
            2015,
            2015,
            2015,
            2015,
            2015,
            2015,
            2015,
            2015,
            2015,
            2015,
            2015,
            2015,
            2015,
            2016,
            2016,
            2016,
            2016,
            2016,
            2016,
            2016,
            2016,
            2016,
            2016,
            2016,
            2016,
            2016,
            2016,
            2016,
            2016,
            2016,
            2016,
            2016,
            2016,
            2016,
            2016,
            2016,
            2016,
            2017,
            2017,
            2017,
            2017,
            2017,
            2017,
            2017,
            2017,
            2017,
            2017,
            2017,
            2017,
            2017,
            2017,
            2017,
            2017,
            2017,
            2017,
            2017,
            2017,
            2017,
            2017,
            2017,
            2017,
            2018,
            2018,
            2018,
            2018,
            2018,
            2018,
            2018,
            2018,
            2018,
            2018,
            2018,
            2018,
            2018,
            2018,
            2018,
            2018,
            2018,
            2018,
            2018,
            2018,
            2018,
            2018,
            2018,
            2018,
            2019,
            2019,
            2019,
            2019,
            2019,
            2019,
            2019,
            2019,
            2019,
            2019,
            2019,
            2019,
            2019,
            2019,
            2019,
            2019,
            2019,
            2019,
            2019,
            2019,
            2019,
            2019,
            2019,
            2019,
            2020,
            2020,
            2020,
            2020,
            2020,
            2020,
            2020,
            2020,
            2020,
            2020,
            2020,
            2020,
            2020,
            2020,
            2020,
            2020,
            2020,
            2020,
            2020,
            2020,
            2020
           ]
          },
          {
           "label": "genre",
           "values": [
            "r&b",
            "rock",
            "rock",
            "r&b",
            "r&b",
            "r&b",
            "r&b",
            "rock",
            "r&b",
            "rock",
            "rock",
            "rock",
            "r&b",
            "rock",
            "rock",
            "rock",
            "latin",
            "r&b",
            "rock",
            "rock",
            "rock",
            "rock",
            "r&b",
            "r&b",
            "rock",
            "rock",
            "rock",
            "rock",
            "r&b",
            "r&b",
            "rap",
            "rock",
            "rock",
            "rock",
            "rock",
            "r&b",
            "r&b",
            "rap",
            "rock",
            "rock",
            "rock",
            "rock",
            "pop",
            "r&b",
            "rap",
            "rock",
            "rock",
            "rock",
            "rock",
            "pop",
            "r&b",
            "r&b",
            "rap",
            "rock",
            "rock",
            "rock",
            "rock",
            "r&b",
            "r&b",
            "rap",
            "rock",
            "rock",
            "rock",
            "rock",
            "r&b",
            "rap",
            "rock",
            "rock",
            "rock",
            "rock",
            "pop",
            "r&b",
            "rap",
            "rock",
            "rock",
            "rock",
            "rock",
            "pop",
            "r&b",
            "rap",
            "rock",
            "rock",
            "rock",
            "rock",
            "pop",
            "r&b",
            "r&b",
            "rock",
            "rock",
            "rock",
            "rock",
            "latin",
            "pop",
            "r&b",
            "rap",
            "rock",
            "rock",
            "rock",
            "rock",
            "edm",
            "pop",
            "r&b",
            "rock",
            "rock",
            "rock",
            "rock",
            "edm",
            "pop",
            "pop",
            "r&b",
            "rap",
            "rock",
            "rock",
            "rock",
            "rock",
            "edm",
            "latin",
            "latin",
            "pop",
            "pop",
            "r&b",
            "r&b",
            "r&b",
            "rock",
            "rock",
            "rock",
            "rock",
            "edm",
            "pop",
            "pop",
            "r&b",
            "r&b",
            "rock",
            "rock",
            "rock",
            "rock",
            "edm",
            "latin",
            "pop",
            "pop",
            "r&b",
            "r&b",
            "rap",
            "rock",
            "rock",
            "rock",
            "rock",
            "edm",
            "latin",
            "latin",
            "pop",
            "pop",
            "r&b",
            "r&b",
            "rap",
            "rock",
            "rock",
            "rock",
            "rock",
            "edm",
            "latin",
            "pop",
            "pop",
            "r&b",
            "r&b",
            "rap",
            "rock",
            "rock",
            "rock",
            "rock",
            "latin",
            "pop",
            "pop",
            "r&b",
            "r&b",
            "r&b",
            "r&b",
            "rap",
            "rock",
            "rock",
            "rock",
            "rock",
            "latin",
            "latin",
            "pop",
            "pop",
            "pop",
            "r&b",
            "r&b",
            "r&b",
            "rap",
            "rock",
            "rock",
            "rock",
            "rock",
            "latin",
            "pop",
            "pop",
            "r&b",
            "r&b",
            "r&b",
            "rap",
            "rock",
            "rock",
            "rock",
            "rock",
            "latin",
            "latin",
            "pop",
            "pop",
            "r&b",
            "r&b",
            "r&b",
            "rap",
            "rap",
            "rock",
            "rock",
            "rock",
            "rock",
            "latin",
            "latin",
            "pop",
            "pop",
            "r&b",
            "r&b",
            "r&b",
            "rap",
            "rap",
            "rock",
            "rock",
            "rock",
            "rock",
            "latin",
            "latin",
            "pop",
            "r&b",
            "r&b",
            "r&b",
            "rap",
            "rap",
            "rock",
            "rock",
            "rock",
            "rock",
            "edm",
            "latin",
            "latin",
            "latin",
            "pop",
            "pop",
            "pop",
            "r&b",
            "r&b",
            "r&b",
            "rap",
            "rap",
            "rock",
            "rock",
            "rock",
            "rock",
            "edm",
            "latin",
            "latin",
            "latin",
            "pop",
            "pop",
            "pop",
            "r&b",
            "r&b",
            "r&b",
            "r&b",
            "rap",
            "rap",
            "rock",
            "rock",
            "rock",
            "rock",
            "latin",
            "pop",
            "pop",
            "r&b",
            "r&b",
            "r&b",
            "r&b",
            "rap",
            "rap",
            "rock",
            "rock",
            "rock",
            "rock",
            "edm",
            "latin",
            "latin",
            "pop",
            "pop",
            "pop",
            "r&b",
            "r&b",
            "r&b",
            "rap",
            "rap",
            "rock",
            "rock",
            "rock",
            "rock",
            "edm",
            "latin",
            "latin",
            "pop",
            "pop",
            "pop",
            "r&b",
            "r&b",
            "r&b",
            "r&b",
            "rap",
            "rap",
            "rock",
            "rock",
            "rock",
            "rock",
            "edm",
            "latin",
            "latin",
            "latin",
            "pop",
            "pop",
            "pop",
            "pop",
            "r&b",
            "r&b",
            "r&b",
            "r&b",
            "rap",
            "rap",
            "rap",
            "rock",
            "rock",
            "rock",
            "rock",
            "edm",
            "latin",
            "latin",
            "latin",
            "pop",
            "pop",
            "pop",
            "r&b",
            "r&b",
            "r&b",
            "r&b",
            "rap",
            "rap",
            "rap",
            "rock",
            "rock",
            "rock",
            "rock",
            "latin",
            "latin",
            "latin",
            "pop",
            "pop",
            "pop",
            "r&b",
            "r&b",
            "r&b",
            "r&b",
            "rap",
            "rap",
            "rock",
            "rock",
            "rock",
            "rock",
            "edm",
            "latin",
            "latin",
            "latin",
            "pop",
            "pop",
            "pop",
            "r&b",
            "r&b",
            "r&b",
            "r&b",
            "rap",
            "rap",
            "rap",
            "rock",
            "rock",
            "rock",
            "rock",
            "edm",
            "edm",
            "latin",
            "latin",
            "latin",
            "pop",
            "pop",
            "pop",
            "r&b",
            "r&b",
            "r&b",
            "r&b",
            "rap",
            "rap",
            "rap",
            "rock",
            "rock",
            "rock",
            "rock",
            "edm",
            "edm",
            "edm",
            "latin",
            "latin",
            "latin",
            "pop",
            "pop",
            "pop",
            "pop",
            "r&b",
            "r&b",
            "r&b",
            "r&b",
            "rap",
            "rap",
            "rap",
            "rock",
            "rock",
            "rock",
            "rock",
            "edm",
            "latin",
            "latin",
            "latin",
            "pop",
            "pop",
            "pop",
            "pop",
            "r&b",
            "r&b",
            "r&b",
            "r&b",
            "rap",
            "rap",
            "rap",
            "rock",
            "rock",
            "rock",
            "rock",
            "edm",
            "edm",
            "edm",
            "latin",
            "latin",
            "latin",
            "latin",
            "pop",
            "pop",
            "pop",
            "pop",
            "r&b",
            "r&b",
            "r&b",
            "r&b",
            "rap",
            "rap",
            "rap",
            "rock",
            "rock",
            "rock",
            "rock",
            "edm",
            "edm",
            "latin",
            "latin",
            "latin",
            "pop",
            "pop",
            "pop",
            "pop",
            "r&b",
            "r&b",
            "r&b",
            "r&b",
            "rap",
            "rap",
            "rap",
            "rock",
            "rock",
            "rock",
            "rock",
            "edm",
            "edm",
            "latin",
            "latin",
            "latin",
            "latin",
            "pop",
            "pop",
            "pop",
            "r&b",
            "r&b",
            "r&b",
            "r&b",
            "rap",
            "rap",
            "rap",
            "rock",
            "rock",
            "rock",
            "rock",
            "edm",
            "edm",
            "edm",
            "edm",
            "latin",
            "latin",
            "latin",
            "latin",
            "pop",
            "pop",
            "pop",
            "r&b",
            "r&b",
            "r&b",
            "r&b",
            "rap",
            "rap",
            "rap",
            "rock",
            "rock",
            "rock",
            "rock",
            "edm",
            "edm",
            "edm",
            "latin",
            "latin",
            "latin",
            "latin",
            "pop",
            "pop",
            "pop",
            "pop",
            "r&b",
            "r&b",
            "r&b",
            "r&b",
            "rap",
            "rap",
            "rap",
            "rock",
            "rock",
            "rock",
            "rock",
            "edm",
            "edm",
            "edm",
            "edm",
            "latin",
            "latin",
            "latin",
            "latin",
            "pop",
            "pop",
            "pop",
            "pop",
            "r&b",
            "r&b",
            "r&b",
            "r&b",
            "rap",
            "rap",
            "rap",
            "rock",
            "rock",
            "rock",
            "rock",
            "edm",
            "edm",
            "edm",
            "latin",
            "latin",
            "latin",
            "latin",
            "pop",
            "pop",
            "pop",
            "pop",
            "r&b",
            "r&b",
            "r&b",
            "r&b",
            "rap",
            "rap",
            "rap",
            "rock",
            "rock",
            "rock",
            "rock",
            "edm",
            "edm",
            "edm",
            "edm",
            "latin",
            "latin",
            "latin",
            "latin",
            "pop",
            "pop",
            "pop",
            "pop",
            "r&b",
            "r&b",
            "r&b",
            "r&b",
            "rap",
            "rap",
            "rap",
            "rock",
            "rock",
            "rock",
            "rock",
            "edm",
            "edm",
            "edm",
            "edm",
            "latin",
            "latin",
            "latin",
            "latin",
            "pop",
            "pop",
            "pop",
            "pop",
            "r&b",
            "r&b",
            "r&b",
            "r&b",
            "rap",
            "rap",
            "rap",
            "rock",
            "rock",
            "rock",
            "rock",
            "edm",
            "edm",
            "edm",
            "edm",
            "latin",
            "latin",
            "latin",
            "latin",
            "pop",
            "pop",
            "pop",
            "pop",
            "r&b",
            "r&b",
            "r&b",
            "r&b",
            "rap",
            "rap",
            "rock",
            "rock",
            "rock",
            "rock",
            "edm",
            "edm",
            "edm",
            "edm",
            "latin",
            "latin",
            "latin",
            "latin",
            "pop",
            "pop",
            "pop",
            "pop",
            "r&b",
            "r&b",
            "r&b",
            "r&b",
            "rap",
            "rap",
            "rap",
            "rap",
            "rock",
            "rock",
            "rock",
            "rock",
            "edm",
            "edm",
            "edm",
            "edm",
            "latin",
            "latin",
            "latin",
            "latin",
            "pop",
            "pop",
            "pop",
            "pop",
            "r&b",
            "r&b",
            "r&b",
            "r&b",
            "rap",
            "rap",
            "rap",
            "rap",
            "rock",
            "rock",
            "rock",
            "rock",
            "edm",
            "edm",
            "edm",
            "edm",
            "latin",
            "latin",
            "latin",
            "latin",
            "pop",
            "pop",
            "pop",
            "pop",
            "r&b",
            "r&b",
            "r&b",
            "r&b",
            "rap",
            "rap",
            "rap",
            "rap",
            "rock",
            "rock",
            "rock",
            "rock",
            "edm",
            "edm",
            "edm",
            "edm",
            "latin",
            "latin",
            "latin",
            "latin",
            "pop",
            "pop",
            "pop",
            "pop",
            "r&b",
            "r&b",
            "r&b",
            "r&b",
            "rap",
            "rap",
            "rap",
            "rap",
            "rock",
            "rock",
            "rock",
            "rock",
            "edm",
            "edm",
            "edm",
            "edm",
            "latin",
            "latin",
            "latin",
            "latin",
            "pop",
            "pop",
            "pop",
            "pop",
            "r&b",
            "r&b",
            "r&b",
            "r&b",
            "rap",
            "rap",
            "rap",
            "rap",
            "rock",
            "rock",
            "rock",
            "rock",
            "edm",
            "edm",
            "edm",
            "edm",
            "latin",
            "latin",
            "latin",
            "latin",
            "pop",
            "pop",
            "pop",
            "pop",
            "r&b",
            "r&b",
            "r&b",
            "r&b",
            "rap",
            "rap",
            "rap",
            "rap",
            "rock",
            "rock",
            "rock",
            "rock",
            "edm",
            "edm",
            "edm",
            "edm",
            "latin",
            "latin",
            "latin",
            "latin",
            "pop",
            "pop",
            "pop",
            "pop",
            "r&b",
            "r&b",
            "r&b",
            "r&b",
            "rap",
            "rap",
            "rap",
            "rap",
            "rock",
            "rock",
            "rock",
            "rock",
            "edm",
            "edm",
            "edm",
            "edm",
            "latin",
            "latin",
            "latin",
            "latin",
            "pop",
            "pop",
            "pop",
            "pop",
            "r&b",
            "r&b",
            "r&b",
            "r&b",
            "rap",
            "rap",
            "rap",
            "rap",
            "rock",
            "rock",
            "rock",
            "rock",
            "edm",
            "edm",
            "edm",
            "edm",
            "latin",
            "latin",
            "latin",
            "latin",
            "pop",
            "pop",
            "pop",
            "pop",
            "r&b",
            "r&b",
            "r&b",
            "rap",
            "rap",
            "rap",
            "rock",
            "rock",
            "rock"
           ]
          },
          {
           "label": "subgenre",
           "values": [
            "urban contemporary",
            "classic rock",
            "classic rock",
            "neo soul",
            "urban contemporary",
            "urban contemporary",
            "urban contemporary",
            "classic rock",
            "neo soul",
            "album rock",
            "classic rock",
            "hard rock",
            "neo soul",
            "album rock",
            "classic rock",
            "permanent wave",
            "latin hip hop",
            "urban contemporary",
            "album rock",
            "classic rock",
            "hard rock",
            "permanent wave",
            "neo soul",
            "urban contemporary",
            "album rock",
            "classic rock",
            "hard rock",
            "permanent wave",
            "neo soul",
            "urban contemporary",
            "southern hip hop",
            "album rock",
            "classic rock",
            "hard rock",
            "permanent wave",
            "neo soul",
            "urban contemporary",
            "southern hip hop",
            "album rock",
            "classic rock",
            "hard rock",
            "permanent wave",
            "post-teen pop",
            "urban contemporary",
            "southern hip hop",
            "album rock",
            "classic rock",
            "hard rock",
            "permanent wave",
            "post-teen pop",
            "neo soul",
            "urban contemporary",
            "southern hip hop",
            "album rock",
            "classic rock",
            "hard rock",
            "permanent wave",
            "neo soul",
            "urban contemporary",
            "southern hip hop",
            "album rock",
            "classic rock",
            "hard rock",
            "permanent wave",
            "urban contemporary",
            "southern hip hop",
            "album rock",
            "classic rock",
            "hard rock",
            "permanent wave",
            "post-teen pop",
            "urban contemporary",
            "southern hip hop",
            "album rock",
            "classic rock",
            "hard rock",
            "permanent wave",
            "post-teen pop",
            "urban contemporary",
            "southern hip hop",
            "album rock",
            "classic rock",
            "hard rock",
            "permanent wave",
            "electropop",
            "neo soul",
            "urban contemporary",
            "album rock",
            "classic rock",
            "hard rock",
            "permanent wave",
            "latin hip hop",
            "post-teen pop",
            "urban contemporary",
            "southern hip hop",
            "album rock",
            "classic rock",
            "hard rock",
            "permanent wave",
            "progressive electro house",
            "post-teen pop",
            "urban contemporary",
            "album rock",
            "classic rock",
            "hard rock",
            "permanent wave",
            "progressive electro house",
            "electropop",
            "post-teen pop",
            "urban contemporary",
            "southern hip hop",
            "album rock",
            "classic rock",
            "hard rock",
            "permanent wave",
            "progressive electro house",
            "latin hip hop",
            "latin pop",
            "electropop",
            "post-teen pop",
            "neo soul",
            "new jack swing",
            "urban contemporary",
            "album rock",
            "classic rock",
            "hard rock",
            "permanent wave",
            "progressive electro house",
            "electropop",
            "post-teen pop",
            "new jack swing",
            "urban contemporary",
            "album rock",
            "classic rock",
            "hard rock",
            "permanent wave",
            "progressive electro house",
            "latin hip hop",
            "electropop",
            "post-teen pop",
            "neo soul",
            "urban contemporary",
            "southern hip hop",
            "album rock",
            "classic rock",
            "hard rock",
            "permanent wave",
            "progressive electro house",
            "latin hip hop",
            "latin pop",
            "electropop",
            "post-teen pop",
            "new jack swing",
            "urban contemporary",
            "southern hip hop",
            "album rock",
            "classic rock",
            "hard rock",
            "permanent wave",
            "progressive electro house",
            "latin hip hop",
            "electropop",
            "post-teen pop",
            "neo soul",
            "urban contemporary",
            "southern hip hop",
            "album rock",
            "classic rock",
            "hard rock",
            "permanent wave",
            "latin pop",
            "electropop",
            "post-teen pop",
            "hip pop",
            "neo soul",
            "new jack swing",
            "urban contemporary",
            "southern hip hop",
            "album rock",
            "classic rock",
            "hard rock",
            "permanent wave",
            "latin hip hop",
            "latin pop",
            "electropop",
            "indie poptimism",
            "post-teen pop",
            "neo soul",
            "new jack swing",
            "urban contemporary",
            "southern hip hop",
            "album rock",
            "classic rock",
            "hard rock",
            "permanent wave",
            "latin hip hop",
            "electropop",
            "post-teen pop",
            "neo soul",
            "new jack swing",
            "urban contemporary",
            "southern hip hop",
            "album rock",
            "classic rock",
            "hard rock",
            "permanent wave",
            "latin hip hop",
            "latin pop",
            "electropop",
            "post-teen pop",
            "neo soul",
            "new jack swing",
            "urban contemporary",
            "gangster rap",
            "southern hip hop",
            "album rock",
            "classic rock",
            "hard rock",
            "permanent wave",
            "latin hip hop",
            "latin pop",
            "electropop",
            "post-teen pop",
            "neo soul",
            "new jack swing",
            "urban contemporary",
            "gangster rap",
            "southern hip hop",
            "album rock",
            "classic rock",
            "hard rock",
            "permanent wave",
            "latin hip hop",
            "latin pop",
            "electropop",
            "neo soul",
            "new jack swing",
            "urban contemporary",
            "gangster rap",
            "southern hip hop",
            "album rock",
            "classic rock",
            "hard rock",
            "permanent wave",
            "progressive electro house",
            "latin hip hop",
            "latin pop",
            "tropical",
            "dance pop",
            "electropop",
            "post-teen pop",
            "neo soul",
            "new jack swing",
            "urban contemporary",
            "gangster rap",
            "southern hip hop",
            "album rock",
            "classic rock",
            "hard rock",
            "permanent wave",
            "progressive electro house",
            "latin hip hop",
            "latin pop",
            "reggaeton",
            "dance pop",
            "electropop",
            "post-teen pop",
            "hip pop",
            "neo soul",
            "new jack swing",
            "urban contemporary",
            "gangster rap",
            "southern hip hop",
            "album rock",
            "classic rock",
            "hard rock",
            "permanent wave",
            "latin pop",
            "dance pop",
            "electropop",
            "hip pop",
            "neo soul",
            "new jack swing",
            "urban contemporary",
            "gangster rap",
            "southern hip hop",
            "album rock",
            "classic rock",
            "hard rock",
            "permanent wave",
            "progressive electro house",
            "latin hip hop",
            "latin pop",
            "dance pop",
            "electropop",
            "post-teen pop",
            "neo soul",
            "new jack swing",
            "urban contemporary",
            "gangster rap",
            "southern hip hop",
            "album rock",
            "classic rock",
            "hard rock",
            "permanent wave",
            "progressive electro house",
            "latin hip hop",
            "latin pop",
            "dance pop",
            "electropop",
            "post-teen pop",
            "hip pop",
            "neo soul",
            "new jack swing",
            "urban contemporary",
            "gangster rap",
            "southern hip hop",
            "album rock",
            "classic rock",
            "hard rock",
            "permanent wave",
            "big room",
            "latin hip hop",
            "latin pop",
            "tropical",
            "dance pop",
            "electropop",
            "indie poptimism",
            "post-teen pop",
            "hip pop",
            "neo soul",
            "new jack swing",
            "urban contemporary",
            "gangster rap",
            "hip hop",
            "southern hip hop",
            "album rock",
            "classic rock",
            "hard rock",
            "permanent wave",
            "big room",
            "latin hip hop",
            "latin pop",
            "tropical",
            "dance pop",
            "electropop",
            "post-teen pop",
            "hip pop",
            "neo soul",
            "new jack swing",
            "urban contemporary",
            "gangster rap",
            "hip hop",
            "southern hip hop",
            "album rock",
            "classic rock",
            "hard rock",
            "permanent wave",
            "latin hip hop",
            "latin pop",
            "tropical",
            "dance pop",
            "electropop",
            "post-teen pop",
            "hip pop",
            "neo soul",
            "new jack swing",
            "urban contemporary",
            "gangster rap",
            "southern hip hop",
            "album rock",
            "classic rock",
            "hard rock",
            "permanent wave",
            "progressive electro house",
            "latin hip hop",
            "latin pop",
            "tropical",
            "dance pop",
            "electropop",
            "post-teen pop",
            "hip pop",
            "neo soul",
            "new jack swing",
            "urban contemporary",
            "gangster rap",
            "hip hop",
            "southern hip hop",
            "album rock",
            "classic rock",
            "hard rock",
            "permanent wave",
            "big room",
            "electro house",
            "latin hip hop",
            "latin pop",
            "reggaeton",
            "dance pop",
            "electropop",
            "post-teen pop",
            "hip pop",
            "neo soul",
            "new jack swing",
            "urban contemporary",
            "gangster rap",
            "hip hop",
            "southern hip hop",
            "album rock",
            "classic rock",
            "hard rock",
            "permanent wave",
            "big room",
            "pop edm",
            "progressive electro house",
            "latin hip hop",
            "latin pop",
            "tropical",
            "dance pop",
            "electropop",
            "indie poptimism",
            "post-teen pop",
            "hip pop",
            "neo soul",
            "new jack swing",
            "urban contemporary",
            "gangster rap",
            "hip hop",
            "southern hip hop",
            "album rock",
            "classic rock",
            "hard rock",
            "permanent wave",
            "progressive electro house",
            "latin hip hop",
            "latin pop",
            "tropical",
            "dance pop",
            "electropop",
            "indie poptimism",
            "post-teen pop",
            "hip pop",
            "neo soul",
            "new jack swing",
            "urban contemporary",
            "gangster rap",
            "hip hop",
            "southern hip hop",
            "album rock",
            "classic rock",
            "hard rock",
            "permanent wave",
            "big room",
            "electro house",
            "progressive electro house",
            "latin hip hop",
            "latin pop",
            "reggaeton",
            "tropical",
            "dance pop",
            "electropop",
            "indie poptimism",
            "post-teen pop",
            "hip pop",
            "neo soul",
            "new jack swing",
            "urban contemporary",
            "gangster rap",
            "hip hop",
            "southern hip hop",
            "album rock",
            "classic rock",
            "hard rock",
            "permanent wave",
            "big room",
            "progressive electro house",
            "latin hip hop",
            "latin pop",
            "reggaeton",
            "dance pop",
            "electropop",
            "indie poptimism",
            "post-teen pop",
            "hip pop",
            "neo soul",
            "new jack swing",
            "urban contemporary",
            "gangster rap",
            "hip hop",
            "southern hip hop",
            "album rock",
            "classic rock",
            "hard rock",
            "permanent wave",
            "big room",
            "progressive electro house",
            "latin hip hop",
            "latin pop",
            "reggaeton",
            "tropical",
            "electropop",
            "indie poptimism",
            "post-teen pop",
            "hip pop",
            "neo soul",
            "new jack swing",
            "urban contemporary",
            "gangster rap",
            "hip hop",
            "southern hip hop",
            "album rock",
            "classic rock",
            "hard rock",
            "permanent wave",
            "big room",
            "electro house",
            "pop edm",
            "progressive electro house",
            "latin hip hop",
            "latin pop",
            "reggaeton",
            "tropical",
            "dance pop",
            "electropop",
            "post-teen pop",
            "hip pop",
            "neo soul",
            "new jack swing",
            "urban contemporary",
            "gangster rap",
            "hip hop",
            "southern hip hop",
            "album rock",
            "classic rock",
            "hard rock",
            "permanent wave",
            "big room",
            "pop edm",
            "progressive electro house",
            "latin hip hop",
            "latin pop",
            "reggaeton",
            "tropical",
            "dance pop",
            "electropop",
            "indie poptimism",
            "post-teen pop",
            "hip pop",
            "neo soul",
            "new jack swing",
            "urban contemporary",
            "gangster rap",
            "hip hop",
            "southern hip hop",
            "album rock",
            "classic rock",
            "hard rock",
            "permanent wave",
            "big room",
            "electro house",
            "pop edm",
            "progressive electro house",
            "latin hip hop",
            "latin pop",
            "reggaeton",
            "tropical",
            "dance pop",
            "electropop",
            "indie poptimism",
            "post-teen pop",
            "hip pop",
            "neo soul",
            "new jack swing",
            "urban contemporary",
            "gangster rap",
            "hip hop",
            "southern hip hop",
            "album rock",
            "classic rock",
            "hard rock",
            "permanent wave",
            "electro house",
            "pop edm",
            "progressive electro house",
            "latin hip hop",
            "latin pop",
            "reggaeton",
            "tropical",
            "dance pop",
            "electropop",
            "indie poptimism",
            "post-teen pop",
            "hip pop",
            "neo soul",
            "new jack swing",
            "urban contemporary",
            "gangster rap",
            "hip hop",
            "southern hip hop",
            "album rock",
            "classic rock",
            "hard rock",
            "permanent wave",
            "big room",
            "electro house",
            "pop edm",
            "progressive electro house",
            "latin hip hop",
            "latin pop",
            "reggaeton",
            "tropical",
            "dance pop",
            "electropop",
            "indie poptimism",
            "post-teen pop",
            "hip pop",
            "neo soul",
            "new jack swing",
            "urban contemporary",
            "gangster rap",
            "hip hop",
            "southern hip hop",
            "album rock",
            "classic rock",
            "hard rock",
            "permanent wave",
            "big room",
            "electro house",
            "pop edm",
            "progressive electro house",
            "latin hip hop",
            "latin pop",
            "reggaeton",
            "tropical",
            "dance pop",
            "electropop",
            "indie poptimism",
            "post-teen pop",
            "hip pop",
            "neo soul",
            "new jack swing",
            "urban contemporary",
            "gangster rap",
            "hip hop",
            "southern hip hop",
            "album rock",
            "classic rock",
            "hard rock",
            "permanent wave",
            "big room",
            "electro house",
            "pop edm",
            "progressive electro house",
            "latin hip hop",
            "latin pop",
            "reggaeton",
            "tropical",
            "dance pop",
            "electropop",
            "indie poptimism",
            "post-teen pop",
            "hip pop",
            "neo soul",
            "new jack swing",
            "urban contemporary",
            "gangster rap",
            "southern hip hop",
            "album rock",
            "classic rock",
            "hard rock",
            "permanent wave",
            "big room",
            "electro house",
            "pop edm",
            "progressive electro house",
            "latin hip hop",
            "latin pop",
            "reggaeton",
            "tropical",
            "dance pop",
            "electropop",
            "indie poptimism",
            "post-teen pop",
            "hip pop",
            "neo soul",
            "new jack swing",
            "urban contemporary",
            "gangster rap",
            "hip hop",
            "southern hip hop",
            "trap",
            "album rock",
            "classic rock",
            "hard rock",
            "permanent wave",
            "big room",
            "electro house",
            "pop edm",
            "progressive electro house",
            "latin hip hop",
            "latin pop",
            "reggaeton",
            "tropical",
            "dance pop",
            "electropop",
            "indie poptimism",
            "post-teen pop",
            "hip pop",
            "neo soul",
            "new jack swing",
            "urban contemporary",
            "gangster rap",
            "hip hop",
            "southern hip hop",
            "trap",
            "album rock",
            "classic rock",
            "hard rock",
            "permanent wave",
            "big room",
            "electro house",
            "pop edm",
            "progressive electro house",
            "latin hip hop",
            "latin pop",
            "reggaeton",
            "tropical",
            "dance pop",
            "electropop",
            "indie poptimism",
            "post-teen pop",
            "hip pop",
            "neo soul",
            "new jack swing",
            "urban contemporary",
            "gangster rap",
            "hip hop",
            "southern hip hop",
            "trap",
            "album rock",
            "classic rock",
            "hard rock",
            "permanent wave",
            "big room",
            "electro house",
            "pop edm",
            "progressive electro house",
            "latin hip hop",
            "latin pop",
            "reggaeton",
            "tropical",
            "dance pop",
            "electropop",
            "indie poptimism",
            "post-teen pop",
            "hip pop",
            "neo soul",
            "new jack swing",
            "urban contemporary",
            "gangster rap",
            "hip hop",
            "southern hip hop",
            "trap",
            "album rock",
            "classic rock",
            "hard rock",
            "permanent wave",
            "big room",
            "electro house",
            "pop edm",
            "progressive electro house",
            "latin hip hop",
            "latin pop",
            "reggaeton",
            "tropical",
            "dance pop",
            "electropop",
            "indie poptimism",
            "post-teen pop",
            "hip pop",
            "neo soul",
            "new jack swing",
            "urban contemporary",
            "gangster rap",
            "hip hop",
            "southern hip hop",
            "trap",
            "album rock",
            "classic rock",
            "hard rock",
            "permanent wave",
            "big room",
            "electro house",
            "pop edm",
            "progressive electro house",
            "latin hip hop",
            "latin pop",
            "reggaeton",
            "tropical",
            "dance pop",
            "electropop",
            "indie poptimism",
            "post-teen pop",
            "hip pop",
            "neo soul",
            "new jack swing",
            "urban contemporary",
            "gangster rap",
            "hip hop",
            "southern hip hop",
            "trap",
            "album rock",
            "classic rock",
            "hard rock",
            "permanent wave",
            "big room",
            "electro house",
            "pop edm",
            "progressive electro house",
            "latin hip hop",
            "latin pop",
            "reggaeton",
            "tropical",
            "dance pop",
            "electropop",
            "indie poptimism",
            "post-teen pop",
            "hip pop",
            "neo soul",
            "new jack swing",
            "urban contemporary",
            "gangster rap",
            "hip hop",
            "southern hip hop",
            "trap",
            "album rock",
            "classic rock",
            "hard rock",
            "permanent wave",
            "big room",
            "electro house",
            "pop edm",
            "progressive electro house",
            "latin hip hop",
            "latin pop",
            "reggaeton",
            "tropical",
            "dance pop",
            "electropop",
            "indie poptimism",
            "post-teen pop",
            "hip pop",
            "neo soul",
            "new jack swing",
            "urban contemporary",
            "gangster rap",
            "hip hop",
            "southern hip hop",
            "trap",
            "album rock",
            "classic rock",
            "hard rock",
            "permanent wave",
            "big room",
            "electro house",
            "pop edm",
            "progressive electro house",
            "latin hip hop",
            "latin pop",
            "reggaeton",
            "tropical",
            "dance pop",
            "electropop",
            "indie poptimism",
            "post-teen pop",
            "hip pop",
            "neo soul",
            "urban contemporary",
            "gangster rap",
            "hip hop",
            "trap",
            "classic rock",
            "hard rock",
            "permanent wave"
           ]
          }
         ],
         "domain": {
          "y": [
           0,
           0.4
          ]
         },
         "line": {
          "cmax": 2.5,
          "cmin": -0.5,
          "color": {
           "dtype": "uint8",
           "shape": [
            883
           ],
           "value": {}
          },
          "colorscale": [
           [
            0,
            "gray"
           ],
           [
            0.33,
            "gray"
           ],
           [
            0.33,
            "firebrick"
           ],
           [
            0.66,
            "firebrick"
           ],
           [
            0.66,
            "blue"
           ],
           [
            1,
            "blue"
           ]
          ],
          "shape": "hspline"
         },
         "type": "parcats",
         "uid": "aa13035a-6495-4837-a903-6cb7273b8f3d"
        }
       ],
       "_js2py_restyle": {},
       "_js2py_update": {},
       "_last_layout_edit_id": 2,
       "_last_trace_edit_id": 1,
       "_layout": {
        "autosize": true,
        "dragmode": "lasso",
        "height": 800,
        "hovermode": "closest",
        "template": {
         "data": {
          "bar": [
           {
            "error_x": {
             "color": "#2a3f5f"
            },
            "error_y": {
             "color": "#2a3f5f"
            },
            "marker": {
             "line": {
              "color": "#E5ECF6",
              "width": 0.5
             }
            },
            "type": "bar"
           }
          ],
          "barpolar": [
           {
            "marker": {
             "line": {
              "color": "#E5ECF6",
              "width": 0.5
             }
            },
            "type": "barpolar"
           }
          ],
          "carpet": [
           {
            "aaxis": {
             "endlinecolor": "#2a3f5f",
             "gridcolor": "white",
             "linecolor": "white",
             "minorgridcolor": "white",
             "startlinecolor": "#2a3f5f"
            },
            "baxis": {
             "endlinecolor": "#2a3f5f",
             "gridcolor": "white",
             "linecolor": "white",
             "minorgridcolor": "white",
             "startlinecolor": "#2a3f5f"
            },
            "type": "carpet"
           }
          ],
          "choropleth": [
           {
            "colorbar": {
             "outlinewidth": 0,
             "ticks": ""
            },
            "type": "choropleth"
           }
          ],
          "contour": [
           {
            "colorbar": {
             "outlinewidth": 0,
             "ticks": ""
            },
            "colorscale": [
             [
              0,
              "#0d0887"
             ],
             [
              0.1111111111111111,
              "#46039f"
             ],
             [
              0.2222222222222222,
              "#7201a8"
             ],
             [
              0.3333333333333333,
              "#9c179e"
             ],
             [
              0.4444444444444444,
              "#bd3786"
             ],
             [
              0.5555555555555556,
              "#d8576b"
             ],
             [
              0.6666666666666666,
              "#ed7953"
             ],
             [
              0.7777777777777778,
              "#fb9f3a"
             ],
             [
              0.8888888888888888,
              "#fdca26"
             ],
             [
              1,
              "#f0f921"
             ]
            ],
            "type": "contour"
           }
          ],
          "contourcarpet": [
           {
            "colorbar": {
             "outlinewidth": 0,
             "ticks": ""
            },
            "type": "contourcarpet"
           }
          ],
          "heatmap": [
           {
            "colorbar": {
             "outlinewidth": 0,
             "ticks": ""
            },
            "colorscale": [
             [
              0,
              "#0d0887"
             ],
             [
              0.1111111111111111,
              "#46039f"
             ],
             [
              0.2222222222222222,
              "#7201a8"
             ],
             [
              0.3333333333333333,
              "#9c179e"
             ],
             [
              0.4444444444444444,
              "#bd3786"
             ],
             [
              0.5555555555555556,
              "#d8576b"
             ],
             [
              0.6666666666666666,
              "#ed7953"
             ],
             [
              0.7777777777777778,
              "#fb9f3a"
             ],
             [
              0.8888888888888888,
              "#fdca26"
             ],
             [
              1,
              "#f0f921"
             ]
            ],
            "type": "heatmap"
           }
          ],
          "heatmapgl": [
           {
            "colorbar": {
             "outlinewidth": 0,
             "ticks": ""
            },
            "colorscale": [
             [
              0,
              "#0d0887"
             ],
             [
              0.1111111111111111,
              "#46039f"
             ],
             [
              0.2222222222222222,
              "#7201a8"
             ],
             [
              0.3333333333333333,
              "#9c179e"
             ],
             [
              0.4444444444444444,
              "#bd3786"
             ],
             [
              0.5555555555555556,
              "#d8576b"
             ],
             [
              0.6666666666666666,
              "#ed7953"
             ],
             [
              0.7777777777777778,
              "#fb9f3a"
             ],
             [
              0.8888888888888888,
              "#fdca26"
             ],
             [
              1,
              "#f0f921"
             ]
            ],
            "type": "heatmapgl"
           }
          ],
          "histogram": [
           {
            "marker": {
             "colorbar": {
              "outlinewidth": 0,
              "ticks": ""
             }
            },
            "type": "histogram"
           }
          ],
          "histogram2d": [
           {
            "colorbar": {
             "outlinewidth": 0,
             "ticks": ""
            },
            "colorscale": [
             [
              0,
              "#0d0887"
             ],
             [
              0.1111111111111111,
              "#46039f"
             ],
             [
              0.2222222222222222,
              "#7201a8"
             ],
             [
              0.3333333333333333,
              "#9c179e"
             ],
             [
              0.4444444444444444,
              "#bd3786"
             ],
             [
              0.5555555555555556,
              "#d8576b"
             ],
             [
              0.6666666666666666,
              "#ed7953"
             ],
             [
              0.7777777777777778,
              "#fb9f3a"
             ],
             [
              0.8888888888888888,
              "#fdca26"
             ],
             [
              1,
              "#f0f921"
             ]
            ],
            "type": "histogram2d"
           }
          ],
          "histogram2dcontour": [
           {
            "colorbar": {
             "outlinewidth": 0,
             "ticks": ""
            },
            "colorscale": [
             [
              0,
              "#0d0887"
             ],
             [
              0.1111111111111111,
              "#46039f"
             ],
             [
              0.2222222222222222,
              "#7201a8"
             ],
             [
              0.3333333333333333,
              "#9c179e"
             ],
             [
              0.4444444444444444,
              "#bd3786"
             ],
             [
              0.5555555555555556,
              "#d8576b"
             ],
             [
              0.6666666666666666,
              "#ed7953"
             ],
             [
              0.7777777777777778,
              "#fb9f3a"
             ],
             [
              0.8888888888888888,
              "#fdca26"
             ],
             [
              1,
              "#f0f921"
             ]
            ],
            "type": "histogram2dcontour"
           }
          ],
          "mesh3d": [
           {
            "colorbar": {
             "outlinewidth": 0,
             "ticks": ""
            },
            "type": "mesh3d"
           }
          ],
          "parcoords": [
           {
            "line": {
             "colorbar": {
              "outlinewidth": 0,
              "ticks": ""
             }
            },
            "type": "parcoords"
           }
          ],
          "pie": [
           {
            "automargin": true,
            "type": "pie"
           }
          ],
          "scatter": [
           {
            "marker": {
             "colorbar": {
              "outlinewidth": 0,
              "ticks": ""
             }
            },
            "type": "scatter"
           }
          ],
          "scatter3d": [
           {
            "line": {
             "colorbar": {
              "outlinewidth": 0,
              "ticks": ""
             }
            },
            "marker": {
             "colorbar": {
              "outlinewidth": 0,
              "ticks": ""
             }
            },
            "type": "scatter3d"
           }
          ],
          "scattercarpet": [
           {
            "marker": {
             "colorbar": {
              "outlinewidth": 0,
              "ticks": ""
             }
            },
            "type": "scattercarpet"
           }
          ],
          "scattergeo": [
           {
            "marker": {
             "colorbar": {
              "outlinewidth": 0,
              "ticks": ""
             }
            },
            "type": "scattergeo"
           }
          ],
          "scattergl": [
           {
            "marker": {
             "colorbar": {
              "outlinewidth": 0,
              "ticks": ""
             }
            },
            "type": "scattergl"
           }
          ],
          "scattermapbox": [
           {
            "marker": {
             "colorbar": {
              "outlinewidth": 0,
              "ticks": ""
             }
            },
            "type": "scattermapbox"
           }
          ],
          "scatterpolar": [
           {
            "marker": {
             "colorbar": {
              "outlinewidth": 0,
              "ticks": ""
             }
            },
            "type": "scatterpolar"
           }
          ],
          "scatterpolargl": [
           {
            "marker": {
             "colorbar": {
              "outlinewidth": 0,
              "ticks": ""
             }
            },
            "type": "scatterpolargl"
           }
          ],
          "scatterternary": [
           {
            "marker": {
             "colorbar": {
              "outlinewidth": 0,
              "ticks": ""
             }
            },
            "type": "scatterternary"
           }
          ],
          "surface": [
           {
            "colorbar": {
             "outlinewidth": 0,
             "ticks": ""
            },
            "colorscale": [
             [
              0,
              "#0d0887"
             ],
             [
              0.1111111111111111,
              "#46039f"
             ],
             [
              0.2222222222222222,
              "#7201a8"
             ],
             [
              0.3333333333333333,
              "#9c179e"
             ],
             [
              0.4444444444444444,
              "#bd3786"
             ],
             [
              0.5555555555555556,
              "#d8576b"
             ],
             [
              0.6666666666666666,
              "#ed7953"
             ],
             [
              0.7777777777777778,
              "#fb9f3a"
             ],
             [
              0.8888888888888888,
              "#fdca26"
             ],
             [
              1,
              "#f0f921"
             ]
            ],
            "type": "surface"
           }
          ],
          "table": [
           {
            "cells": {
             "fill": {
              "color": "#EBF0F8"
             },
             "line": {
              "color": "white"
             }
            },
            "header": {
             "fill": {
              "color": "#C8D4E3"
             },
             "line": {
              "color": "white"
             }
            },
            "type": "table"
           }
          ]
         },
         "layout": {
          "annotationdefaults": {
           "arrowcolor": "#2a3f5f",
           "arrowhead": 0,
           "arrowwidth": 1
          },
          "coloraxis": {
           "colorbar": {
            "outlinewidth": 0,
            "ticks": ""
           }
          },
          "colorscale": {
           "diverging": [
            [
             0,
             "#8e0152"
            ],
            [
             0.1,
             "#c51b7d"
            ],
            [
             0.2,
             "#de77ae"
            ],
            [
             0.3,
             "#f1b6da"
            ],
            [
             0.4,
             "#fde0ef"
            ],
            [
             0.5,
             "#f7f7f7"
            ],
            [
             0.6,
             "#e6f5d0"
            ],
            [
             0.7,
             "#b8e186"
            ],
            [
             0.8,
             "#7fbc41"
            ],
            [
             0.9,
             "#4d9221"
            ],
            [
             1,
             "#276419"
            ]
           ],
           "sequential": [
            [
             0,
             "#0d0887"
            ],
            [
             0.1111111111111111,
             "#46039f"
            ],
            [
             0.2222222222222222,
             "#7201a8"
            ],
            [
             0.3333333333333333,
             "#9c179e"
            ],
            [
             0.4444444444444444,
             "#bd3786"
            ],
            [
             0.5555555555555556,
             "#d8576b"
            ],
            [
             0.6666666666666666,
             "#ed7953"
            ],
            [
             0.7777777777777778,
             "#fb9f3a"
            ],
            [
             0.8888888888888888,
             "#fdca26"
            ],
            [
             1,
             "#f0f921"
            ]
           ],
           "sequentialminus": [
            [
             0,
             "#0d0887"
            ],
            [
             0.1111111111111111,
             "#46039f"
            ],
            [
             0.2222222222222222,
             "#7201a8"
            ],
            [
             0.3333333333333333,
             "#9c179e"
            ],
            [
             0.4444444444444444,
             "#bd3786"
            ],
            [
             0.5555555555555556,
             "#d8576b"
            ],
            [
             0.6666666666666666,
             "#ed7953"
            ],
            [
             0.7777777777777778,
             "#fb9f3a"
            ],
            [
             0.8888888888888888,
             "#fdca26"
            ],
            [
             1,
             "#f0f921"
            ]
           ]
          },
          "colorway": [
           "#636efa",
           "#EF553B",
           "#00cc96",
           "#ab63fa",
           "#FFA15A",
           "#19d3f3",
           "#FF6692",
           "#B6E880",
           "#FF97FF",
           "#FECB52"
          ],
          "font": {
           "color": "#2a3f5f"
          },
          "geo": {
           "bgcolor": "white",
           "lakecolor": "white",
           "landcolor": "#E5ECF6",
           "showlakes": true,
           "showland": true,
           "subunitcolor": "white"
          },
          "hoverlabel": {
           "align": "left"
          },
          "hovermode": "closest",
          "mapbox": {
           "style": "light"
          },
          "paper_bgcolor": "white",
          "plot_bgcolor": "#E5ECF6",
          "polar": {
           "angularaxis": {
            "gridcolor": "white",
            "linecolor": "white",
            "ticks": ""
           },
           "bgcolor": "#E5ECF6",
           "radialaxis": {
            "gridcolor": "white",
            "linecolor": "white",
            "ticks": ""
           }
          },
          "scene": {
           "xaxis": {
            "backgroundcolor": "#E5ECF6",
            "gridcolor": "white",
            "gridwidth": 2,
            "linecolor": "white",
            "showbackground": true,
            "ticks": "",
            "zerolinecolor": "white"
           },
           "yaxis": {
            "backgroundcolor": "#E5ECF6",
            "gridcolor": "white",
            "gridwidth": 2,
            "linecolor": "white",
            "showbackground": true,
            "ticks": "",
            "zerolinecolor": "white"
           },
           "zaxis": {
            "backgroundcolor": "#E5ECF6",
            "gridcolor": "white",
            "gridwidth": 2,
            "linecolor": "white",
            "showbackground": true,
            "ticks": "",
            "zerolinecolor": "white"
           }
          },
          "shapedefaults": {
           "line": {
            "color": "#2a3f5f"
           }
          },
          "ternary": {
           "aaxis": {
            "gridcolor": "white",
            "linecolor": "white",
            "ticks": ""
           },
           "baxis": {
            "gridcolor": "white",
            "linecolor": "white",
            "ticks": ""
           },
           "bgcolor": "#E5ECF6",
           "caxis": {
            "gridcolor": "white",
            "linecolor": "white",
            "ticks": ""
           }
          },
          "title": {
           "x": 0.05
          },
          "xaxis": {
           "automargin": true,
           "gridcolor": "white",
           "linecolor": "white",
           "ticks": "",
           "title": {
            "standoff": 15
           },
           "zerolinecolor": "white",
           "zerolinewidth": 2
          },
          "yaxis": {
           "automargin": true,
           "gridcolor": "white",
           "linecolor": "white",
           "ticks": "",
           "title": {
            "standoff": 15
           },
           "zerolinecolor": "white",
           "zerolinewidth": 2
          }
         }
        },
        "xaxis": {
         "title": {
          "text": "Count"
         }
        },
        "yaxis": {
         "domain": [
          0.6,
          1
         ],
         "title": {
          "text": "MPG"
         }
        }
       },
       "_model_module_version": "1.5.4",
       "_py2js_addTraces": {},
       "_py2js_animate": {},
       "_py2js_deleteTraces": {},
       "_py2js_moveTraces": {},
       "_py2js_removeLayoutProps": {},
       "_py2js_removeTraceProps": {},
       "_py2js_restyle": {},
       "_view_count": 0,
       "_view_module_version": "1.5.4"
      }
     },
     "95f5dd1e67fa4faa8eb1059eda0d1893": {
      "model_module": "@jupyter-widgets/controls",
      "model_module_version": "1.5.0",
      "model_name": "ToggleButtonsModel",
      "state": {
       "_options_labels": [
        "None",
        "Red",
        "Blue"
       ],
       "button_style": "",
       "description": "Brush Color:",
       "icons": [],
       "index": 1,
       "layout": "IPY_MODEL_c30b43ed10594139a730dd7386db9111",
       "style": "IPY_MODEL_f67b4ad66d9e49cbabd3d89027bf7bb2",
       "tooltips": []
      }
     },
     "9605e692b9784443a12db48cf9071879": {
      "model_module": "@jupyter-widgets/controls",
      "model_module_version": "1.5.0",
      "model_name": "ToggleButtonsStyleModel",
      "state": {
       "button_width": "",
       "description_width": ""
      }
     },
     "961ae4aca8124876ac3b6043fe820384": {
      "model_module": "@jupyter-widgets/controls",
      "model_module_version": "1.5.0",
      "model_name": "VBoxModel",
      "state": {
       "children": [
        "IPY_MODEL_b4ee9d0e3c9f4d21a30f3e1bcdec327b",
        "IPY_MODEL_02a3081c8c8a4296a09d75d862fdab02"
       ],
       "layout": "IPY_MODEL_f2cb8a62479845aaa6803c5a01738c14"
      }
     },
     "96b29392a64547d2858aef8a653ee906": {
      "model_module": "@jupyter-widgets/controls",
      "model_module_version": "1.5.0",
      "model_name": "VBoxModel",
      "state": {
       "children": [
        "IPY_MODEL_95f5dd1e67fa4faa8eb1059eda0d1893",
        "IPY_MODEL_c766c5158a144a20bd9a790bd6056769"
       ],
       "layout": "IPY_MODEL_fdd29f156cd64e6a85c35335e25ff299"
      }
     },
     "96e7f65e89d346ff860ac867b52a4fe9": {
      "model_module": "@jupyter-widgets/controls",
      "model_module_version": "1.5.0",
      "model_name": "VBoxModel",
      "state": {
       "children": [
        "IPY_MODEL_4b099edd778e4c5ab6e3ee11fcb8f3ed",
        "IPY_MODEL_94903605d4744f8ba1d897fadd9eef2c"
       ],
       "layout": "IPY_MODEL_828d7b04764e4da3ae181f4ea1b3f87d"
      }
     },
     "97b94b9e9db34720b30ca8099a3b27b6": {
      "model_module": "@jupyter-widgets/base",
      "model_module_version": "1.2.0",
      "model_name": "LayoutModel",
      "state": {}
     },
     "9cf59590f6284f92b45b26db08609d98": {
      "model_module": "@jupyter-widgets/controls",
      "model_module_version": "1.5.0",
      "model_name": "ToggleButtonsStyleModel",
      "state": {
       "button_width": "",
       "description_width": ""
      }
     },
     "9e8026c113064e47b0da6ae039f5f5e4": {
      "model_module": "@jupyter-widgets/controls",
      "model_module_version": "1.5.0",
      "model_name": "ToggleButtonsStyleModel",
      "state": {
       "button_width": "",
       "description_width": ""
      }
     },
     "a1eb92de988e44988eab426e1a3310d3": {
      "buffers": [
       {
        "data": "AAAAAAAAAAAAAAAAAAAAAAAAAAAAAAAAAAAAAAAAAAAAAAAAAAAAAAAAAAAAAAAAAAAAAAAAAAAAAAAAAAAAAAAAAAAAAAAAAAAAAAAAAAAAAAAAAAAAAAAAAAAAAAAAAAAAAAAAAAAAAAAAAAAAAAAAAAAAAAAAAAAAAAAAAAAAAAAAAAAAAAAAAAAAAAAAAAAAAAAAAAAAAAAAAAAAAAAAAAAAAAAAAAAAAAAAAAAAAAAAAAAAAAAAAAAAAAAAAAAAAAAAAAAAAAAAAAAAAAAAAAAAAAAAAAAAAAAAAAAAAAAAAAAAAAAAAAAAAAAAAAAAAAAAAAAAAAAAAAAAAAAAAAAAAAAAAAAAAAAAAAAAAAAAAAAAAAAAAAAAAAAAAAAAAAAAAAAAAAAAAAAAAAAAAAAAAAAAAAAAAAAAAAAAAAAAAAAAAAAAAAAAAAAAAAAAAAAAAAAAAAAAAAAAAAAAAAAAAAAAAAAAAAAAAAAAAAAAAAAAAAAAAAAAAAAAAAAAAAAAAAAAAAAAAAAAAAAAAAAAAAAAAAAAAAAAAAAAAAAAAAAAAAAAAAAAAAAAAAAAAAAAAAAAAAAAAAAAAAAAAAAAAAAAAAAAAAAAAAAAAAAAAAAAAAAAAAAAAAAAAAAAAAAAAAAAAAAAAAAAAAAAAAAAAAAAAAAAAAAAAAAAAAAAAAAAAAAAAAAAAAAAAAAAAAAAAAAAAAAAAAAAAAAAAAAAAAAAAAAAAAAAAAAAAAAAAAAAAAAAAAAAAAAAAAAAAAAAAAAAAAAAAAAAAAAAAAAAAAAAAAAAAAAAAAAAAAAAAAAAAAAAAAAAAAAAAAAAAAAAAAAAAAAAAAAAAAAAAAAAAAAAAAAAAAAAAAAAAAAAAAAAAAAAAAAAAAAAAAAAAAAAAAAAAAAAAAAAAAAAAAAAAAAAAAAAAAAAAAAAAAAAAAAAAAAAAAAAAAAAAAAAAAAAAAAAAAAAAAAAAAAAAAAAAAAAAAAAAAAAAAAAAAAAAAAAAAAAAAAAAAAAAAAAAAAAAAAAAAAAAAAAAAAAAAAAAAAAAAAAAAAAAAAAAAAAAAAAAAAAAAAAAAAAAAAAAAAAAAAAAAAAAAAAAAAAAAAAAAAAAAAAAAAAAAAAAAAAAAAAAAAAAAAAAAAAAAAAAAAAAAAAAAAAAAAAAAAAAA==",
        "encoding": "base64",
        "path": [
         "_data",
         0,
         "marker",
         "color",
         "value"
        ]
       },
       {
        "data": "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",
        "encoding": "base64",
        "path": [
         "_data",
         0,
         "y",
         "value"
        ]
       },
       {
        "data": "AAAAAAAAAAAAAAAAAAAAAAAAAAAAAAAAAAAAAAAAAAAAAAAAAAAAAAAAAAAAAAAAAAAAAAAAAAAAAAAAAAAAAAAAAAAAAAAAAAAAAAAAAAAAAAAAAAAAAAAAAAAAAAAAAAAAAAAAAAAAAAAAAAAAAAAAAAAAAAAAAAAAAAAAAAAAAAAAAAAAAAAAAAAAAAAAAAAAAAAAAAAAAAAAAAAAAAAAAAAAAAAAAAAAAAAAAAAAAAAAAAAAAAAAAAAAAAAAAAAAAAAAAAAAAAAAAAAAAAAAAAAAAAAAAAAAAAAAAAAAAAAAAAAAAAAAAAAAAAAAAAAAAAAAAAAAAAAAAAAAAAAAAAAAAAAAAAAAAAAAAAAAAAAAAAAAAAAAAAAAAAAAAAAAAAAAAAAAAAAAAAAAAAAAAAAAAAAAAAAAAAAAAAAAAAAAAAAAAAAAAAAAAAAAAAAAAAAAAAAAAAAAAAAAAAAAAAAAAAAAAAAAAAAAAAAAAAAAAAAAAAAAAAAAAAAAAAAAAAAAAAAAAAAAAAAAAAAAAAAAAAAAAAAAAAAAAAAAAAAAAAAAAAAAAAAAAAAAAAAAAAAAAAAAAAAAAAAAAAAAAAAAAAAAAAAAAAAAAAAAAAAAAAAAAAAAAAAAAAAAAAAAAAAAAAAAAAAAAAAAAAAAAAAAAAAAAAAAAAAAAAAAAAAAAAAAAAAAAAAAAAAAAAAAAAAAAAAAAAAAAAAAAAAAAAAAAAAAAAAAAAAAAAAAAAAAAAAAAAAAAAAAAAAAAAAAAAAAAAAAAAAAAAAAAAAAAAAAAAAAAAAAAAAAAAAAAAAAAAAAAAAAAAAAAAAAAAAAAAAAAAAAAAAAAAAAAAAAAAAAAAAAAAAAAAAAAAAAAAAAAAAAAAAAAAAAAAAAAAAAAAAAAAAAAAAAAAAAAAAAAAAAAAAAAAAAAAAAAAAAAAAAAAAAAAAAAAAAAAAAAAAAAAAAAAAAAAAAAAAAAAAAAAAAAAAAAAAAAAAAAAAAAAAAAAAAAAAAAAAAAAAAAAAAAAAAAAAAAAAAAAAAAAAAAAAAAAAAAAAAAAAAAAAAAAAAAAAAAAAAAAAAAAAAAAAAAAAAAAAAAAAAAAAAAAAAAAAAAAAAAAAAAAAAAAAAAAAAAAAAAAAAAAAAAAAAAAAAAAAAAAAAAAAAAAAAAAAAAA==",
        "encoding": "base64",
        "path": [
         "_data",
         1,
         "line",
         "color",
         "value"
        ]
       }
      ],
      "model_module": "plotlywidget",
      "model_module_version": "1.5.4",
      "model_name": "FigureModel",
      "state": {
       "_config": {
        "plotlyServerURL": "https://plot.ly"
       },
       "_data": [
        {
         "marker": {
          "cmax": 2.5,
          "cmin": -0.5,
          "color": {
           "dtype": "uint8",
           "shape": [
            883
           ],
           "value": {}
          },
          "colorbar": {
           "ticktext": [
            "None",
            "Red",
            "Blue"
           ],
           "tickvals": [
            0,
            1,
            2
           ]
          },
          "colorscale": [
           [
            0,
            "gray"
           ],
           [
            0.33,
            "gray"
           ],
           [
            0.33,
            "firebrick"
           ],
           [
            0.66,
            "firebrick"
           ],
           [
            0.66,
            "blue"
           ],
           [
            1,
            "blue"
           ]
          ],
          "showscale": true
         },
         "mode": "markers",
         "type": "scatter",
         "uid": "e012264c-2658-47f9-8565-e6ef26384bc3",
         "x": [
          1,
          1,
          1,
          2,
          2,
          1,
          1,
          1,
          1,
          1,
          2,
          1,
          1,
          2,
          4,
          2,
          1,
          3,
          1,
          4,
          1,
          2,
          1,
          2,
          4,
          9,
          1,
          2,
          3,
          2,
          1,
          9,
          15,
          5,
          6,
          1,
          1,
          2,
          5,
          8,
          3,
          3,
          1,
          4,
          1,
          11,
          29,
          7,
          3,
          1,
          1,
          6,
          2,
          25,
          26,
          7,
          14,
          1,
          3,
          1,
          22,
          23,
          15,
          6,
          5,
          1,
          11,
          37,
          9,
          11,
          1,
          5,
          1,
          36,
          35,
          14,
          12,
          1,
          10,
          2,
          37,
          17,
          10,
          3,
          1,
          1,
          7,
          33,
          40,
          18,
          8,
          1,
          2,
          9,
          1,
          34,
          63,
          18,
          5,
          1,
          1,
          3,
          25,
          46,
          13,
          11,
          1,
          3,
          4,
          5,
          1,
          38,
          51,
          14,
          13,
          2,
          2,
          1,
          2,
          2,
          3,
          1,
          1,
          12,
          30,
          13,
          15,
          1,
          4,
          2,
          1,
          4,
          20,
          31,
          20,
          14,
          1,
          1,
          12,
          2,
          1,
          2,
          2,
          12,
          33,
          6,
          15,
          2,
          3,
          1,
          5,
          3,
          3,
          2,
          2,
          22,
          21,
          16,
          14,
          1,
          2,
          11,
          2,
          6,
          1,
          1,
          21,
          24,
          24,
          25,
          2,
          14,
          5,
          1,
          3,
          5,
          1,
          1,
          38,
          25,
          22,
          23,
          3,
          3,
          6,
          1,
          2,
          4,
          9,
          2,
          3,
          60,
          13,
          10,
          28,
          5,
          9,
          2,
          4,
          21,
          3,
          2,
          22,
          14,
          17,
          22,
          6,
          3,
          18,
          3,
          7,
          22,
          2,
          2,
          6,
          31,
          26,
          26,
          31,
          13,
          3,
          8,
          1,
          3,
          55,
          4,
          14,
          21,
          14,
          14,
          22,
          21,
          5,
          6,
          10,
          1,
          45,
          1,
          1,
          4,
          10,
          13,
          17,
          16,
          1,
          4,
          10,
          3,
          2,
          12,
          2,
          2,
          70,
          5,
          6,
          8,
          8,
          13,
          12,
          13,
          1,
          9,
          2,
          1,
          1,
          5,
          1,
          1,
          3,
          77,
          3,
          9,
          16,
          17,
          21,
          18,
          24,
          3,
          4,
          2,
          3,
          8,
          82,
          4,
          8,
          33,
          10,
          6,
          7,
          16,
          1,
          4,
          9,
          5,
          1,
          1,
          11,
          64,
          5,
          30,
          42,
          20,
          11,
          6,
          14,
          1,
          8,
          3,
          11,
          3,
          1,
          4,
          4,
          56,
          8,
          32,
          48,
          20,
          7,
          5,
          26,
          1,
          6,
          10,
          2,
          9,
          1,
          1,
          2,
          3,
          14,
          43,
          4,
          23,
          1,
          51,
          2,
          13,
          7,
          26,
          1,
          10,
          2,
          1,
          6,
          8,
          3,
          1,
          19,
          60,
          9,
          39,
          1,
          55,
          7,
          7,
          9,
          12,
          9,
          7,
          7,
          3,
          7,
          2,
          7,
          26,
          44,
          12,
          23,
          26,
          24,
          12,
          9,
          35,
          1,
          10,
          7,
          4,
          3,
          8,
          2,
          1,
          25,
          28,
          11,
          36,
          1,
          74,
          12,
          14,
          20,
          26,
          1,
          2,
          21,
          4,
          1,
          7,
          5,
          6,
          11,
          19,
          32,
          13,
          40,
          4,
          45,
          12,
          12,
          16,
          27,
          1,
          1,
          2,
          5,
          7,
          2,
          5,
          2,
          1,
          1,
          7,
          39,
          41,
          14,
          13,
          6,
          35,
          6,
          16,
          25,
          21,
          3,
          15,
          10,
          1,
          1,
          20,
          1,
          11,
          17,
          26,
          40,
          14,
          24,
          3,
          32,
          15,
          20,
          31,
          28,
          2,
          1,
          1,
          6,
          10,
          2,
          1,
          1,
          10,
          2,
          10,
          21,
          34,
          34,
          11,
          10,
          7,
          37,
          10,
          11,
          12,
          26,
          1,
          4,
          22,
          9,
          16,
          1,
          11,
          3,
          13,
          17,
          42,
          31,
          13,
          40,
          8,
          50,
          14,
          13,
          19,
          26,
          1,
          2,
          29,
          15,
          28,
          4,
          8,
          2,
          14,
          17,
          31,
          32,
          13,
          34,
          14,
          42,
          12,
          32,
          31,
          24,
          1,
          1,
          1,
          5,
          25,
          20,
          23,
          1,
          1,
          13,
          8,
          10,
          37,
          47,
          13,
          43,
          14,
          69,
          67,
          43,
          33,
          33,
          1,
          1,
          14,
          15,
          26,
          45,
          6,
          2,
          34,
          1,
          13,
          13,
          42,
          16,
          14,
          34,
          10,
          57,
          21,
          25,
          30,
          25,
          1,
          1,
          4,
          23,
          35,
          26,
          37,
          3,
          4,
          21,
          4,
          21,
          13,
          36,
          30,
          8,
          40,
          10,
          38,
          31,
          18,
          36,
          30,
          1,
          4,
          38,
          69,
          20,
          27,
          3,
          10,
          28,
          8,
          66,
          18,
          76,
          19,
          18,
          22,
          9,
          44,
          23,
          49,
          47,
          23,
          1,
          6,
          6,
          32,
          50,
          23,
          39,
          6,
          9,
          32,
          12,
          42,
          7,
          41,
          17,
          4,
          18,
          9,
          31,
          14,
          27,
          33,
          14,
          3,
          6,
          15,
          13,
          59,
          27,
          34,
          6,
          19,
          61,
          10,
          83,
          24,
          29,
          13,
          19,
          34,
          6,
          34,
          38,
          36,
          34,
          12,
          10,
          10,
          21,
          33,
          44,
          19,
          20,
          1,
          17,
          51,
          12,
          64,
          16,
          59,
          16,
          34,
          37,
          43,
          14,
          19,
          42,
          22,
          12,
          21,
          42,
          95,
          60,
          37,
          35,
          1,
          25,
          63,
          34,
          54,
          26,
          58,
          15,
          28,
          29,
          1,
          83,
          4,
          8,
          11,
          27,
          17,
          43,
          46,
          30,
          194,
          50,
          35,
          21,
          17,
          28,
          79,
          56,
          64,
          21,
          61,
          7,
          27,
          22,
          2,
          61,
          8,
          2,
          6,
          53,
          23,
          131,
          105,
          69,
          259,
          68,
          46,
          18,
          33,
          30,
          91,
          130,
          65,
          46,
          82,
          32,
          39,
          51,
          13,
          100,
          11,
          34,
          11,
          40,
          20,
          146,
          45,
          151,
          120,
          102,
          47,
          26,
          102,
          30,
          140,
          242,
          67,
          45,
          112,
          16,
          74,
          93,
          39,
          82,
          21,
          18,
          18,
          25,
          18,
          70,
          88,
          214,
          126,
          153,
          39,
          37,
          146,
          39,
          136,
          317,
          39,
          52,
          166,
          3,
          130,
          106,
          27,
          128,
          34,
          9,
          20,
          19,
          29,
          32,
          155,
          158,
          141,
          148,
          57,
          41,
          150,
          81,
          162,
          190,
          72,
          132,
          174,
          3,
          155,
          183,
          65,
          131,
          84,
          21,
          22,
          43,
          30,
          56,
          302,
          151,
          246,
          214,
          85,
          76,
          192,
          228,
          174,
          204,
          98,
          137,
          138,
          1,
          176,
          163,
          217,
          57,
          268,
          8,
          19,
          68,
          34,
          652,
          674,
          584,
          411,
          343,
          574,
          396,
          566,
          657,
          110,
          342,
          264,
          510,
          176,
          2,
          419,
          194,
          757,
          68,
          805,
          12,
          105,
          367,
          93,
          39,
          47,
          65,
          33,
          21,
          54,
          26,
          30,
          59,
          7,
          99,
          5,
          75,
          3,
          15,
          5,
          98,
          56,
          3,
          32,
          13
         ],
         "y": {
          "dtype": "float64",
          "shape": [
           883
          ],
          "value": {}
         }
        },
        {
         "dimensions": [
          {
           "label": "year",
           "values": [
            1957,
            1957,
            1958,
            1960,
            1960,
            1961,
            1962,
            1962,
            1963,
            1963,
            1963,
            1963,
            1964,
            1964,
            1964,
            1964,
            1965,
            1965,
            1965,
            1965,
            1965,
            1965,
            1966,
            1966,
            1966,
            1966,
            1966,
            1966,
            1967,
            1967,
            1967,
            1967,
            1967,
            1967,
            1967,
            1968,
            1968,
            1968,
            1968,
            1968,
            1968,
            1968,
            1969,
            1969,
            1969,
            1969,
            1969,
            1969,
            1969,
            1970,
            1970,
            1970,
            1970,
            1970,
            1970,
            1970,
            1970,
            1971,
            1971,
            1971,
            1971,
            1971,
            1971,
            1971,
            1972,
            1972,
            1972,
            1972,
            1972,
            1972,
            1973,
            1973,
            1973,
            1973,
            1973,
            1973,
            1973,
            1974,
            1974,
            1974,
            1974,
            1974,
            1974,
            1974,
            1975,
            1975,
            1975,
            1975,
            1975,
            1975,
            1975,
            1976,
            1976,
            1976,
            1976,
            1976,
            1976,
            1976,
            1976,
            1977,
            1977,
            1977,
            1977,
            1977,
            1977,
            1977,
            1978,
            1978,
            1978,
            1978,
            1978,
            1978,
            1978,
            1978,
            1978,
            1979,
            1979,
            1979,
            1979,
            1979,
            1979,
            1979,
            1979,
            1979,
            1979,
            1979,
            1979,
            1980,
            1980,
            1980,
            1980,
            1980,
            1980,
            1980,
            1980,
            1980,
            1981,
            1981,
            1981,
            1981,
            1981,
            1981,
            1981,
            1981,
            1981,
            1981,
            1981,
            1982,
            1982,
            1982,
            1982,
            1982,
            1982,
            1982,
            1982,
            1982,
            1982,
            1982,
            1982,
            1983,
            1983,
            1983,
            1983,
            1983,
            1983,
            1983,
            1983,
            1983,
            1983,
            1983,
            1984,
            1984,
            1984,
            1984,
            1984,
            1984,
            1984,
            1984,
            1984,
            1984,
            1984,
            1984,
            1985,
            1985,
            1985,
            1985,
            1985,
            1985,
            1985,
            1985,
            1985,
            1985,
            1985,
            1985,
            1985,
            1986,
            1986,
            1986,
            1986,
            1986,
            1986,
            1986,
            1986,
            1986,
            1986,
            1986,
            1987,
            1987,
            1987,
            1987,
            1987,
            1987,
            1987,
            1987,
            1987,
            1987,
            1987,
            1987,
            1987,
            1988,
            1988,
            1988,
            1988,
            1988,
            1988,
            1988,
            1988,
            1988,
            1988,
            1988,
            1988,
            1988,
            1989,
            1989,
            1989,
            1989,
            1989,
            1989,
            1989,
            1989,
            1989,
            1989,
            1989,
            1989,
            1990,
            1990,
            1990,
            1990,
            1990,
            1990,
            1990,
            1990,
            1990,
            1990,
            1990,
            1990,
            1990,
            1990,
            1990,
            1990,
            1991,
            1991,
            1991,
            1991,
            1991,
            1991,
            1991,
            1991,
            1991,
            1991,
            1991,
            1991,
            1991,
            1991,
            1991,
            1991,
            1991,
            1992,
            1992,
            1992,
            1992,
            1992,
            1992,
            1992,
            1992,
            1992,
            1992,
            1992,
            1992,
            1992,
            1993,
            1993,
            1993,
            1993,
            1993,
            1993,
            1993,
            1993,
            1993,
            1993,
            1993,
            1993,
            1993,
            1993,
            1993,
            1994,
            1994,
            1994,
            1994,
            1994,
            1994,
            1994,
            1994,
            1994,
            1994,
            1994,
            1994,
            1994,
            1994,
            1994,
            1994,
            1995,
            1995,
            1995,
            1995,
            1995,
            1995,
            1995,
            1995,
            1995,
            1995,
            1995,
            1995,
            1995,
            1995,
            1995,
            1995,
            1995,
            1995,
            1995,
            1996,
            1996,
            1996,
            1996,
            1996,
            1996,
            1996,
            1996,
            1996,
            1996,
            1996,
            1996,
            1996,
            1996,
            1996,
            1996,
            1996,
            1996,
            1997,
            1997,
            1997,
            1997,
            1997,
            1997,
            1997,
            1997,
            1997,
            1997,
            1997,
            1997,
            1997,
            1997,
            1997,
            1997,
            1998,
            1998,
            1998,
            1998,
            1998,
            1998,
            1998,
            1998,
            1998,
            1998,
            1998,
            1998,
            1998,
            1998,
            1998,
            1998,
            1998,
            1998,
            1999,
            1999,
            1999,
            1999,
            1999,
            1999,
            1999,
            1999,
            1999,
            1999,
            1999,
            1999,
            1999,
            1999,
            1999,
            1999,
            1999,
            1999,
            1999,
            2000,
            2000,
            2000,
            2000,
            2000,
            2000,
            2000,
            2000,
            2000,
            2000,
            2000,
            2000,
            2000,
            2000,
            2000,
            2000,
            2000,
            2000,
            2000,
            2000,
            2000,
            2001,
            2001,
            2001,
            2001,
            2001,
            2001,
            2001,
            2001,
            2001,
            2001,
            2001,
            2001,
            2001,
            2001,
            2001,
            2001,
            2001,
            2001,
            2001,
            2002,
            2002,
            2002,
            2002,
            2002,
            2002,
            2002,
            2002,
            2002,
            2002,
            2002,
            2002,
            2002,
            2002,
            2002,
            2002,
            2002,
            2002,
            2002,
            2002,
            2002,
            2002,
            2003,
            2003,
            2003,
            2003,
            2003,
            2003,
            2003,
            2003,
            2003,
            2003,
            2003,
            2003,
            2003,
            2003,
            2003,
            2003,
            2003,
            2003,
            2003,
            2003,
            2004,
            2004,
            2004,
            2004,
            2004,
            2004,
            2004,
            2004,
            2004,
            2004,
            2004,
            2004,
            2004,
            2004,
            2004,
            2004,
            2004,
            2004,
            2004,
            2004,
            2005,
            2005,
            2005,
            2005,
            2005,
            2005,
            2005,
            2005,
            2005,
            2005,
            2005,
            2005,
            2005,
            2005,
            2005,
            2005,
            2005,
            2005,
            2005,
            2005,
            2005,
            2005,
            2006,
            2006,
            2006,
            2006,
            2006,
            2006,
            2006,
            2006,
            2006,
            2006,
            2006,
            2006,
            2006,
            2006,
            2006,
            2006,
            2006,
            2006,
            2006,
            2006,
            2006,
            2006,
            2007,
            2007,
            2007,
            2007,
            2007,
            2007,
            2007,
            2007,
            2007,
            2007,
            2007,
            2007,
            2007,
            2007,
            2007,
            2007,
            2007,
            2007,
            2007,
            2007,
            2007,
            2007,
            2007,
            2008,
            2008,
            2008,
            2008,
            2008,
            2008,
            2008,
            2008,
            2008,
            2008,
            2008,
            2008,
            2008,
            2008,
            2008,
            2008,
            2008,
            2008,
            2008,
            2008,
            2008,
            2008,
            2009,
            2009,
            2009,
            2009,
            2009,
            2009,
            2009,
            2009,
            2009,
            2009,
            2009,
            2009,
            2009,
            2009,
            2009,
            2009,
            2009,
            2009,
            2009,
            2009,
            2009,
            2009,
            2009,
            2010,
            2010,
            2010,
            2010,
            2010,
            2010,
            2010,
            2010,
            2010,
            2010,
            2010,
            2010,
            2010,
            2010,
            2010,
            2010,
            2010,
            2010,
            2010,
            2010,
            2010,
            2010,
            2010,
            2011,
            2011,
            2011,
            2011,
            2011,
            2011,
            2011,
            2011,
            2011,
            2011,
            2011,
            2011,
            2011,
            2011,
            2011,
            2011,
            2011,
            2011,
            2011,
            2011,
            2011,
            2011,
            2012,
            2012,
            2012,
            2012,
            2012,
            2012,
            2012,
            2012,
            2012,
            2012,
            2012,
            2012,
            2012,
            2012,
            2012,
            2012,
            2012,
            2012,
            2012,
            2012,
            2012,
            2012,
            2012,
            2012,
            2013,
            2013,
            2013,
            2013,
            2013,
            2013,
            2013,
            2013,
            2013,
            2013,
            2013,
            2013,
            2013,
            2013,
            2013,
            2013,
            2013,
            2013,
            2013,
            2013,
            2013,
            2013,
            2013,
            2013,
            2014,
            2014,
            2014,
            2014,
            2014,
            2014,
            2014,
            2014,
            2014,
            2014,
            2014,
            2014,
            2014,
            2014,
            2014,
            2014,
            2014,
            2014,
            2014,
            2014,
            2014,
            2014,
            2014,
            2014,
            2015,
            2015,
            2015,
            2015,
            2015,
            2015,
            2015,
            2015,
            2015,
            2015,
            2015,
            2015,
            2015,
            2015,
            2015,
            2015,
            2015,
            2015,
            2015,
            2015,
            2015,
            2015,
            2015,
            2015,
            2016,
            2016,
            2016,
            2016,
            2016,
            2016,
            2016,
            2016,
            2016,
            2016,
            2016,
            2016,
            2016,
            2016,
            2016,
            2016,
            2016,
            2016,
            2016,
            2016,
            2016,
            2016,
            2016,
            2016,
            2017,
            2017,
            2017,
            2017,
            2017,
            2017,
            2017,
            2017,
            2017,
            2017,
            2017,
            2017,
            2017,
            2017,
            2017,
            2017,
            2017,
            2017,
            2017,
            2017,
            2017,
            2017,
            2017,
            2017,
            2018,
            2018,
            2018,
            2018,
            2018,
            2018,
            2018,
            2018,
            2018,
            2018,
            2018,
            2018,
            2018,
            2018,
            2018,
            2018,
            2018,
            2018,
            2018,
            2018,
            2018,
            2018,
            2018,
            2018,
            2019,
            2019,
            2019,
            2019,
            2019,
            2019,
            2019,
            2019,
            2019,
            2019,
            2019,
            2019,
            2019,
            2019,
            2019,
            2019,
            2019,
            2019,
            2019,
            2019,
            2019,
            2019,
            2019,
            2019,
            2020,
            2020,
            2020,
            2020,
            2020,
            2020,
            2020,
            2020,
            2020,
            2020,
            2020,
            2020,
            2020,
            2020,
            2020,
            2020,
            2020,
            2020,
            2020,
            2020,
            2020
           ]
          },
          {
           "label": "genre",
           "values": [
            "r&b",
            "rock",
            "rock",
            "r&b",
            "r&b",
            "r&b",
            "r&b",
            "rock",
            "r&b",
            "rock",
            "rock",
            "rock",
            "r&b",
            "rock",
            "rock",
            "rock",
            "latin",
            "r&b",
            "rock",
            "rock",
            "rock",
            "rock",
            "r&b",
            "r&b",
            "rock",
            "rock",
            "rock",
            "rock",
            "r&b",
            "r&b",
            "rap",
            "rock",
            "rock",
            "rock",
            "rock",
            "r&b",
            "r&b",
            "rap",
            "rock",
            "rock",
            "rock",
            "rock",
            "pop",
            "r&b",
            "rap",
            "rock",
            "rock",
            "rock",
            "rock",
            "pop",
            "r&b",
            "r&b",
            "rap",
            "rock",
            "rock",
            "rock",
            "rock",
            "r&b",
            "r&b",
            "rap",
            "rock",
            "rock",
            "rock",
            "rock",
            "r&b",
            "rap",
            "rock",
            "rock",
            "rock",
            "rock",
            "pop",
            "r&b",
            "rap",
            "rock",
            "rock",
            "rock",
            "rock",
            "pop",
            "r&b",
            "rap",
            "rock",
            "rock",
            "rock",
            "rock",
            "pop",
            "r&b",
            "r&b",
            "rock",
            "rock",
            "rock",
            "rock",
            "latin",
            "pop",
            "r&b",
            "rap",
            "rock",
            "rock",
            "rock",
            "rock",
            "edm",
            "pop",
            "r&b",
            "rock",
            "rock",
            "rock",
            "rock",
            "edm",
            "pop",
            "pop",
            "r&b",
            "rap",
            "rock",
            "rock",
            "rock",
            "rock",
            "edm",
            "latin",
            "latin",
            "pop",
            "pop",
            "r&b",
            "r&b",
            "r&b",
            "rock",
            "rock",
            "rock",
            "rock",
            "edm",
            "pop",
            "pop",
            "r&b",
            "r&b",
            "rock",
            "rock",
            "rock",
            "rock",
            "edm",
            "latin",
            "pop",
            "pop",
            "r&b",
            "r&b",
            "rap",
            "rock",
            "rock",
            "rock",
            "rock",
            "edm",
            "latin",
            "latin",
            "pop",
            "pop",
            "r&b",
            "r&b",
            "rap",
            "rock",
            "rock",
            "rock",
            "rock",
            "edm",
            "latin",
            "pop",
            "pop",
            "r&b",
            "r&b",
            "rap",
            "rock",
            "rock",
            "rock",
            "rock",
            "latin",
            "pop",
            "pop",
            "r&b",
            "r&b",
            "r&b",
            "r&b",
            "rap",
            "rock",
            "rock",
            "rock",
            "rock",
            "latin",
            "latin",
            "pop",
            "pop",
            "pop",
            "r&b",
            "r&b",
            "r&b",
            "rap",
            "rock",
            "rock",
            "rock",
            "rock",
            "latin",
            "pop",
            "pop",
            "r&b",
            "r&b",
            "r&b",
            "rap",
            "rock",
            "rock",
            "rock",
            "rock",
            "latin",
            "latin",
            "pop",
            "pop",
            "r&b",
            "r&b",
            "r&b",
            "rap",
            "rap",
            "rock",
            "rock",
            "rock",
            "rock",
            "latin",
            "latin",
            "pop",
            "pop",
            "r&b",
            "r&b",
            "r&b",
            "rap",
            "rap",
            "rock",
            "rock",
            "rock",
            "rock",
            "latin",
            "latin",
            "pop",
            "r&b",
            "r&b",
            "r&b",
            "rap",
            "rap",
            "rock",
            "rock",
            "rock",
            "rock",
            "edm",
            "latin",
            "latin",
            "latin",
            "pop",
            "pop",
            "pop",
            "r&b",
            "r&b",
            "r&b",
            "rap",
            "rap",
            "rock",
            "rock",
            "rock",
            "rock",
            "edm",
            "latin",
            "latin",
            "latin",
            "pop",
            "pop",
            "pop",
            "r&b",
            "r&b",
            "r&b",
            "r&b",
            "rap",
            "rap",
            "rock",
            "rock",
            "rock",
            "rock",
            "latin",
            "pop",
            "pop",
            "r&b",
            "r&b",
            "r&b",
            "r&b",
            "rap",
            "rap",
            "rock",
            "rock",
            "rock",
            "rock",
            "edm",
            "latin",
            "latin",
            "pop",
            "pop",
            "pop",
            "r&b",
            "r&b",
            "r&b",
            "rap",
            "rap",
            "rock",
            "rock",
            "rock",
            "rock",
            "edm",
            "latin",
            "latin",
            "pop",
            "pop",
            "pop",
            "r&b",
            "r&b",
            "r&b",
            "r&b",
            "rap",
            "rap",
            "rock",
            "rock",
            "rock",
            "rock",
            "edm",
            "latin",
            "latin",
            "latin",
            "pop",
            "pop",
            "pop",
            "pop",
            "r&b",
            "r&b",
            "r&b",
            "r&b",
            "rap",
            "rap",
            "rap",
            "rock",
            "rock",
            "rock",
            "rock",
            "edm",
            "latin",
            "latin",
            "latin",
            "pop",
            "pop",
            "pop",
            "r&b",
            "r&b",
            "r&b",
            "r&b",
            "rap",
            "rap",
            "rap",
            "rock",
            "rock",
            "rock",
            "rock",
            "latin",
            "latin",
            "latin",
            "pop",
            "pop",
            "pop",
            "r&b",
            "r&b",
            "r&b",
            "r&b",
            "rap",
            "rap",
            "rock",
            "rock",
            "rock",
            "rock",
            "edm",
            "latin",
            "latin",
            "latin",
            "pop",
            "pop",
            "pop",
            "r&b",
            "r&b",
            "r&b",
            "r&b",
            "rap",
            "rap",
            "rap",
            "rock",
            "rock",
            "rock",
            "rock",
            "edm",
            "edm",
            "latin",
            "latin",
            "latin",
            "pop",
            "pop",
            "pop",
            "r&b",
            "r&b",
            "r&b",
            "r&b",
            "rap",
            "rap",
            "rap",
            "rock",
            "rock",
            "rock",
            "rock",
            "edm",
            "edm",
            "edm",
            "latin",
            "latin",
            "latin",
            "pop",
            "pop",
            "pop",
            "pop",
            "r&b",
            "r&b",
            "r&b",
            "r&b",
            "rap",
            "rap",
            "rap",
            "rock",
            "rock",
            "rock",
            "rock",
            "edm",
            "latin",
            "latin",
            "latin",
            "pop",
            "pop",
            "pop",
            "pop",
            "r&b",
            "r&b",
            "r&b",
            "r&b",
            "rap",
            "rap",
            "rap",
            "rock",
            "rock",
            "rock",
            "rock",
            "edm",
            "edm",
            "edm",
            "latin",
            "latin",
            "latin",
            "latin",
            "pop",
            "pop",
            "pop",
            "pop",
            "r&b",
            "r&b",
            "r&b",
            "r&b",
            "rap",
            "rap",
            "rap",
            "rock",
            "rock",
            "rock",
            "rock",
            "edm",
            "edm",
            "latin",
            "latin",
            "latin",
            "pop",
            "pop",
            "pop",
            "pop",
            "r&b",
            "r&b",
            "r&b",
            "r&b",
            "rap",
            "rap",
            "rap",
            "rock",
            "rock",
            "rock",
            "rock",
            "edm",
            "edm",
            "latin",
            "latin",
            "latin",
            "latin",
            "pop",
            "pop",
            "pop",
            "r&b",
            "r&b",
            "r&b",
            "r&b",
            "rap",
            "rap",
            "rap",
            "rock",
            "rock",
            "rock",
            "rock",
            "edm",
            "edm",
            "edm",
            "edm",
            "latin",
            "latin",
            "latin",
            "latin",
            "pop",
            "pop",
            "pop",
            "r&b",
            "r&b",
            "r&b",
            "r&b",
            "rap",
            "rap",
            "rap",
            "rock",
            "rock",
            "rock",
            "rock",
            "edm",
            "edm",
            "edm",
            "latin",
            "latin",
            "latin",
            "latin",
            "pop",
            "pop",
            "pop",
            "pop",
            "r&b",
            "r&b",
            "r&b",
            "r&b",
            "rap",
            "rap",
            "rap",
            "rock",
            "rock",
            "rock",
            "rock",
            "edm",
            "edm",
            "edm",
            "edm",
            "latin",
            "latin",
            "latin",
            "latin",
            "pop",
            "pop",
            "pop",
            "pop",
            "r&b",
            "r&b",
            "r&b",
            "r&b",
            "rap",
            "rap",
            "rap",
            "rock",
            "rock",
            "rock",
            "rock",
            "edm",
            "edm",
            "edm",
            "latin",
            "latin",
            "latin",
            "latin",
            "pop",
            "pop",
            "pop",
            "pop",
            "r&b",
            "r&b",
            "r&b",
            "r&b",
            "rap",
            "rap",
            "rap",
            "rock",
            "rock",
            "rock",
            "rock",
            "edm",
            "edm",
            "edm",
            "edm",
            "latin",
            "latin",
            "latin",
            "latin",
            "pop",
            "pop",
            "pop",
            "pop",
            "r&b",
            "r&b",
            "r&b",
            "r&b",
            "rap",
            "rap",
            "rap",
            "rock",
            "rock",
            "rock",
            "rock",
            "edm",
            "edm",
            "edm",
            "edm",
            "latin",
            "latin",
            "latin",
            "latin",
            "pop",
            "pop",
            "pop",
            "pop",
            "r&b",
            "r&b",
            "r&b",
            "r&b",
            "rap",
            "rap",
            "rap",
            "rock",
            "rock",
            "rock",
            "rock",
            "edm",
            "edm",
            "edm",
            "edm",
            "latin",
            "latin",
            "latin",
            "latin",
            "pop",
            "pop",
            "pop",
            "pop",
            "r&b",
            "r&b",
            "r&b",
            "r&b",
            "rap",
            "rap",
            "rock",
            "rock",
            "rock",
            "rock",
            "edm",
            "edm",
            "edm",
            "edm",
            "latin",
            "latin",
            "latin",
            "latin",
            "pop",
            "pop",
            "pop",
            "pop",
            "r&b",
            "r&b",
            "r&b",
            "r&b",
            "rap",
            "rap",
            "rap",
            "rap",
            "rock",
            "rock",
            "rock",
            "rock",
            "edm",
            "edm",
            "edm",
            "edm",
            "latin",
            "latin",
            "latin",
            "latin",
            "pop",
            "pop",
            "pop",
            "pop",
            "r&b",
            "r&b",
            "r&b",
            "r&b",
            "rap",
            "rap",
            "rap",
            "rap",
            "rock",
            "rock",
            "rock",
            "rock",
            "edm",
            "edm",
            "edm",
            "edm",
            "latin",
            "latin",
            "latin",
            "latin",
            "pop",
            "pop",
            "pop",
            "pop",
            "r&b",
            "r&b",
            "r&b",
            "r&b",
            "rap",
            "rap",
            "rap",
            "rap",
            "rock",
            "rock",
            "rock",
            "rock",
            "edm",
            "edm",
            "edm",
            "edm",
            "latin",
            "latin",
            "latin",
            "latin",
            "pop",
            "pop",
            "pop",
            "pop",
            "r&b",
            "r&b",
            "r&b",
            "r&b",
            "rap",
            "rap",
            "rap",
            "rap",
            "rock",
            "rock",
            "rock",
            "rock",
            "edm",
            "edm",
            "edm",
            "edm",
            "latin",
            "latin",
            "latin",
            "latin",
            "pop",
            "pop",
            "pop",
            "pop",
            "r&b",
            "r&b",
            "r&b",
            "r&b",
            "rap",
            "rap",
            "rap",
            "rap",
            "rock",
            "rock",
            "rock",
            "rock",
            "edm",
            "edm",
            "edm",
            "edm",
            "latin",
            "latin",
            "latin",
            "latin",
            "pop",
            "pop",
            "pop",
            "pop",
            "r&b",
            "r&b",
            "r&b",
            "r&b",
            "rap",
            "rap",
            "rap",
            "rap",
            "rock",
            "rock",
            "rock",
            "rock",
            "edm",
            "edm",
            "edm",
            "edm",
            "latin",
            "latin",
            "latin",
            "latin",
            "pop",
            "pop",
            "pop",
            "pop",
            "r&b",
            "r&b",
            "r&b",
            "r&b",
            "rap",
            "rap",
            "rap",
            "rap",
            "rock",
            "rock",
            "rock",
            "rock",
            "edm",
            "edm",
            "edm",
            "edm",
            "latin",
            "latin",
            "latin",
            "latin",
            "pop",
            "pop",
            "pop",
            "pop",
            "r&b",
            "r&b",
            "r&b",
            "r&b",
            "rap",
            "rap",
            "rap",
            "rap",
            "rock",
            "rock",
            "rock",
            "rock",
            "edm",
            "edm",
            "edm",
            "edm",
            "latin",
            "latin",
            "latin",
            "latin",
            "pop",
            "pop",
            "pop",
            "pop",
            "r&b",
            "r&b",
            "r&b",
            "rap",
            "rap",
            "rap",
            "rock",
            "rock",
            "rock"
           ]
          },
          {
           "label": "subgenre",
           "values": [
            "urban contemporary",
            "classic rock",
            "classic rock",
            "neo soul",
            "urban contemporary",
            "urban contemporary",
            "urban contemporary",
            "classic rock",
            "neo soul",
            "album rock",
            "classic rock",
            "hard rock",
            "neo soul",
            "album rock",
            "classic rock",
            "permanent wave",
            "latin hip hop",
            "urban contemporary",
            "album rock",
            "classic rock",
            "hard rock",
            "permanent wave",
            "neo soul",
            "urban contemporary",
            "album rock",
            "classic rock",
            "hard rock",
            "permanent wave",
            "neo soul",
            "urban contemporary",
            "southern hip hop",
            "album rock",
            "classic rock",
            "hard rock",
            "permanent wave",
            "neo soul",
            "urban contemporary",
            "southern hip hop",
            "album rock",
            "classic rock",
            "hard rock",
            "permanent wave",
            "post-teen pop",
            "urban contemporary",
            "southern hip hop",
            "album rock",
            "classic rock",
            "hard rock",
            "permanent wave",
            "post-teen pop",
            "neo soul",
            "urban contemporary",
            "southern hip hop",
            "album rock",
            "classic rock",
            "hard rock",
            "permanent wave",
            "neo soul",
            "urban contemporary",
            "southern hip hop",
            "album rock",
            "classic rock",
            "hard rock",
            "permanent wave",
            "urban contemporary",
            "southern hip hop",
            "album rock",
            "classic rock",
            "hard rock",
            "permanent wave",
            "post-teen pop",
            "urban contemporary",
            "southern hip hop",
            "album rock",
            "classic rock",
            "hard rock",
            "permanent wave",
            "post-teen pop",
            "urban contemporary",
            "southern hip hop",
            "album rock",
            "classic rock",
            "hard rock",
            "permanent wave",
            "electropop",
            "neo soul",
            "urban contemporary",
            "album rock",
            "classic rock",
            "hard rock",
            "permanent wave",
            "latin hip hop",
            "post-teen pop",
            "urban contemporary",
            "southern hip hop",
            "album rock",
            "classic rock",
            "hard rock",
            "permanent wave",
            "progressive electro house",
            "post-teen pop",
            "urban contemporary",
            "album rock",
            "classic rock",
            "hard rock",
            "permanent wave",
            "progressive electro house",
            "electropop",
            "post-teen pop",
            "urban contemporary",
            "southern hip hop",
            "album rock",
            "classic rock",
            "hard rock",
            "permanent wave",
            "progressive electro house",
            "latin hip hop",
            "latin pop",
            "electropop",
            "post-teen pop",
            "neo soul",
            "new jack swing",
            "urban contemporary",
            "album rock",
            "classic rock",
            "hard rock",
            "permanent wave",
            "progressive electro house",
            "electropop",
            "post-teen pop",
            "new jack swing",
            "urban contemporary",
            "album rock",
            "classic rock",
            "hard rock",
            "permanent wave",
            "progressive electro house",
            "latin hip hop",
            "electropop",
            "post-teen pop",
            "neo soul",
            "urban contemporary",
            "southern hip hop",
            "album rock",
            "classic rock",
            "hard rock",
            "permanent wave",
            "progressive electro house",
            "latin hip hop",
            "latin pop",
            "electropop",
            "post-teen pop",
            "new jack swing",
            "urban contemporary",
            "southern hip hop",
            "album rock",
            "classic rock",
            "hard rock",
            "permanent wave",
            "progressive electro house",
            "latin hip hop",
            "electropop",
            "post-teen pop",
            "neo soul",
            "urban contemporary",
            "southern hip hop",
            "album rock",
            "classic rock",
            "hard rock",
            "permanent wave",
            "latin pop",
            "electropop",
            "post-teen pop",
            "hip pop",
            "neo soul",
            "new jack swing",
            "urban contemporary",
            "southern hip hop",
            "album rock",
            "classic rock",
            "hard rock",
            "permanent wave",
            "latin hip hop",
            "latin pop",
            "electropop",
            "indie poptimism",
            "post-teen pop",
            "neo soul",
            "new jack swing",
            "urban contemporary",
            "southern hip hop",
            "album rock",
            "classic rock",
            "hard rock",
            "permanent wave",
            "latin hip hop",
            "electropop",
            "post-teen pop",
            "neo soul",
            "new jack swing",
            "urban contemporary",
            "southern hip hop",
            "album rock",
            "classic rock",
            "hard rock",
            "permanent wave",
            "latin hip hop",
            "latin pop",
            "electropop",
            "post-teen pop",
            "neo soul",
            "new jack swing",
            "urban contemporary",
            "gangster rap",
            "southern hip hop",
            "album rock",
            "classic rock",
            "hard rock",
            "permanent wave",
            "latin hip hop",
            "latin pop",
            "electropop",
            "post-teen pop",
            "neo soul",
            "new jack swing",
            "urban contemporary",
            "gangster rap",
            "southern hip hop",
            "album rock",
            "classic rock",
            "hard rock",
            "permanent wave",
            "latin hip hop",
            "latin pop",
            "electropop",
            "neo soul",
            "new jack swing",
            "urban contemporary",
            "gangster rap",
            "southern hip hop",
            "album rock",
            "classic rock",
            "hard rock",
            "permanent wave",
            "progressive electro house",
            "latin hip hop",
            "latin pop",
            "tropical",
            "dance pop",
            "electropop",
            "post-teen pop",
            "neo soul",
            "new jack swing",
            "urban contemporary",
            "gangster rap",
            "southern hip hop",
            "album rock",
            "classic rock",
            "hard rock",
            "permanent wave",
            "progressive electro house",
            "latin hip hop",
            "latin pop",
            "reggaeton",
            "dance pop",
            "electropop",
            "post-teen pop",
            "hip pop",
            "neo soul",
            "new jack swing",
            "urban contemporary",
            "gangster rap",
            "southern hip hop",
            "album rock",
            "classic rock",
            "hard rock",
            "permanent wave",
            "latin pop",
            "dance pop",
            "electropop",
            "hip pop",
            "neo soul",
            "new jack swing",
            "urban contemporary",
            "gangster rap",
            "southern hip hop",
            "album rock",
            "classic rock",
            "hard rock",
            "permanent wave",
            "progressive electro house",
            "latin hip hop",
            "latin pop",
            "dance pop",
            "electropop",
            "post-teen pop",
            "neo soul",
            "new jack swing",
            "urban contemporary",
            "gangster rap",
            "southern hip hop",
            "album rock",
            "classic rock",
            "hard rock",
            "permanent wave",
            "progressive electro house",
            "latin hip hop",
            "latin pop",
            "dance pop",
            "electropop",
            "post-teen pop",
            "hip pop",
            "neo soul",
            "new jack swing",
            "urban contemporary",
            "gangster rap",
            "southern hip hop",
            "album rock",
            "classic rock",
            "hard rock",
            "permanent wave",
            "big room",
            "latin hip hop",
            "latin pop",
            "tropical",
            "dance pop",
            "electropop",
            "indie poptimism",
            "post-teen pop",
            "hip pop",
            "neo soul",
            "new jack swing",
            "urban contemporary",
            "gangster rap",
            "hip hop",
            "southern hip hop",
            "album rock",
            "classic rock",
            "hard rock",
            "permanent wave",
            "big room",
            "latin hip hop",
            "latin pop",
            "tropical",
            "dance pop",
            "electropop",
            "post-teen pop",
            "hip pop",
            "neo soul",
            "new jack swing",
            "urban contemporary",
            "gangster rap",
            "hip hop",
            "southern hip hop",
            "album rock",
            "classic rock",
            "hard rock",
            "permanent wave",
            "latin hip hop",
            "latin pop",
            "tropical",
            "dance pop",
            "electropop",
            "post-teen pop",
            "hip pop",
            "neo soul",
            "new jack swing",
            "urban contemporary",
            "gangster rap",
            "southern hip hop",
            "album rock",
            "classic rock",
            "hard rock",
            "permanent wave",
            "progressive electro house",
            "latin hip hop",
            "latin pop",
            "tropical",
            "dance pop",
            "electropop",
            "post-teen pop",
            "hip pop",
            "neo soul",
            "new jack swing",
            "urban contemporary",
            "gangster rap",
            "hip hop",
            "southern hip hop",
            "album rock",
            "classic rock",
            "hard rock",
            "permanent wave",
            "big room",
            "electro house",
            "latin hip hop",
            "latin pop",
            "reggaeton",
            "dance pop",
            "electropop",
            "post-teen pop",
            "hip pop",
            "neo soul",
            "new jack swing",
            "urban contemporary",
            "gangster rap",
            "hip hop",
            "southern hip hop",
            "album rock",
            "classic rock",
            "hard rock",
            "permanent wave",
            "big room",
            "pop edm",
            "progressive electro house",
            "latin hip hop",
            "latin pop",
            "tropical",
            "dance pop",
            "electropop",
            "indie poptimism",
            "post-teen pop",
            "hip pop",
            "neo soul",
            "new jack swing",
            "urban contemporary",
            "gangster rap",
            "hip hop",
            "southern hip hop",
            "album rock",
            "classic rock",
            "hard rock",
            "permanent wave",
            "progressive electro house",
            "latin hip hop",
            "latin pop",
            "tropical",
            "dance pop",
            "electropop",
            "indie poptimism",
            "post-teen pop",
            "hip pop",
            "neo soul",
            "new jack swing",
            "urban contemporary",
            "gangster rap",
            "hip hop",
            "southern hip hop",
            "album rock",
            "classic rock",
            "hard rock",
            "permanent wave",
            "big room",
            "electro house",
            "progressive electro house",
            "latin hip hop",
            "latin pop",
            "reggaeton",
            "tropical",
            "dance pop",
            "electropop",
            "indie poptimism",
            "post-teen pop",
            "hip pop",
            "neo soul",
            "new jack swing",
            "urban contemporary",
            "gangster rap",
            "hip hop",
            "southern hip hop",
            "album rock",
            "classic rock",
            "hard rock",
            "permanent wave",
            "big room",
            "progressive electro house",
            "latin hip hop",
            "latin pop",
            "reggaeton",
            "dance pop",
            "electropop",
            "indie poptimism",
            "post-teen pop",
            "hip pop",
            "neo soul",
            "new jack swing",
            "urban contemporary",
            "gangster rap",
            "hip hop",
            "southern hip hop",
            "album rock",
            "classic rock",
            "hard rock",
            "permanent wave",
            "big room",
            "progressive electro house",
            "latin hip hop",
            "latin pop",
            "reggaeton",
            "tropical",
            "electropop",
            "indie poptimism",
            "post-teen pop",
            "hip pop",
            "neo soul",
            "new jack swing",
            "urban contemporary",
            "gangster rap",
            "hip hop",
            "southern hip hop",
            "album rock",
            "classic rock",
            "hard rock",
            "permanent wave",
            "big room",
            "electro house",
            "pop edm",
            "progressive electro house",
            "latin hip hop",
            "latin pop",
            "reggaeton",
            "tropical",
            "dance pop",
            "electropop",
            "post-teen pop",
            "hip pop",
            "neo soul",
            "new jack swing",
            "urban contemporary",
            "gangster rap",
            "hip hop",
            "southern hip hop",
            "album rock",
            "classic rock",
            "hard rock",
            "permanent wave",
            "big room",
            "pop edm",
            "progressive electro house",
            "latin hip hop",
            "latin pop",
            "reggaeton",
            "tropical",
            "dance pop",
            "electropop",
            "indie poptimism",
            "post-teen pop",
            "hip pop",
            "neo soul",
            "new jack swing",
            "urban contemporary",
            "gangster rap",
            "hip hop",
            "southern hip hop",
            "album rock",
            "classic rock",
            "hard rock",
            "permanent wave",
            "big room",
            "electro house",
            "pop edm",
            "progressive electro house",
            "latin hip hop",
            "latin pop",
            "reggaeton",
            "tropical",
            "dance pop",
            "electropop",
            "indie poptimism",
            "post-teen pop",
            "hip pop",
            "neo soul",
            "new jack swing",
            "urban contemporary",
            "gangster rap",
            "hip hop",
            "southern hip hop",
            "album rock",
            "classic rock",
            "hard rock",
            "permanent wave",
            "electro house",
            "pop edm",
            "progressive electro house",
            "latin hip hop",
            "latin pop",
            "reggaeton",
            "tropical",
            "dance pop",
            "electropop",
            "indie poptimism",
            "post-teen pop",
            "hip pop",
            "neo soul",
            "new jack swing",
            "urban contemporary",
            "gangster rap",
            "hip hop",
            "southern hip hop",
            "album rock",
            "classic rock",
            "hard rock",
            "permanent wave",
            "big room",
            "electro house",
            "pop edm",
            "progressive electro house",
            "latin hip hop",
            "latin pop",
            "reggaeton",
            "tropical",
            "dance pop",
            "electropop",
            "indie poptimism",
            "post-teen pop",
            "hip pop",
            "neo soul",
            "new jack swing",
            "urban contemporary",
            "gangster rap",
            "hip hop",
            "southern hip hop",
            "album rock",
            "classic rock",
            "hard rock",
            "permanent wave",
            "big room",
            "electro house",
            "pop edm",
            "progressive electro house",
            "latin hip hop",
            "latin pop",
            "reggaeton",
            "tropical",
            "dance pop",
            "electropop",
            "indie poptimism",
            "post-teen pop",
            "hip pop",
            "neo soul",
            "new jack swing",
            "urban contemporary",
            "gangster rap",
            "hip hop",
            "southern hip hop",
            "album rock",
            "classic rock",
            "hard rock",
            "permanent wave",
            "big room",
            "electro house",
            "pop edm",
            "progressive electro house",
            "latin hip hop",
            "latin pop",
            "reggaeton",
            "tropical",
            "dance pop",
            "electropop",
            "indie poptimism",
            "post-teen pop",
            "hip pop",
            "neo soul",
            "new jack swing",
            "urban contemporary",
            "gangster rap",
            "southern hip hop",
            "album rock",
            "classic rock",
            "hard rock",
            "permanent wave",
            "big room",
            "electro house",
            "pop edm",
            "progressive electro house",
            "latin hip hop",
            "latin pop",
            "reggaeton",
            "tropical",
            "dance pop",
            "electropop",
            "indie poptimism",
            "post-teen pop",
            "hip pop",
            "neo soul",
            "new jack swing",
            "urban contemporary",
            "gangster rap",
            "hip hop",
            "southern hip hop",
            "trap",
            "album rock",
            "classic rock",
            "hard rock",
            "permanent wave",
            "big room",
            "electro house",
            "pop edm",
            "progressive electro house",
            "latin hip hop",
            "latin pop",
            "reggaeton",
            "tropical",
            "dance pop",
            "electropop",
            "indie poptimism",
            "post-teen pop",
            "hip pop",
            "neo soul",
            "new jack swing",
            "urban contemporary",
            "gangster rap",
            "hip hop",
            "southern hip hop",
            "trap",
            "album rock",
            "classic rock",
            "hard rock",
            "permanent wave",
            "big room",
            "electro house",
            "pop edm",
            "progressive electro house",
            "latin hip hop",
            "latin pop",
            "reggaeton",
            "tropical",
            "dance pop",
            "electropop",
            "indie poptimism",
            "post-teen pop",
            "hip pop",
            "neo soul",
            "new jack swing",
            "urban contemporary",
            "gangster rap",
            "hip hop",
            "southern hip hop",
            "trap",
            "album rock",
            "classic rock",
            "hard rock",
            "permanent wave",
            "big room",
            "electro house",
            "pop edm",
            "progressive electro house",
            "latin hip hop",
            "latin pop",
            "reggaeton",
            "tropical",
            "dance pop",
            "electropop",
            "indie poptimism",
            "post-teen pop",
            "hip pop",
            "neo soul",
            "new jack swing",
            "urban contemporary",
            "gangster rap",
            "hip hop",
            "southern hip hop",
            "trap",
            "album rock",
            "classic rock",
            "hard rock",
            "permanent wave",
            "big room",
            "electro house",
            "pop edm",
            "progressive electro house",
            "latin hip hop",
            "latin pop",
            "reggaeton",
            "tropical",
            "dance pop",
            "electropop",
            "indie poptimism",
            "post-teen pop",
            "hip pop",
            "neo soul",
            "new jack swing",
            "urban contemporary",
            "gangster rap",
            "hip hop",
            "southern hip hop",
            "trap",
            "album rock",
            "classic rock",
            "hard rock",
            "permanent wave",
            "big room",
            "electro house",
            "pop edm",
            "progressive electro house",
            "latin hip hop",
            "latin pop",
            "reggaeton",
            "tropical",
            "dance pop",
            "electropop",
            "indie poptimism",
            "post-teen pop",
            "hip pop",
            "neo soul",
            "new jack swing",
            "urban contemporary",
            "gangster rap",
            "hip hop",
            "southern hip hop",
            "trap",
            "album rock",
            "classic rock",
            "hard rock",
            "permanent wave",
            "big room",
            "electro house",
            "pop edm",
            "progressive electro house",
            "latin hip hop",
            "latin pop",
            "reggaeton",
            "tropical",
            "dance pop",
            "electropop",
            "indie poptimism",
            "post-teen pop",
            "hip pop",
            "neo soul",
            "new jack swing",
            "urban contemporary",
            "gangster rap",
            "hip hop",
            "southern hip hop",
            "trap",
            "album rock",
            "classic rock",
            "hard rock",
            "permanent wave",
            "big room",
            "electro house",
            "pop edm",
            "progressive electro house",
            "latin hip hop",
            "latin pop",
            "reggaeton",
            "tropical",
            "dance pop",
            "electropop",
            "indie poptimism",
            "post-teen pop",
            "hip pop",
            "neo soul",
            "new jack swing",
            "urban contemporary",
            "gangster rap",
            "hip hop",
            "southern hip hop",
            "trap",
            "album rock",
            "classic rock",
            "hard rock",
            "permanent wave",
            "big room",
            "electro house",
            "pop edm",
            "progressive electro house",
            "latin hip hop",
            "latin pop",
            "reggaeton",
            "tropical",
            "dance pop",
            "electropop",
            "indie poptimism",
            "post-teen pop",
            "hip pop",
            "neo soul",
            "urban contemporary",
            "gangster rap",
            "hip hop",
            "trap",
            "classic rock",
            "hard rock",
            "permanent wave"
           ]
          }
         ],
         "domain": {
          "y": [
           0,
           0.4
          ]
         },
         "line": {
          "cmax": 2.5,
          "cmin": -0.5,
          "color": {
           "dtype": "uint8",
           "shape": [
            883
           ],
           "value": {}
          },
          "colorscale": [
           [
            0,
            "gray"
           ],
           [
            0.33,
            "gray"
           ],
           [
            0.33,
            "firebrick"
           ],
           [
            0.66,
            "firebrick"
           ],
           [
            0.66,
            "blue"
           ],
           [
            1,
            "blue"
           ]
          ],
          "shape": "hspline"
         },
         "type": "parcats",
         "uid": "78df3e56-1cd8-40e3-9db8-042527d5207c"
        }
       ],
       "_js2py_restyle": {},
       "_js2py_update": {},
       "_last_layout_edit_id": 2,
       "_last_trace_edit_id": 1,
       "_layout": {
        "autosize": true,
        "dragmode": "lasso",
        "height": 800,
        "hovermode": "closest",
        "template": {
         "data": {
          "bar": [
           {
            "error_x": {
             "color": "#2a3f5f"
            },
            "error_y": {
             "color": "#2a3f5f"
            },
            "marker": {
             "line": {
              "color": "#E5ECF6",
              "width": 0.5
             }
            },
            "type": "bar"
           }
          ],
          "barpolar": [
           {
            "marker": {
             "line": {
              "color": "#E5ECF6",
              "width": 0.5
             }
            },
            "type": "barpolar"
           }
          ],
          "carpet": [
           {
            "aaxis": {
             "endlinecolor": "#2a3f5f",
             "gridcolor": "white",
             "linecolor": "white",
             "minorgridcolor": "white",
             "startlinecolor": "#2a3f5f"
            },
            "baxis": {
             "endlinecolor": "#2a3f5f",
             "gridcolor": "white",
             "linecolor": "white",
             "minorgridcolor": "white",
             "startlinecolor": "#2a3f5f"
            },
            "type": "carpet"
           }
          ],
          "choropleth": [
           {
            "colorbar": {
             "outlinewidth": 0,
             "ticks": ""
            },
            "type": "choropleth"
           }
          ],
          "contour": [
           {
            "colorbar": {
             "outlinewidth": 0,
             "ticks": ""
            },
            "colorscale": [
             [
              0,
              "#0d0887"
             ],
             [
              0.1111111111111111,
              "#46039f"
             ],
             [
              0.2222222222222222,
              "#7201a8"
             ],
             [
              0.3333333333333333,
              "#9c179e"
             ],
             [
              0.4444444444444444,
              "#bd3786"
             ],
             [
              0.5555555555555556,
              "#d8576b"
             ],
             [
              0.6666666666666666,
              "#ed7953"
             ],
             [
              0.7777777777777778,
              "#fb9f3a"
             ],
             [
              0.8888888888888888,
              "#fdca26"
             ],
             [
              1,
              "#f0f921"
             ]
            ],
            "type": "contour"
           }
          ],
          "contourcarpet": [
           {
            "colorbar": {
             "outlinewidth": 0,
             "ticks": ""
            },
            "type": "contourcarpet"
           }
          ],
          "heatmap": [
           {
            "colorbar": {
             "outlinewidth": 0,
             "ticks": ""
            },
            "colorscale": [
             [
              0,
              "#0d0887"
             ],
             [
              0.1111111111111111,
              "#46039f"
             ],
             [
              0.2222222222222222,
              "#7201a8"
             ],
             [
              0.3333333333333333,
              "#9c179e"
             ],
             [
              0.4444444444444444,
              "#bd3786"
             ],
             [
              0.5555555555555556,
              "#d8576b"
             ],
             [
              0.6666666666666666,
              "#ed7953"
             ],
             [
              0.7777777777777778,
              "#fb9f3a"
             ],
             [
              0.8888888888888888,
              "#fdca26"
             ],
             [
              1,
              "#f0f921"
             ]
            ],
            "type": "heatmap"
           }
          ],
          "heatmapgl": [
           {
            "colorbar": {
             "outlinewidth": 0,
             "ticks": ""
            },
            "colorscale": [
             [
              0,
              "#0d0887"
             ],
             [
              0.1111111111111111,
              "#46039f"
             ],
             [
              0.2222222222222222,
              "#7201a8"
             ],
             [
              0.3333333333333333,
              "#9c179e"
             ],
             [
              0.4444444444444444,
              "#bd3786"
             ],
             [
              0.5555555555555556,
              "#d8576b"
             ],
             [
              0.6666666666666666,
              "#ed7953"
             ],
             [
              0.7777777777777778,
              "#fb9f3a"
             ],
             [
              0.8888888888888888,
              "#fdca26"
             ],
             [
              1,
              "#f0f921"
             ]
            ],
            "type": "heatmapgl"
           }
          ],
          "histogram": [
           {
            "marker": {
             "colorbar": {
              "outlinewidth": 0,
              "ticks": ""
             }
            },
            "type": "histogram"
           }
          ],
          "histogram2d": [
           {
            "colorbar": {
             "outlinewidth": 0,
             "ticks": ""
            },
            "colorscale": [
             [
              0,
              "#0d0887"
             ],
             [
              0.1111111111111111,
              "#46039f"
             ],
             [
              0.2222222222222222,
              "#7201a8"
             ],
             [
              0.3333333333333333,
              "#9c179e"
             ],
             [
              0.4444444444444444,
              "#bd3786"
             ],
             [
              0.5555555555555556,
              "#d8576b"
             ],
             [
              0.6666666666666666,
              "#ed7953"
             ],
             [
              0.7777777777777778,
              "#fb9f3a"
             ],
             [
              0.8888888888888888,
              "#fdca26"
             ],
             [
              1,
              "#f0f921"
             ]
            ],
            "type": "histogram2d"
           }
          ],
          "histogram2dcontour": [
           {
            "colorbar": {
             "outlinewidth": 0,
             "ticks": ""
            },
            "colorscale": [
             [
              0,
              "#0d0887"
             ],
             [
              0.1111111111111111,
              "#46039f"
             ],
             [
              0.2222222222222222,
              "#7201a8"
             ],
             [
              0.3333333333333333,
              "#9c179e"
             ],
             [
              0.4444444444444444,
              "#bd3786"
             ],
             [
              0.5555555555555556,
              "#d8576b"
             ],
             [
              0.6666666666666666,
              "#ed7953"
             ],
             [
              0.7777777777777778,
              "#fb9f3a"
             ],
             [
              0.8888888888888888,
              "#fdca26"
             ],
             [
              1,
              "#f0f921"
             ]
            ],
            "type": "histogram2dcontour"
           }
          ],
          "mesh3d": [
           {
            "colorbar": {
             "outlinewidth": 0,
             "ticks": ""
            },
            "type": "mesh3d"
           }
          ],
          "parcoords": [
           {
            "line": {
             "colorbar": {
              "outlinewidth": 0,
              "ticks": ""
             }
            },
            "type": "parcoords"
           }
          ],
          "pie": [
           {
            "automargin": true,
            "type": "pie"
           }
          ],
          "scatter": [
           {
            "marker": {
             "colorbar": {
              "outlinewidth": 0,
              "ticks": ""
             }
            },
            "type": "scatter"
           }
          ],
          "scatter3d": [
           {
            "line": {
             "colorbar": {
              "outlinewidth": 0,
              "ticks": ""
             }
            },
            "marker": {
             "colorbar": {
              "outlinewidth": 0,
              "ticks": ""
             }
            },
            "type": "scatter3d"
           }
          ],
          "scattercarpet": [
           {
            "marker": {
             "colorbar": {
              "outlinewidth": 0,
              "ticks": ""
             }
            },
            "type": "scattercarpet"
           }
          ],
          "scattergeo": [
           {
            "marker": {
             "colorbar": {
              "outlinewidth": 0,
              "ticks": ""
             }
            },
            "type": "scattergeo"
           }
          ],
          "scattergl": [
           {
            "marker": {
             "colorbar": {
              "outlinewidth": 0,
              "ticks": ""
             }
            },
            "type": "scattergl"
           }
          ],
          "scattermapbox": [
           {
            "marker": {
             "colorbar": {
              "outlinewidth": 0,
              "ticks": ""
             }
            },
            "type": "scattermapbox"
           }
          ],
          "scatterpolar": [
           {
            "marker": {
             "colorbar": {
              "outlinewidth": 0,
              "ticks": ""
             }
            },
            "type": "scatterpolar"
           }
          ],
          "scatterpolargl": [
           {
            "marker": {
             "colorbar": {
              "outlinewidth": 0,
              "ticks": ""
             }
            },
            "type": "scatterpolargl"
           }
          ],
          "scatterternary": [
           {
            "marker": {
             "colorbar": {
              "outlinewidth": 0,
              "ticks": ""
             }
            },
            "type": "scatterternary"
           }
          ],
          "surface": [
           {
            "colorbar": {
             "outlinewidth": 0,
             "ticks": ""
            },
            "colorscale": [
             [
              0,
              "#0d0887"
             ],
             [
              0.1111111111111111,
              "#46039f"
             ],
             [
              0.2222222222222222,
              "#7201a8"
             ],
             [
              0.3333333333333333,
              "#9c179e"
             ],
             [
              0.4444444444444444,
              "#bd3786"
             ],
             [
              0.5555555555555556,
              "#d8576b"
             ],
             [
              0.6666666666666666,
              "#ed7953"
             ],
             [
              0.7777777777777778,
              "#fb9f3a"
             ],
             [
              0.8888888888888888,
              "#fdca26"
             ],
             [
              1,
              "#f0f921"
             ]
            ],
            "type": "surface"
           }
          ],
          "table": [
           {
            "cells": {
             "fill": {
              "color": "#EBF0F8"
             },
             "line": {
              "color": "white"
             }
            },
            "header": {
             "fill": {
              "color": "#C8D4E3"
             },
             "line": {
              "color": "white"
             }
            },
            "type": "table"
           }
          ]
         },
         "layout": {
          "annotationdefaults": {
           "arrowcolor": "#2a3f5f",
           "arrowhead": 0,
           "arrowwidth": 1
          },
          "coloraxis": {
           "colorbar": {
            "outlinewidth": 0,
            "ticks": ""
           }
          },
          "colorscale": {
           "diverging": [
            [
             0,
             "#8e0152"
            ],
            [
             0.1,
             "#c51b7d"
            ],
            [
             0.2,
             "#de77ae"
            ],
            [
             0.3,
             "#f1b6da"
            ],
            [
             0.4,
             "#fde0ef"
            ],
            [
             0.5,
             "#f7f7f7"
            ],
            [
             0.6,
             "#e6f5d0"
            ],
            [
             0.7,
             "#b8e186"
            ],
            [
             0.8,
             "#7fbc41"
            ],
            [
             0.9,
             "#4d9221"
            ],
            [
             1,
             "#276419"
            ]
           ],
           "sequential": [
            [
             0,
             "#0d0887"
            ],
            [
             0.1111111111111111,
             "#46039f"
            ],
            [
             0.2222222222222222,
             "#7201a8"
            ],
            [
             0.3333333333333333,
             "#9c179e"
            ],
            [
             0.4444444444444444,
             "#bd3786"
            ],
            [
             0.5555555555555556,
             "#d8576b"
            ],
            [
             0.6666666666666666,
             "#ed7953"
            ],
            [
             0.7777777777777778,
             "#fb9f3a"
            ],
            [
             0.8888888888888888,
             "#fdca26"
            ],
            [
             1,
             "#f0f921"
            ]
           ],
           "sequentialminus": [
            [
             0,
             "#0d0887"
            ],
            [
             0.1111111111111111,
             "#46039f"
            ],
            [
             0.2222222222222222,
             "#7201a8"
            ],
            [
             0.3333333333333333,
             "#9c179e"
            ],
            [
             0.4444444444444444,
             "#bd3786"
            ],
            [
             0.5555555555555556,
             "#d8576b"
            ],
            [
             0.6666666666666666,
             "#ed7953"
            ],
            [
             0.7777777777777778,
             "#fb9f3a"
            ],
            [
             0.8888888888888888,
             "#fdca26"
            ],
            [
             1,
             "#f0f921"
            ]
           ]
          },
          "colorway": [
           "#636efa",
           "#EF553B",
           "#00cc96",
           "#ab63fa",
           "#FFA15A",
           "#19d3f3",
           "#FF6692",
           "#B6E880",
           "#FF97FF",
           "#FECB52"
          ],
          "font": {
           "color": "#2a3f5f"
          },
          "geo": {
           "bgcolor": "white",
           "lakecolor": "white",
           "landcolor": "#E5ECF6",
           "showlakes": true,
           "showland": true,
           "subunitcolor": "white"
          },
          "hoverlabel": {
           "align": "left"
          },
          "hovermode": "closest",
          "mapbox": {
           "style": "light"
          },
          "paper_bgcolor": "white",
          "plot_bgcolor": "#E5ECF6",
          "polar": {
           "angularaxis": {
            "gridcolor": "white",
            "linecolor": "white",
            "ticks": ""
           },
           "bgcolor": "#E5ECF6",
           "radialaxis": {
            "gridcolor": "white",
            "linecolor": "white",
            "ticks": ""
           }
          },
          "scene": {
           "xaxis": {
            "backgroundcolor": "#E5ECF6",
            "gridcolor": "white",
            "gridwidth": 2,
            "linecolor": "white",
            "showbackground": true,
            "ticks": "",
            "zerolinecolor": "white"
           },
           "yaxis": {
            "backgroundcolor": "#E5ECF6",
            "gridcolor": "white",
            "gridwidth": 2,
            "linecolor": "white",
            "showbackground": true,
            "ticks": "",
            "zerolinecolor": "white"
           },
           "zaxis": {
            "backgroundcolor": "#E5ECF6",
            "gridcolor": "white",
            "gridwidth": 2,
            "linecolor": "white",
            "showbackground": true,
            "ticks": "",
            "zerolinecolor": "white"
           }
          },
          "shapedefaults": {
           "line": {
            "color": "#2a3f5f"
           }
          },
          "ternary": {
           "aaxis": {
            "gridcolor": "white",
            "linecolor": "white",
            "ticks": ""
           },
           "baxis": {
            "gridcolor": "white",
            "linecolor": "white",
            "ticks": ""
           },
           "bgcolor": "#E5ECF6",
           "caxis": {
            "gridcolor": "white",
            "linecolor": "white",
            "ticks": ""
           }
          },
          "title": {
           "x": 0.05
          },
          "xaxis": {
           "automargin": true,
           "gridcolor": "white",
           "linecolor": "white",
           "ticks": "",
           "title": {
            "standoff": 15
           },
           "zerolinecolor": "white",
           "zerolinewidth": 2
          },
          "yaxis": {
           "automargin": true,
           "gridcolor": "white",
           "linecolor": "white",
           "ticks": "",
           "title": {
            "standoff": 15
           },
           "zerolinecolor": "white",
           "zerolinewidth": 2
          }
         }
        },
        "xaxis": {
         "title": {
          "text": "Count"
         }
        },
        "yaxis": {
         "domain": [
          0.6,
          1
         ],
         "title": {
          "text": "MPG"
         }
        }
       },
       "_model_module_version": "1.5.4",
       "_py2js_addTraces": {},
       "_py2js_animate": {},
       "_py2js_deleteTraces": {},
       "_py2js_moveTraces": {},
       "_py2js_removeLayoutProps": {},
       "_py2js_removeTraceProps": {},
       "_py2js_restyle": {},
       "_view_count": 0,
       "_view_module_version": "1.5.4"
      }
     },
     "a735700ec7ff49e6af9ca84bead7d891": {
      "model_module": "@jupyter-widgets/controls",
      "model_module_version": "1.5.0",
      "model_name": "ToggleButtonsModel",
      "state": {
       "_options_labels": [
        "None",
        "Red",
        "Blue"
       ],
       "button_style": "",
       "description": "Brush Color:",
       "icons": [],
       "index": 1,
       "layout": "IPY_MODEL_7096cc6197394756a3fb7765a39f96b2",
       "style": "IPY_MODEL_29229a29748b4e40bc6f072a1c20cd00",
       "tooltips": []
      }
     },
     "a7cfdf4736c545078e57ad8f484f67d0": {
      "model_module": "@jupyter-widgets/controls",
      "model_module_version": "1.5.0",
      "model_name": "ToggleButtonsStyleModel",
      "state": {
       "button_width": "",
       "description_width": ""
      }
     },
     "b05c004718fb4811a9f8d2b9cb2c5977": {
      "model_module": "@jupyter-widgets/controls",
      "model_module_version": "1.5.0",
      "model_name": "ToggleButtonsModel",
      "state": {
       "_options_labels": [
        "None",
        "Red",
        "Blue"
       ],
       "button_style": "",
       "description": "Brush Color:",
       "icons": [],
       "index": 1,
       "layout": "IPY_MODEL_d72552c7bc9540a2a63f9770656d4aaf",
       "style": "IPY_MODEL_d53a5b9f92a243d3aa07be28ad7ad0f9",
       "tooltips": []
      }
     },
     "b2e575000d464648bb5d70da13490339": {
      "model_module": "@jupyter-widgets/base",
      "model_module_version": "1.2.0",
      "model_name": "LayoutModel",
      "state": {}
     },
     "b4ee9d0e3c9f4d21a30f3e1bcdec327b": {
      "model_module": "@jupyter-widgets/controls",
      "model_module_version": "1.5.0",
      "model_name": "ToggleButtonsModel",
      "state": {
       "_options_labels": [
        "None",
        "Red",
        "Blue"
       ],
       "button_style": "",
       "description": "Brush Color:",
       "icons": [],
       "index": 1,
       "layout": "IPY_MODEL_7486d4a1567c45d1a16e7b85014d5d6e",
       "style": "IPY_MODEL_0bafa21c929b4de18cddbd936e4380b7",
       "tooltips": []
      }
     },
     "b5daac67483d4f4a9481acb5132f2728": {
      "model_module": "@jupyter-widgets/controls",
      "model_module_version": "1.5.0",
      "model_name": "ToggleButtonsModel",
      "state": {
       "_options_labels": [
        "None",
        "Red",
        "Blue"
       ],
       "button_style": "",
       "description": "Brush Color:",
       "icons": [],
       "index": 1,
       "layout": "IPY_MODEL_31fe4c68d14444bbbfb1168e3fb5082c",
       "style": "IPY_MODEL_1060fdd236084a2b9b0eb37dd651f5f9",
       "tooltips": []
      }
     },
     "bf26f5a171674e0ea039a1881bd6cf4c": {
      "model_module": "@jupyter-widgets/controls",
      "model_module_version": "1.5.0",
      "model_name": "ToggleButtonsStyleModel",
      "state": {
       "button_width": "",
       "description_width": ""
      }
     },
     "c0939700ec7946fa9ca2eaeb4dd5b8f0": {
      "buffers": [
       {
        "data": "AAAAAAAAAAAAAAAAAAAAAAAAAAAAAAAAAAAAAAAAAAAAAAAAAAAAAAAAAAAAAAAAAAAAAAAAAAAAAAAAAAAAAAAAAAAAAAAAAAAAAAABAAABAAAAAAAAAAABAAEAAAAAAAAAAAAAAAAAAAAAAAAAAAAAAAAA",
        "encoding": "base64",
        "path": [
         "_data",
         0,
         "marker",
         "color",
         "value"
        ]
       },
       {
        "data": "AAAAAACAOkAAAAAAAABCQAAAAAAAwENAAAAAAAAAMkAAAAAAAIBEQAAAAAAAgE1AAAAAAACAS0AAAAAAAEBEQAAAAAAAAFBAAAAAAAAAT0AAAAAAAIBDQAAAAAAAAFBAAAAAAAAATkAAAAAAAIBDQAAAAAAAAC5AAAAAAACASkAAAAAAAMBEQAAAAAAAgExAAAAAAADAQ0AAAAAAAABMQAAAAAAAgEBAAAAAAAAAAEAAAAAAAIBGQAAAAAAAgExAAAAAAABAQUAAAAAAAIBCQAAAAAAAAERAAAAAAAAAOkAAAAAAAMBCQAAAAAAAAExAAAAAAACAUUAAAAAAAABIQAAAAAAAAFBAAAAAAADAS0AAAAAAAABJQAAAAAAAwE9AAAAAAACAT0AAAAAAAEBEQAAAAAAAACBAAAAAAAAATEAAAAAAAIBCQAAAAAAAgEpAAAAAAAAARUAAAAAAAIBLQAAAAAAAACZAAAAAAACAQEAAAAAAAIBEQAAAAAAAwE5AAAAAAAAAP0AAAAAAAABCQAAAAAAAgEZAAAAAAADAQkAAAAAAAABKQAAAAAAAwFFAAAAAAACgUUAAAAAAAIBHQAAAAAAAQEhAAAAAAABATUAAAAAAAIBKQAAAAAAAQFJAAAAAAAAAUkAAAAAAAEBHQAAAAAAAAE1AAAAAAABATEAAAAAAAABCQAAAAAAAAElAAAAAAAAARUAAAAAAAIBIQAAAAAAAAEZAAAAAAAAARUAAAAAAAABDQAAAAAAAgEtAAAAAAAAAQkAAAAAAAABEQAAAAAAAAEpAAAAAAAAARUAAAAAAAABSQAAAAAAAQE5AAAAAAADAUEAAAAAAAIBGQAAAAAAAAExAAAAAAAAARkAAAAAAAIBKQAAAAAAAwFFAAAAAAABAT0AAAAAAAEBHQAAAAAAAgDJAAAAAAACAUEAAAAAAAABIQAAAAAAAAExAAAAAAACARkAAAAAAAIBLQAAAAAAAgERAAAAAAACAQUAAAAAAAABCQAAAAAAAgENAAAAAAACAQkAAAAAAAIBDQAAAAAAAAEZAAAAAAAAAP0AAAAAAAEBTQAAAAAAAgEZAAAAAAABASUAAAAAAAEBDQAAAAAAAAEVAAAAAAAAAN0AAAAAAAABIQAAAAAAAgFVAAAAAAACARUAAAAAAAAAmQAAAAAAAgElAAAAAAACAR0AAAAAAAIBLQAAAAAAAAEVAAAAAAACAREAAAAAAAEBDQAAAAAAAgElA",
        "encoding": "base64",
        "path": [
         "_data",
         0,
         "y",
         "value"
        ]
       },
       {
        "data": "AAAAAAAAAAAAAAAAAAAAAAAAAAAAAAAAAAAAAAAAAAAAAAAAAAAAAAAAAAAAAAAAAAAAAAAAAAAAAAAAAAAAAAAAAAAAAAAAAAAAAAABAAABAAAAAAAAAAABAAEAAAAAAAAAAAAAAAAAAAAAAAAAAAAAAAAA",
        "encoding": "base64",
        "path": [
         "_data",
         1,
         "line",
         "color",
         "value"
        ]
       }
      ],
      "model_module": "plotlywidget",
      "model_module_version": "1.5.4",
      "model_name": "FigureModel",
      "state": {
       "_config": {
        "plotlyServerURL": "https://plot.ly"
       },
       "_data": [
        {
         "marker": {
          "cmax": 2.5,
          "cmin": -0.5,
          "color": {
           "dtype": "uint8",
           "shape": [
            117
           ],
           "value": {}
          },
          "colorbar": {
           "ticktext": [
            "None",
            "Red",
            "Blue"
           ],
           "tickvals": [
            0,
            1,
            2
           ]
          },
          "colorscale": [
           [
            0,
            "gray"
           ],
           [
            0.33,
            "gray"
           ],
           [
            0.33,
            "firebrick"
           ],
           [
            0.66,
            "firebrick"
           ],
           [
            0.66,
            "blue"
           ],
           [
            1,
            "blue"
           ]
          ],
          "showscale": true
         },
         "mode": "markers",
         "selectedpoints": [
          77,
          80,
          89,
          91
         ],
         "type": "scatter",
         "uid": "33d6f5db-95c2-4e66-a435-bc66ef63804f",
         "x": [
          70,
          88,
          214,
          126,
          153,
          39,
          37,
          146,
          39,
          136,
          317,
          39,
          52,
          166,
          3,
          130,
          106,
          27,
          128,
          34,
          9,
          20,
          19,
          29,
          32,
          155,
          158,
          141,
          148,
          57,
          41,
          150,
          81,
          162,
          190,
          72,
          132,
          174,
          3,
          155,
          183,
          65,
          131,
          84,
          21,
          22,
          43,
          30,
          56,
          302,
          151,
          246,
          214,
          85,
          76,
          192,
          228,
          174,
          204,
          98,
          137,
          138,
          1,
          176,
          163,
          217,
          57,
          268,
          8,
          19,
          68,
          34,
          652,
          674,
          584,
          411,
          343,
          574,
          396,
          566,
          657,
          110,
          342,
          264,
          510,
          176,
          2,
          419,
          194,
          757,
          68,
          805,
          12,
          105,
          367,
          93,
          39,
          47,
          65,
          33,
          21,
          54,
          26,
          30,
          59,
          7,
          99,
          5,
          75,
          3,
          15,
          5,
          98,
          56,
          3,
          32,
          13
         ],
         "y": {
          "dtype": "float64",
          "shape": [
           117
          ],
          "value": {}
         }
        },
        {
         "dimensions": [
          {
           "label": "year",
           "values": [
            2016,
            2016,
            2016,
            2016,
            2016,
            2016,
            2016,
            2016,
            2016,
            2016,
            2016,
            2016,
            2016,
            2016,
            2016,
            2016,
            2016,
            2016,
            2016,
            2016,
            2016,
            2016,
            2016,
            2016,
            2017,
            2017,
            2017,
            2017,
            2017,
            2017,
            2017,
            2017,
            2017,
            2017,
            2017,
            2017,
            2017,
            2017,
            2017,
            2017,
            2017,
            2017,
            2017,
            2017,
            2017,
            2017,
            2017,
            2017,
            2018,
            2018,
            2018,
            2018,
            2018,
            2018,
            2018,
            2018,
            2018,
            2018,
            2018,
            2018,
            2018,
            2018,
            2018,
            2018,
            2018,
            2018,
            2018,
            2018,
            2018,
            2018,
            2018,
            2018,
            2019,
            2019,
            2019,
            2019,
            2019,
            2019,
            2019,
            2019,
            2019,
            2019,
            2019,
            2019,
            2019,
            2019,
            2019,
            2019,
            2019,
            2019,
            2019,
            2019,
            2019,
            2019,
            2019,
            2019,
            2020,
            2020,
            2020,
            2020,
            2020,
            2020,
            2020,
            2020,
            2020,
            2020,
            2020,
            2020,
            2020,
            2020,
            2020,
            2020,
            2020,
            2020,
            2020,
            2020,
            2020
           ]
          },
          {
           "label": "genre",
           "values": [
            "edm",
            "edm",
            "edm",
            "edm",
            "latin",
            "latin",
            "latin",
            "latin",
            "pop",
            "pop",
            "pop",
            "pop",
            "r&b",
            "r&b",
            "r&b",
            "r&b",
            "rap",
            "rap",
            "rap",
            "rap",
            "rock",
            "rock",
            "rock",
            "rock",
            "edm",
            "edm",
            "edm",
            "edm",
            "latin",
            "latin",
            "latin",
            "latin",
            "pop",
            "pop",
            "pop",
            "pop",
            "r&b",
            "r&b",
            "r&b",
            "r&b",
            "rap",
            "rap",
            "rap",
            "rap",
            "rock",
            "rock",
            "rock",
            "rock",
            "edm",
            "edm",
            "edm",
            "edm",
            "latin",
            "latin",
            "latin",
            "latin",
            "pop",
            "pop",
            "pop",
            "pop",
            "r&b",
            "r&b",
            "r&b",
            "r&b",
            "rap",
            "rap",
            "rap",
            "rap",
            "rock",
            "rock",
            "rock",
            "rock",
            "edm",
            "edm",
            "edm",
            "edm",
            "latin",
            "latin",
            "latin",
            "latin",
            "pop",
            "pop",
            "pop",
            "pop",
            "r&b",
            "r&b",
            "r&b",
            "r&b",
            "rap",
            "rap",
            "rap",
            "rap",
            "rock",
            "rock",
            "rock",
            "rock",
            "edm",
            "edm",
            "edm",
            "edm",
            "latin",
            "latin",
            "latin",
            "latin",
            "pop",
            "pop",
            "pop",
            "pop",
            "r&b",
            "r&b",
            "r&b",
            "rap",
            "rap",
            "rap",
            "rock",
            "rock",
            "rock"
           ]
          },
          {
           "label": "subgenre",
           "values": [
            "big room",
            "electro house",
            "pop edm",
            "progressive electro house",
            "latin hip hop",
            "latin pop",
            "reggaeton",
            "tropical",
            "dance pop",
            "electropop",
            "indie poptimism",
            "post-teen pop",
            "hip pop",
            "neo soul",
            "new jack swing",
            "urban contemporary",
            "gangster rap",
            "hip hop",
            "southern hip hop",
            "trap",
            "album rock",
            "classic rock",
            "hard rock",
            "permanent wave",
            "big room",
            "electro house",
            "pop edm",
            "progressive electro house",
            "latin hip hop",
            "latin pop",
            "reggaeton",
            "tropical",
            "dance pop",
            "electropop",
            "indie poptimism",
            "post-teen pop",
            "hip pop",
            "neo soul",
            "new jack swing",
            "urban contemporary",
            "gangster rap",
            "hip hop",
            "southern hip hop",
            "trap",
            "album rock",
            "classic rock",
            "hard rock",
            "permanent wave",
            "big room",
            "electro house",
            "pop edm",
            "progressive electro house",
            "latin hip hop",
            "latin pop",
            "reggaeton",
            "tropical",
            "dance pop",
            "electropop",
            "indie poptimism",
            "post-teen pop",
            "hip pop",
            "neo soul",
            "new jack swing",
            "urban contemporary",
            "gangster rap",
            "hip hop",
            "southern hip hop",
            "trap",
            "album rock",
            "classic rock",
            "hard rock",
            "permanent wave",
            "big room",
            "electro house",
            "pop edm",
            "progressive electro house",
            "latin hip hop",
            "latin pop",
            "reggaeton",
            "tropical",
            "dance pop",
            "electropop",
            "indie poptimism",
            "post-teen pop",
            "hip pop",
            "neo soul",
            "new jack swing",
            "urban contemporary",
            "gangster rap",
            "hip hop",
            "southern hip hop",
            "trap",
            "album rock",
            "classic rock",
            "hard rock",
            "permanent wave",
            "big room",
            "electro house",
            "pop edm",
            "progressive electro house",
            "latin hip hop",
            "latin pop",
            "reggaeton",
            "tropical",
            "dance pop",
            "electropop",
            "indie poptimism",
            "post-teen pop",
            "hip pop",
            "neo soul",
            "urban contemporary",
            "gangster rap",
            "hip hop",
            "trap",
            "classic rock",
            "hard rock",
            "permanent wave"
           ]
          }
         ],
         "domain": {
          "y": [
           0,
           0.4
          ]
         },
         "line": {
          "cmax": 2.5,
          "cmin": -0.5,
          "color": {
           "dtype": "uint8",
           "shape": [
            117
           ],
           "value": {}
          },
          "colorscale": [
           [
            0,
            "gray"
           ],
           [
            0.33,
            "gray"
           ],
           [
            0.33,
            "firebrick"
           ],
           [
            0.66,
            "firebrick"
           ],
           [
            0.66,
            "blue"
           ],
           [
            1,
            "blue"
           ]
          ],
          "shape": "hspline"
         },
         "type": "parcats",
         "uid": "122c8044-9d7c-43d2-8664-9132539e7a71"
        }
       ],
       "_js2py_restyle": {},
       "_js2py_update": {},
       "_last_layout_edit_id": 4,
       "_last_trace_edit_id": 3,
       "_layout": {
        "autosize": true,
        "dragmode": "lasso",
        "height": 800,
        "hovermode": "closest",
        "template": {
         "data": {
          "bar": [
           {
            "error_x": {
             "color": "#2a3f5f"
            },
            "error_y": {
             "color": "#2a3f5f"
            },
            "marker": {
             "line": {
              "color": "#E5ECF6",
              "width": 0.5
             }
            },
            "type": "bar"
           }
          ],
          "barpolar": [
           {
            "marker": {
             "line": {
              "color": "#E5ECF6",
              "width": 0.5
             }
            },
            "type": "barpolar"
           }
          ],
          "carpet": [
           {
            "aaxis": {
             "endlinecolor": "#2a3f5f",
             "gridcolor": "white",
             "linecolor": "white",
             "minorgridcolor": "white",
             "startlinecolor": "#2a3f5f"
            },
            "baxis": {
             "endlinecolor": "#2a3f5f",
             "gridcolor": "white",
             "linecolor": "white",
             "minorgridcolor": "white",
             "startlinecolor": "#2a3f5f"
            },
            "type": "carpet"
           }
          ],
          "choropleth": [
           {
            "colorbar": {
             "outlinewidth": 0,
             "ticks": ""
            },
            "type": "choropleth"
           }
          ],
          "contour": [
           {
            "colorbar": {
             "outlinewidth": 0,
             "ticks": ""
            },
            "colorscale": [
             [
              0,
              "#0d0887"
             ],
             [
              0.1111111111111111,
              "#46039f"
             ],
             [
              0.2222222222222222,
              "#7201a8"
             ],
             [
              0.3333333333333333,
              "#9c179e"
             ],
             [
              0.4444444444444444,
              "#bd3786"
             ],
             [
              0.5555555555555556,
              "#d8576b"
             ],
             [
              0.6666666666666666,
              "#ed7953"
             ],
             [
              0.7777777777777778,
              "#fb9f3a"
             ],
             [
              0.8888888888888888,
              "#fdca26"
             ],
             [
              1,
              "#f0f921"
             ]
            ],
            "type": "contour"
           }
          ],
          "contourcarpet": [
           {
            "colorbar": {
             "outlinewidth": 0,
             "ticks": ""
            },
            "type": "contourcarpet"
           }
          ],
          "heatmap": [
           {
            "colorbar": {
             "outlinewidth": 0,
             "ticks": ""
            },
            "colorscale": [
             [
              0,
              "#0d0887"
             ],
             [
              0.1111111111111111,
              "#46039f"
             ],
             [
              0.2222222222222222,
              "#7201a8"
             ],
             [
              0.3333333333333333,
              "#9c179e"
             ],
             [
              0.4444444444444444,
              "#bd3786"
             ],
             [
              0.5555555555555556,
              "#d8576b"
             ],
             [
              0.6666666666666666,
              "#ed7953"
             ],
             [
              0.7777777777777778,
              "#fb9f3a"
             ],
             [
              0.8888888888888888,
              "#fdca26"
             ],
             [
              1,
              "#f0f921"
             ]
            ],
            "type": "heatmap"
           }
          ],
          "heatmapgl": [
           {
            "colorbar": {
             "outlinewidth": 0,
             "ticks": ""
            },
            "colorscale": [
             [
              0,
              "#0d0887"
             ],
             [
              0.1111111111111111,
              "#46039f"
             ],
             [
              0.2222222222222222,
              "#7201a8"
             ],
             [
              0.3333333333333333,
              "#9c179e"
             ],
             [
              0.4444444444444444,
              "#bd3786"
             ],
             [
              0.5555555555555556,
              "#d8576b"
             ],
             [
              0.6666666666666666,
              "#ed7953"
             ],
             [
              0.7777777777777778,
              "#fb9f3a"
             ],
             [
              0.8888888888888888,
              "#fdca26"
             ],
             [
              1,
              "#f0f921"
             ]
            ],
            "type": "heatmapgl"
           }
          ],
          "histogram": [
           {
            "marker": {
             "colorbar": {
              "outlinewidth": 0,
              "ticks": ""
             }
            },
            "type": "histogram"
           }
          ],
          "histogram2d": [
           {
            "colorbar": {
             "outlinewidth": 0,
             "ticks": ""
            },
            "colorscale": [
             [
              0,
              "#0d0887"
             ],
             [
              0.1111111111111111,
              "#46039f"
             ],
             [
              0.2222222222222222,
              "#7201a8"
             ],
             [
              0.3333333333333333,
              "#9c179e"
             ],
             [
              0.4444444444444444,
              "#bd3786"
             ],
             [
              0.5555555555555556,
              "#d8576b"
             ],
             [
              0.6666666666666666,
              "#ed7953"
             ],
             [
              0.7777777777777778,
              "#fb9f3a"
             ],
             [
              0.8888888888888888,
              "#fdca26"
             ],
             [
              1,
              "#f0f921"
             ]
            ],
            "type": "histogram2d"
           }
          ],
          "histogram2dcontour": [
           {
            "colorbar": {
             "outlinewidth": 0,
             "ticks": ""
            },
            "colorscale": [
             [
              0,
              "#0d0887"
             ],
             [
              0.1111111111111111,
              "#46039f"
             ],
             [
              0.2222222222222222,
              "#7201a8"
             ],
             [
              0.3333333333333333,
              "#9c179e"
             ],
             [
              0.4444444444444444,
              "#bd3786"
             ],
             [
              0.5555555555555556,
              "#d8576b"
             ],
             [
              0.6666666666666666,
              "#ed7953"
             ],
             [
              0.7777777777777778,
              "#fb9f3a"
             ],
             [
              0.8888888888888888,
              "#fdca26"
             ],
             [
              1,
              "#f0f921"
             ]
            ],
            "type": "histogram2dcontour"
           }
          ],
          "mesh3d": [
           {
            "colorbar": {
             "outlinewidth": 0,
             "ticks": ""
            },
            "type": "mesh3d"
           }
          ],
          "parcoords": [
           {
            "line": {
             "colorbar": {
              "outlinewidth": 0,
              "ticks": ""
             }
            },
            "type": "parcoords"
           }
          ],
          "pie": [
           {
            "automargin": true,
            "type": "pie"
           }
          ],
          "scatter": [
           {
            "marker": {
             "colorbar": {
              "outlinewidth": 0,
              "ticks": ""
             }
            },
            "type": "scatter"
           }
          ],
          "scatter3d": [
           {
            "line": {
             "colorbar": {
              "outlinewidth": 0,
              "ticks": ""
             }
            },
            "marker": {
             "colorbar": {
              "outlinewidth": 0,
              "ticks": ""
             }
            },
            "type": "scatter3d"
           }
          ],
          "scattercarpet": [
           {
            "marker": {
             "colorbar": {
              "outlinewidth": 0,
              "ticks": ""
             }
            },
            "type": "scattercarpet"
           }
          ],
          "scattergeo": [
           {
            "marker": {
             "colorbar": {
              "outlinewidth": 0,
              "ticks": ""
             }
            },
            "type": "scattergeo"
           }
          ],
          "scattergl": [
           {
            "marker": {
             "colorbar": {
              "outlinewidth": 0,
              "ticks": ""
             }
            },
            "type": "scattergl"
           }
          ],
          "scattermapbox": [
           {
            "marker": {
             "colorbar": {
              "outlinewidth": 0,
              "ticks": ""
             }
            },
            "type": "scattermapbox"
           }
          ],
          "scatterpolar": [
           {
            "marker": {
             "colorbar": {
              "outlinewidth": 0,
              "ticks": ""
             }
            },
            "type": "scatterpolar"
           }
          ],
          "scatterpolargl": [
           {
            "marker": {
             "colorbar": {
              "outlinewidth": 0,
              "ticks": ""
             }
            },
            "type": "scatterpolargl"
           }
          ],
          "scatterternary": [
           {
            "marker": {
             "colorbar": {
              "outlinewidth": 0,
              "ticks": ""
             }
            },
            "type": "scatterternary"
           }
          ],
          "surface": [
           {
            "colorbar": {
             "outlinewidth": 0,
             "ticks": ""
            },
            "colorscale": [
             [
              0,
              "#0d0887"
             ],
             [
              0.1111111111111111,
              "#46039f"
             ],
             [
              0.2222222222222222,
              "#7201a8"
             ],
             [
              0.3333333333333333,
              "#9c179e"
             ],
             [
              0.4444444444444444,
              "#bd3786"
             ],
             [
              0.5555555555555556,
              "#d8576b"
             ],
             [
              0.6666666666666666,
              "#ed7953"
             ],
             [
              0.7777777777777778,
              "#fb9f3a"
             ],
             [
              0.8888888888888888,
              "#fdca26"
             ],
             [
              1,
              "#f0f921"
             ]
            ],
            "type": "surface"
           }
          ],
          "table": [
           {
            "cells": {
             "fill": {
              "color": "#EBF0F8"
             },
             "line": {
              "color": "white"
             }
            },
            "header": {
             "fill": {
              "color": "#C8D4E3"
             },
             "line": {
              "color": "white"
             }
            },
            "type": "table"
           }
          ]
         },
         "layout": {
          "annotationdefaults": {
           "arrowcolor": "#2a3f5f",
           "arrowhead": 0,
           "arrowwidth": 1
          },
          "coloraxis": {
           "colorbar": {
            "outlinewidth": 0,
            "ticks": ""
           }
          },
          "colorscale": {
           "diverging": [
            [
             0,
             "#8e0152"
            ],
            [
             0.1,
             "#c51b7d"
            ],
            [
             0.2,
             "#de77ae"
            ],
            [
             0.3,
             "#f1b6da"
            ],
            [
             0.4,
             "#fde0ef"
            ],
            [
             0.5,
             "#f7f7f7"
            ],
            [
             0.6,
             "#e6f5d0"
            ],
            [
             0.7,
             "#b8e186"
            ],
            [
             0.8,
             "#7fbc41"
            ],
            [
             0.9,
             "#4d9221"
            ],
            [
             1,
             "#276419"
            ]
           ],
           "sequential": [
            [
             0,
             "#0d0887"
            ],
            [
             0.1111111111111111,
             "#46039f"
            ],
            [
             0.2222222222222222,
             "#7201a8"
            ],
            [
             0.3333333333333333,
             "#9c179e"
            ],
            [
             0.4444444444444444,
             "#bd3786"
            ],
            [
             0.5555555555555556,
             "#d8576b"
            ],
            [
             0.6666666666666666,
             "#ed7953"
            ],
            [
             0.7777777777777778,
             "#fb9f3a"
            ],
            [
             0.8888888888888888,
             "#fdca26"
            ],
            [
             1,
             "#f0f921"
            ]
           ],
           "sequentialminus": [
            [
             0,
             "#0d0887"
            ],
            [
             0.1111111111111111,
             "#46039f"
            ],
            [
             0.2222222222222222,
             "#7201a8"
            ],
            [
             0.3333333333333333,
             "#9c179e"
            ],
            [
             0.4444444444444444,
             "#bd3786"
            ],
            [
             0.5555555555555556,
             "#d8576b"
            ],
            [
             0.6666666666666666,
             "#ed7953"
            ],
            [
             0.7777777777777778,
             "#fb9f3a"
            ],
            [
             0.8888888888888888,
             "#fdca26"
            ],
            [
             1,
             "#f0f921"
            ]
           ]
          },
          "colorway": [
           "#636efa",
           "#EF553B",
           "#00cc96",
           "#ab63fa",
           "#FFA15A",
           "#19d3f3",
           "#FF6692",
           "#B6E880",
           "#FF97FF",
           "#FECB52"
          ],
          "font": {
           "color": "#2a3f5f"
          },
          "geo": {
           "bgcolor": "white",
           "lakecolor": "white",
           "landcolor": "#E5ECF6",
           "showlakes": true,
           "showland": true,
           "subunitcolor": "white"
          },
          "hoverlabel": {
           "align": "left"
          },
          "hovermode": "closest",
          "mapbox": {
           "style": "light"
          },
          "paper_bgcolor": "white",
          "plot_bgcolor": "#E5ECF6",
          "polar": {
           "angularaxis": {
            "gridcolor": "white",
            "linecolor": "white",
            "ticks": ""
           },
           "bgcolor": "#E5ECF6",
           "radialaxis": {
            "gridcolor": "white",
            "linecolor": "white",
            "ticks": ""
           }
          },
          "scene": {
           "xaxis": {
            "backgroundcolor": "#E5ECF6",
            "gridcolor": "white",
            "gridwidth": 2,
            "linecolor": "white",
            "showbackground": true,
            "ticks": "",
            "zerolinecolor": "white"
           },
           "yaxis": {
            "backgroundcolor": "#E5ECF6",
            "gridcolor": "white",
            "gridwidth": 2,
            "linecolor": "white",
            "showbackground": true,
            "ticks": "",
            "zerolinecolor": "white"
           },
           "zaxis": {
            "backgroundcolor": "#E5ECF6",
            "gridcolor": "white",
            "gridwidth": 2,
            "linecolor": "white",
            "showbackground": true,
            "ticks": "",
            "zerolinecolor": "white"
           }
          },
          "shapedefaults": {
           "line": {
            "color": "#2a3f5f"
           }
          },
          "ternary": {
           "aaxis": {
            "gridcolor": "white",
            "linecolor": "white",
            "ticks": ""
           },
           "baxis": {
            "gridcolor": "white",
            "linecolor": "white",
            "ticks": ""
           },
           "bgcolor": "#E5ECF6",
           "caxis": {
            "gridcolor": "white",
            "linecolor": "white",
            "ticks": ""
           }
          },
          "title": {
           "x": 0.05
          },
          "xaxis": {
           "automargin": true,
           "gridcolor": "white",
           "linecolor": "white",
           "ticks": "",
           "title": {
            "standoff": 15
           },
           "zerolinecolor": "white",
           "zerolinewidth": 2
          },
          "yaxis": {
           "automargin": true,
           "gridcolor": "white",
           "linecolor": "white",
           "ticks": "",
           "title": {
            "standoff": 15
           },
           "zerolinecolor": "white",
           "zerolinewidth": 2
          }
         }
        },
        "xaxis": {
         "title": {
          "text": "Count"
         }
        },
        "yaxis": {
         "domain": [
          0.6,
          1
         ],
         "title": {
          "text": "Popularity"
         }
        }
       },
       "_model_module_version": "1.5.4",
       "_py2js_addTraces": {},
       "_py2js_animate": {},
       "_py2js_deleteTraces": {},
       "_py2js_moveTraces": {},
       "_py2js_removeLayoutProps": {},
       "_py2js_removeTraceProps": {},
       "_view_count": 0,
       "_view_module_version": "1.5.4"
      }
     },
     "c0c2bc083f4844a9873dc1a91e1bf45b": {
      "model_module": "@jupyter-widgets/controls",
      "model_module_version": "1.5.0",
      "model_name": "ToggleButtonsModel",
      "state": {
       "_options_labels": [
        "None",
        "Red",
        "Blue"
       ],
       "button_style": "",
       "description": "Brush Color:",
       "icons": [],
       "index": 1,
       "layout": "IPY_MODEL_f1f03607ed4347e682765f04804e11cb",
       "style": "IPY_MODEL_c4a5a0625dea4c1c8a0d191c1d0acc34",
       "tooltips": []
      }
     },
     "c17cfa73cad4439c95229eb7588ac3f0": {
      "model_module": "@jupyter-widgets/base",
      "model_module_version": "1.2.0",
      "model_name": "LayoutModel",
      "state": {}
     },
     "c2b0f75092eb48e2b01a16e6d4e8c5dd": {
      "model_module": "@jupyter-widgets/base",
      "model_module_version": "1.2.0",
      "model_name": "LayoutModel",
      "state": {}
     },
     "c30b43ed10594139a730dd7386db9111": {
      "model_module": "@jupyter-widgets/base",
      "model_module_version": "1.2.0",
      "model_name": "LayoutModel",
      "state": {}
     },
     "c44e8dd36685489fbcadf5423c553c78": {
      "model_module": "@jupyter-widgets/controls",
      "model_module_version": "1.5.0",
      "model_name": "ToggleButtonsModel",
      "state": {
       "_options_labels": [
        "None",
        "Red",
        "Blue"
       ],
       "button_style": "",
       "description": "Brush Color:",
       "icons": [],
       "index": 1,
       "layout": "IPY_MODEL_c2b0f75092eb48e2b01a16e6d4e8c5dd",
       "style": "IPY_MODEL_9605e692b9784443a12db48cf9071879",
       "tooltips": []
      }
     },
     "c4a5a0625dea4c1c8a0d191c1d0acc34": {
      "model_module": "@jupyter-widgets/controls",
      "model_module_version": "1.5.0",
      "model_name": "ToggleButtonsStyleModel",
      "state": {
       "button_width": "",
       "description_width": ""
      }
     },
     "c69130ca6cd748ec8b41b4281eae08d3": {
      "model_module": "@jupyter-widgets/controls",
      "model_module_version": "1.5.0",
      "model_name": "ToggleButtonsModel",
      "state": {
       "_options_labels": [
        "None",
        "Red",
        "Blue"
       ],
       "button_style": "",
       "description": "Brush Color:",
       "icons": [],
       "index": 1,
       "layout": "IPY_MODEL_5f22a4673a4f4435839ca5be35ebdbd7",
       "style": "IPY_MODEL_bf26f5a171674e0ea039a1881bd6cf4c",
       "tooltips": []
      }
     },
     "c6c9fd6d91474d6dbde6f70b7760a3b0": {
      "model_module": "@jupyter-widgets/base",
      "model_module_version": "1.2.0",
      "model_name": "LayoutModel",
      "state": {}
     },
     "c74e4cea76dc4753beea7dc0831af6e4": {
      "model_module": "@jupyter-widgets/controls",
      "model_module_version": "1.5.0",
      "model_name": "VBoxModel",
      "state": {
       "children": [
        "IPY_MODEL_93bf790f76c848a893a9ceb803b2eacd",
        "IPY_MODEL_e0b69165433849e5ae2c4ff8504a7b75"
       ],
       "layout": "IPY_MODEL_ccc48b0624864139b3581ef4d5fbdb0b"
      }
     },
     "c75087ed2d884934a3d50553f6720f19": {
      "buffers": [
       {
        "data": "AAAAAAAAAAAAAAAAAAAAAAAAAAAAAAAAAAAAAAAAAAAAAAAAAAAAAAAAAAAAAAAAAAAAAAAAAAAAAAAAAAAAAAAAAAAAAAAAAAAAAAAAAAAAAAAAAAAAAAAAAAAAAAAAAAAAAAAAAAAAAAAAAAAAAAAAAAAA",
        "encoding": "base64",
        "path": [
         "_data",
         0,
         "marker",
         "color",
         "value"
        ]
       },
       {
        "data": "AAAAAACAOkAAAAAAAABCQAAAAAAAwENAAAAAAAAAMkAAAAAAAIBEQAAAAAAAgE1AAAAAAACAS0AAAAAAAEBEQAAAAAAAAFBAAAAAAAAAT0AAAAAAAIBDQAAAAAAAAFBAAAAAAAAATkAAAAAAAIBDQAAAAAAAAC5AAAAAAACASkAAAAAAAMBEQAAAAAAAgExAAAAAAADAQ0AAAAAAAABMQAAAAAAAgEBAAAAAAAAAAEAAAAAAAIBGQAAAAAAAgExAAAAAAABAQUAAAAAAAIBCQAAAAAAAAERAAAAAAAAAOkAAAAAAAMBCQAAAAAAAAExAAAAAAACAUUAAAAAAAABIQAAAAAAAAFBAAAAAAADAS0AAAAAAAABJQAAAAAAAwE9AAAAAAACAT0AAAAAAAEBEQAAAAAAAACBAAAAAAAAATEAAAAAAAIBCQAAAAAAAgEpAAAAAAAAARUAAAAAAAIBLQAAAAAAAACZAAAAAAACAQEAAAAAAAIBEQAAAAAAAwE5AAAAAAAAAP0AAAAAAAABCQAAAAAAAgEZAAAAAAADAQkAAAAAAAABKQAAAAAAAwFFAAAAAAACgUUAAAAAAAIBHQAAAAAAAQEhAAAAAAABATUAAAAAAAIBKQAAAAAAAQFJAAAAAAAAAUkAAAAAAAEBHQAAAAAAAAE1AAAAAAABATEAAAAAAAABCQAAAAAAAAElAAAAAAAAARUAAAAAAAIBIQAAAAAAAAEZAAAAAAAAARUAAAAAAAABDQAAAAAAAgEtAAAAAAAAAQkAAAAAAAABEQAAAAAAAAEpAAAAAAAAARUAAAAAAAABSQAAAAAAAQE5AAAAAAADAUEAAAAAAAIBGQAAAAAAAAExAAAAAAAAARkAAAAAAAIBKQAAAAAAAwFFAAAAAAABAT0AAAAAAAEBHQAAAAAAAgDJAAAAAAACAUEAAAAAAAABIQAAAAAAAAExAAAAAAACARkAAAAAAAIBLQAAAAAAAgERAAAAAAACAQUAAAAAAAABCQAAAAAAAgENAAAAAAACAQkAAAAAAAIBDQAAAAAAAAEZAAAAAAAAAP0AAAAAAAEBTQAAAAAAAgEZAAAAAAABASUAAAAAAAEBDQAAAAAAAAEVAAAAAAAAAN0AAAAAAAABIQAAAAAAAgFVAAAAAAACARUAAAAAAAAAmQAAAAAAAgElAAAAAAACAR0AAAAAAAIBLQAAAAAAAAEVAAAAAAACAREAAAAAAAEBDQAAAAAAAgElA",
        "encoding": "base64",
        "path": [
         "_data",
         0,
         "y",
         "value"
        ]
       },
       {
        "data": "AAAAAAAAAAAAAAAAAAAAAAAAAAAAAAAAAAAAAAAAAAAAAAAAAAAAAAAAAAAAAAAAAAAAAAAAAAAAAAAAAAAAAAAAAAAAAAAAAAAAAAAAAAAAAAAAAAAAAAAAAAAAAAAAAAAAAAAAAAAAAAAAAAAAAAAAAAAA",
        "encoding": "base64",
        "path": [
         "_data",
         1,
         "line",
         "color",
         "value"
        ]
       }
      ],
      "model_module": "plotlywidget",
      "model_module_version": "1.5.4",
      "model_name": "FigureModel",
      "state": {
       "_config": {
        "plotlyServerURL": "https://plot.ly"
       },
       "_data": [
        {
         "marker": {
          "cmax": 2.5,
          "cmin": -0.5,
          "color": {
           "dtype": "uint8",
           "shape": [
            117
           ],
           "value": {}
          },
          "colorbar": {
           "ticktext": [
            "None",
            "Red",
            "Blue"
           ],
           "tickvals": [
            0,
            1,
            2
           ]
          },
          "colorscale": [
           [
            0,
            "#F7CF3B"
           ],
           [
            0.33,
            "#F7CF3B"
           ],
           [
            0.33,
            "#2FED68"
           ],
           [
            0.66,
            "#2FED68"
           ],
           [
            0.66,
            "#2C0C50"
           ],
           [
            1,
            "#2C0C50"
           ]
          ],
          "showscale": true
         },
         "mode": "markers",
         "type": "scatter",
         "uid": "8432d3dd-4971-4007-a294-c75e02d91686",
         "x": [
          70,
          88,
          214,
          126,
          153,
          39,
          37,
          146,
          39,
          136,
          317,
          39,
          52,
          166,
          3,
          130,
          106,
          27,
          128,
          34,
          9,
          20,
          19,
          29,
          32,
          155,
          158,
          141,
          148,
          57,
          41,
          150,
          81,
          162,
          190,
          72,
          132,
          174,
          3,
          155,
          183,
          65,
          131,
          84,
          21,
          22,
          43,
          30,
          56,
          302,
          151,
          246,
          214,
          85,
          76,
          192,
          228,
          174,
          204,
          98,
          137,
          138,
          1,
          176,
          163,
          217,
          57,
          268,
          8,
          19,
          68,
          34,
          652,
          674,
          584,
          411,
          343,
          574,
          396,
          566,
          657,
          110,
          342,
          264,
          510,
          176,
          2,
          419,
          194,
          757,
          68,
          805,
          12,
          105,
          367,
          93,
          39,
          47,
          65,
          33,
          21,
          54,
          26,
          30,
          59,
          7,
          99,
          5,
          75,
          3,
          15,
          5,
          98,
          56,
          3,
          32,
          13
         ],
         "y": {
          "dtype": "float64",
          "shape": [
           117
          ],
          "value": {}
         }
        },
        {
         "dimensions": [
          {
           "label": "year",
           "values": [
            2016,
            2016,
            2016,
            2016,
            2016,
            2016,
            2016,
            2016,
            2016,
            2016,
            2016,
            2016,
            2016,
            2016,
            2016,
            2016,
            2016,
            2016,
            2016,
            2016,
            2016,
            2016,
            2016,
            2016,
            2017,
            2017,
            2017,
            2017,
            2017,
            2017,
            2017,
            2017,
            2017,
            2017,
            2017,
            2017,
            2017,
            2017,
            2017,
            2017,
            2017,
            2017,
            2017,
            2017,
            2017,
            2017,
            2017,
            2017,
            2018,
            2018,
            2018,
            2018,
            2018,
            2018,
            2018,
            2018,
            2018,
            2018,
            2018,
            2018,
            2018,
            2018,
            2018,
            2018,
            2018,
            2018,
            2018,
            2018,
            2018,
            2018,
            2018,
            2018,
            2019,
            2019,
            2019,
            2019,
            2019,
            2019,
            2019,
            2019,
            2019,
            2019,
            2019,
            2019,
            2019,
            2019,
            2019,
            2019,
            2019,
            2019,
            2019,
            2019,
            2019,
            2019,
            2019,
            2019,
            2020,
            2020,
            2020,
            2020,
            2020,
            2020,
            2020,
            2020,
            2020,
            2020,
            2020,
            2020,
            2020,
            2020,
            2020,
            2020,
            2020,
            2020,
            2020,
            2020,
            2020
           ]
          },
          {
           "label": "genre",
           "values": [
            "edm",
            "edm",
            "edm",
            "edm",
            "latin",
            "latin",
            "latin",
            "latin",
            "pop",
            "pop",
            "pop",
            "pop",
            "r&b",
            "r&b",
            "r&b",
            "r&b",
            "rap",
            "rap",
            "rap",
            "rap",
            "rock",
            "rock",
            "rock",
            "rock",
            "edm",
            "edm",
            "edm",
            "edm",
            "latin",
            "latin",
            "latin",
            "latin",
            "pop",
            "pop",
            "pop",
            "pop",
            "r&b",
            "r&b",
            "r&b",
            "r&b",
            "rap",
            "rap",
            "rap",
            "rap",
            "rock",
            "rock",
            "rock",
            "rock",
            "edm",
            "edm",
            "edm",
            "edm",
            "latin",
            "latin",
            "latin",
            "latin",
            "pop",
            "pop",
            "pop",
            "pop",
            "r&b",
            "r&b",
            "r&b",
            "r&b",
            "rap",
            "rap",
            "rap",
            "rap",
            "rock",
            "rock",
            "rock",
            "rock",
            "edm",
            "edm",
            "edm",
            "edm",
            "latin",
            "latin",
            "latin",
            "latin",
            "pop",
            "pop",
            "pop",
            "pop",
            "r&b",
            "r&b",
            "r&b",
            "r&b",
            "rap",
            "rap",
            "rap",
            "rap",
            "rock",
            "rock",
            "rock",
            "rock",
            "edm",
            "edm",
            "edm",
            "edm",
            "latin",
            "latin",
            "latin",
            "latin",
            "pop",
            "pop",
            "pop",
            "pop",
            "r&b",
            "r&b",
            "r&b",
            "rap",
            "rap",
            "rap",
            "rock",
            "rock",
            "rock"
           ]
          },
          {
           "label": "subgenre",
           "values": [
            "big room",
            "electro house",
            "pop edm",
            "progressive electro house",
            "latin hip hop",
            "latin pop",
            "reggaeton",
            "tropical",
            "dance pop",
            "electropop",
            "indie poptimism",
            "post-teen pop",
            "hip pop",
            "neo soul",
            "new jack swing",
            "urban contemporary",
            "gangster rap",
            "hip hop",
            "southern hip hop",
            "trap",
            "album rock",
            "classic rock",
            "hard rock",
            "permanent wave",
            "big room",
            "electro house",
            "pop edm",
            "progressive electro house",
            "latin hip hop",
            "latin pop",
            "reggaeton",
            "tropical",
            "dance pop",
            "electropop",
            "indie poptimism",
            "post-teen pop",
            "hip pop",
            "neo soul",
            "new jack swing",
            "urban contemporary",
            "gangster rap",
            "hip hop",
            "southern hip hop",
            "trap",
            "album rock",
            "classic rock",
            "hard rock",
            "permanent wave",
            "big room",
            "electro house",
            "pop edm",
            "progressive electro house",
            "latin hip hop",
            "latin pop",
            "reggaeton",
            "tropical",
            "dance pop",
            "electropop",
            "indie poptimism",
            "post-teen pop",
            "hip pop",
            "neo soul",
            "new jack swing",
            "urban contemporary",
            "gangster rap",
            "hip hop",
            "southern hip hop",
            "trap",
            "album rock",
            "classic rock",
            "hard rock",
            "permanent wave",
            "big room",
            "electro house",
            "pop edm",
            "progressive electro house",
            "latin hip hop",
            "latin pop",
            "reggaeton",
            "tropical",
            "dance pop",
            "electropop",
            "indie poptimism",
            "post-teen pop",
            "hip pop",
            "neo soul",
            "new jack swing",
            "urban contemporary",
            "gangster rap",
            "hip hop",
            "southern hip hop",
            "trap",
            "album rock",
            "classic rock",
            "hard rock",
            "permanent wave",
            "big room",
            "electro house",
            "pop edm",
            "progressive electro house",
            "latin hip hop",
            "latin pop",
            "reggaeton",
            "tropical",
            "dance pop",
            "electropop",
            "indie poptimism",
            "post-teen pop",
            "hip pop",
            "neo soul",
            "urban contemporary",
            "gangster rap",
            "hip hop",
            "trap",
            "classic rock",
            "hard rock",
            "permanent wave"
           ]
          }
         ],
         "domain": {
          "y": [
           0,
           0.4
          ]
         },
         "line": {
          "cmax": 2.5,
          "cmin": -0.5,
          "color": {
           "dtype": "uint8",
           "shape": [
            117
           ],
           "value": {}
          },
          "colorscale": [
           [
            0,
            "#F7CF3B"
           ],
           [
            0.33,
            "#F7CF3B"
           ],
           [
            0.33,
            "#2FED68"
           ],
           [
            0.66,
            "#2FED68"
           ],
           [
            0.66,
            "#2C0C50"
           ],
           [
            1,
            "#2C0C50"
           ]
          ],
          "shape": "hspline"
         },
         "type": "parcats",
         "uid": "d37c705d-4011-4e3c-aef4-530b66f42230"
        }
       ],
       "_js2py_relayout": {},
       "_js2py_restyle": {},
       "_js2py_update": {},
       "_last_layout_edit_id": 1,
       "_last_trace_edit_id": 1,
       "_layout": {
        "autosize": false,
        "dragmode": "lasso",
        "height": 1200,
        "hovermode": "closest",
        "template": {
         "data": {
          "bar": [
           {
            "error_x": {
             "color": "#2a3f5f"
            },
            "error_y": {
             "color": "#2a3f5f"
            },
            "marker": {
             "line": {
              "color": "#E5ECF6",
              "width": 0.5
             }
            },
            "type": "bar"
           }
          ],
          "barpolar": [
           {
            "marker": {
             "line": {
              "color": "#E5ECF6",
              "width": 0.5
             }
            },
            "type": "barpolar"
           }
          ],
          "carpet": [
           {
            "aaxis": {
             "endlinecolor": "#2a3f5f",
             "gridcolor": "white",
             "linecolor": "white",
             "minorgridcolor": "white",
             "startlinecolor": "#2a3f5f"
            },
            "baxis": {
             "endlinecolor": "#2a3f5f",
             "gridcolor": "white",
             "linecolor": "white",
             "minorgridcolor": "white",
             "startlinecolor": "#2a3f5f"
            },
            "type": "carpet"
           }
          ],
          "choropleth": [
           {
            "colorbar": {
             "outlinewidth": 0,
             "ticks": ""
            },
            "type": "choropleth"
           }
          ],
          "contour": [
           {
            "colorbar": {
             "outlinewidth": 0,
             "ticks": ""
            },
            "colorscale": [
             [
              0,
              "#0d0887"
             ],
             [
              0.1111111111111111,
              "#46039f"
             ],
             [
              0.2222222222222222,
              "#7201a8"
             ],
             [
              0.3333333333333333,
              "#9c179e"
             ],
             [
              0.4444444444444444,
              "#bd3786"
             ],
             [
              0.5555555555555556,
              "#d8576b"
             ],
             [
              0.6666666666666666,
              "#ed7953"
             ],
             [
              0.7777777777777778,
              "#fb9f3a"
             ],
             [
              0.8888888888888888,
              "#fdca26"
             ],
             [
              1,
              "#f0f921"
             ]
            ],
            "type": "contour"
           }
          ],
          "contourcarpet": [
           {
            "colorbar": {
             "outlinewidth": 0,
             "ticks": ""
            },
            "type": "contourcarpet"
           }
          ],
          "heatmap": [
           {
            "colorbar": {
             "outlinewidth": 0,
             "ticks": ""
            },
            "colorscale": [
             [
              0,
              "#0d0887"
             ],
             [
              0.1111111111111111,
              "#46039f"
             ],
             [
              0.2222222222222222,
              "#7201a8"
             ],
             [
              0.3333333333333333,
              "#9c179e"
             ],
             [
              0.4444444444444444,
              "#bd3786"
             ],
             [
              0.5555555555555556,
              "#d8576b"
             ],
             [
              0.6666666666666666,
              "#ed7953"
             ],
             [
              0.7777777777777778,
              "#fb9f3a"
             ],
             [
              0.8888888888888888,
              "#fdca26"
             ],
             [
              1,
              "#f0f921"
             ]
            ],
            "type": "heatmap"
           }
          ],
          "heatmapgl": [
           {
            "colorbar": {
             "outlinewidth": 0,
             "ticks": ""
            },
            "colorscale": [
             [
              0,
              "#0d0887"
             ],
             [
              0.1111111111111111,
              "#46039f"
             ],
             [
              0.2222222222222222,
              "#7201a8"
             ],
             [
              0.3333333333333333,
              "#9c179e"
             ],
             [
              0.4444444444444444,
              "#bd3786"
             ],
             [
              0.5555555555555556,
              "#d8576b"
             ],
             [
              0.6666666666666666,
              "#ed7953"
             ],
             [
              0.7777777777777778,
              "#fb9f3a"
             ],
             [
              0.8888888888888888,
              "#fdca26"
             ],
             [
              1,
              "#f0f921"
             ]
            ],
            "type": "heatmapgl"
           }
          ],
          "histogram": [
           {
            "marker": {
             "colorbar": {
              "outlinewidth": 0,
              "ticks": ""
             }
            },
            "type": "histogram"
           }
          ],
          "histogram2d": [
           {
            "colorbar": {
             "outlinewidth": 0,
             "ticks": ""
            },
            "colorscale": [
             [
              0,
              "#0d0887"
             ],
             [
              0.1111111111111111,
              "#46039f"
             ],
             [
              0.2222222222222222,
              "#7201a8"
             ],
             [
              0.3333333333333333,
              "#9c179e"
             ],
             [
              0.4444444444444444,
              "#bd3786"
             ],
             [
              0.5555555555555556,
              "#d8576b"
             ],
             [
              0.6666666666666666,
              "#ed7953"
             ],
             [
              0.7777777777777778,
              "#fb9f3a"
             ],
             [
              0.8888888888888888,
              "#fdca26"
             ],
             [
              1,
              "#f0f921"
             ]
            ],
            "type": "histogram2d"
           }
          ],
          "histogram2dcontour": [
           {
            "colorbar": {
             "outlinewidth": 0,
             "ticks": ""
            },
            "colorscale": [
             [
              0,
              "#0d0887"
             ],
             [
              0.1111111111111111,
              "#46039f"
             ],
             [
              0.2222222222222222,
              "#7201a8"
             ],
             [
              0.3333333333333333,
              "#9c179e"
             ],
             [
              0.4444444444444444,
              "#bd3786"
             ],
             [
              0.5555555555555556,
              "#d8576b"
             ],
             [
              0.6666666666666666,
              "#ed7953"
             ],
             [
              0.7777777777777778,
              "#fb9f3a"
             ],
             [
              0.8888888888888888,
              "#fdca26"
             ],
             [
              1,
              "#f0f921"
             ]
            ],
            "type": "histogram2dcontour"
           }
          ],
          "mesh3d": [
           {
            "colorbar": {
             "outlinewidth": 0,
             "ticks": ""
            },
            "type": "mesh3d"
           }
          ],
          "parcoords": [
           {
            "line": {
             "colorbar": {
              "outlinewidth": 0,
              "ticks": ""
             }
            },
            "type": "parcoords"
           }
          ],
          "pie": [
           {
            "automargin": true,
            "type": "pie"
           }
          ],
          "scatter": [
           {
            "marker": {
             "colorbar": {
              "outlinewidth": 0,
              "ticks": ""
             }
            },
            "type": "scatter"
           }
          ],
          "scatter3d": [
           {
            "line": {
             "colorbar": {
              "outlinewidth": 0,
              "ticks": ""
             }
            },
            "marker": {
             "colorbar": {
              "outlinewidth": 0,
              "ticks": ""
             }
            },
            "type": "scatter3d"
           }
          ],
          "scattercarpet": [
           {
            "marker": {
             "colorbar": {
              "outlinewidth": 0,
              "ticks": ""
             }
            },
            "type": "scattercarpet"
           }
          ],
          "scattergeo": [
           {
            "marker": {
             "colorbar": {
              "outlinewidth": 0,
              "ticks": ""
             }
            },
            "type": "scattergeo"
           }
          ],
          "scattergl": [
           {
            "marker": {
             "colorbar": {
              "outlinewidth": 0,
              "ticks": ""
             }
            },
            "type": "scattergl"
           }
          ],
          "scattermapbox": [
           {
            "marker": {
             "colorbar": {
              "outlinewidth": 0,
              "ticks": ""
             }
            },
            "type": "scattermapbox"
           }
          ],
          "scatterpolar": [
           {
            "marker": {
             "colorbar": {
              "outlinewidth": 0,
              "ticks": ""
             }
            },
            "type": "scatterpolar"
           }
          ],
          "scatterpolargl": [
           {
            "marker": {
             "colorbar": {
              "outlinewidth": 0,
              "ticks": ""
             }
            },
            "type": "scatterpolargl"
           }
          ],
          "scatterternary": [
           {
            "marker": {
             "colorbar": {
              "outlinewidth": 0,
              "ticks": ""
             }
            },
            "type": "scatterternary"
           }
          ],
          "surface": [
           {
            "colorbar": {
             "outlinewidth": 0,
             "ticks": ""
            },
            "colorscale": [
             [
              0,
              "#0d0887"
             ],
             [
              0.1111111111111111,
              "#46039f"
             ],
             [
              0.2222222222222222,
              "#7201a8"
             ],
             [
              0.3333333333333333,
              "#9c179e"
             ],
             [
              0.4444444444444444,
              "#bd3786"
             ],
             [
              0.5555555555555556,
              "#d8576b"
             ],
             [
              0.6666666666666666,
              "#ed7953"
             ],
             [
              0.7777777777777778,
              "#fb9f3a"
             ],
             [
              0.8888888888888888,
              "#fdca26"
             ],
             [
              1,
              "#f0f921"
             ]
            ],
            "type": "surface"
           }
          ],
          "table": [
           {
            "cells": {
             "fill": {
              "color": "#EBF0F8"
             },
             "line": {
              "color": "white"
             }
            },
            "header": {
             "fill": {
              "color": "#C8D4E3"
             },
             "line": {
              "color": "white"
             }
            },
            "type": "table"
           }
          ]
         },
         "layout": {
          "annotationdefaults": {
           "arrowcolor": "#2a3f5f",
           "arrowhead": 0,
           "arrowwidth": 1
          },
          "coloraxis": {
           "colorbar": {
            "outlinewidth": 0,
            "ticks": ""
           }
          },
          "colorscale": {
           "diverging": [
            [
             0,
             "#8e0152"
            ],
            [
             0.1,
             "#c51b7d"
            ],
            [
             0.2,
             "#de77ae"
            ],
            [
             0.3,
             "#f1b6da"
            ],
            [
             0.4,
             "#fde0ef"
            ],
            [
             0.5,
             "#f7f7f7"
            ],
            [
             0.6,
             "#e6f5d0"
            ],
            [
             0.7,
             "#b8e186"
            ],
            [
             0.8,
             "#7fbc41"
            ],
            [
             0.9,
             "#4d9221"
            ],
            [
             1,
             "#276419"
            ]
           ],
           "sequential": [
            [
             0,
             "#0d0887"
            ],
            [
             0.1111111111111111,
             "#46039f"
            ],
            [
             0.2222222222222222,
             "#7201a8"
            ],
            [
             0.3333333333333333,
             "#9c179e"
            ],
            [
             0.4444444444444444,
             "#bd3786"
            ],
            [
             0.5555555555555556,
             "#d8576b"
            ],
            [
             0.6666666666666666,
             "#ed7953"
            ],
            [
             0.7777777777777778,
             "#fb9f3a"
            ],
            [
             0.8888888888888888,
             "#fdca26"
            ],
            [
             1,
             "#f0f921"
            ]
           ],
           "sequentialminus": [
            [
             0,
             "#0d0887"
            ],
            [
             0.1111111111111111,
             "#46039f"
            ],
            [
             0.2222222222222222,
             "#7201a8"
            ],
            [
             0.3333333333333333,
             "#9c179e"
            ],
            [
             0.4444444444444444,
             "#bd3786"
            ],
            [
             0.5555555555555556,
             "#d8576b"
            ],
            [
             0.6666666666666666,
             "#ed7953"
            ],
            [
             0.7777777777777778,
             "#fb9f3a"
            ],
            [
             0.8888888888888888,
             "#fdca26"
            ],
            [
             1,
             "#f0f921"
            ]
           ]
          },
          "colorway": [
           "#636efa",
           "#EF553B",
           "#00cc96",
           "#ab63fa",
           "#FFA15A",
           "#19d3f3",
           "#FF6692",
           "#B6E880",
           "#FF97FF",
           "#FECB52"
          ],
          "font": {
           "color": "#2a3f5f"
          },
          "geo": {
           "bgcolor": "white",
           "lakecolor": "white",
           "landcolor": "#E5ECF6",
           "showlakes": true,
           "showland": true,
           "subunitcolor": "white"
          },
          "hoverlabel": {
           "align": "left"
          },
          "hovermode": "closest",
          "mapbox": {
           "style": "light"
          },
          "paper_bgcolor": "white",
          "plot_bgcolor": "#E5ECF6",
          "polar": {
           "angularaxis": {
            "gridcolor": "white",
            "linecolor": "white",
            "ticks": ""
           },
           "bgcolor": "#E5ECF6",
           "radialaxis": {
            "gridcolor": "white",
            "linecolor": "white",
            "ticks": ""
           }
          },
          "scene": {
           "xaxis": {
            "backgroundcolor": "#E5ECF6",
            "gridcolor": "white",
            "gridwidth": 2,
            "linecolor": "white",
            "showbackground": true,
            "ticks": "",
            "zerolinecolor": "white"
           },
           "yaxis": {
            "backgroundcolor": "#E5ECF6",
            "gridcolor": "white",
            "gridwidth": 2,
            "linecolor": "white",
            "showbackground": true,
            "ticks": "",
            "zerolinecolor": "white"
           },
           "zaxis": {
            "backgroundcolor": "#E5ECF6",
            "gridcolor": "white",
            "gridwidth": 2,
            "linecolor": "white",
            "showbackground": true,
            "ticks": "",
            "zerolinecolor": "white"
           }
          },
          "shapedefaults": {
           "line": {
            "color": "#2a3f5f"
           }
          },
          "ternary": {
           "aaxis": {
            "gridcolor": "white",
            "linecolor": "white",
            "ticks": ""
           },
           "baxis": {
            "gridcolor": "white",
            "linecolor": "white",
            "ticks": ""
           },
           "bgcolor": "#E5ECF6",
           "caxis": {
            "gridcolor": "white",
            "linecolor": "white",
            "ticks": ""
           }
          },
          "title": {
           "x": 0.05
          },
          "xaxis": {
           "automargin": true,
           "gridcolor": "white",
           "linecolor": "white",
           "ticks": "",
           "title": {
            "standoff": 15
           },
           "zerolinecolor": "white",
           "zerolinewidth": 2
          },
          "yaxis": {
           "automargin": true,
           "gridcolor": "white",
           "linecolor": "white",
           "ticks": "",
           "title": {
            "standoff": 15
           },
           "zerolinecolor": "white",
           "zerolinewidth": 2
          }
         }
        },
        "width": 1200,
        "xaxis": {
         "title": {
          "text": "Count"
         }
        },
        "yaxis": {
         "domain": [
          0.6,
          1
         ],
         "title": {
          "text": "Popularity"
         }
        }
       },
       "_model_module_version": "1.5.4",
       "_py2js_addTraces": {},
       "_py2js_animate": {},
       "_py2js_deleteTraces": {},
       "_py2js_moveTraces": {},
       "_py2js_removeLayoutProps": {},
       "_py2js_removeTraceProps": {},
       "_py2js_restyle": {},
       "_view_count": 0,
       "_view_module_version": "1.5.4"
      }
     },
     "c766c5158a144a20bd9a790bd6056769": {
      "buffers": [
       {
        "data": "AAAAAAAAAAAAAAAAAAAAAAAAAAAAAAAAAAAAAAAAAAAAAAAAAAAAAAAAAAAAAAAAAAAAAAAAAAAAAAAAAAAAAAAAAAAAAAAAAAAAAAAAAAAAAAAAAAAAAAAAAAAAAAAAAAAAAAAAAAAAAAAAAAAAAAAAAAAA",
        "encoding": "base64",
        "path": [
         "_data",
         0,
         "marker",
         "color",
         "value"
        ]
       },
       {
        "data": "AAAAAACAOkAAAAAAAABCQAAAAAAAwENAAAAAAAAAMkAAAAAAAIBEQAAAAAAAgE1AAAAAAACAS0AAAAAAAEBEQAAAAAAAAFBAAAAAAAAAT0AAAAAAAIBDQAAAAAAAAFBAAAAAAAAATkAAAAAAAIBDQAAAAAAAAC5AAAAAAACASkAAAAAAAMBEQAAAAAAAgExAAAAAAADAQ0AAAAAAAABMQAAAAAAAgEBAAAAAAAAAAEAAAAAAAIBGQAAAAAAAgExAAAAAAABAQUAAAAAAAIBCQAAAAAAAAERAAAAAAAAAOkAAAAAAAMBCQAAAAAAAAExAAAAAAACAUUAAAAAAAABIQAAAAAAAAFBAAAAAAADAS0AAAAAAAABJQAAAAAAAwE9AAAAAAACAT0AAAAAAAEBEQAAAAAAAACBAAAAAAAAATEAAAAAAAIBCQAAAAAAAgEpAAAAAAAAARUAAAAAAAIBLQAAAAAAAACZAAAAAAACAQEAAAAAAAIBEQAAAAAAAwE5AAAAAAAAAP0AAAAAAAABCQAAAAAAAgEZAAAAAAADAQkAAAAAAAABKQAAAAAAAwFFAAAAAAACgUUAAAAAAAIBHQAAAAAAAQEhAAAAAAABATUAAAAAAAIBKQAAAAAAAQFJAAAAAAAAAUkAAAAAAAEBHQAAAAAAAAE1AAAAAAABATEAAAAAAAABCQAAAAAAAAElAAAAAAAAARUAAAAAAAIBIQAAAAAAAAEZAAAAAAAAARUAAAAAAAABDQAAAAAAAgEtAAAAAAAAAQkAAAAAAAABEQAAAAAAAAEpAAAAAAAAARUAAAAAAAABSQAAAAAAAQE5AAAAAAADAUEAAAAAAAIBGQAAAAAAAAExAAAAAAAAARkAAAAAAAIBKQAAAAAAAwFFAAAAAAABAT0AAAAAAAEBHQAAAAAAAgDJAAAAAAACAUEAAAAAAAABIQAAAAAAAAExAAAAAAACARkAAAAAAAIBLQAAAAAAAgERAAAAAAACAQUAAAAAAAABCQAAAAAAAgENAAAAAAACAQkAAAAAAAIBDQAAAAAAAAEZAAAAAAAAAP0AAAAAAAEBTQAAAAAAAgEZAAAAAAABASUAAAAAAAEBDQAAAAAAAAEVAAAAAAAAAN0AAAAAAAABIQAAAAAAAgFVAAAAAAACARUAAAAAAAAAmQAAAAAAAgElAAAAAAACAR0AAAAAAAIBLQAAAAAAAAEVAAAAAAACAREAAAAAAAEBDQAAAAAAAgElA",
        "encoding": "base64",
        "path": [
         "_data",
         0,
         "y",
         "value"
        ]
       },
       {
        "data": "AAAAAAAAAAAAAAAAAAAAAAAAAAAAAAAAAAAAAAAAAAAAAAAAAAAAAAAAAAAAAAAAAAAAAAAAAAAAAAAAAAAAAAAAAAAAAAAAAAAAAAAAAAAAAAAAAAAAAAAAAAAAAAAAAAAAAAAAAAAAAAAAAAAAAAAAAAAA",
        "encoding": "base64",
        "path": [
         "_data",
         1,
         "line",
         "color",
         "value"
        ]
       }
      ],
      "model_module": "plotlywidget",
      "model_module_version": "1.5.4",
      "model_name": "FigureModel",
      "state": {
       "_config": {
        "plotlyServerURL": "https://plot.ly"
       },
       "_data": [
        {
         "marker": {
          "cmax": 2.5,
          "cmin": -0.5,
          "color": {
           "dtype": "uint8",
           "shape": [
            117
           ],
           "value": {}
          },
          "colorbar": {
           "ticktext": [
            "None",
            "Red",
            "Blue"
           ],
           "tickvals": [
            0,
            1,
            2
           ]
          },
          "colorscale": [
           [
            0,
            "#FAEA74"
           ],
           [
            0.33,
            "gray"
           ],
           [
            0.33,
            "firebrick"
           ],
           [
            0.66,
            "firebrick"
           ],
           [
            0.66,
            "blue"
           ],
           [
            1,
            "blue"
           ]
          ],
          "showscale": true
         },
         "mode": "markers",
         "type": "scatter",
         "uid": "7c6fab78-c5bf-4754-b3c1-091f84074e98",
         "x": [
          70,
          88,
          214,
          126,
          153,
          39,
          37,
          146,
          39,
          136,
          317,
          39,
          52,
          166,
          3,
          130,
          106,
          27,
          128,
          34,
          9,
          20,
          19,
          29,
          32,
          155,
          158,
          141,
          148,
          57,
          41,
          150,
          81,
          162,
          190,
          72,
          132,
          174,
          3,
          155,
          183,
          65,
          131,
          84,
          21,
          22,
          43,
          30,
          56,
          302,
          151,
          246,
          214,
          85,
          76,
          192,
          228,
          174,
          204,
          98,
          137,
          138,
          1,
          176,
          163,
          217,
          57,
          268,
          8,
          19,
          68,
          34,
          652,
          674,
          584,
          411,
          343,
          574,
          396,
          566,
          657,
          110,
          342,
          264,
          510,
          176,
          2,
          419,
          194,
          757,
          68,
          805,
          12,
          105,
          367,
          93,
          39,
          47,
          65,
          33,
          21,
          54,
          26,
          30,
          59,
          7,
          99,
          5,
          75,
          3,
          15,
          5,
          98,
          56,
          3,
          32,
          13
         ],
         "y": {
          "dtype": "float64",
          "shape": [
           117
          ],
          "value": {}
         }
        },
        {
         "dimensions": [
          {
           "label": "year",
           "values": [
            2016,
            2016,
            2016,
            2016,
            2016,
            2016,
            2016,
            2016,
            2016,
            2016,
            2016,
            2016,
            2016,
            2016,
            2016,
            2016,
            2016,
            2016,
            2016,
            2016,
            2016,
            2016,
            2016,
            2016,
            2017,
            2017,
            2017,
            2017,
            2017,
            2017,
            2017,
            2017,
            2017,
            2017,
            2017,
            2017,
            2017,
            2017,
            2017,
            2017,
            2017,
            2017,
            2017,
            2017,
            2017,
            2017,
            2017,
            2017,
            2018,
            2018,
            2018,
            2018,
            2018,
            2018,
            2018,
            2018,
            2018,
            2018,
            2018,
            2018,
            2018,
            2018,
            2018,
            2018,
            2018,
            2018,
            2018,
            2018,
            2018,
            2018,
            2018,
            2018,
            2019,
            2019,
            2019,
            2019,
            2019,
            2019,
            2019,
            2019,
            2019,
            2019,
            2019,
            2019,
            2019,
            2019,
            2019,
            2019,
            2019,
            2019,
            2019,
            2019,
            2019,
            2019,
            2019,
            2019,
            2020,
            2020,
            2020,
            2020,
            2020,
            2020,
            2020,
            2020,
            2020,
            2020,
            2020,
            2020,
            2020,
            2020,
            2020,
            2020,
            2020,
            2020,
            2020,
            2020,
            2020
           ]
          },
          {
           "label": "genre",
           "values": [
            "edm",
            "edm",
            "edm",
            "edm",
            "latin",
            "latin",
            "latin",
            "latin",
            "pop",
            "pop",
            "pop",
            "pop",
            "r&b",
            "r&b",
            "r&b",
            "r&b",
            "rap",
            "rap",
            "rap",
            "rap",
            "rock",
            "rock",
            "rock",
            "rock",
            "edm",
            "edm",
            "edm",
            "edm",
            "latin",
            "latin",
            "latin",
            "latin",
            "pop",
            "pop",
            "pop",
            "pop",
            "r&b",
            "r&b",
            "r&b",
            "r&b",
            "rap",
            "rap",
            "rap",
            "rap",
            "rock",
            "rock",
            "rock",
            "rock",
            "edm",
            "edm",
            "edm",
            "edm",
            "latin",
            "latin",
            "latin",
            "latin",
            "pop",
            "pop",
            "pop",
            "pop",
            "r&b",
            "r&b",
            "r&b",
            "r&b",
            "rap",
            "rap",
            "rap",
            "rap",
            "rock",
            "rock",
            "rock",
            "rock",
            "edm",
            "edm",
            "edm",
            "edm",
            "latin",
            "latin",
            "latin",
            "latin",
            "pop",
            "pop",
            "pop",
            "pop",
            "r&b",
            "r&b",
            "r&b",
            "r&b",
            "rap",
            "rap",
            "rap",
            "rap",
            "rock",
            "rock",
            "rock",
            "rock",
            "edm",
            "edm",
            "edm",
            "edm",
            "latin",
            "latin",
            "latin",
            "latin",
            "pop",
            "pop",
            "pop",
            "pop",
            "r&b",
            "r&b",
            "r&b",
            "rap",
            "rap",
            "rap",
            "rock",
            "rock",
            "rock"
           ]
          },
          {
           "label": "subgenre",
           "values": [
            "big room",
            "electro house",
            "pop edm",
            "progressive electro house",
            "latin hip hop",
            "latin pop",
            "reggaeton",
            "tropical",
            "dance pop",
            "electropop",
            "indie poptimism",
            "post-teen pop",
            "hip pop",
            "neo soul",
            "new jack swing",
            "urban contemporary",
            "gangster rap",
            "hip hop",
            "southern hip hop",
            "trap",
            "album rock",
            "classic rock",
            "hard rock",
            "permanent wave",
            "big room",
            "electro house",
            "pop edm",
            "progressive electro house",
            "latin hip hop",
            "latin pop",
            "reggaeton",
            "tropical",
            "dance pop",
            "electropop",
            "indie poptimism",
            "post-teen pop",
            "hip pop",
            "neo soul",
            "new jack swing",
            "urban contemporary",
            "gangster rap",
            "hip hop",
            "southern hip hop",
            "trap",
            "album rock",
            "classic rock",
            "hard rock",
            "permanent wave",
            "big room",
            "electro house",
            "pop edm",
            "progressive electro house",
            "latin hip hop",
            "latin pop",
            "reggaeton",
            "tropical",
            "dance pop",
            "electropop",
            "indie poptimism",
            "post-teen pop",
            "hip pop",
            "neo soul",
            "new jack swing",
            "urban contemporary",
            "gangster rap",
            "hip hop",
            "southern hip hop",
            "trap",
            "album rock",
            "classic rock",
            "hard rock",
            "permanent wave",
            "big room",
            "electro house",
            "pop edm",
            "progressive electro house",
            "latin hip hop",
            "latin pop",
            "reggaeton",
            "tropical",
            "dance pop",
            "electropop",
            "indie poptimism",
            "post-teen pop",
            "hip pop",
            "neo soul",
            "new jack swing",
            "urban contemporary",
            "gangster rap",
            "hip hop",
            "southern hip hop",
            "trap",
            "album rock",
            "classic rock",
            "hard rock",
            "permanent wave",
            "big room",
            "electro house",
            "pop edm",
            "progressive electro house",
            "latin hip hop",
            "latin pop",
            "reggaeton",
            "tropical",
            "dance pop",
            "electropop",
            "indie poptimism",
            "post-teen pop",
            "hip pop",
            "neo soul",
            "urban contemporary",
            "gangster rap",
            "hip hop",
            "trap",
            "classic rock",
            "hard rock",
            "permanent wave"
           ]
          }
         ],
         "domain": {
          "y": [
           0,
           0.4
          ]
         },
         "line": {
          "cmax": 2.5,
          "cmin": -0.5,
          "color": {
           "dtype": "uint8",
           "shape": [
            117
           ],
           "value": {}
          },
          "colorscale": [
           [
            0,
            "#FAEA74"
           ],
           [
            0.33,
            "gray"
           ],
           [
            0.33,
            "firebrick"
           ],
           [
            0.66,
            "firebrick"
           ],
           [
            0.66,
            "blue"
           ],
           [
            1,
            "blue"
           ]
          ],
          "shape": "hspline"
         },
         "type": "parcats",
         "uid": "3eab1ba1-2f0e-4bc6-9739-f3154a55a661"
        }
       ],
       "_js2py_restyle": {},
       "_js2py_update": {},
       "_last_layout_edit_id": 2,
       "_last_trace_edit_id": 1,
       "_layout": {
        "autosize": true,
        "dragmode": "lasso",
        "height": 800,
        "hovermode": "closest",
        "template": {
         "data": {
          "bar": [
           {
            "error_x": {
             "color": "#2a3f5f"
            },
            "error_y": {
             "color": "#2a3f5f"
            },
            "marker": {
             "line": {
              "color": "#E5ECF6",
              "width": 0.5
             }
            },
            "type": "bar"
           }
          ],
          "barpolar": [
           {
            "marker": {
             "line": {
              "color": "#E5ECF6",
              "width": 0.5
             }
            },
            "type": "barpolar"
           }
          ],
          "carpet": [
           {
            "aaxis": {
             "endlinecolor": "#2a3f5f",
             "gridcolor": "white",
             "linecolor": "white",
             "minorgridcolor": "white",
             "startlinecolor": "#2a3f5f"
            },
            "baxis": {
             "endlinecolor": "#2a3f5f",
             "gridcolor": "white",
             "linecolor": "white",
             "minorgridcolor": "white",
             "startlinecolor": "#2a3f5f"
            },
            "type": "carpet"
           }
          ],
          "choropleth": [
           {
            "colorbar": {
             "outlinewidth": 0,
             "ticks": ""
            },
            "type": "choropleth"
           }
          ],
          "contour": [
           {
            "colorbar": {
             "outlinewidth": 0,
             "ticks": ""
            },
            "colorscale": [
             [
              0,
              "#0d0887"
             ],
             [
              0.1111111111111111,
              "#46039f"
             ],
             [
              0.2222222222222222,
              "#7201a8"
             ],
             [
              0.3333333333333333,
              "#9c179e"
             ],
             [
              0.4444444444444444,
              "#bd3786"
             ],
             [
              0.5555555555555556,
              "#d8576b"
             ],
             [
              0.6666666666666666,
              "#ed7953"
             ],
             [
              0.7777777777777778,
              "#fb9f3a"
             ],
             [
              0.8888888888888888,
              "#fdca26"
             ],
             [
              1,
              "#f0f921"
             ]
            ],
            "type": "contour"
           }
          ],
          "contourcarpet": [
           {
            "colorbar": {
             "outlinewidth": 0,
             "ticks": ""
            },
            "type": "contourcarpet"
           }
          ],
          "heatmap": [
           {
            "colorbar": {
             "outlinewidth": 0,
             "ticks": ""
            },
            "colorscale": [
             [
              0,
              "#0d0887"
             ],
             [
              0.1111111111111111,
              "#46039f"
             ],
             [
              0.2222222222222222,
              "#7201a8"
             ],
             [
              0.3333333333333333,
              "#9c179e"
             ],
             [
              0.4444444444444444,
              "#bd3786"
             ],
             [
              0.5555555555555556,
              "#d8576b"
             ],
             [
              0.6666666666666666,
              "#ed7953"
             ],
             [
              0.7777777777777778,
              "#fb9f3a"
             ],
             [
              0.8888888888888888,
              "#fdca26"
             ],
             [
              1,
              "#f0f921"
             ]
            ],
            "type": "heatmap"
           }
          ],
          "heatmapgl": [
           {
            "colorbar": {
             "outlinewidth": 0,
             "ticks": ""
            },
            "colorscale": [
             [
              0,
              "#0d0887"
             ],
             [
              0.1111111111111111,
              "#46039f"
             ],
             [
              0.2222222222222222,
              "#7201a8"
             ],
             [
              0.3333333333333333,
              "#9c179e"
             ],
             [
              0.4444444444444444,
              "#bd3786"
             ],
             [
              0.5555555555555556,
              "#d8576b"
             ],
             [
              0.6666666666666666,
              "#ed7953"
             ],
             [
              0.7777777777777778,
              "#fb9f3a"
             ],
             [
              0.8888888888888888,
              "#fdca26"
             ],
             [
              1,
              "#f0f921"
             ]
            ],
            "type": "heatmapgl"
           }
          ],
          "histogram": [
           {
            "marker": {
             "colorbar": {
              "outlinewidth": 0,
              "ticks": ""
             }
            },
            "type": "histogram"
           }
          ],
          "histogram2d": [
           {
            "colorbar": {
             "outlinewidth": 0,
             "ticks": ""
            },
            "colorscale": [
             [
              0,
              "#0d0887"
             ],
             [
              0.1111111111111111,
              "#46039f"
             ],
             [
              0.2222222222222222,
              "#7201a8"
             ],
             [
              0.3333333333333333,
              "#9c179e"
             ],
             [
              0.4444444444444444,
              "#bd3786"
             ],
             [
              0.5555555555555556,
              "#d8576b"
             ],
             [
              0.6666666666666666,
              "#ed7953"
             ],
             [
              0.7777777777777778,
              "#fb9f3a"
             ],
             [
              0.8888888888888888,
              "#fdca26"
             ],
             [
              1,
              "#f0f921"
             ]
            ],
            "type": "histogram2d"
           }
          ],
          "histogram2dcontour": [
           {
            "colorbar": {
             "outlinewidth": 0,
             "ticks": ""
            },
            "colorscale": [
             [
              0,
              "#0d0887"
             ],
             [
              0.1111111111111111,
              "#46039f"
             ],
             [
              0.2222222222222222,
              "#7201a8"
             ],
             [
              0.3333333333333333,
              "#9c179e"
             ],
             [
              0.4444444444444444,
              "#bd3786"
             ],
             [
              0.5555555555555556,
              "#d8576b"
             ],
             [
              0.6666666666666666,
              "#ed7953"
             ],
             [
              0.7777777777777778,
              "#fb9f3a"
             ],
             [
              0.8888888888888888,
              "#fdca26"
             ],
             [
              1,
              "#f0f921"
             ]
            ],
            "type": "histogram2dcontour"
           }
          ],
          "mesh3d": [
           {
            "colorbar": {
             "outlinewidth": 0,
             "ticks": ""
            },
            "type": "mesh3d"
           }
          ],
          "parcoords": [
           {
            "line": {
             "colorbar": {
              "outlinewidth": 0,
              "ticks": ""
             }
            },
            "type": "parcoords"
           }
          ],
          "pie": [
           {
            "automargin": true,
            "type": "pie"
           }
          ],
          "scatter": [
           {
            "marker": {
             "colorbar": {
              "outlinewidth": 0,
              "ticks": ""
             }
            },
            "type": "scatter"
           }
          ],
          "scatter3d": [
           {
            "line": {
             "colorbar": {
              "outlinewidth": 0,
              "ticks": ""
             }
            },
            "marker": {
             "colorbar": {
              "outlinewidth": 0,
              "ticks": ""
             }
            },
            "type": "scatter3d"
           }
          ],
          "scattercarpet": [
           {
            "marker": {
             "colorbar": {
              "outlinewidth": 0,
              "ticks": ""
             }
            },
            "type": "scattercarpet"
           }
          ],
          "scattergeo": [
           {
            "marker": {
             "colorbar": {
              "outlinewidth": 0,
              "ticks": ""
             }
            },
            "type": "scattergeo"
           }
          ],
          "scattergl": [
           {
            "marker": {
             "colorbar": {
              "outlinewidth": 0,
              "ticks": ""
             }
            },
            "type": "scattergl"
           }
          ],
          "scattermapbox": [
           {
            "marker": {
             "colorbar": {
              "outlinewidth": 0,
              "ticks": ""
             }
            },
            "type": "scattermapbox"
           }
          ],
          "scatterpolar": [
           {
            "marker": {
             "colorbar": {
              "outlinewidth": 0,
              "ticks": ""
             }
            },
            "type": "scatterpolar"
           }
          ],
          "scatterpolargl": [
           {
            "marker": {
             "colorbar": {
              "outlinewidth": 0,
              "ticks": ""
             }
            },
            "type": "scatterpolargl"
           }
          ],
          "scatterternary": [
           {
            "marker": {
             "colorbar": {
              "outlinewidth": 0,
              "ticks": ""
             }
            },
            "type": "scatterternary"
           }
          ],
          "surface": [
           {
            "colorbar": {
             "outlinewidth": 0,
             "ticks": ""
            },
            "colorscale": [
             [
              0,
              "#0d0887"
             ],
             [
              0.1111111111111111,
              "#46039f"
             ],
             [
              0.2222222222222222,
              "#7201a8"
             ],
             [
              0.3333333333333333,
              "#9c179e"
             ],
             [
              0.4444444444444444,
              "#bd3786"
             ],
             [
              0.5555555555555556,
              "#d8576b"
             ],
             [
              0.6666666666666666,
              "#ed7953"
             ],
             [
              0.7777777777777778,
              "#fb9f3a"
             ],
             [
              0.8888888888888888,
              "#fdca26"
             ],
             [
              1,
              "#f0f921"
             ]
            ],
            "type": "surface"
           }
          ],
          "table": [
           {
            "cells": {
             "fill": {
              "color": "#EBF0F8"
             },
             "line": {
              "color": "white"
             }
            },
            "header": {
             "fill": {
              "color": "#C8D4E3"
             },
             "line": {
              "color": "white"
             }
            },
            "type": "table"
           }
          ]
         },
         "layout": {
          "annotationdefaults": {
           "arrowcolor": "#2a3f5f",
           "arrowhead": 0,
           "arrowwidth": 1
          },
          "coloraxis": {
           "colorbar": {
            "outlinewidth": 0,
            "ticks": ""
           }
          },
          "colorscale": {
           "diverging": [
            [
             0,
             "#8e0152"
            ],
            [
             0.1,
             "#c51b7d"
            ],
            [
             0.2,
             "#de77ae"
            ],
            [
             0.3,
             "#f1b6da"
            ],
            [
             0.4,
             "#fde0ef"
            ],
            [
             0.5,
             "#f7f7f7"
            ],
            [
             0.6,
             "#e6f5d0"
            ],
            [
             0.7,
             "#b8e186"
            ],
            [
             0.8,
             "#7fbc41"
            ],
            [
             0.9,
             "#4d9221"
            ],
            [
             1,
             "#276419"
            ]
           ],
           "sequential": [
            [
             0,
             "#0d0887"
            ],
            [
             0.1111111111111111,
             "#46039f"
            ],
            [
             0.2222222222222222,
             "#7201a8"
            ],
            [
             0.3333333333333333,
             "#9c179e"
            ],
            [
             0.4444444444444444,
             "#bd3786"
            ],
            [
             0.5555555555555556,
             "#d8576b"
            ],
            [
             0.6666666666666666,
             "#ed7953"
            ],
            [
             0.7777777777777778,
             "#fb9f3a"
            ],
            [
             0.8888888888888888,
             "#fdca26"
            ],
            [
             1,
             "#f0f921"
            ]
           ],
           "sequentialminus": [
            [
             0,
             "#0d0887"
            ],
            [
             0.1111111111111111,
             "#46039f"
            ],
            [
             0.2222222222222222,
             "#7201a8"
            ],
            [
             0.3333333333333333,
             "#9c179e"
            ],
            [
             0.4444444444444444,
             "#bd3786"
            ],
            [
             0.5555555555555556,
             "#d8576b"
            ],
            [
             0.6666666666666666,
             "#ed7953"
            ],
            [
             0.7777777777777778,
             "#fb9f3a"
            ],
            [
             0.8888888888888888,
             "#fdca26"
            ],
            [
             1,
             "#f0f921"
            ]
           ]
          },
          "colorway": [
           "#636efa",
           "#EF553B",
           "#00cc96",
           "#ab63fa",
           "#FFA15A",
           "#19d3f3",
           "#FF6692",
           "#B6E880",
           "#FF97FF",
           "#FECB52"
          ],
          "font": {
           "color": "#2a3f5f"
          },
          "geo": {
           "bgcolor": "white",
           "lakecolor": "white",
           "landcolor": "#E5ECF6",
           "showlakes": true,
           "showland": true,
           "subunitcolor": "white"
          },
          "hoverlabel": {
           "align": "left"
          },
          "hovermode": "closest",
          "mapbox": {
           "style": "light"
          },
          "paper_bgcolor": "white",
          "plot_bgcolor": "#E5ECF6",
          "polar": {
           "angularaxis": {
            "gridcolor": "white",
            "linecolor": "white",
            "ticks": ""
           },
           "bgcolor": "#E5ECF6",
           "radialaxis": {
            "gridcolor": "white",
            "linecolor": "white",
            "ticks": ""
           }
          },
          "scene": {
           "xaxis": {
            "backgroundcolor": "#E5ECF6",
            "gridcolor": "white",
            "gridwidth": 2,
            "linecolor": "white",
            "showbackground": true,
            "ticks": "",
            "zerolinecolor": "white"
           },
           "yaxis": {
            "backgroundcolor": "#E5ECF6",
            "gridcolor": "white",
            "gridwidth": 2,
            "linecolor": "white",
            "showbackground": true,
            "ticks": "",
            "zerolinecolor": "white"
           },
           "zaxis": {
            "backgroundcolor": "#E5ECF6",
            "gridcolor": "white",
            "gridwidth": 2,
            "linecolor": "white",
            "showbackground": true,
            "ticks": "",
            "zerolinecolor": "white"
           }
          },
          "shapedefaults": {
           "line": {
            "color": "#2a3f5f"
           }
          },
          "ternary": {
           "aaxis": {
            "gridcolor": "white",
            "linecolor": "white",
            "ticks": ""
           },
           "baxis": {
            "gridcolor": "white",
            "linecolor": "white",
            "ticks": ""
           },
           "bgcolor": "#E5ECF6",
           "caxis": {
            "gridcolor": "white",
            "linecolor": "white",
            "ticks": ""
           }
          },
          "title": {
           "x": 0.05
          },
          "xaxis": {
           "automargin": true,
           "gridcolor": "white",
           "linecolor": "white",
           "ticks": "",
           "title": {
            "standoff": 15
           },
           "zerolinecolor": "white",
           "zerolinewidth": 2
          },
          "yaxis": {
           "automargin": true,
           "gridcolor": "white",
           "linecolor": "white",
           "ticks": "",
           "title": {
            "standoff": 15
           },
           "zerolinecolor": "white",
           "zerolinewidth": 2
          }
         }
        },
        "xaxis": {
         "title": {
          "text": "Count"
         }
        },
        "yaxis": {
         "domain": [
          0.6,
          1
         ],
         "title": {
          "text": "Popularity"
         }
        }
       },
       "_model_module_version": "1.5.4",
       "_py2js_addTraces": {},
       "_py2js_animate": {},
       "_py2js_deleteTraces": {},
       "_py2js_moveTraces": {},
       "_py2js_removeLayoutProps": {},
       "_py2js_removeTraceProps": {},
       "_py2js_restyle": {},
       "_view_count": 0,
       "_view_module_version": "1.5.4"
      }
     },
     "ccc48b0624864139b3581ef4d5fbdb0b": {
      "model_module": "@jupyter-widgets/base",
      "model_module_version": "1.2.0",
      "model_name": "LayoutModel",
      "state": {}
     },
     "cd0085c9b94b4c669b8cc2a59111fbf6": {
      "model_module": "@jupyter-widgets/controls",
      "model_module_version": "1.5.0",
      "model_name": "VBoxModel",
      "state": {
       "children": [
        "IPY_MODEL_b5daac67483d4f4a9481acb5132f2728",
        "IPY_MODEL_d9497eb8f43549ea85f132d28e26acd4"
       ],
       "layout": "IPY_MODEL_011d91e347704f1ebff1069d97749055"
      }
     },
     "d2b2547547d843a79670d8a4bdeec513": {
      "buffers": [
       {
        "data": "AAAAAAAAAAAAAQAAAAAAAQAAAAAAAAAAAAAAAAAAAQEBAQEBAQAAAQAAAAEAAAAAAAAAAAEBAQEBAQEBAQEAAQABAAAAAAAAAAAAAAAAAAAAAAAAAAEAAAEAAAAAAAAAAAAAAAAAAAAAAAAAAAAAAAEAAAAA",
        "encoding": "base64",
        "path": [
         "_data",
         0,
         "marker",
         "color",
         "value"
        ]
       },
       {
        "data": "AAAAAACAOkAAAAAAAABCQAAAAAAAwENAAAAAAAAAMkAAAAAAAIBEQAAAAAAAgE1AAAAAAACAS0AAAAAAAEBEQAAAAAAAAFBAAAAAAAAAT0AAAAAAAIBDQAAAAAAAAFBAAAAAAAAATkAAAAAAAIBDQAAAAAAAAC5AAAAAAACASkAAAAAAAMBEQAAAAAAAgExAAAAAAADAQ0AAAAAAAABMQAAAAAAAgEBAAAAAAAAAAEAAAAAAAIBGQAAAAAAAgExAAAAAAABAQUAAAAAAAIBCQAAAAAAAAERAAAAAAAAAOkAAAAAAAMBCQAAAAAAAAExAAAAAAACAUUAAAAAAAABIQAAAAAAAAFBAAAAAAADAS0AAAAAAAABJQAAAAAAAwE9AAAAAAACAT0AAAAAAAEBEQAAAAAAAACBAAAAAAAAATEAAAAAAAIBCQAAAAAAAgEpAAAAAAAAARUAAAAAAAIBLQAAAAAAAACZAAAAAAACAQEAAAAAAAIBEQAAAAAAAwE5AAAAAAAAAP0AAAAAAAABCQAAAAAAAgEZAAAAAAADAQkAAAAAAAABKQAAAAAAAwFFAAAAAAACgUUAAAAAAAIBHQAAAAAAAQEhAAAAAAABATUAAAAAAAIBKQAAAAAAAQFJAAAAAAAAAUkAAAAAAAEBHQAAAAAAAAE1AAAAAAABATEAAAAAAAABCQAAAAAAAAElAAAAAAAAARUAAAAAAAIBIQAAAAAAAAEZAAAAAAAAARUAAAAAAAABDQAAAAAAAgEtAAAAAAAAAQkAAAAAAAABEQAAAAAAAAEpAAAAAAAAARUAAAAAAAABSQAAAAAAAQE5AAAAAAADAUEAAAAAAAIBGQAAAAAAAAExAAAAAAAAARkAAAAAAAIBKQAAAAAAAwFFAAAAAAABAT0AAAAAAAEBHQAAAAAAAgDJAAAAAAACAUEAAAAAAAABIQAAAAAAAAExAAAAAAACARkAAAAAAAIBLQAAAAAAAgERAAAAAAACAQUAAAAAAAABCQAAAAAAAgENAAAAAAACAQkAAAAAAAIBDQAAAAAAAAEZAAAAAAAAAP0AAAAAAAEBTQAAAAAAAgEZAAAAAAABASUAAAAAAAEBDQAAAAAAAAEVAAAAAAAAAN0AAAAAAAABIQAAAAAAAgFVAAAAAAACARUAAAAAAAAAmQAAAAAAAgElAAAAAAACAR0AAAAAAAIBLQAAAAAAAAEVAAAAAAACAREAAAAAAAEBDQAAAAAAAgElA",
        "encoding": "base64",
        "path": [
         "_data",
         0,
         "y",
         "value"
        ]
       },
       {
        "data": "AAAAAAAAAAAAAQAAAAAAAQAAAAAAAAAAAAAAAAAAAQEBAQEBAQAAAQAAAAEAAAAAAAAAAAEBAQEBAQEBAQEAAQABAAAAAAAAAAAAAAAAAAAAAAAAAAEAAAEAAAAAAAAAAAAAAAAAAAAAAAAAAAAAAAEAAAAA",
        "encoding": "base64",
        "path": [
         "_data",
         1,
         "line",
         "color",
         "value"
        ]
       }
      ],
      "model_module": "plotlywidget",
      "model_module_version": "1.5.4",
      "model_name": "FigureModel",
      "state": {
       "_config": {
        "plotlyServerURL": "https://plot.ly"
       },
       "_data": [
        {
         "marker": {
          "cmax": 2.5,
          "cmin": -0.5,
          "color": {
           "dtype": "uint8",
           "shape": [
            117
           ],
           "value": {}
          },
          "colorbar": {
           "ticktext": [
            "None",
            "Red",
            "Blue"
           ],
           "tickvals": [
            0,
            1,
            2
           ]
          },
          "colorscale": [
           [
            0,
            "#F7CF3B"
           ],
           [
            0.33,
            "#F7CF3B"
           ],
           [
            0.33,
            "#2FED68"
           ],
           [
            0.66,
            "#2FED68"
           ],
           [
            0.66,
            "#2C0C50"
           ],
           [
            1,
            "#2C0C50"
           ]
          ],
          "showscale": true
         },
         "mode": "markers",
         "selectedpoints": [
          9,
          15,
          30,
          31,
          32,
          33,
          34,
          35,
          36,
          39,
          43,
          52,
          53,
          54,
          55,
          56,
          57,
          58,
          59,
          60,
          61,
          63,
          65,
          85,
          88,
          112
         ],
         "type": "scatter",
         "uid": "5a8b9820-e1dc-4bf4-acb3-425ac06fbcfd",
         "x": [
          70,
          88,
          214,
          126,
          153,
          39,
          37,
          146,
          39,
          136,
          317,
          39,
          52,
          166,
          3,
          130,
          106,
          27,
          128,
          34,
          9,
          20,
          19,
          29,
          32,
          155,
          158,
          141,
          148,
          57,
          41,
          150,
          81,
          162,
          190,
          72,
          132,
          174,
          3,
          155,
          183,
          65,
          131,
          84,
          21,
          22,
          43,
          30,
          56,
          302,
          151,
          246,
          214,
          85,
          76,
          192,
          228,
          174,
          204,
          98,
          137,
          138,
          1,
          176,
          163,
          217,
          57,
          268,
          8,
          19,
          68,
          34,
          652,
          674,
          584,
          411,
          343,
          574,
          396,
          566,
          657,
          110,
          342,
          264,
          510,
          176,
          2,
          419,
          194,
          757,
          68,
          805,
          12,
          105,
          367,
          93,
          39,
          47,
          65,
          33,
          21,
          54,
          26,
          30,
          59,
          7,
          99,
          5,
          75,
          3,
          15,
          5,
          98,
          56,
          3,
          32,
          13
         ],
         "y": {
          "dtype": "float64",
          "shape": [
           117
          ],
          "value": {}
         }
        },
        {
         "dimensions": [
          {
           "label": "year",
           "values": [
            2016,
            2016,
            2016,
            2016,
            2016,
            2016,
            2016,
            2016,
            2016,
            2016,
            2016,
            2016,
            2016,
            2016,
            2016,
            2016,
            2016,
            2016,
            2016,
            2016,
            2016,
            2016,
            2016,
            2016,
            2017,
            2017,
            2017,
            2017,
            2017,
            2017,
            2017,
            2017,
            2017,
            2017,
            2017,
            2017,
            2017,
            2017,
            2017,
            2017,
            2017,
            2017,
            2017,
            2017,
            2017,
            2017,
            2017,
            2017,
            2018,
            2018,
            2018,
            2018,
            2018,
            2018,
            2018,
            2018,
            2018,
            2018,
            2018,
            2018,
            2018,
            2018,
            2018,
            2018,
            2018,
            2018,
            2018,
            2018,
            2018,
            2018,
            2018,
            2018,
            2019,
            2019,
            2019,
            2019,
            2019,
            2019,
            2019,
            2019,
            2019,
            2019,
            2019,
            2019,
            2019,
            2019,
            2019,
            2019,
            2019,
            2019,
            2019,
            2019,
            2019,
            2019,
            2019,
            2019,
            2020,
            2020,
            2020,
            2020,
            2020,
            2020,
            2020,
            2020,
            2020,
            2020,
            2020,
            2020,
            2020,
            2020,
            2020,
            2020,
            2020,
            2020,
            2020,
            2020,
            2020
           ]
          },
          {
           "label": "genre",
           "values": [
            "edm",
            "edm",
            "edm",
            "edm",
            "latin",
            "latin",
            "latin",
            "latin",
            "pop",
            "pop",
            "pop",
            "pop",
            "r&b",
            "r&b",
            "r&b",
            "r&b",
            "rap",
            "rap",
            "rap",
            "rap",
            "rock",
            "rock",
            "rock",
            "rock",
            "edm",
            "edm",
            "edm",
            "edm",
            "latin",
            "latin",
            "latin",
            "latin",
            "pop",
            "pop",
            "pop",
            "pop",
            "r&b",
            "r&b",
            "r&b",
            "r&b",
            "rap",
            "rap",
            "rap",
            "rap",
            "rock",
            "rock",
            "rock",
            "rock",
            "edm",
            "edm",
            "edm",
            "edm",
            "latin",
            "latin",
            "latin",
            "latin",
            "pop",
            "pop",
            "pop",
            "pop",
            "r&b",
            "r&b",
            "r&b",
            "r&b",
            "rap",
            "rap",
            "rap",
            "rap",
            "rock",
            "rock",
            "rock",
            "rock",
            "edm",
            "edm",
            "edm",
            "edm",
            "latin",
            "latin",
            "latin",
            "latin",
            "pop",
            "pop",
            "pop",
            "pop",
            "r&b",
            "r&b",
            "r&b",
            "r&b",
            "rap",
            "rap",
            "rap",
            "rap",
            "rock",
            "rock",
            "rock",
            "rock",
            "edm",
            "edm",
            "edm",
            "edm",
            "latin",
            "latin",
            "latin",
            "latin",
            "pop",
            "pop",
            "pop",
            "pop",
            "r&b",
            "r&b",
            "r&b",
            "rap",
            "rap",
            "rap",
            "rock",
            "rock",
            "rock"
           ]
          },
          {
           "label": "subgenre",
           "values": [
            "big room",
            "electro house",
            "pop edm",
            "progressive electro house",
            "latin hip hop",
            "latin pop",
            "reggaeton",
            "tropical",
            "dance pop",
            "electropop",
            "indie poptimism",
            "post-teen pop",
            "hip pop",
            "neo soul",
            "new jack swing",
            "urban contemporary",
            "gangster rap",
            "hip hop",
            "southern hip hop",
            "trap",
            "album rock",
            "classic rock",
            "hard rock",
            "permanent wave",
            "big room",
            "electro house",
            "pop edm",
            "progressive electro house",
            "latin hip hop",
            "latin pop",
            "reggaeton",
            "tropical",
            "dance pop",
            "electropop",
            "indie poptimism",
            "post-teen pop",
            "hip pop",
            "neo soul",
            "new jack swing",
            "urban contemporary",
            "gangster rap",
            "hip hop",
            "southern hip hop",
            "trap",
            "album rock",
            "classic rock",
            "hard rock",
            "permanent wave",
            "big room",
            "electro house",
            "pop edm",
            "progressive electro house",
            "latin hip hop",
            "latin pop",
            "reggaeton",
            "tropical",
            "dance pop",
            "electropop",
            "indie poptimism",
            "post-teen pop",
            "hip pop",
            "neo soul",
            "new jack swing",
            "urban contemporary",
            "gangster rap",
            "hip hop",
            "southern hip hop",
            "trap",
            "album rock",
            "classic rock",
            "hard rock",
            "permanent wave",
            "big room",
            "electro house",
            "pop edm",
            "progressive electro house",
            "latin hip hop",
            "latin pop",
            "reggaeton",
            "tropical",
            "dance pop",
            "electropop",
            "indie poptimism",
            "post-teen pop",
            "hip pop",
            "neo soul",
            "new jack swing",
            "urban contemporary",
            "gangster rap",
            "hip hop",
            "southern hip hop",
            "trap",
            "album rock",
            "classic rock",
            "hard rock",
            "permanent wave",
            "big room",
            "electro house",
            "pop edm",
            "progressive electro house",
            "latin hip hop",
            "latin pop",
            "reggaeton",
            "tropical",
            "dance pop",
            "electropop",
            "indie poptimism",
            "post-teen pop",
            "hip pop",
            "neo soul",
            "urban contemporary",
            "gangster rap",
            "hip hop",
            "trap",
            "classic rock",
            "hard rock",
            "permanent wave"
           ]
          }
         ],
         "domain": {
          "y": [
           0,
           0.4
          ]
         },
         "line": {
          "cmax": 2.5,
          "cmin": -0.5,
          "color": {
           "dtype": "uint8",
           "shape": [
            117
           ],
           "value": {}
          },
          "colorscale": [
           [
            0,
            "#F7CF3B"
           ],
           [
            0.33,
            "#F7CF3B"
           ],
           [
            0.33,
            "#2FED68"
           ],
           [
            0.66,
            "#2FED68"
           ],
           [
            0.66,
            "#2C0C50"
           ],
           [
            1,
            "#2C0C50"
           ]
          ],
          "shape": "hspline"
         },
         "type": "parcats",
         "uid": "c4aa6ae9-345b-4760-aaa0-eceacc189f47"
        }
       ],
       "_js2py_relayout": {},
       "_js2py_restyle": {},
       "_js2py_update": {},
       "_last_layout_edit_id": 3,
       "_last_trace_edit_id": 3,
       "_layout": {
        "dragmode": "lasso",
        "height": 1200,
        "hovermode": "closest",
        "template": {
         "data": {
          "bar": [
           {
            "error_x": {
             "color": "#2a3f5f"
            },
            "error_y": {
             "color": "#2a3f5f"
            },
            "marker": {
             "line": {
              "color": "#E5ECF6",
              "width": 0.5
             }
            },
            "type": "bar"
           }
          ],
          "barpolar": [
           {
            "marker": {
             "line": {
              "color": "#E5ECF6",
              "width": 0.5
             }
            },
            "type": "barpolar"
           }
          ],
          "carpet": [
           {
            "aaxis": {
             "endlinecolor": "#2a3f5f",
             "gridcolor": "white",
             "linecolor": "white",
             "minorgridcolor": "white",
             "startlinecolor": "#2a3f5f"
            },
            "baxis": {
             "endlinecolor": "#2a3f5f",
             "gridcolor": "white",
             "linecolor": "white",
             "minorgridcolor": "white",
             "startlinecolor": "#2a3f5f"
            },
            "type": "carpet"
           }
          ],
          "choropleth": [
           {
            "colorbar": {
             "outlinewidth": 0,
             "ticks": ""
            },
            "type": "choropleth"
           }
          ],
          "contour": [
           {
            "colorbar": {
             "outlinewidth": 0,
             "ticks": ""
            },
            "colorscale": [
             [
              0,
              "#0d0887"
             ],
             [
              0.1111111111111111,
              "#46039f"
             ],
             [
              0.2222222222222222,
              "#7201a8"
             ],
             [
              0.3333333333333333,
              "#9c179e"
             ],
             [
              0.4444444444444444,
              "#bd3786"
             ],
             [
              0.5555555555555556,
              "#d8576b"
             ],
             [
              0.6666666666666666,
              "#ed7953"
             ],
             [
              0.7777777777777778,
              "#fb9f3a"
             ],
             [
              0.8888888888888888,
              "#fdca26"
             ],
             [
              1,
              "#f0f921"
             ]
            ],
            "type": "contour"
           }
          ],
          "contourcarpet": [
           {
            "colorbar": {
             "outlinewidth": 0,
             "ticks": ""
            },
            "type": "contourcarpet"
           }
          ],
          "heatmap": [
           {
            "colorbar": {
             "outlinewidth": 0,
             "ticks": ""
            },
            "colorscale": [
             [
              0,
              "#0d0887"
             ],
             [
              0.1111111111111111,
              "#46039f"
             ],
             [
              0.2222222222222222,
              "#7201a8"
             ],
             [
              0.3333333333333333,
              "#9c179e"
             ],
             [
              0.4444444444444444,
              "#bd3786"
             ],
             [
              0.5555555555555556,
              "#d8576b"
             ],
             [
              0.6666666666666666,
              "#ed7953"
             ],
             [
              0.7777777777777778,
              "#fb9f3a"
             ],
             [
              0.8888888888888888,
              "#fdca26"
             ],
             [
              1,
              "#f0f921"
             ]
            ],
            "type": "heatmap"
           }
          ],
          "heatmapgl": [
           {
            "colorbar": {
             "outlinewidth": 0,
             "ticks": ""
            },
            "colorscale": [
             [
              0,
              "#0d0887"
             ],
             [
              0.1111111111111111,
              "#46039f"
             ],
             [
              0.2222222222222222,
              "#7201a8"
             ],
             [
              0.3333333333333333,
              "#9c179e"
             ],
             [
              0.4444444444444444,
              "#bd3786"
             ],
             [
              0.5555555555555556,
              "#d8576b"
             ],
             [
              0.6666666666666666,
              "#ed7953"
             ],
             [
              0.7777777777777778,
              "#fb9f3a"
             ],
             [
              0.8888888888888888,
              "#fdca26"
             ],
             [
              1,
              "#f0f921"
             ]
            ],
            "type": "heatmapgl"
           }
          ],
          "histogram": [
           {
            "marker": {
             "colorbar": {
              "outlinewidth": 0,
              "ticks": ""
             }
            },
            "type": "histogram"
           }
          ],
          "histogram2d": [
           {
            "colorbar": {
             "outlinewidth": 0,
             "ticks": ""
            },
            "colorscale": [
             [
              0,
              "#0d0887"
             ],
             [
              0.1111111111111111,
              "#46039f"
             ],
             [
              0.2222222222222222,
              "#7201a8"
             ],
             [
              0.3333333333333333,
              "#9c179e"
             ],
             [
              0.4444444444444444,
              "#bd3786"
             ],
             [
              0.5555555555555556,
              "#d8576b"
             ],
             [
              0.6666666666666666,
              "#ed7953"
             ],
             [
              0.7777777777777778,
              "#fb9f3a"
             ],
             [
              0.8888888888888888,
              "#fdca26"
             ],
             [
              1,
              "#f0f921"
             ]
            ],
            "type": "histogram2d"
           }
          ],
          "histogram2dcontour": [
           {
            "colorbar": {
             "outlinewidth": 0,
             "ticks": ""
            },
            "colorscale": [
             [
              0,
              "#0d0887"
             ],
             [
              0.1111111111111111,
              "#46039f"
             ],
             [
              0.2222222222222222,
              "#7201a8"
             ],
             [
              0.3333333333333333,
              "#9c179e"
             ],
             [
              0.4444444444444444,
              "#bd3786"
             ],
             [
              0.5555555555555556,
              "#d8576b"
             ],
             [
              0.6666666666666666,
              "#ed7953"
             ],
             [
              0.7777777777777778,
              "#fb9f3a"
             ],
             [
              0.8888888888888888,
              "#fdca26"
             ],
             [
              1,
              "#f0f921"
             ]
            ],
            "type": "histogram2dcontour"
           }
          ],
          "mesh3d": [
           {
            "colorbar": {
             "outlinewidth": 0,
             "ticks": ""
            },
            "type": "mesh3d"
           }
          ],
          "parcoords": [
           {
            "line": {
             "colorbar": {
              "outlinewidth": 0,
              "ticks": ""
             }
            },
            "type": "parcoords"
           }
          ],
          "pie": [
           {
            "automargin": true,
            "type": "pie"
           }
          ],
          "scatter": [
           {
            "marker": {
             "colorbar": {
              "outlinewidth": 0,
              "ticks": ""
             }
            },
            "type": "scatter"
           }
          ],
          "scatter3d": [
           {
            "line": {
             "colorbar": {
              "outlinewidth": 0,
              "ticks": ""
             }
            },
            "marker": {
             "colorbar": {
              "outlinewidth": 0,
              "ticks": ""
             }
            },
            "type": "scatter3d"
           }
          ],
          "scattercarpet": [
           {
            "marker": {
             "colorbar": {
              "outlinewidth": 0,
              "ticks": ""
             }
            },
            "type": "scattercarpet"
           }
          ],
          "scattergeo": [
           {
            "marker": {
             "colorbar": {
              "outlinewidth": 0,
              "ticks": ""
             }
            },
            "type": "scattergeo"
           }
          ],
          "scattergl": [
           {
            "marker": {
             "colorbar": {
              "outlinewidth": 0,
              "ticks": ""
             }
            },
            "type": "scattergl"
           }
          ],
          "scattermapbox": [
           {
            "marker": {
             "colorbar": {
              "outlinewidth": 0,
              "ticks": ""
             }
            },
            "type": "scattermapbox"
           }
          ],
          "scatterpolar": [
           {
            "marker": {
             "colorbar": {
              "outlinewidth": 0,
              "ticks": ""
             }
            },
            "type": "scatterpolar"
           }
          ],
          "scatterpolargl": [
           {
            "marker": {
             "colorbar": {
              "outlinewidth": 0,
              "ticks": ""
             }
            },
            "type": "scatterpolargl"
           }
          ],
          "scatterternary": [
           {
            "marker": {
             "colorbar": {
              "outlinewidth": 0,
              "ticks": ""
             }
            },
            "type": "scatterternary"
           }
          ],
          "surface": [
           {
            "colorbar": {
             "outlinewidth": 0,
             "ticks": ""
            },
            "colorscale": [
             [
              0,
              "#0d0887"
             ],
             [
              0.1111111111111111,
              "#46039f"
             ],
             [
              0.2222222222222222,
              "#7201a8"
             ],
             [
              0.3333333333333333,
              "#9c179e"
             ],
             [
              0.4444444444444444,
              "#bd3786"
             ],
             [
              0.5555555555555556,
              "#d8576b"
             ],
             [
              0.6666666666666666,
              "#ed7953"
             ],
             [
              0.7777777777777778,
              "#fb9f3a"
             ],
             [
              0.8888888888888888,
              "#fdca26"
             ],
             [
              1,
              "#f0f921"
             ]
            ],
            "type": "surface"
           }
          ],
          "table": [
           {
            "cells": {
             "fill": {
              "color": "#EBF0F8"
             },
             "line": {
              "color": "white"
             }
            },
            "header": {
             "fill": {
              "color": "#C8D4E3"
             },
             "line": {
              "color": "white"
             }
            },
            "type": "table"
           }
          ]
         },
         "layout": {
          "annotationdefaults": {
           "arrowcolor": "#2a3f5f",
           "arrowhead": 0,
           "arrowwidth": 1
          },
          "coloraxis": {
           "colorbar": {
            "outlinewidth": 0,
            "ticks": ""
           }
          },
          "colorscale": {
           "diverging": [
            [
             0,
             "#8e0152"
            ],
            [
             0.1,
             "#c51b7d"
            ],
            [
             0.2,
             "#de77ae"
            ],
            [
             0.3,
             "#f1b6da"
            ],
            [
             0.4,
             "#fde0ef"
            ],
            [
             0.5,
             "#f7f7f7"
            ],
            [
             0.6,
             "#e6f5d0"
            ],
            [
             0.7,
             "#b8e186"
            ],
            [
             0.8,
             "#7fbc41"
            ],
            [
             0.9,
             "#4d9221"
            ],
            [
             1,
             "#276419"
            ]
           ],
           "sequential": [
            [
             0,
             "#0d0887"
            ],
            [
             0.1111111111111111,
             "#46039f"
            ],
            [
             0.2222222222222222,
             "#7201a8"
            ],
            [
             0.3333333333333333,
             "#9c179e"
            ],
            [
             0.4444444444444444,
             "#bd3786"
            ],
            [
             0.5555555555555556,
             "#d8576b"
            ],
            [
             0.6666666666666666,
             "#ed7953"
            ],
            [
             0.7777777777777778,
             "#fb9f3a"
            ],
            [
             0.8888888888888888,
             "#fdca26"
            ],
            [
             1,
             "#f0f921"
            ]
           ],
           "sequentialminus": [
            [
             0,
             "#0d0887"
            ],
            [
             0.1111111111111111,
             "#46039f"
            ],
            [
             0.2222222222222222,
             "#7201a8"
            ],
            [
             0.3333333333333333,
             "#9c179e"
            ],
            [
             0.4444444444444444,
             "#bd3786"
            ],
            [
             0.5555555555555556,
             "#d8576b"
            ],
            [
             0.6666666666666666,
             "#ed7953"
            ],
            [
             0.7777777777777778,
             "#fb9f3a"
            ],
            [
             0.8888888888888888,
             "#fdca26"
            ],
            [
             1,
             "#f0f921"
            ]
           ]
          },
          "colorway": [
           "#636efa",
           "#EF553B",
           "#00cc96",
           "#ab63fa",
           "#FFA15A",
           "#19d3f3",
           "#FF6692",
           "#B6E880",
           "#FF97FF",
           "#FECB52"
          ],
          "font": {
           "color": "#2a3f5f"
          },
          "geo": {
           "bgcolor": "white",
           "lakecolor": "white",
           "landcolor": "#E5ECF6",
           "showlakes": true,
           "showland": true,
           "subunitcolor": "white"
          },
          "hoverlabel": {
           "align": "left"
          },
          "hovermode": "closest",
          "mapbox": {
           "style": "light"
          },
          "paper_bgcolor": "white",
          "plot_bgcolor": "#E5ECF6",
          "polar": {
           "angularaxis": {
            "gridcolor": "white",
            "linecolor": "white",
            "ticks": ""
           },
           "bgcolor": "#E5ECF6",
           "radialaxis": {
            "gridcolor": "white",
            "linecolor": "white",
            "ticks": ""
           }
          },
          "scene": {
           "xaxis": {
            "backgroundcolor": "#E5ECF6",
            "gridcolor": "white",
            "gridwidth": 2,
            "linecolor": "white",
            "showbackground": true,
            "ticks": "",
            "zerolinecolor": "white"
           },
           "yaxis": {
            "backgroundcolor": "#E5ECF6",
            "gridcolor": "white",
            "gridwidth": 2,
            "linecolor": "white",
            "showbackground": true,
            "ticks": "",
            "zerolinecolor": "white"
           },
           "zaxis": {
            "backgroundcolor": "#E5ECF6",
            "gridcolor": "white",
            "gridwidth": 2,
            "linecolor": "white",
            "showbackground": true,
            "ticks": "",
            "zerolinecolor": "white"
           }
          },
          "shapedefaults": {
           "line": {
            "color": "#2a3f5f"
           }
          },
          "ternary": {
           "aaxis": {
            "gridcolor": "white",
            "linecolor": "white",
            "ticks": ""
           },
           "baxis": {
            "gridcolor": "white",
            "linecolor": "white",
            "ticks": ""
           },
           "bgcolor": "#E5ECF6",
           "caxis": {
            "gridcolor": "white",
            "linecolor": "white",
            "ticks": ""
           }
          },
          "title": {
           "x": 0.05
          },
          "xaxis": {
           "automargin": true,
           "gridcolor": "white",
           "linecolor": "white",
           "ticks": "",
           "title": {
            "standoff": 15
           },
           "zerolinecolor": "white",
           "zerolinewidth": 2
          },
          "yaxis": {
           "automargin": true,
           "gridcolor": "white",
           "linecolor": "white",
           "ticks": "",
           "title": {
            "standoff": 15
           },
           "zerolinecolor": "white",
           "zerolinewidth": 2
          }
         }
        },
        "width": 1200,
        "xaxis": {
         "title": {
          "text": "Count"
         }
        },
        "yaxis": {
         "domain": [
          0.6,
          1
         ],
         "title": {
          "text": "Popularity"
         }
        }
       },
       "_model_module_version": "1.5.4",
       "_py2js_addTraces": {},
       "_py2js_animate": {},
       "_py2js_deleteTraces": {},
       "_py2js_moveTraces": {},
       "_py2js_removeLayoutProps": {},
       "_py2js_removeTraceProps": {},
       "_view_count": 0,
       "_view_module_version": "1.5.4"
      }
     },
     "d53a5b9f92a243d3aa07be28ad7ad0f9": {
      "model_module": "@jupyter-widgets/controls",
      "model_module_version": "1.5.0",
      "model_name": "ToggleButtonsStyleModel",
      "state": {
       "button_width": "",
       "description_width": ""
      }
     },
     "d72552c7bc9540a2a63f9770656d4aaf": {
      "model_module": "@jupyter-widgets/base",
      "model_module_version": "1.2.0",
      "model_name": "LayoutModel",
      "state": {}
     },
     "d9497eb8f43549ea85f132d28e26acd4": {
      "buffers": [
       {
        "data": "AAAAAAAAAAAAAQAAAAAAAAAAAAAAAAAAAAAAAAAAAAAAAAAAAQAAAAAAAAAAAAAAAAAAAAEAAAAAAQEBAQAAAQAAAAEAAAAAAAAAAQEAAQAAAAEBAQAAAQAAAAAAAAAAAAAAAAAAAAAAAAAAAAAAAAAAAAAA",
        "encoding": "base64",
        "path": [
         "_data",
         0,
         "marker",
         "color",
         "value"
        ]
       },
       {
        "data": "AAAAAACAOkAAAAAAAABCQAAAAAAAwENAAAAAAAAAMkAAAAAAAIBEQAAAAAAAgE1AAAAAAACAS0AAAAAAAEBEQAAAAAAAAFBAAAAAAAAAT0AAAAAAAIBDQAAAAAAAAFBAAAAAAAAATkAAAAAAAIBDQAAAAAAAAC5AAAAAAACASkAAAAAAAMBEQAAAAAAAgExAAAAAAADAQ0AAAAAAAABMQAAAAAAAgEBAAAAAAAAAAEAAAAAAAIBGQAAAAAAAgExAAAAAAABAQUAAAAAAAIBCQAAAAAAAAERAAAAAAAAAOkAAAAAAAMBCQAAAAAAAAExAAAAAAACAUUAAAAAAAABIQAAAAAAAAFBAAAAAAADAS0AAAAAAAABJQAAAAAAAwE9AAAAAAACAT0AAAAAAAEBEQAAAAAAAACBAAAAAAAAATEAAAAAAAIBCQAAAAAAAgEpAAAAAAAAARUAAAAAAAIBLQAAAAAAAACZAAAAAAACAQEAAAAAAAIBEQAAAAAAAwE5AAAAAAAAAP0AAAAAAAABCQAAAAAAAgEZAAAAAAADAQkAAAAAAAABKQAAAAAAAwFFAAAAAAACgUUAAAAAAAIBHQAAAAAAAQEhAAAAAAABATUAAAAAAAIBKQAAAAAAAQFJAAAAAAAAAUkAAAAAAAEBHQAAAAAAAAE1AAAAAAABATEAAAAAAAABCQAAAAAAAAElAAAAAAAAARUAAAAAAAIBIQAAAAAAAAEZAAAAAAAAARUAAAAAAAABDQAAAAAAAgEtAAAAAAAAAQkAAAAAAAABEQAAAAAAAAEpAAAAAAAAARUAAAAAAAABSQAAAAAAAQE5AAAAAAADAUEAAAAAAAIBGQAAAAAAAAExAAAAAAAAARkAAAAAAAIBKQAAAAAAAwFFAAAAAAABAT0AAAAAAAEBHQAAAAAAAgDJAAAAAAACAUEAAAAAAAABIQAAAAAAAAExAAAAAAACARkAAAAAAAIBLQAAAAAAAgERAAAAAAACAQUAAAAAAAABCQAAAAAAAgENAAAAAAACAQkAAAAAAAIBDQAAAAAAAAEZAAAAAAAAAP0AAAAAAAEBTQAAAAAAAgEZAAAAAAABASUAAAAAAAEBDQAAAAAAAAEVAAAAAAAAAN0AAAAAAAABIQAAAAAAAgFVAAAAAAACARUAAAAAAAAAmQAAAAAAAgElAAAAAAACAR0AAAAAAAIBLQAAAAAAAAEVAAAAAAACAREAAAAAAAEBDQAAAAAAAgElA",
        "encoding": "base64",
        "path": [
         "_data",
         0,
         "y",
         "value"
        ]
       },
       {
        "data": "AAAAAAAAAAAAAQAAAAAAAAAAAAAAAAAAAAAAAAAAAAAAAAAAAQAAAAAAAAAAAAAAAAAAAAEAAAAAAQEBAQAAAQAAAAEAAAAAAAAAAQEAAQAAAAEBAQAAAQAAAAAAAAAAAAAAAAAAAAAAAAAAAAAAAAAAAAAA",
        "encoding": "base64",
        "path": [
         "_data",
         1,
         "line",
         "color",
         "value"
        ]
       }
      ],
      "model_module": "plotlywidget",
      "model_module_version": "1.5.4",
      "model_name": "FigureModel",
      "state": {
       "_config": {
        "plotlyServerURL": "https://plot.ly"
       },
       "_data": [
        {
         "marker": {
          "cmax": 2.5,
          "cmin": -0.5,
          "color": {
           "dtype": "uint8",
           "shape": [
            117
           ],
           "value": {}
          },
          "colorbar": {
           "ticktext": [
            "None",
            "Red",
            "Blue"
           ],
           "tickvals": [
            0,
            1,
            2
           ]
          },
          "colorscale": [
           [
            0,
            "#F7CF3B"
           ],
           [
            0.33,
            "#F7CF3B"
           ],
           [
            0.33,
            "#2FED68"
           ],
           [
            0.66,
            "#2FED68"
           ],
           [
            0.66,
            "#2C0C50"
           ],
           [
            1,
            "#2C0C50"
           ]
          ],
          "showscale": true
         },
         "mode": "markers",
         "selectedpoints": [
          9,
          36,
          52,
          57,
          58,
          59,
          60,
          63,
          67,
          75,
          76,
          78,
          82,
          83,
          84,
          87
         ],
         "type": "scatter",
         "uid": "e30038c5-2029-47f1-82dd-3900c36c687f",
         "x": [
          70,
          88,
          214,
          126,
          153,
          39,
          37,
          146,
          39,
          136,
          317,
          39,
          52,
          166,
          3,
          130,
          106,
          27,
          128,
          34,
          9,
          20,
          19,
          29,
          32,
          155,
          158,
          141,
          148,
          57,
          41,
          150,
          81,
          162,
          190,
          72,
          132,
          174,
          3,
          155,
          183,
          65,
          131,
          84,
          21,
          22,
          43,
          30,
          56,
          302,
          151,
          246,
          214,
          85,
          76,
          192,
          228,
          174,
          204,
          98,
          137,
          138,
          1,
          176,
          163,
          217,
          57,
          268,
          8,
          19,
          68,
          34,
          652,
          674,
          584,
          411,
          343,
          574,
          396,
          566,
          657,
          110,
          342,
          264,
          510,
          176,
          2,
          419,
          194,
          757,
          68,
          805,
          12,
          105,
          367,
          93,
          39,
          47,
          65,
          33,
          21,
          54,
          26,
          30,
          59,
          7,
          99,
          5,
          75,
          3,
          15,
          5,
          98,
          56,
          3,
          32,
          13
         ],
         "y": {
          "dtype": "float64",
          "shape": [
           117
          ],
          "value": {}
         }
        },
        {
         "dimensions": [
          {
           "label": "year",
           "values": [
            2016,
            2016,
            2016,
            2016,
            2016,
            2016,
            2016,
            2016,
            2016,
            2016,
            2016,
            2016,
            2016,
            2016,
            2016,
            2016,
            2016,
            2016,
            2016,
            2016,
            2016,
            2016,
            2016,
            2016,
            2017,
            2017,
            2017,
            2017,
            2017,
            2017,
            2017,
            2017,
            2017,
            2017,
            2017,
            2017,
            2017,
            2017,
            2017,
            2017,
            2017,
            2017,
            2017,
            2017,
            2017,
            2017,
            2017,
            2017,
            2018,
            2018,
            2018,
            2018,
            2018,
            2018,
            2018,
            2018,
            2018,
            2018,
            2018,
            2018,
            2018,
            2018,
            2018,
            2018,
            2018,
            2018,
            2018,
            2018,
            2018,
            2018,
            2018,
            2018,
            2019,
            2019,
            2019,
            2019,
            2019,
            2019,
            2019,
            2019,
            2019,
            2019,
            2019,
            2019,
            2019,
            2019,
            2019,
            2019,
            2019,
            2019,
            2019,
            2019,
            2019,
            2019,
            2019,
            2019,
            2020,
            2020,
            2020,
            2020,
            2020,
            2020,
            2020,
            2020,
            2020,
            2020,
            2020,
            2020,
            2020,
            2020,
            2020,
            2020,
            2020,
            2020,
            2020,
            2020,
            2020
           ]
          },
          {
           "label": "genre",
           "values": [
            "edm",
            "edm",
            "edm",
            "edm",
            "latin",
            "latin",
            "latin",
            "latin",
            "pop",
            "pop",
            "pop",
            "pop",
            "r&b",
            "r&b",
            "r&b",
            "r&b",
            "rap",
            "rap",
            "rap",
            "rap",
            "rock",
            "rock",
            "rock",
            "rock",
            "edm",
            "edm",
            "edm",
            "edm",
            "latin",
            "latin",
            "latin",
            "latin",
            "pop",
            "pop",
            "pop",
            "pop",
            "r&b",
            "r&b",
            "r&b",
            "r&b",
            "rap",
            "rap",
            "rap",
            "rap",
            "rock",
            "rock",
            "rock",
            "rock",
            "edm",
            "edm",
            "edm",
            "edm",
            "latin",
            "latin",
            "latin",
            "latin",
            "pop",
            "pop",
            "pop",
            "pop",
            "r&b",
            "r&b",
            "r&b",
            "r&b",
            "rap",
            "rap",
            "rap",
            "rap",
            "rock",
            "rock",
            "rock",
            "rock",
            "edm",
            "edm",
            "edm",
            "edm",
            "latin",
            "latin",
            "latin",
            "latin",
            "pop",
            "pop",
            "pop",
            "pop",
            "r&b",
            "r&b",
            "r&b",
            "r&b",
            "rap",
            "rap",
            "rap",
            "rap",
            "rock",
            "rock",
            "rock",
            "rock",
            "edm",
            "edm",
            "edm",
            "edm",
            "latin",
            "latin",
            "latin",
            "latin",
            "pop",
            "pop",
            "pop",
            "pop",
            "r&b",
            "r&b",
            "r&b",
            "rap",
            "rap",
            "rap",
            "rock",
            "rock",
            "rock"
           ]
          },
          {
           "label": "subgenre",
           "values": [
            "big room",
            "electro house",
            "pop edm",
            "progressive electro house",
            "latin hip hop",
            "latin pop",
            "reggaeton",
            "tropical",
            "dance pop",
            "electropop",
            "indie poptimism",
            "post-teen pop",
            "hip pop",
            "neo soul",
            "new jack swing",
            "urban contemporary",
            "gangster rap",
            "hip hop",
            "southern hip hop",
            "trap",
            "album rock",
            "classic rock",
            "hard rock",
            "permanent wave",
            "big room",
            "electro house",
            "pop edm",
            "progressive electro house",
            "latin hip hop",
            "latin pop",
            "reggaeton",
            "tropical",
            "dance pop",
            "electropop",
            "indie poptimism",
            "post-teen pop",
            "hip pop",
            "neo soul",
            "new jack swing",
            "urban contemporary",
            "gangster rap",
            "hip hop",
            "southern hip hop",
            "trap",
            "album rock",
            "classic rock",
            "hard rock",
            "permanent wave",
            "big room",
            "electro house",
            "pop edm",
            "progressive electro house",
            "latin hip hop",
            "latin pop",
            "reggaeton",
            "tropical",
            "dance pop",
            "electropop",
            "indie poptimism",
            "post-teen pop",
            "hip pop",
            "neo soul",
            "new jack swing",
            "urban contemporary",
            "gangster rap",
            "hip hop",
            "southern hip hop",
            "trap",
            "album rock",
            "classic rock",
            "hard rock",
            "permanent wave",
            "big room",
            "electro house",
            "pop edm",
            "progressive electro house",
            "latin hip hop",
            "latin pop",
            "reggaeton",
            "tropical",
            "dance pop",
            "electropop",
            "indie poptimism",
            "post-teen pop",
            "hip pop",
            "neo soul",
            "new jack swing",
            "urban contemporary",
            "gangster rap",
            "hip hop",
            "southern hip hop",
            "trap",
            "album rock",
            "classic rock",
            "hard rock",
            "permanent wave",
            "big room",
            "electro house",
            "pop edm",
            "progressive electro house",
            "latin hip hop",
            "latin pop",
            "reggaeton",
            "tropical",
            "dance pop",
            "electropop",
            "indie poptimism",
            "post-teen pop",
            "hip pop",
            "neo soul",
            "urban contemporary",
            "gangster rap",
            "hip hop",
            "trap",
            "classic rock",
            "hard rock",
            "permanent wave"
           ]
          }
         ],
         "domain": {
          "y": [
           0,
           0.4
          ]
         },
         "line": {
          "cmax": 2.5,
          "cmin": -0.5,
          "color": {
           "dtype": "uint8",
           "shape": [
            117
           ],
           "value": {}
          },
          "colorscale": [
           [
            0,
            "#F7CF3B"
           ],
           [
            0.33,
            "#F7CF3B"
           ],
           [
            0.33,
            "#2FED68"
           ],
           [
            0.66,
            "#2FED68"
           ],
           [
            0.66,
            "#2C0C50"
           ],
           [
            1,
            "#2C0C50"
           ]
          ],
          "shape": "hspline"
         },
         "type": "parcats",
         "uid": "9d0dcc1a-453e-4d26-8e7a-af2009533b63"
        }
       ],
       "_js2py_restyle": {},
       "_js2py_update": {},
       "_last_layout_edit_id": 4,
       "_last_trace_edit_id": 3,
       "_layout": {
        "autosize": true,
        "dragmode": "lasso",
        "height": 800,
        "hovermode": "closest",
        "template": {
         "data": {
          "bar": [
           {
            "error_x": {
             "color": "#2a3f5f"
            },
            "error_y": {
             "color": "#2a3f5f"
            },
            "marker": {
             "line": {
              "color": "#E5ECF6",
              "width": 0.5
             }
            },
            "type": "bar"
           }
          ],
          "barpolar": [
           {
            "marker": {
             "line": {
              "color": "#E5ECF6",
              "width": 0.5
             }
            },
            "type": "barpolar"
           }
          ],
          "carpet": [
           {
            "aaxis": {
             "endlinecolor": "#2a3f5f",
             "gridcolor": "white",
             "linecolor": "white",
             "minorgridcolor": "white",
             "startlinecolor": "#2a3f5f"
            },
            "baxis": {
             "endlinecolor": "#2a3f5f",
             "gridcolor": "white",
             "linecolor": "white",
             "minorgridcolor": "white",
             "startlinecolor": "#2a3f5f"
            },
            "type": "carpet"
           }
          ],
          "choropleth": [
           {
            "colorbar": {
             "outlinewidth": 0,
             "ticks": ""
            },
            "type": "choropleth"
           }
          ],
          "contour": [
           {
            "colorbar": {
             "outlinewidth": 0,
             "ticks": ""
            },
            "colorscale": [
             [
              0,
              "#0d0887"
             ],
             [
              0.1111111111111111,
              "#46039f"
             ],
             [
              0.2222222222222222,
              "#7201a8"
             ],
             [
              0.3333333333333333,
              "#9c179e"
             ],
             [
              0.4444444444444444,
              "#bd3786"
             ],
             [
              0.5555555555555556,
              "#d8576b"
             ],
             [
              0.6666666666666666,
              "#ed7953"
             ],
             [
              0.7777777777777778,
              "#fb9f3a"
             ],
             [
              0.8888888888888888,
              "#fdca26"
             ],
             [
              1,
              "#f0f921"
             ]
            ],
            "type": "contour"
           }
          ],
          "contourcarpet": [
           {
            "colorbar": {
             "outlinewidth": 0,
             "ticks": ""
            },
            "type": "contourcarpet"
           }
          ],
          "heatmap": [
           {
            "colorbar": {
             "outlinewidth": 0,
             "ticks": ""
            },
            "colorscale": [
             [
              0,
              "#0d0887"
             ],
             [
              0.1111111111111111,
              "#46039f"
             ],
             [
              0.2222222222222222,
              "#7201a8"
             ],
             [
              0.3333333333333333,
              "#9c179e"
             ],
             [
              0.4444444444444444,
              "#bd3786"
             ],
             [
              0.5555555555555556,
              "#d8576b"
             ],
             [
              0.6666666666666666,
              "#ed7953"
             ],
             [
              0.7777777777777778,
              "#fb9f3a"
             ],
             [
              0.8888888888888888,
              "#fdca26"
             ],
             [
              1,
              "#f0f921"
             ]
            ],
            "type": "heatmap"
           }
          ],
          "heatmapgl": [
           {
            "colorbar": {
             "outlinewidth": 0,
             "ticks": ""
            },
            "colorscale": [
             [
              0,
              "#0d0887"
             ],
             [
              0.1111111111111111,
              "#46039f"
             ],
             [
              0.2222222222222222,
              "#7201a8"
             ],
             [
              0.3333333333333333,
              "#9c179e"
             ],
             [
              0.4444444444444444,
              "#bd3786"
             ],
             [
              0.5555555555555556,
              "#d8576b"
             ],
             [
              0.6666666666666666,
              "#ed7953"
             ],
             [
              0.7777777777777778,
              "#fb9f3a"
             ],
             [
              0.8888888888888888,
              "#fdca26"
             ],
             [
              1,
              "#f0f921"
             ]
            ],
            "type": "heatmapgl"
           }
          ],
          "histogram": [
           {
            "marker": {
             "colorbar": {
              "outlinewidth": 0,
              "ticks": ""
             }
            },
            "type": "histogram"
           }
          ],
          "histogram2d": [
           {
            "colorbar": {
             "outlinewidth": 0,
             "ticks": ""
            },
            "colorscale": [
             [
              0,
              "#0d0887"
             ],
             [
              0.1111111111111111,
              "#46039f"
             ],
             [
              0.2222222222222222,
              "#7201a8"
             ],
             [
              0.3333333333333333,
              "#9c179e"
             ],
             [
              0.4444444444444444,
              "#bd3786"
             ],
             [
              0.5555555555555556,
              "#d8576b"
             ],
             [
              0.6666666666666666,
              "#ed7953"
             ],
             [
              0.7777777777777778,
              "#fb9f3a"
             ],
             [
              0.8888888888888888,
              "#fdca26"
             ],
             [
              1,
              "#f0f921"
             ]
            ],
            "type": "histogram2d"
           }
          ],
          "histogram2dcontour": [
           {
            "colorbar": {
             "outlinewidth": 0,
             "ticks": ""
            },
            "colorscale": [
             [
              0,
              "#0d0887"
             ],
             [
              0.1111111111111111,
              "#46039f"
             ],
             [
              0.2222222222222222,
              "#7201a8"
             ],
             [
              0.3333333333333333,
              "#9c179e"
             ],
             [
              0.4444444444444444,
              "#bd3786"
             ],
             [
              0.5555555555555556,
              "#d8576b"
             ],
             [
              0.6666666666666666,
              "#ed7953"
             ],
             [
              0.7777777777777778,
              "#fb9f3a"
             ],
             [
              0.8888888888888888,
              "#fdca26"
             ],
             [
              1,
              "#f0f921"
             ]
            ],
            "type": "histogram2dcontour"
           }
          ],
          "mesh3d": [
           {
            "colorbar": {
             "outlinewidth": 0,
             "ticks": ""
            },
            "type": "mesh3d"
           }
          ],
          "parcoords": [
           {
            "line": {
             "colorbar": {
              "outlinewidth": 0,
              "ticks": ""
             }
            },
            "type": "parcoords"
           }
          ],
          "pie": [
           {
            "automargin": true,
            "type": "pie"
           }
          ],
          "scatter": [
           {
            "marker": {
             "colorbar": {
              "outlinewidth": 0,
              "ticks": ""
             }
            },
            "type": "scatter"
           }
          ],
          "scatter3d": [
           {
            "line": {
             "colorbar": {
              "outlinewidth": 0,
              "ticks": ""
             }
            },
            "marker": {
             "colorbar": {
              "outlinewidth": 0,
              "ticks": ""
             }
            },
            "type": "scatter3d"
           }
          ],
          "scattercarpet": [
           {
            "marker": {
             "colorbar": {
              "outlinewidth": 0,
              "ticks": ""
             }
            },
            "type": "scattercarpet"
           }
          ],
          "scattergeo": [
           {
            "marker": {
             "colorbar": {
              "outlinewidth": 0,
              "ticks": ""
             }
            },
            "type": "scattergeo"
           }
          ],
          "scattergl": [
           {
            "marker": {
             "colorbar": {
              "outlinewidth": 0,
              "ticks": ""
             }
            },
            "type": "scattergl"
           }
          ],
          "scattermapbox": [
           {
            "marker": {
             "colorbar": {
              "outlinewidth": 0,
              "ticks": ""
             }
            },
            "type": "scattermapbox"
           }
          ],
          "scatterpolar": [
           {
            "marker": {
             "colorbar": {
              "outlinewidth": 0,
              "ticks": ""
             }
            },
            "type": "scatterpolar"
           }
          ],
          "scatterpolargl": [
           {
            "marker": {
             "colorbar": {
              "outlinewidth": 0,
              "ticks": ""
             }
            },
            "type": "scatterpolargl"
           }
          ],
          "scatterternary": [
           {
            "marker": {
             "colorbar": {
              "outlinewidth": 0,
              "ticks": ""
             }
            },
            "type": "scatterternary"
           }
          ],
          "surface": [
           {
            "colorbar": {
             "outlinewidth": 0,
             "ticks": ""
            },
            "colorscale": [
             [
              0,
              "#0d0887"
             ],
             [
              0.1111111111111111,
              "#46039f"
             ],
             [
              0.2222222222222222,
              "#7201a8"
             ],
             [
              0.3333333333333333,
              "#9c179e"
             ],
             [
              0.4444444444444444,
              "#bd3786"
             ],
             [
              0.5555555555555556,
              "#d8576b"
             ],
             [
              0.6666666666666666,
              "#ed7953"
             ],
             [
              0.7777777777777778,
              "#fb9f3a"
             ],
             [
              0.8888888888888888,
              "#fdca26"
             ],
             [
              1,
              "#f0f921"
             ]
            ],
            "type": "surface"
           }
          ],
          "table": [
           {
            "cells": {
             "fill": {
              "color": "#EBF0F8"
             },
             "line": {
              "color": "white"
             }
            },
            "header": {
             "fill": {
              "color": "#C8D4E3"
             },
             "line": {
              "color": "white"
             }
            },
            "type": "table"
           }
          ]
         },
         "layout": {
          "annotationdefaults": {
           "arrowcolor": "#2a3f5f",
           "arrowhead": 0,
           "arrowwidth": 1
          },
          "coloraxis": {
           "colorbar": {
            "outlinewidth": 0,
            "ticks": ""
           }
          },
          "colorscale": {
           "diverging": [
            [
             0,
             "#8e0152"
            ],
            [
             0.1,
             "#c51b7d"
            ],
            [
             0.2,
             "#de77ae"
            ],
            [
             0.3,
             "#f1b6da"
            ],
            [
             0.4,
             "#fde0ef"
            ],
            [
             0.5,
             "#f7f7f7"
            ],
            [
             0.6,
             "#e6f5d0"
            ],
            [
             0.7,
             "#b8e186"
            ],
            [
             0.8,
             "#7fbc41"
            ],
            [
             0.9,
             "#4d9221"
            ],
            [
             1,
             "#276419"
            ]
           ],
           "sequential": [
            [
             0,
             "#0d0887"
            ],
            [
             0.1111111111111111,
             "#46039f"
            ],
            [
             0.2222222222222222,
             "#7201a8"
            ],
            [
             0.3333333333333333,
             "#9c179e"
            ],
            [
             0.4444444444444444,
             "#bd3786"
            ],
            [
             0.5555555555555556,
             "#d8576b"
            ],
            [
             0.6666666666666666,
             "#ed7953"
            ],
            [
             0.7777777777777778,
             "#fb9f3a"
            ],
            [
             0.8888888888888888,
             "#fdca26"
            ],
            [
             1,
             "#f0f921"
            ]
           ],
           "sequentialminus": [
            [
             0,
             "#0d0887"
            ],
            [
             0.1111111111111111,
             "#46039f"
            ],
            [
             0.2222222222222222,
             "#7201a8"
            ],
            [
             0.3333333333333333,
             "#9c179e"
            ],
            [
             0.4444444444444444,
             "#bd3786"
            ],
            [
             0.5555555555555556,
             "#d8576b"
            ],
            [
             0.6666666666666666,
             "#ed7953"
            ],
            [
             0.7777777777777778,
             "#fb9f3a"
            ],
            [
             0.8888888888888888,
             "#fdca26"
            ],
            [
             1,
             "#f0f921"
            ]
           ]
          },
          "colorway": [
           "#636efa",
           "#EF553B",
           "#00cc96",
           "#ab63fa",
           "#FFA15A",
           "#19d3f3",
           "#FF6692",
           "#B6E880",
           "#FF97FF",
           "#FECB52"
          ],
          "font": {
           "color": "#2a3f5f"
          },
          "geo": {
           "bgcolor": "white",
           "lakecolor": "white",
           "landcolor": "#E5ECF6",
           "showlakes": true,
           "showland": true,
           "subunitcolor": "white"
          },
          "hoverlabel": {
           "align": "left"
          },
          "hovermode": "closest",
          "mapbox": {
           "style": "light"
          },
          "paper_bgcolor": "white",
          "plot_bgcolor": "#E5ECF6",
          "polar": {
           "angularaxis": {
            "gridcolor": "white",
            "linecolor": "white",
            "ticks": ""
           },
           "bgcolor": "#E5ECF6",
           "radialaxis": {
            "gridcolor": "white",
            "linecolor": "white",
            "ticks": ""
           }
          },
          "scene": {
           "xaxis": {
            "backgroundcolor": "#E5ECF6",
            "gridcolor": "white",
            "gridwidth": 2,
            "linecolor": "white",
            "showbackground": true,
            "ticks": "",
            "zerolinecolor": "white"
           },
           "yaxis": {
            "backgroundcolor": "#E5ECF6",
            "gridcolor": "white",
            "gridwidth": 2,
            "linecolor": "white",
            "showbackground": true,
            "ticks": "",
            "zerolinecolor": "white"
           },
           "zaxis": {
            "backgroundcolor": "#E5ECF6",
            "gridcolor": "white",
            "gridwidth": 2,
            "linecolor": "white",
            "showbackground": true,
            "ticks": "",
            "zerolinecolor": "white"
           }
          },
          "shapedefaults": {
           "line": {
            "color": "#2a3f5f"
           }
          },
          "ternary": {
           "aaxis": {
            "gridcolor": "white",
            "linecolor": "white",
            "ticks": ""
           },
           "baxis": {
            "gridcolor": "white",
            "linecolor": "white",
            "ticks": ""
           },
           "bgcolor": "#E5ECF6",
           "caxis": {
            "gridcolor": "white",
            "linecolor": "white",
            "ticks": ""
           }
          },
          "title": {
           "x": 0.05
          },
          "xaxis": {
           "automargin": true,
           "gridcolor": "white",
           "linecolor": "white",
           "ticks": "",
           "title": {
            "standoff": 15
           },
           "zerolinecolor": "white",
           "zerolinewidth": 2
          },
          "yaxis": {
           "automargin": true,
           "gridcolor": "white",
           "linecolor": "white",
           "ticks": "",
           "title": {
            "standoff": 15
           },
           "zerolinecolor": "white",
           "zerolinewidth": 2
          }
         }
        },
        "xaxis": {
         "title": {
          "text": "Count"
         }
        },
        "yaxis": {
         "domain": [
          0.6,
          1
         ],
         "title": {
          "text": "Popularity"
         }
        }
       },
       "_model_module_version": "1.5.4",
       "_py2js_addTraces": {},
       "_py2js_animate": {},
       "_py2js_deleteTraces": {},
       "_py2js_moveTraces": {},
       "_py2js_removeLayoutProps": {},
       "_py2js_removeTraceProps": {},
       "_view_count": 0,
       "_view_module_version": "1.5.4"
      }
     },
     "dc72363be07b4add889123265f4a5cf5": {
      "model_module": "@jupyter-widgets/controls",
      "model_module_version": "1.5.0",
      "model_name": "ToggleButtonsModel",
      "state": {
       "_options_labels": [
        "None",
        "Red",
        "Blue"
       ],
       "button_style": "",
       "description": "Brush Color:",
       "icons": [],
       "index": 1,
       "layout": "IPY_MODEL_444cc9d49650405da8c8e83d65e8e5f8",
       "style": "IPY_MODEL_9e8026c113064e47b0da6ae039f5f5e4",
       "tooltips": []
      }
     },
     "ddc120a1f0a640f2bba054fc63e2762f": {
      "model_module": "@jupyter-widgets/controls",
      "model_module_version": "1.5.0",
      "model_name": "ToggleButtonsModel",
      "state": {
       "_options_labels": [
        "None",
        "Red",
        "Blue"
       ],
       "button_style": "",
       "description": "Brush Color:",
       "icons": [],
       "index": 1,
       "layout": "IPY_MODEL_16f9b1f9490540e7b8cb0d4a62dcebb3",
       "style": "IPY_MODEL_0882fc2b065744009446c4e61e01a8de",
       "tooltips": []
      }
     },
     "e0b69165433849e5ae2c4ff8504a7b75": {
      "buffers": [
       {
        "data": "AAACAAACAAACAgICAgIAAQAAAAAAAAAAAAAAAAAAAgACAQICAgIAAQIAAAAAAAACAAAAAgICAgICAgICAgACAgICAAIAAAAAAAACAgIAAgAAAAICAgIAAgIAAAAAAAAAAAAAAAIAAAAAAAACAAAAAAAAAAAA",
        "encoding": "base64",
        "path": [
         "_data",
         0,
         "marker",
         "color",
         "value"
        ]
       },
       {
        "data": "AAAAAACAOkAAAAAAAABCQAAAAAAAwENAAAAAAAAAMkAAAAAAAIBEQAAAAAAAgE1AAAAAAACAS0AAAAAAAEBEQAAAAAAAAFBAAAAAAAAAT0AAAAAAAIBDQAAAAAAAAFBAAAAAAAAATkAAAAAAAIBDQAAAAAAAAC5AAAAAAACASkAAAAAAAMBEQAAAAAAAgExAAAAAAADAQ0AAAAAAAABMQAAAAAAAgEBAAAAAAAAAAEAAAAAAAIBGQAAAAAAAgExAAAAAAABAQUAAAAAAAIBCQAAAAAAAAERAAAAAAAAAOkAAAAAAAMBCQAAAAAAAAExAAAAAAACAUUAAAAAAAABIQAAAAAAAAFBAAAAAAADAS0AAAAAAAABJQAAAAAAAwE9AAAAAAACAT0AAAAAAAEBEQAAAAAAAACBAAAAAAAAATEAAAAAAAIBCQAAAAAAAgEpAAAAAAAAARUAAAAAAAIBLQAAAAAAAACZAAAAAAACAQEAAAAAAAIBEQAAAAAAAwE5AAAAAAAAAP0AAAAAAAABCQAAAAAAAgEZAAAAAAADAQkAAAAAAAABKQAAAAAAAwFFAAAAAAACgUUAAAAAAAIBHQAAAAAAAQEhAAAAAAABATUAAAAAAAIBKQAAAAAAAQFJAAAAAAAAAUkAAAAAAAEBHQAAAAAAAAE1AAAAAAABATEAAAAAAAABCQAAAAAAAAElAAAAAAAAARUAAAAAAAIBIQAAAAAAAAEZAAAAAAAAARUAAAAAAAABDQAAAAAAAgEtAAAAAAAAAQkAAAAAAAABEQAAAAAAAAEpAAAAAAAAARUAAAAAAAABSQAAAAAAAQE5AAAAAAADAUEAAAAAAAIBGQAAAAAAAAExAAAAAAAAARkAAAAAAAIBKQAAAAAAAwFFAAAAAAABAT0AAAAAAAEBHQAAAAAAAgDJAAAAAAACAUEAAAAAAAABIQAAAAAAAAExAAAAAAACARkAAAAAAAIBLQAAAAAAAgERAAAAAAACAQUAAAAAAAABCQAAAAAAAgENAAAAAAACAQkAAAAAAAIBDQAAAAAAAAEZAAAAAAAAAP0AAAAAAAEBTQAAAAAAAgEZAAAAAAABASUAAAAAAAEBDQAAAAAAAAEVAAAAAAAAAN0AAAAAAAABIQAAAAAAAgFVAAAAAAACARUAAAAAAAAAmQAAAAAAAgElAAAAAAACAR0AAAAAAAIBLQAAAAAAAAEVAAAAAAACAREAAAAAAAEBDQAAAAAAAgElA",
        "encoding": "base64",
        "path": [
         "_data",
         0,
         "y",
         "value"
        ]
       },
       {
        "data": "AAACAAACAAACAgICAgIAAQAAAAAAAAAAAAAAAAAAAgACAQICAgIAAQIAAAAAAAACAAAAAgICAgICAgICAgACAgICAAIAAAAAAAACAgIAAgAAAAICAgIAAgIAAAAAAAAAAAAAAAIAAAAAAAACAAAAAAAAAAAA",
        "encoding": "base64",
        "path": [
         "_data",
         1,
         "line",
         "color",
         "value"
        ]
       }
      ],
      "model_module": "plotlywidget",
      "model_module_version": "1.5.4",
      "model_name": "FigureModel",
      "state": {
       "_config": {
        "plotlyServerURL": "https://plot.ly"
       },
       "_data": [
        {
         "marker": {
          "cmax": 2.5,
          "cmin": -0.5,
          "color": {
           "dtype": "uint8",
           "shape": [
            117
           ],
           "value": {}
          },
          "colorbar": {
           "ticktext": [
            "None",
            "Red",
            "Blue"
           ],
           "tickvals": [
            0,
            1,
            2
           ]
          },
          "colorscale": [
           [
            0,
            "#ED6A24"
           ],
           [
            0.33,
            "#ED6A24"
           ],
           [
            0.33,
            "#2FED68"
           ],
           [
            0.66,
            "#2FED68"
           ],
           [
            0.66,
            "#2C0C50"
           ],
           [
            1,
            "#2C0C50"
           ]
          ],
          "showscale": true
         },
         "mode": "markers",
         "selectedpoints": [
          5,
          8,
          9,
          11,
          12,
          30,
          32,
          35,
          36,
          47,
          53,
          54,
          57,
          59,
          60,
          62,
          100,
          107
         ],
         "type": "scatter",
         "uid": "4116a82d-0f0d-40ba-8b32-33a9f26d69c9",
         "x": [
          70,
          88,
          214,
          126,
          153,
          39,
          37,
          146,
          39,
          136,
          317,
          39,
          52,
          166,
          3,
          130,
          106,
          27,
          128,
          34,
          9,
          20,
          19,
          29,
          32,
          155,
          158,
          141,
          148,
          57,
          41,
          150,
          81,
          162,
          190,
          72,
          132,
          174,
          3,
          155,
          183,
          65,
          131,
          84,
          21,
          22,
          43,
          30,
          56,
          302,
          151,
          246,
          214,
          85,
          76,
          192,
          228,
          174,
          204,
          98,
          137,
          138,
          1,
          176,
          163,
          217,
          57,
          268,
          8,
          19,
          68,
          34,
          652,
          674,
          584,
          411,
          343,
          574,
          396,
          566,
          657,
          110,
          342,
          264,
          510,
          176,
          2,
          419,
          194,
          757,
          68,
          805,
          12,
          105,
          367,
          93,
          39,
          47,
          65,
          33,
          21,
          54,
          26,
          30,
          59,
          7,
          99,
          5,
          75,
          3,
          15,
          5,
          98,
          56,
          3,
          32,
          13
         ],
         "y": {
          "dtype": "float64",
          "shape": [
           117
          ],
          "value": {}
         }
        },
        {
         "dimensions": [
          {
           "label": "year",
           "values": [
            2016,
            2016,
            2016,
            2016,
            2016,
            2016,
            2016,
            2016,
            2016,
            2016,
            2016,
            2016,
            2016,
            2016,
            2016,
            2016,
            2016,
            2016,
            2016,
            2016,
            2016,
            2016,
            2016,
            2016,
            2017,
            2017,
            2017,
            2017,
            2017,
            2017,
            2017,
            2017,
            2017,
            2017,
            2017,
            2017,
            2017,
            2017,
            2017,
            2017,
            2017,
            2017,
            2017,
            2017,
            2017,
            2017,
            2017,
            2017,
            2018,
            2018,
            2018,
            2018,
            2018,
            2018,
            2018,
            2018,
            2018,
            2018,
            2018,
            2018,
            2018,
            2018,
            2018,
            2018,
            2018,
            2018,
            2018,
            2018,
            2018,
            2018,
            2018,
            2018,
            2019,
            2019,
            2019,
            2019,
            2019,
            2019,
            2019,
            2019,
            2019,
            2019,
            2019,
            2019,
            2019,
            2019,
            2019,
            2019,
            2019,
            2019,
            2019,
            2019,
            2019,
            2019,
            2019,
            2019,
            2020,
            2020,
            2020,
            2020,
            2020,
            2020,
            2020,
            2020,
            2020,
            2020,
            2020,
            2020,
            2020,
            2020,
            2020,
            2020,
            2020,
            2020,
            2020,
            2020,
            2020
           ]
          },
          {
           "label": "genre",
           "values": [
            "edm",
            "edm",
            "edm",
            "edm",
            "latin",
            "latin",
            "latin",
            "latin",
            "pop",
            "pop",
            "pop",
            "pop",
            "r&b",
            "r&b",
            "r&b",
            "r&b",
            "rap",
            "rap",
            "rap",
            "rap",
            "rock",
            "rock",
            "rock",
            "rock",
            "edm",
            "edm",
            "edm",
            "edm",
            "latin",
            "latin",
            "latin",
            "latin",
            "pop",
            "pop",
            "pop",
            "pop",
            "r&b",
            "r&b",
            "r&b",
            "r&b",
            "rap",
            "rap",
            "rap",
            "rap",
            "rock",
            "rock",
            "rock",
            "rock",
            "edm",
            "edm",
            "edm",
            "edm",
            "latin",
            "latin",
            "latin",
            "latin",
            "pop",
            "pop",
            "pop",
            "pop",
            "r&b",
            "r&b",
            "r&b",
            "r&b",
            "rap",
            "rap",
            "rap",
            "rap",
            "rock",
            "rock",
            "rock",
            "rock",
            "edm",
            "edm",
            "edm",
            "edm",
            "latin",
            "latin",
            "latin",
            "latin",
            "pop",
            "pop",
            "pop",
            "pop",
            "r&b",
            "r&b",
            "r&b",
            "r&b",
            "rap",
            "rap",
            "rap",
            "rap",
            "rock",
            "rock",
            "rock",
            "rock",
            "edm",
            "edm",
            "edm",
            "edm",
            "latin",
            "latin",
            "latin",
            "latin",
            "pop",
            "pop",
            "pop",
            "pop",
            "r&b",
            "r&b",
            "r&b",
            "rap",
            "rap",
            "rap",
            "rock",
            "rock",
            "rock"
           ]
          },
          {
           "label": "subgenre",
           "values": [
            "big room",
            "electro house",
            "pop edm",
            "progressive electro house",
            "latin hip hop",
            "latin pop",
            "reggaeton",
            "tropical",
            "dance pop",
            "electropop",
            "indie poptimism",
            "post-teen pop",
            "hip pop",
            "neo soul",
            "new jack swing",
            "urban contemporary",
            "gangster rap",
            "hip hop",
            "southern hip hop",
            "trap",
            "album rock",
            "classic rock",
            "hard rock",
            "permanent wave",
            "big room",
            "electro house",
            "pop edm",
            "progressive electro house",
            "latin hip hop",
            "latin pop",
            "reggaeton",
            "tropical",
            "dance pop",
            "electropop",
            "indie poptimism",
            "post-teen pop",
            "hip pop",
            "neo soul",
            "new jack swing",
            "urban contemporary",
            "gangster rap",
            "hip hop",
            "southern hip hop",
            "trap",
            "album rock",
            "classic rock",
            "hard rock",
            "permanent wave",
            "big room",
            "electro house",
            "pop edm",
            "progressive electro house",
            "latin hip hop",
            "latin pop",
            "reggaeton",
            "tropical",
            "dance pop",
            "electropop",
            "indie poptimism",
            "post-teen pop",
            "hip pop",
            "neo soul",
            "new jack swing",
            "urban contemporary",
            "gangster rap",
            "hip hop",
            "southern hip hop",
            "trap",
            "album rock",
            "classic rock",
            "hard rock",
            "permanent wave",
            "big room",
            "electro house",
            "pop edm",
            "progressive electro house",
            "latin hip hop",
            "latin pop",
            "reggaeton",
            "tropical",
            "dance pop",
            "electropop",
            "indie poptimism",
            "post-teen pop",
            "hip pop",
            "neo soul",
            "new jack swing",
            "urban contemporary",
            "gangster rap",
            "hip hop",
            "southern hip hop",
            "trap",
            "album rock",
            "classic rock",
            "hard rock",
            "permanent wave",
            "big room",
            "electro house",
            "pop edm",
            "progressive electro house",
            "latin hip hop",
            "latin pop",
            "reggaeton",
            "tropical",
            "dance pop",
            "electropop",
            "indie poptimism",
            "post-teen pop",
            "hip pop",
            "neo soul",
            "urban contemporary",
            "gangster rap",
            "hip hop",
            "trap",
            "classic rock",
            "hard rock",
            "permanent wave"
           ]
          }
         ],
         "domain": {
          "y": [
           0,
           0.4
          ]
         },
         "line": {
          "cmax": 2.5,
          "cmin": -0.5,
          "color": {
           "dtype": "uint8",
           "shape": [
            117
           ],
           "value": {}
          },
          "colorscale": [
           [
            0,
            "#ED6A24"
           ],
           [
            0.33,
            "#ED6A24"
           ],
           [
            0.33,
            "#2FED68"
           ],
           [
            0.66,
            "#2FED68"
           ],
           [
            0.66,
            "#2C0C50"
           ],
           [
            1,
            "#2C0C50"
           ]
          ],
          "shape": "hspline"
         },
         "type": "parcats",
         "uid": "d9d1f6b0-6ff1-4a32-8e77-3aee3536d00b"
        }
       ],
       "_js2py_restyle": {},
       "_js2py_update": {},
       "_last_layout_edit_id": 10,
       "_last_trace_edit_id": 9,
       "_layout": {
        "autosize": true,
        "dragmode": "lasso",
        "height": 800,
        "hovermode": "closest",
        "template": {
         "data": {
          "bar": [
           {
            "error_x": {
             "color": "#2a3f5f"
            },
            "error_y": {
             "color": "#2a3f5f"
            },
            "marker": {
             "line": {
              "color": "#E5ECF6",
              "width": 0.5
             }
            },
            "type": "bar"
           }
          ],
          "barpolar": [
           {
            "marker": {
             "line": {
              "color": "#E5ECF6",
              "width": 0.5
             }
            },
            "type": "barpolar"
           }
          ],
          "carpet": [
           {
            "aaxis": {
             "endlinecolor": "#2a3f5f",
             "gridcolor": "white",
             "linecolor": "white",
             "minorgridcolor": "white",
             "startlinecolor": "#2a3f5f"
            },
            "baxis": {
             "endlinecolor": "#2a3f5f",
             "gridcolor": "white",
             "linecolor": "white",
             "minorgridcolor": "white",
             "startlinecolor": "#2a3f5f"
            },
            "type": "carpet"
           }
          ],
          "choropleth": [
           {
            "colorbar": {
             "outlinewidth": 0,
             "ticks": ""
            },
            "type": "choropleth"
           }
          ],
          "contour": [
           {
            "colorbar": {
             "outlinewidth": 0,
             "ticks": ""
            },
            "colorscale": [
             [
              0,
              "#0d0887"
             ],
             [
              0.1111111111111111,
              "#46039f"
             ],
             [
              0.2222222222222222,
              "#7201a8"
             ],
             [
              0.3333333333333333,
              "#9c179e"
             ],
             [
              0.4444444444444444,
              "#bd3786"
             ],
             [
              0.5555555555555556,
              "#d8576b"
             ],
             [
              0.6666666666666666,
              "#ed7953"
             ],
             [
              0.7777777777777778,
              "#fb9f3a"
             ],
             [
              0.8888888888888888,
              "#fdca26"
             ],
             [
              1,
              "#f0f921"
             ]
            ],
            "type": "contour"
           }
          ],
          "contourcarpet": [
           {
            "colorbar": {
             "outlinewidth": 0,
             "ticks": ""
            },
            "type": "contourcarpet"
           }
          ],
          "heatmap": [
           {
            "colorbar": {
             "outlinewidth": 0,
             "ticks": ""
            },
            "colorscale": [
             [
              0,
              "#0d0887"
             ],
             [
              0.1111111111111111,
              "#46039f"
             ],
             [
              0.2222222222222222,
              "#7201a8"
             ],
             [
              0.3333333333333333,
              "#9c179e"
             ],
             [
              0.4444444444444444,
              "#bd3786"
             ],
             [
              0.5555555555555556,
              "#d8576b"
             ],
             [
              0.6666666666666666,
              "#ed7953"
             ],
             [
              0.7777777777777778,
              "#fb9f3a"
             ],
             [
              0.8888888888888888,
              "#fdca26"
             ],
             [
              1,
              "#f0f921"
             ]
            ],
            "type": "heatmap"
           }
          ],
          "heatmapgl": [
           {
            "colorbar": {
             "outlinewidth": 0,
             "ticks": ""
            },
            "colorscale": [
             [
              0,
              "#0d0887"
             ],
             [
              0.1111111111111111,
              "#46039f"
             ],
             [
              0.2222222222222222,
              "#7201a8"
             ],
             [
              0.3333333333333333,
              "#9c179e"
             ],
             [
              0.4444444444444444,
              "#bd3786"
             ],
             [
              0.5555555555555556,
              "#d8576b"
             ],
             [
              0.6666666666666666,
              "#ed7953"
             ],
             [
              0.7777777777777778,
              "#fb9f3a"
             ],
             [
              0.8888888888888888,
              "#fdca26"
             ],
             [
              1,
              "#f0f921"
             ]
            ],
            "type": "heatmapgl"
           }
          ],
          "histogram": [
           {
            "marker": {
             "colorbar": {
              "outlinewidth": 0,
              "ticks": ""
             }
            },
            "type": "histogram"
           }
          ],
          "histogram2d": [
           {
            "colorbar": {
             "outlinewidth": 0,
             "ticks": ""
            },
            "colorscale": [
             [
              0,
              "#0d0887"
             ],
             [
              0.1111111111111111,
              "#46039f"
             ],
             [
              0.2222222222222222,
              "#7201a8"
             ],
             [
              0.3333333333333333,
              "#9c179e"
             ],
             [
              0.4444444444444444,
              "#bd3786"
             ],
             [
              0.5555555555555556,
              "#d8576b"
             ],
             [
              0.6666666666666666,
              "#ed7953"
             ],
             [
              0.7777777777777778,
              "#fb9f3a"
             ],
             [
              0.8888888888888888,
              "#fdca26"
             ],
             [
              1,
              "#f0f921"
             ]
            ],
            "type": "histogram2d"
           }
          ],
          "histogram2dcontour": [
           {
            "colorbar": {
             "outlinewidth": 0,
             "ticks": ""
            },
            "colorscale": [
             [
              0,
              "#0d0887"
             ],
             [
              0.1111111111111111,
              "#46039f"
             ],
             [
              0.2222222222222222,
              "#7201a8"
             ],
             [
              0.3333333333333333,
              "#9c179e"
             ],
             [
              0.4444444444444444,
              "#bd3786"
             ],
             [
              0.5555555555555556,
              "#d8576b"
             ],
             [
              0.6666666666666666,
              "#ed7953"
             ],
             [
              0.7777777777777778,
              "#fb9f3a"
             ],
             [
              0.8888888888888888,
              "#fdca26"
             ],
             [
              1,
              "#f0f921"
             ]
            ],
            "type": "histogram2dcontour"
           }
          ],
          "mesh3d": [
           {
            "colorbar": {
             "outlinewidth": 0,
             "ticks": ""
            },
            "type": "mesh3d"
           }
          ],
          "parcoords": [
           {
            "line": {
             "colorbar": {
              "outlinewidth": 0,
              "ticks": ""
             }
            },
            "type": "parcoords"
           }
          ],
          "pie": [
           {
            "automargin": true,
            "type": "pie"
           }
          ],
          "scatter": [
           {
            "marker": {
             "colorbar": {
              "outlinewidth": 0,
              "ticks": ""
             }
            },
            "type": "scatter"
           }
          ],
          "scatter3d": [
           {
            "line": {
             "colorbar": {
              "outlinewidth": 0,
              "ticks": ""
             }
            },
            "marker": {
             "colorbar": {
              "outlinewidth": 0,
              "ticks": ""
             }
            },
            "type": "scatter3d"
           }
          ],
          "scattercarpet": [
           {
            "marker": {
             "colorbar": {
              "outlinewidth": 0,
              "ticks": ""
             }
            },
            "type": "scattercarpet"
           }
          ],
          "scattergeo": [
           {
            "marker": {
             "colorbar": {
              "outlinewidth": 0,
              "ticks": ""
             }
            },
            "type": "scattergeo"
           }
          ],
          "scattergl": [
           {
            "marker": {
             "colorbar": {
              "outlinewidth": 0,
              "ticks": ""
             }
            },
            "type": "scattergl"
           }
          ],
          "scattermapbox": [
           {
            "marker": {
             "colorbar": {
              "outlinewidth": 0,
              "ticks": ""
             }
            },
            "type": "scattermapbox"
           }
          ],
          "scatterpolar": [
           {
            "marker": {
             "colorbar": {
              "outlinewidth": 0,
              "ticks": ""
             }
            },
            "type": "scatterpolar"
           }
          ],
          "scatterpolargl": [
           {
            "marker": {
             "colorbar": {
              "outlinewidth": 0,
              "ticks": ""
             }
            },
            "type": "scatterpolargl"
           }
          ],
          "scatterternary": [
           {
            "marker": {
             "colorbar": {
              "outlinewidth": 0,
              "ticks": ""
             }
            },
            "type": "scatterternary"
           }
          ],
          "surface": [
           {
            "colorbar": {
             "outlinewidth": 0,
             "ticks": ""
            },
            "colorscale": [
             [
              0,
              "#0d0887"
             ],
             [
              0.1111111111111111,
              "#46039f"
             ],
             [
              0.2222222222222222,
              "#7201a8"
             ],
             [
              0.3333333333333333,
              "#9c179e"
             ],
             [
              0.4444444444444444,
              "#bd3786"
             ],
             [
              0.5555555555555556,
              "#d8576b"
             ],
             [
              0.6666666666666666,
              "#ed7953"
             ],
             [
              0.7777777777777778,
              "#fb9f3a"
             ],
             [
              0.8888888888888888,
              "#fdca26"
             ],
             [
              1,
              "#f0f921"
             ]
            ],
            "type": "surface"
           }
          ],
          "table": [
           {
            "cells": {
             "fill": {
              "color": "#EBF0F8"
             },
             "line": {
              "color": "white"
             }
            },
            "header": {
             "fill": {
              "color": "#C8D4E3"
             },
             "line": {
              "color": "white"
             }
            },
            "type": "table"
           }
          ]
         },
         "layout": {
          "annotationdefaults": {
           "arrowcolor": "#2a3f5f",
           "arrowhead": 0,
           "arrowwidth": 1
          },
          "coloraxis": {
           "colorbar": {
            "outlinewidth": 0,
            "ticks": ""
           }
          },
          "colorscale": {
           "diverging": [
            [
             0,
             "#8e0152"
            ],
            [
             0.1,
             "#c51b7d"
            ],
            [
             0.2,
             "#de77ae"
            ],
            [
             0.3,
             "#f1b6da"
            ],
            [
             0.4,
             "#fde0ef"
            ],
            [
             0.5,
             "#f7f7f7"
            ],
            [
             0.6,
             "#e6f5d0"
            ],
            [
             0.7,
             "#b8e186"
            ],
            [
             0.8,
             "#7fbc41"
            ],
            [
             0.9,
             "#4d9221"
            ],
            [
             1,
             "#276419"
            ]
           ],
           "sequential": [
            [
             0,
             "#0d0887"
            ],
            [
             0.1111111111111111,
             "#46039f"
            ],
            [
             0.2222222222222222,
             "#7201a8"
            ],
            [
             0.3333333333333333,
             "#9c179e"
            ],
            [
             0.4444444444444444,
             "#bd3786"
            ],
            [
             0.5555555555555556,
             "#d8576b"
            ],
            [
             0.6666666666666666,
             "#ed7953"
            ],
            [
             0.7777777777777778,
             "#fb9f3a"
            ],
            [
             0.8888888888888888,
             "#fdca26"
            ],
            [
             1,
             "#f0f921"
            ]
           ],
           "sequentialminus": [
            [
             0,
             "#0d0887"
            ],
            [
             0.1111111111111111,
             "#46039f"
            ],
            [
             0.2222222222222222,
             "#7201a8"
            ],
            [
             0.3333333333333333,
             "#9c179e"
            ],
            [
             0.4444444444444444,
             "#bd3786"
            ],
            [
             0.5555555555555556,
             "#d8576b"
            ],
            [
             0.6666666666666666,
             "#ed7953"
            ],
            [
             0.7777777777777778,
             "#fb9f3a"
            ],
            [
             0.8888888888888888,
             "#fdca26"
            ],
            [
             1,
             "#f0f921"
            ]
           ]
          },
          "colorway": [
           "#636efa",
           "#EF553B",
           "#00cc96",
           "#ab63fa",
           "#FFA15A",
           "#19d3f3",
           "#FF6692",
           "#B6E880",
           "#FF97FF",
           "#FECB52"
          ],
          "font": {
           "color": "#2a3f5f"
          },
          "geo": {
           "bgcolor": "white",
           "lakecolor": "white",
           "landcolor": "#E5ECF6",
           "showlakes": true,
           "showland": true,
           "subunitcolor": "white"
          },
          "hoverlabel": {
           "align": "left"
          },
          "hovermode": "closest",
          "mapbox": {
           "style": "light"
          },
          "paper_bgcolor": "white",
          "plot_bgcolor": "#E5ECF6",
          "polar": {
           "angularaxis": {
            "gridcolor": "white",
            "linecolor": "white",
            "ticks": ""
           },
           "bgcolor": "#E5ECF6",
           "radialaxis": {
            "gridcolor": "white",
            "linecolor": "white",
            "ticks": ""
           }
          },
          "scene": {
           "xaxis": {
            "backgroundcolor": "#E5ECF6",
            "gridcolor": "white",
            "gridwidth": 2,
            "linecolor": "white",
            "showbackground": true,
            "ticks": "",
            "zerolinecolor": "white"
           },
           "yaxis": {
            "backgroundcolor": "#E5ECF6",
            "gridcolor": "white",
            "gridwidth": 2,
            "linecolor": "white",
            "showbackground": true,
            "ticks": "",
            "zerolinecolor": "white"
           },
           "zaxis": {
            "backgroundcolor": "#E5ECF6",
            "gridcolor": "white",
            "gridwidth": 2,
            "linecolor": "white",
            "showbackground": true,
            "ticks": "",
            "zerolinecolor": "white"
           }
          },
          "shapedefaults": {
           "line": {
            "color": "#2a3f5f"
           }
          },
          "ternary": {
           "aaxis": {
            "gridcolor": "white",
            "linecolor": "white",
            "ticks": ""
           },
           "baxis": {
            "gridcolor": "white",
            "linecolor": "white",
            "ticks": ""
           },
           "bgcolor": "#E5ECF6",
           "caxis": {
            "gridcolor": "white",
            "linecolor": "white",
            "ticks": ""
           }
          },
          "title": {
           "x": 0.05
          },
          "xaxis": {
           "automargin": true,
           "gridcolor": "white",
           "linecolor": "white",
           "ticks": "",
           "title": {
            "standoff": 15
           },
           "zerolinecolor": "white",
           "zerolinewidth": 2
          },
          "yaxis": {
           "automargin": true,
           "gridcolor": "white",
           "linecolor": "white",
           "ticks": "",
           "title": {
            "standoff": 15
           },
           "zerolinecolor": "white",
           "zerolinewidth": 2
          }
         }
        },
        "xaxis": {
         "title": {
          "text": "Count"
         }
        },
        "yaxis": {
         "domain": [
          0.6,
          1
         ],
         "title": {
          "text": "Popularity"
         }
        }
       },
       "_model_module_version": "1.5.4",
       "_py2js_addTraces": {},
       "_py2js_animate": {},
       "_py2js_deleteTraces": {},
       "_py2js_moveTraces": {},
       "_py2js_removeLayoutProps": {},
       "_py2js_removeTraceProps": {},
       "_view_count": 0,
       "_view_module_version": "1.5.4"
      }
     },
     "e4188769a08640ceaf857047ff9b03e1": {
      "model_module": "@jupyter-widgets/controls",
      "model_module_version": "1.5.0",
      "model_name": "VBoxModel",
      "state": {
       "children": [
        "IPY_MODEL_3d3cf11866be46388d79d0e6f3fe8b03",
        "IPY_MODEL_e868bcda2f2e4171a2878fa5024e7226"
       ],
       "layout": "IPY_MODEL_74697b9efdb84493bb436f2efe3b4b54"
      }
     },
     "e6949622b6824cc18939c9e9dd26c7d6": {
      "buffers": [
       {
        "data": "AAAAAAAAAAAAAAEAAAAAAAAAAAAAAAAAAAAAAAAAAAAAAAEAAAAAAAAAAAAAAAAAAAEAAAEAAAABAAEAAAAAAAABAAEAAAAAAAAAAQAAAAAAAAAAAAAAAAAAAAAAAAEAAAAAAAAAAAAAAAAAAAAAAAAAAAAA",
        "encoding": "base64",
        "path": [
         "_data",
         0,
         "marker",
         "color",
         "value"
        ]
       },
       {
        "data": "AAAAAACAOkAAAAAAAABCQAAAAAAAwENAAAAAAAAAMkAAAAAAAIBEQAAAAAAAgE1AAAAAAACAS0AAAAAAAEBEQAAAAAAAAFBAAAAAAAAAT0AAAAAAAIBDQAAAAAAAAFBAAAAAAAAATkAAAAAAAIBDQAAAAAAAAC5AAAAAAACASkAAAAAAAMBEQAAAAAAAgExAAAAAAADAQ0AAAAAAAABMQAAAAAAAgEBAAAAAAAAAAEAAAAAAAIBGQAAAAAAAgExAAAAAAABAQUAAAAAAAIBCQAAAAAAAAERAAAAAAAAAOkAAAAAAAMBCQAAAAAAAAExAAAAAAACAUUAAAAAAAABIQAAAAAAAAFBAAAAAAADAS0AAAAAAAABJQAAAAAAAwE9AAAAAAACAT0AAAAAAAEBEQAAAAAAAACBAAAAAAAAATEAAAAAAAIBCQAAAAAAAgEpAAAAAAAAARUAAAAAAAIBLQAAAAAAAACZAAAAAAACAQEAAAAAAAIBEQAAAAAAAwE5AAAAAAAAAP0AAAAAAAABCQAAAAAAAgEZAAAAAAADAQkAAAAAAAABKQAAAAAAAwFFAAAAAAACgUUAAAAAAAIBHQAAAAAAAQEhAAAAAAABATUAAAAAAAIBKQAAAAAAAQFJAAAAAAAAAUkAAAAAAAEBHQAAAAAAAAE1AAAAAAABATEAAAAAAAABCQAAAAAAAAElAAAAAAAAARUAAAAAAAIBIQAAAAAAAAEZAAAAAAAAARUAAAAAAAABDQAAAAAAAgEtAAAAAAAAAQkAAAAAAAABEQAAAAAAAAEpAAAAAAAAARUAAAAAAAABSQAAAAAAAQE5AAAAAAADAUEAAAAAAAIBGQAAAAAAAAExAAAAAAAAARkAAAAAAAIBKQAAAAAAAwFFAAAAAAABAT0AAAAAAAEBHQAAAAAAAgDJAAAAAAACAUEAAAAAAAABIQAAAAAAAAExAAAAAAACARkAAAAAAAIBLQAAAAAAAgERAAAAAAACAQUAAAAAAAABCQAAAAAAAgENAAAAAAACAQkAAAAAAAIBDQAAAAAAAAEZAAAAAAAAAP0AAAAAAAEBTQAAAAAAAgEZAAAAAAABASUAAAAAAAEBDQAAAAAAAAEVAAAAAAAAAN0AAAAAAAABIQAAAAAAAgFVAAAAAAACARUAAAAAAAAAmQAAAAAAAgElAAAAAAACAR0AAAAAAAIBLQAAAAAAAAEVAAAAAAACAREAAAAAAAEBDQAAAAAAAgElA",
        "encoding": "base64",
        "path": [
         "_data",
         0,
         "y",
         "value"
        ]
       },
       {
        "data": "AAAAAAAAAAAAAAEAAAAAAAAAAAAAAAAAAAAAAAAAAAAAAAEAAAAAAAAAAAAAAAAAAAEAAAEAAAABAAEAAAAAAAABAAEAAAAAAAAAAQAAAAAAAAAAAAAAAAAAAAAAAAEAAAAAAAAAAAAAAAAAAAAAAAAAAAAA",
        "encoding": "base64",
        "path": [
         "_data",
         1,
         "line",
         "color",
         "value"
        ]
       }
      ],
      "model_module": "plotlywidget",
      "model_module_version": "1.5.4",
      "model_name": "FigureModel",
      "state": {
       "_config": {
        "plotlyServerURL": "https://plot.ly"
       },
       "_data": [
        {
         "marker": {
          "cmax": 2.5,
          "cmin": -0.5,
          "color": {
           "dtype": "uint8",
           "shape": [
            117
           ],
           "value": {}
          },
          "colorbar": {
           "ticktext": [
            "None",
            "Red",
            "Blue"
           ],
           "tickvals": [
            0,
            1,
            2
           ]
          },
          "showscale": true
         },
         "mode": "markers",
         "selectedpoints": [
          10,
          34,
          49,
          52,
          56,
          58,
          65,
          67,
          75,
          94
         ],
         "type": "scatter",
         "uid": "0201929b-3885-4bc6-a867-5157fe0eb884",
         "x": [
          70,
          88,
          214,
          126,
          153,
          39,
          37,
          146,
          39,
          136,
          317,
          39,
          52,
          166,
          3,
          130,
          106,
          27,
          128,
          34,
          9,
          20,
          19,
          29,
          32,
          155,
          158,
          141,
          148,
          57,
          41,
          150,
          81,
          162,
          190,
          72,
          132,
          174,
          3,
          155,
          183,
          65,
          131,
          84,
          21,
          22,
          43,
          30,
          56,
          302,
          151,
          246,
          214,
          85,
          76,
          192,
          228,
          174,
          204,
          98,
          137,
          138,
          1,
          176,
          163,
          217,
          57,
          268,
          8,
          19,
          68,
          34,
          652,
          674,
          584,
          411,
          343,
          574,
          396,
          566,
          657,
          110,
          342,
          264,
          510,
          176,
          2,
          419,
          194,
          757,
          68,
          805,
          12,
          105,
          367,
          93,
          39,
          47,
          65,
          33,
          21,
          54,
          26,
          30,
          59,
          7,
          99,
          5,
          75,
          3,
          15,
          5,
          98,
          56,
          3,
          32,
          13
         ],
         "y": {
          "dtype": "float64",
          "shape": [
           117
          ],
          "value": {}
         }
        },
        {
         "dimensions": [
          {
           "label": "year",
           "values": [
            2016,
            2016,
            2016,
            2016,
            2016,
            2016,
            2016,
            2016,
            2016,
            2016,
            2016,
            2016,
            2016,
            2016,
            2016,
            2016,
            2016,
            2016,
            2016,
            2016,
            2016,
            2016,
            2016,
            2016,
            2017,
            2017,
            2017,
            2017,
            2017,
            2017,
            2017,
            2017,
            2017,
            2017,
            2017,
            2017,
            2017,
            2017,
            2017,
            2017,
            2017,
            2017,
            2017,
            2017,
            2017,
            2017,
            2017,
            2017,
            2018,
            2018,
            2018,
            2018,
            2018,
            2018,
            2018,
            2018,
            2018,
            2018,
            2018,
            2018,
            2018,
            2018,
            2018,
            2018,
            2018,
            2018,
            2018,
            2018,
            2018,
            2018,
            2018,
            2018,
            2019,
            2019,
            2019,
            2019,
            2019,
            2019,
            2019,
            2019,
            2019,
            2019,
            2019,
            2019,
            2019,
            2019,
            2019,
            2019,
            2019,
            2019,
            2019,
            2019,
            2019,
            2019,
            2019,
            2019,
            2020,
            2020,
            2020,
            2020,
            2020,
            2020,
            2020,
            2020,
            2020,
            2020,
            2020,
            2020,
            2020,
            2020,
            2020,
            2020,
            2020,
            2020,
            2020,
            2020,
            2020
           ]
          },
          {
           "label": "genre",
           "values": [
            "edm",
            "edm",
            "edm",
            "edm",
            "latin",
            "latin",
            "latin",
            "latin",
            "pop",
            "pop",
            "pop",
            "pop",
            "r&b",
            "r&b",
            "r&b",
            "r&b",
            "rap",
            "rap",
            "rap",
            "rap",
            "rock",
            "rock",
            "rock",
            "rock",
            "edm",
            "edm",
            "edm",
            "edm",
            "latin",
            "latin",
            "latin",
            "latin",
            "pop",
            "pop",
            "pop",
            "pop",
            "r&b",
            "r&b",
            "r&b",
            "r&b",
            "rap",
            "rap",
            "rap",
            "rap",
            "rock",
            "rock",
            "rock",
            "rock",
            "edm",
            "edm",
            "edm",
            "edm",
            "latin",
            "latin",
            "latin",
            "latin",
            "pop",
            "pop",
            "pop",
            "pop",
            "r&b",
            "r&b",
            "r&b",
            "r&b",
            "rap",
            "rap",
            "rap",
            "rap",
            "rock",
            "rock",
            "rock",
            "rock",
            "edm",
            "edm",
            "edm",
            "edm",
            "latin",
            "latin",
            "latin",
            "latin",
            "pop",
            "pop",
            "pop",
            "pop",
            "r&b",
            "r&b",
            "r&b",
            "r&b",
            "rap",
            "rap",
            "rap",
            "rap",
            "rock",
            "rock",
            "rock",
            "rock",
            "edm",
            "edm",
            "edm",
            "edm",
            "latin",
            "latin",
            "latin",
            "latin",
            "pop",
            "pop",
            "pop",
            "pop",
            "r&b",
            "r&b",
            "r&b",
            "rap",
            "rap",
            "rap",
            "rock",
            "rock",
            "rock"
           ]
          },
          {
           "label": "subgenre",
           "values": [
            "big room",
            "electro house",
            "pop edm",
            "progressive electro house",
            "latin hip hop",
            "latin pop",
            "reggaeton",
            "tropical",
            "dance pop",
            "electropop",
            "indie poptimism",
            "post-teen pop",
            "hip pop",
            "neo soul",
            "new jack swing",
            "urban contemporary",
            "gangster rap",
            "hip hop",
            "southern hip hop",
            "trap",
            "album rock",
            "classic rock",
            "hard rock",
            "permanent wave",
            "big room",
            "electro house",
            "pop edm",
            "progressive electro house",
            "latin hip hop",
            "latin pop",
            "reggaeton",
            "tropical",
            "dance pop",
            "electropop",
            "indie poptimism",
            "post-teen pop",
            "hip pop",
            "neo soul",
            "new jack swing",
            "urban contemporary",
            "gangster rap",
            "hip hop",
            "southern hip hop",
            "trap",
            "album rock",
            "classic rock",
            "hard rock",
            "permanent wave",
            "big room",
            "electro house",
            "pop edm",
            "progressive electro house",
            "latin hip hop",
            "latin pop",
            "reggaeton",
            "tropical",
            "dance pop",
            "electropop",
            "indie poptimism",
            "post-teen pop",
            "hip pop",
            "neo soul",
            "new jack swing",
            "urban contemporary",
            "gangster rap",
            "hip hop",
            "southern hip hop",
            "trap",
            "album rock",
            "classic rock",
            "hard rock",
            "permanent wave",
            "big room",
            "electro house",
            "pop edm",
            "progressive electro house",
            "latin hip hop",
            "latin pop",
            "reggaeton",
            "tropical",
            "dance pop",
            "electropop",
            "indie poptimism",
            "post-teen pop",
            "hip pop",
            "neo soul",
            "new jack swing",
            "urban contemporary",
            "gangster rap",
            "hip hop",
            "southern hip hop",
            "trap",
            "album rock",
            "classic rock",
            "hard rock",
            "permanent wave",
            "big room",
            "electro house",
            "pop edm",
            "progressive electro house",
            "latin hip hop",
            "latin pop",
            "reggaeton",
            "tropical",
            "dance pop",
            "electropop",
            "indie poptimism",
            "post-teen pop",
            "hip pop",
            "neo soul",
            "urban contemporary",
            "gangster rap",
            "hip hop",
            "trap",
            "classic rock",
            "hard rock",
            "permanent wave"
           ]
          }
         ],
         "domain": {
          "y": [
           0,
           0.4
          ]
         },
         "line": {
          "cmax": 2.5,
          "cmin": -0.5,
          "color": {
           "dtype": "uint8",
           "shape": [
            117
           ],
           "value": {}
          },
          "shape": "hspline"
         },
         "type": "parcats",
         "uid": "839e53cb-f19f-40b9-82cd-cab97e4213de"
        }
       ],
       "_js2py_restyle": {},
       "_js2py_update": {},
       "_last_layout_edit_id": 4,
       "_last_trace_edit_id": 3,
       "_layout": {
        "autosize": true,
        "dragmode": "lasso",
        "height": 800,
        "hovermode": "closest",
        "template": {
         "data": {
          "bar": [
           {
            "error_x": {
             "color": "#2a3f5f"
            },
            "error_y": {
             "color": "#2a3f5f"
            },
            "marker": {
             "line": {
              "color": "#E5ECF6",
              "width": 0.5
             }
            },
            "type": "bar"
           }
          ],
          "barpolar": [
           {
            "marker": {
             "line": {
              "color": "#E5ECF6",
              "width": 0.5
             }
            },
            "type": "barpolar"
           }
          ],
          "carpet": [
           {
            "aaxis": {
             "endlinecolor": "#2a3f5f",
             "gridcolor": "white",
             "linecolor": "white",
             "minorgridcolor": "white",
             "startlinecolor": "#2a3f5f"
            },
            "baxis": {
             "endlinecolor": "#2a3f5f",
             "gridcolor": "white",
             "linecolor": "white",
             "minorgridcolor": "white",
             "startlinecolor": "#2a3f5f"
            },
            "type": "carpet"
           }
          ],
          "choropleth": [
           {
            "colorbar": {
             "outlinewidth": 0,
             "ticks": ""
            },
            "type": "choropleth"
           }
          ],
          "contour": [
           {
            "colorbar": {
             "outlinewidth": 0,
             "ticks": ""
            },
            "colorscale": [
             [
              0,
              "#0d0887"
             ],
             [
              0.1111111111111111,
              "#46039f"
             ],
             [
              0.2222222222222222,
              "#7201a8"
             ],
             [
              0.3333333333333333,
              "#9c179e"
             ],
             [
              0.4444444444444444,
              "#bd3786"
             ],
             [
              0.5555555555555556,
              "#d8576b"
             ],
             [
              0.6666666666666666,
              "#ed7953"
             ],
             [
              0.7777777777777778,
              "#fb9f3a"
             ],
             [
              0.8888888888888888,
              "#fdca26"
             ],
             [
              1,
              "#f0f921"
             ]
            ],
            "type": "contour"
           }
          ],
          "contourcarpet": [
           {
            "colorbar": {
             "outlinewidth": 0,
             "ticks": ""
            },
            "type": "contourcarpet"
           }
          ],
          "heatmap": [
           {
            "colorbar": {
             "outlinewidth": 0,
             "ticks": ""
            },
            "colorscale": [
             [
              0,
              "#0d0887"
             ],
             [
              0.1111111111111111,
              "#46039f"
             ],
             [
              0.2222222222222222,
              "#7201a8"
             ],
             [
              0.3333333333333333,
              "#9c179e"
             ],
             [
              0.4444444444444444,
              "#bd3786"
             ],
             [
              0.5555555555555556,
              "#d8576b"
             ],
             [
              0.6666666666666666,
              "#ed7953"
             ],
             [
              0.7777777777777778,
              "#fb9f3a"
             ],
             [
              0.8888888888888888,
              "#fdca26"
             ],
             [
              1,
              "#f0f921"
             ]
            ],
            "type": "heatmap"
           }
          ],
          "heatmapgl": [
           {
            "colorbar": {
             "outlinewidth": 0,
             "ticks": ""
            },
            "colorscale": [
             [
              0,
              "#0d0887"
             ],
             [
              0.1111111111111111,
              "#46039f"
             ],
             [
              0.2222222222222222,
              "#7201a8"
             ],
             [
              0.3333333333333333,
              "#9c179e"
             ],
             [
              0.4444444444444444,
              "#bd3786"
             ],
             [
              0.5555555555555556,
              "#d8576b"
             ],
             [
              0.6666666666666666,
              "#ed7953"
             ],
             [
              0.7777777777777778,
              "#fb9f3a"
             ],
             [
              0.8888888888888888,
              "#fdca26"
             ],
             [
              1,
              "#f0f921"
             ]
            ],
            "type": "heatmapgl"
           }
          ],
          "histogram": [
           {
            "marker": {
             "colorbar": {
              "outlinewidth": 0,
              "ticks": ""
             }
            },
            "type": "histogram"
           }
          ],
          "histogram2d": [
           {
            "colorbar": {
             "outlinewidth": 0,
             "ticks": ""
            },
            "colorscale": [
             [
              0,
              "#0d0887"
             ],
             [
              0.1111111111111111,
              "#46039f"
             ],
             [
              0.2222222222222222,
              "#7201a8"
             ],
             [
              0.3333333333333333,
              "#9c179e"
             ],
             [
              0.4444444444444444,
              "#bd3786"
             ],
             [
              0.5555555555555556,
              "#d8576b"
             ],
             [
              0.6666666666666666,
              "#ed7953"
             ],
             [
              0.7777777777777778,
              "#fb9f3a"
             ],
             [
              0.8888888888888888,
              "#fdca26"
             ],
             [
              1,
              "#f0f921"
             ]
            ],
            "type": "histogram2d"
           }
          ],
          "histogram2dcontour": [
           {
            "colorbar": {
             "outlinewidth": 0,
             "ticks": ""
            },
            "colorscale": [
             [
              0,
              "#0d0887"
             ],
             [
              0.1111111111111111,
              "#46039f"
             ],
             [
              0.2222222222222222,
              "#7201a8"
             ],
             [
              0.3333333333333333,
              "#9c179e"
             ],
             [
              0.4444444444444444,
              "#bd3786"
             ],
             [
              0.5555555555555556,
              "#d8576b"
             ],
             [
              0.6666666666666666,
              "#ed7953"
             ],
             [
              0.7777777777777778,
              "#fb9f3a"
             ],
             [
              0.8888888888888888,
              "#fdca26"
             ],
             [
              1,
              "#f0f921"
             ]
            ],
            "type": "histogram2dcontour"
           }
          ],
          "mesh3d": [
           {
            "colorbar": {
             "outlinewidth": 0,
             "ticks": ""
            },
            "type": "mesh3d"
           }
          ],
          "parcoords": [
           {
            "line": {
             "colorbar": {
              "outlinewidth": 0,
              "ticks": ""
             }
            },
            "type": "parcoords"
           }
          ],
          "pie": [
           {
            "automargin": true,
            "type": "pie"
           }
          ],
          "scatter": [
           {
            "marker": {
             "colorbar": {
              "outlinewidth": 0,
              "ticks": ""
             }
            },
            "type": "scatter"
           }
          ],
          "scatter3d": [
           {
            "line": {
             "colorbar": {
              "outlinewidth": 0,
              "ticks": ""
             }
            },
            "marker": {
             "colorbar": {
              "outlinewidth": 0,
              "ticks": ""
             }
            },
            "type": "scatter3d"
           }
          ],
          "scattercarpet": [
           {
            "marker": {
             "colorbar": {
              "outlinewidth": 0,
              "ticks": ""
             }
            },
            "type": "scattercarpet"
           }
          ],
          "scattergeo": [
           {
            "marker": {
             "colorbar": {
              "outlinewidth": 0,
              "ticks": ""
             }
            },
            "type": "scattergeo"
           }
          ],
          "scattergl": [
           {
            "marker": {
             "colorbar": {
              "outlinewidth": 0,
              "ticks": ""
             }
            },
            "type": "scattergl"
           }
          ],
          "scattermapbox": [
           {
            "marker": {
             "colorbar": {
              "outlinewidth": 0,
              "ticks": ""
             }
            },
            "type": "scattermapbox"
           }
          ],
          "scatterpolar": [
           {
            "marker": {
             "colorbar": {
              "outlinewidth": 0,
              "ticks": ""
             }
            },
            "type": "scatterpolar"
           }
          ],
          "scatterpolargl": [
           {
            "marker": {
             "colorbar": {
              "outlinewidth": 0,
              "ticks": ""
             }
            },
            "type": "scatterpolargl"
           }
          ],
          "scatterternary": [
           {
            "marker": {
             "colorbar": {
              "outlinewidth": 0,
              "ticks": ""
             }
            },
            "type": "scatterternary"
           }
          ],
          "surface": [
           {
            "colorbar": {
             "outlinewidth": 0,
             "ticks": ""
            },
            "colorscale": [
             [
              0,
              "#0d0887"
             ],
             [
              0.1111111111111111,
              "#46039f"
             ],
             [
              0.2222222222222222,
              "#7201a8"
             ],
             [
              0.3333333333333333,
              "#9c179e"
             ],
             [
              0.4444444444444444,
              "#bd3786"
             ],
             [
              0.5555555555555556,
              "#d8576b"
             ],
             [
              0.6666666666666666,
              "#ed7953"
             ],
             [
              0.7777777777777778,
              "#fb9f3a"
             ],
             [
              0.8888888888888888,
              "#fdca26"
             ],
             [
              1,
              "#f0f921"
             ]
            ],
            "type": "surface"
           }
          ],
          "table": [
           {
            "cells": {
             "fill": {
              "color": "#EBF0F8"
             },
             "line": {
              "color": "white"
             }
            },
            "header": {
             "fill": {
              "color": "#C8D4E3"
             },
             "line": {
              "color": "white"
             }
            },
            "type": "table"
           }
          ]
         },
         "layout": {
          "annotationdefaults": {
           "arrowcolor": "#2a3f5f",
           "arrowhead": 0,
           "arrowwidth": 1
          },
          "coloraxis": {
           "colorbar": {
            "outlinewidth": 0,
            "ticks": ""
           }
          },
          "colorscale": {
           "diverging": [
            [
             0,
             "#8e0152"
            ],
            [
             0.1,
             "#c51b7d"
            ],
            [
             0.2,
             "#de77ae"
            ],
            [
             0.3,
             "#f1b6da"
            ],
            [
             0.4,
             "#fde0ef"
            ],
            [
             0.5,
             "#f7f7f7"
            ],
            [
             0.6,
             "#e6f5d0"
            ],
            [
             0.7,
             "#b8e186"
            ],
            [
             0.8,
             "#7fbc41"
            ],
            [
             0.9,
             "#4d9221"
            ],
            [
             1,
             "#276419"
            ]
           ],
           "sequential": [
            [
             0,
             "#0d0887"
            ],
            [
             0.1111111111111111,
             "#46039f"
            ],
            [
             0.2222222222222222,
             "#7201a8"
            ],
            [
             0.3333333333333333,
             "#9c179e"
            ],
            [
             0.4444444444444444,
             "#bd3786"
            ],
            [
             0.5555555555555556,
             "#d8576b"
            ],
            [
             0.6666666666666666,
             "#ed7953"
            ],
            [
             0.7777777777777778,
             "#fb9f3a"
            ],
            [
             0.8888888888888888,
             "#fdca26"
            ],
            [
             1,
             "#f0f921"
            ]
           ],
           "sequentialminus": [
            [
             0,
             "#0d0887"
            ],
            [
             0.1111111111111111,
             "#46039f"
            ],
            [
             0.2222222222222222,
             "#7201a8"
            ],
            [
             0.3333333333333333,
             "#9c179e"
            ],
            [
             0.4444444444444444,
             "#bd3786"
            ],
            [
             0.5555555555555556,
             "#d8576b"
            ],
            [
             0.6666666666666666,
             "#ed7953"
            ],
            [
             0.7777777777777778,
             "#fb9f3a"
            ],
            [
             0.8888888888888888,
             "#fdca26"
            ],
            [
             1,
             "#f0f921"
            ]
           ]
          },
          "colorway": [
           "#636efa",
           "#EF553B",
           "#00cc96",
           "#ab63fa",
           "#FFA15A",
           "#19d3f3",
           "#FF6692",
           "#B6E880",
           "#FF97FF",
           "#FECB52"
          ],
          "font": {
           "color": "#2a3f5f"
          },
          "geo": {
           "bgcolor": "white",
           "lakecolor": "white",
           "landcolor": "#E5ECF6",
           "showlakes": true,
           "showland": true,
           "subunitcolor": "white"
          },
          "hoverlabel": {
           "align": "left"
          },
          "hovermode": "closest",
          "mapbox": {
           "style": "light"
          },
          "paper_bgcolor": "white",
          "plot_bgcolor": "#E5ECF6",
          "polar": {
           "angularaxis": {
            "gridcolor": "white",
            "linecolor": "white",
            "ticks": ""
           },
           "bgcolor": "#E5ECF6",
           "radialaxis": {
            "gridcolor": "white",
            "linecolor": "white",
            "ticks": ""
           }
          },
          "scene": {
           "xaxis": {
            "backgroundcolor": "#E5ECF6",
            "gridcolor": "white",
            "gridwidth": 2,
            "linecolor": "white",
            "showbackground": true,
            "ticks": "",
            "zerolinecolor": "white"
           },
           "yaxis": {
            "backgroundcolor": "#E5ECF6",
            "gridcolor": "white",
            "gridwidth": 2,
            "linecolor": "white",
            "showbackground": true,
            "ticks": "",
            "zerolinecolor": "white"
           },
           "zaxis": {
            "backgroundcolor": "#E5ECF6",
            "gridcolor": "white",
            "gridwidth": 2,
            "linecolor": "white",
            "showbackground": true,
            "ticks": "",
            "zerolinecolor": "white"
           }
          },
          "shapedefaults": {
           "line": {
            "color": "#2a3f5f"
           }
          },
          "ternary": {
           "aaxis": {
            "gridcolor": "white",
            "linecolor": "white",
            "ticks": ""
           },
           "baxis": {
            "gridcolor": "white",
            "linecolor": "white",
            "ticks": ""
           },
           "bgcolor": "#E5ECF6",
           "caxis": {
            "gridcolor": "white",
            "linecolor": "white",
            "ticks": ""
           }
          },
          "title": {
           "x": 0.05
          },
          "xaxis": {
           "automargin": true,
           "gridcolor": "white",
           "linecolor": "white",
           "ticks": "",
           "title": {
            "standoff": 15
           },
           "zerolinecolor": "white",
           "zerolinewidth": 2
          },
          "yaxis": {
           "automargin": true,
           "gridcolor": "white",
           "linecolor": "white",
           "ticks": "",
           "title": {
            "standoff": 15
           },
           "zerolinecolor": "white",
           "zerolinewidth": 2
          }
         }
        },
        "xaxis": {
         "title": {
          "text": "Count"
         }
        },
        "yaxis": {
         "domain": [
          0.6,
          1
         ],
         "title": {
          "text": "Popularity"
         }
        }
       },
       "_model_module_version": "1.5.4",
       "_py2js_addTraces": {},
       "_py2js_animate": {},
       "_py2js_deleteTraces": {},
       "_py2js_moveTraces": {},
       "_py2js_removeLayoutProps": {},
       "_view_count": 0,
       "_view_module_version": "1.5.4"
      }
     },
     "e868bcda2f2e4171a2878fa5024e7226": {
      "buffers": [
       {
        "data": "AAAAAAAAAAAAAAAAAAAAAAAAAAAAAAAAAAAAAAAAAAAAAAAAAAAAAAAAAAAAAAAAAAAAAAAAAAAAAAAAAAAAAAAAAAAAAAAAAAAAAAAAAAAAAAAAAAAAAAAAAAAAAAAAAAAAAAAAAAAAAAAAAAAAAAAAAAAA",
        "encoding": "base64",
        "path": [
         "_data",
         0,
         "marker",
         "color",
         "value"
        ]
       },
       {
        "data": "AAAAAACAOkAAAAAAAABCQAAAAAAAwENAAAAAAAAAMkAAAAAAAIBEQAAAAAAAgE1AAAAAAACAS0AAAAAAAEBEQAAAAAAAAFBAAAAAAAAAT0AAAAAAAIBDQAAAAAAAAFBAAAAAAAAATkAAAAAAAIBDQAAAAAAAAC5AAAAAAACASkAAAAAAAMBEQAAAAAAAgExAAAAAAADAQ0AAAAAAAABMQAAAAAAAgEBAAAAAAAAAAEAAAAAAAIBGQAAAAAAAgExAAAAAAABAQUAAAAAAAIBCQAAAAAAAAERAAAAAAAAAOkAAAAAAAMBCQAAAAAAAAExAAAAAAACAUUAAAAAAAABIQAAAAAAAAFBAAAAAAADAS0AAAAAAAABJQAAAAAAAwE9AAAAAAACAT0AAAAAAAEBEQAAAAAAAACBAAAAAAAAATEAAAAAAAIBCQAAAAAAAgEpAAAAAAAAARUAAAAAAAIBLQAAAAAAAACZAAAAAAACAQEAAAAAAAIBEQAAAAAAAwE5AAAAAAAAAP0AAAAAAAABCQAAAAAAAgEZAAAAAAADAQkAAAAAAAABKQAAAAAAAwFFAAAAAAACgUUAAAAAAAIBHQAAAAAAAQEhAAAAAAABATUAAAAAAAIBKQAAAAAAAQFJAAAAAAAAAUkAAAAAAAEBHQAAAAAAAAE1AAAAAAABATEAAAAAAAABCQAAAAAAAAElAAAAAAAAARUAAAAAAAIBIQAAAAAAAAEZAAAAAAAAARUAAAAAAAABDQAAAAAAAgEtAAAAAAAAAQkAAAAAAAABEQAAAAAAAAEpAAAAAAAAARUAAAAAAAABSQAAAAAAAQE5AAAAAAADAUEAAAAAAAIBGQAAAAAAAAExAAAAAAAAARkAAAAAAAIBKQAAAAAAAwFFAAAAAAABAT0AAAAAAAEBHQAAAAAAAgDJAAAAAAACAUEAAAAAAAABIQAAAAAAAAExAAAAAAACARkAAAAAAAIBLQAAAAAAAgERAAAAAAACAQUAAAAAAAABCQAAAAAAAgENAAAAAAACAQkAAAAAAAIBDQAAAAAAAAEZAAAAAAAAAP0AAAAAAAEBTQAAAAAAAgEZAAAAAAABASUAAAAAAAEBDQAAAAAAAAEVAAAAAAAAAN0AAAAAAAABIQAAAAAAAgFVAAAAAAACARUAAAAAAAAAmQAAAAAAAgElAAAAAAACAR0AAAAAAAIBLQAAAAAAAAEVAAAAAAACAREAAAAAAAEBDQAAAAAAAgElA",
        "encoding": "base64",
        "path": [
         "_data",
         0,
         "y",
         "value"
        ]
       },
       {
        "data": "AAAAAAAAAAAAAAAAAAAAAAAAAAAAAAAAAAAAAAAAAAAAAAAAAAAAAAAAAAAAAAAAAAAAAAAAAAAAAAAAAAAAAAAAAAAAAAAAAAAAAAAAAAAAAAAAAAAAAAAAAAAAAAAAAAAAAAAAAAAAAAAAAAAAAAAAAAAA",
        "encoding": "base64",
        "path": [
         "_data",
         1,
         "line",
         "color",
         "value"
        ]
       }
      ],
      "model_module": "plotlywidget",
      "model_module_version": "1.5.4",
      "model_name": "FigureModel",
      "state": {
       "_config": {
        "plotlyServerURL": "https://plot.ly"
       },
       "_data": [
        {
         "marker": {
          "cmax": 2.5,
          "cmin": -0.5,
          "color": {
           "dtype": "uint8",
           "shape": [
            117
           ],
           "value": {}
          },
          "colorbar": {
           "ticktext": [
            "None",
            "Red",
            "Blue"
           ],
           "tickvals": [
            0,
            1,
            2
           ]
          },
          "colorscale": [
           [
            0,
            "#FAEA74"
           ],
           [
            0.33,
            "gray"
           ],
           [
            0.33,
            "#A02A61"
           ],
           [
            0.66,
            "firebrick"
           ],
           [
            0.66,
            "blue"
           ],
           [
            1,
            "blue"
           ]
          ],
          "showscale": true
         },
         "mode": "markers",
         "type": "scatter",
         "uid": "84652506-5d7b-4206-aa17-e941c28ba008",
         "x": [
          70,
          88,
          214,
          126,
          153,
          39,
          37,
          146,
          39,
          136,
          317,
          39,
          52,
          166,
          3,
          130,
          106,
          27,
          128,
          34,
          9,
          20,
          19,
          29,
          32,
          155,
          158,
          141,
          148,
          57,
          41,
          150,
          81,
          162,
          190,
          72,
          132,
          174,
          3,
          155,
          183,
          65,
          131,
          84,
          21,
          22,
          43,
          30,
          56,
          302,
          151,
          246,
          214,
          85,
          76,
          192,
          228,
          174,
          204,
          98,
          137,
          138,
          1,
          176,
          163,
          217,
          57,
          268,
          8,
          19,
          68,
          34,
          652,
          674,
          584,
          411,
          343,
          574,
          396,
          566,
          657,
          110,
          342,
          264,
          510,
          176,
          2,
          419,
          194,
          757,
          68,
          805,
          12,
          105,
          367,
          93,
          39,
          47,
          65,
          33,
          21,
          54,
          26,
          30,
          59,
          7,
          99,
          5,
          75,
          3,
          15,
          5,
          98,
          56,
          3,
          32,
          13
         ],
         "y": {
          "dtype": "float64",
          "shape": [
           117
          ],
          "value": {}
         }
        },
        {
         "dimensions": [
          {
           "label": "year",
           "values": [
            2016,
            2016,
            2016,
            2016,
            2016,
            2016,
            2016,
            2016,
            2016,
            2016,
            2016,
            2016,
            2016,
            2016,
            2016,
            2016,
            2016,
            2016,
            2016,
            2016,
            2016,
            2016,
            2016,
            2016,
            2017,
            2017,
            2017,
            2017,
            2017,
            2017,
            2017,
            2017,
            2017,
            2017,
            2017,
            2017,
            2017,
            2017,
            2017,
            2017,
            2017,
            2017,
            2017,
            2017,
            2017,
            2017,
            2017,
            2017,
            2018,
            2018,
            2018,
            2018,
            2018,
            2018,
            2018,
            2018,
            2018,
            2018,
            2018,
            2018,
            2018,
            2018,
            2018,
            2018,
            2018,
            2018,
            2018,
            2018,
            2018,
            2018,
            2018,
            2018,
            2019,
            2019,
            2019,
            2019,
            2019,
            2019,
            2019,
            2019,
            2019,
            2019,
            2019,
            2019,
            2019,
            2019,
            2019,
            2019,
            2019,
            2019,
            2019,
            2019,
            2019,
            2019,
            2019,
            2019,
            2020,
            2020,
            2020,
            2020,
            2020,
            2020,
            2020,
            2020,
            2020,
            2020,
            2020,
            2020,
            2020,
            2020,
            2020,
            2020,
            2020,
            2020,
            2020,
            2020,
            2020
           ]
          },
          {
           "label": "genre",
           "values": [
            "edm",
            "edm",
            "edm",
            "edm",
            "latin",
            "latin",
            "latin",
            "latin",
            "pop",
            "pop",
            "pop",
            "pop",
            "r&b",
            "r&b",
            "r&b",
            "r&b",
            "rap",
            "rap",
            "rap",
            "rap",
            "rock",
            "rock",
            "rock",
            "rock",
            "edm",
            "edm",
            "edm",
            "edm",
            "latin",
            "latin",
            "latin",
            "latin",
            "pop",
            "pop",
            "pop",
            "pop",
            "r&b",
            "r&b",
            "r&b",
            "r&b",
            "rap",
            "rap",
            "rap",
            "rap",
            "rock",
            "rock",
            "rock",
            "rock",
            "edm",
            "edm",
            "edm",
            "edm",
            "latin",
            "latin",
            "latin",
            "latin",
            "pop",
            "pop",
            "pop",
            "pop",
            "r&b",
            "r&b",
            "r&b",
            "r&b",
            "rap",
            "rap",
            "rap",
            "rap",
            "rock",
            "rock",
            "rock",
            "rock",
            "edm",
            "edm",
            "edm",
            "edm",
            "latin",
            "latin",
            "latin",
            "latin",
            "pop",
            "pop",
            "pop",
            "pop",
            "r&b",
            "r&b",
            "r&b",
            "r&b",
            "rap",
            "rap",
            "rap",
            "rap",
            "rock",
            "rock",
            "rock",
            "rock",
            "edm",
            "edm",
            "edm",
            "edm",
            "latin",
            "latin",
            "latin",
            "latin",
            "pop",
            "pop",
            "pop",
            "pop",
            "r&b",
            "r&b",
            "r&b",
            "rap",
            "rap",
            "rap",
            "rock",
            "rock",
            "rock"
           ]
          },
          {
           "label": "subgenre",
           "values": [
            "big room",
            "electro house",
            "pop edm",
            "progressive electro house",
            "latin hip hop",
            "latin pop",
            "reggaeton",
            "tropical",
            "dance pop",
            "electropop",
            "indie poptimism",
            "post-teen pop",
            "hip pop",
            "neo soul",
            "new jack swing",
            "urban contemporary",
            "gangster rap",
            "hip hop",
            "southern hip hop",
            "trap",
            "album rock",
            "classic rock",
            "hard rock",
            "permanent wave",
            "big room",
            "electro house",
            "pop edm",
            "progressive electro house",
            "latin hip hop",
            "latin pop",
            "reggaeton",
            "tropical",
            "dance pop",
            "electropop",
            "indie poptimism",
            "post-teen pop",
            "hip pop",
            "neo soul",
            "new jack swing",
            "urban contemporary",
            "gangster rap",
            "hip hop",
            "southern hip hop",
            "trap",
            "album rock",
            "classic rock",
            "hard rock",
            "permanent wave",
            "big room",
            "electro house",
            "pop edm",
            "progressive electro house",
            "latin hip hop",
            "latin pop",
            "reggaeton",
            "tropical",
            "dance pop",
            "electropop",
            "indie poptimism",
            "post-teen pop",
            "hip pop",
            "neo soul",
            "new jack swing",
            "urban contemporary",
            "gangster rap",
            "hip hop",
            "southern hip hop",
            "trap",
            "album rock",
            "classic rock",
            "hard rock",
            "permanent wave",
            "big room",
            "electro house",
            "pop edm",
            "progressive electro house",
            "latin hip hop",
            "latin pop",
            "reggaeton",
            "tropical",
            "dance pop",
            "electropop",
            "indie poptimism",
            "post-teen pop",
            "hip pop",
            "neo soul",
            "new jack swing",
            "urban contemporary",
            "gangster rap",
            "hip hop",
            "southern hip hop",
            "trap",
            "album rock",
            "classic rock",
            "hard rock",
            "permanent wave",
            "big room",
            "electro house",
            "pop edm",
            "progressive electro house",
            "latin hip hop",
            "latin pop",
            "reggaeton",
            "tropical",
            "dance pop",
            "electropop",
            "indie poptimism",
            "post-teen pop",
            "hip pop",
            "neo soul",
            "urban contemporary",
            "gangster rap",
            "hip hop",
            "trap",
            "classic rock",
            "hard rock",
            "permanent wave"
           ]
          }
         ],
         "domain": {
          "y": [
           0,
           0.4
          ]
         },
         "line": {
          "cmax": 2.5,
          "cmin": -0.5,
          "color": {
           "dtype": "uint8",
           "shape": [
            117
           ],
           "value": {}
          },
          "colorscale": [
           [
            0,
            "#FAEA74"
           ],
           [
            0.33,
            "gray"
           ],
           [
            0.33,
            "#A02A61"
           ],
           [
            0.66,
            "firebrick"
           ],
           [
            0.66,
            "blue"
           ],
           [
            1,
            "blue"
           ]
          ],
          "shape": "hspline"
         },
         "type": "parcats",
         "uid": "037a9566-5a39-46fe-a525-73cb6b6cbec3"
        }
       ],
       "_js2py_restyle": {},
       "_js2py_update": {},
       "_last_layout_edit_id": 2,
       "_last_trace_edit_id": 1,
       "_layout": {
        "autosize": true,
        "dragmode": "lasso",
        "height": 800,
        "hovermode": "closest",
        "template": {
         "data": {
          "bar": [
           {
            "error_x": {
             "color": "#2a3f5f"
            },
            "error_y": {
             "color": "#2a3f5f"
            },
            "marker": {
             "line": {
              "color": "#E5ECF6",
              "width": 0.5
             }
            },
            "type": "bar"
           }
          ],
          "barpolar": [
           {
            "marker": {
             "line": {
              "color": "#E5ECF6",
              "width": 0.5
             }
            },
            "type": "barpolar"
           }
          ],
          "carpet": [
           {
            "aaxis": {
             "endlinecolor": "#2a3f5f",
             "gridcolor": "white",
             "linecolor": "white",
             "minorgridcolor": "white",
             "startlinecolor": "#2a3f5f"
            },
            "baxis": {
             "endlinecolor": "#2a3f5f",
             "gridcolor": "white",
             "linecolor": "white",
             "minorgridcolor": "white",
             "startlinecolor": "#2a3f5f"
            },
            "type": "carpet"
           }
          ],
          "choropleth": [
           {
            "colorbar": {
             "outlinewidth": 0,
             "ticks": ""
            },
            "type": "choropleth"
           }
          ],
          "contour": [
           {
            "colorbar": {
             "outlinewidth": 0,
             "ticks": ""
            },
            "colorscale": [
             [
              0,
              "#0d0887"
             ],
             [
              0.1111111111111111,
              "#46039f"
             ],
             [
              0.2222222222222222,
              "#7201a8"
             ],
             [
              0.3333333333333333,
              "#9c179e"
             ],
             [
              0.4444444444444444,
              "#bd3786"
             ],
             [
              0.5555555555555556,
              "#d8576b"
             ],
             [
              0.6666666666666666,
              "#ed7953"
             ],
             [
              0.7777777777777778,
              "#fb9f3a"
             ],
             [
              0.8888888888888888,
              "#fdca26"
             ],
             [
              1,
              "#f0f921"
             ]
            ],
            "type": "contour"
           }
          ],
          "contourcarpet": [
           {
            "colorbar": {
             "outlinewidth": 0,
             "ticks": ""
            },
            "type": "contourcarpet"
           }
          ],
          "heatmap": [
           {
            "colorbar": {
             "outlinewidth": 0,
             "ticks": ""
            },
            "colorscale": [
             [
              0,
              "#0d0887"
             ],
             [
              0.1111111111111111,
              "#46039f"
             ],
             [
              0.2222222222222222,
              "#7201a8"
             ],
             [
              0.3333333333333333,
              "#9c179e"
             ],
             [
              0.4444444444444444,
              "#bd3786"
             ],
             [
              0.5555555555555556,
              "#d8576b"
             ],
             [
              0.6666666666666666,
              "#ed7953"
             ],
             [
              0.7777777777777778,
              "#fb9f3a"
             ],
             [
              0.8888888888888888,
              "#fdca26"
             ],
             [
              1,
              "#f0f921"
             ]
            ],
            "type": "heatmap"
           }
          ],
          "heatmapgl": [
           {
            "colorbar": {
             "outlinewidth": 0,
             "ticks": ""
            },
            "colorscale": [
             [
              0,
              "#0d0887"
             ],
             [
              0.1111111111111111,
              "#46039f"
             ],
             [
              0.2222222222222222,
              "#7201a8"
             ],
             [
              0.3333333333333333,
              "#9c179e"
             ],
             [
              0.4444444444444444,
              "#bd3786"
             ],
             [
              0.5555555555555556,
              "#d8576b"
             ],
             [
              0.6666666666666666,
              "#ed7953"
             ],
             [
              0.7777777777777778,
              "#fb9f3a"
             ],
             [
              0.8888888888888888,
              "#fdca26"
             ],
             [
              1,
              "#f0f921"
             ]
            ],
            "type": "heatmapgl"
           }
          ],
          "histogram": [
           {
            "marker": {
             "colorbar": {
              "outlinewidth": 0,
              "ticks": ""
             }
            },
            "type": "histogram"
           }
          ],
          "histogram2d": [
           {
            "colorbar": {
             "outlinewidth": 0,
             "ticks": ""
            },
            "colorscale": [
             [
              0,
              "#0d0887"
             ],
             [
              0.1111111111111111,
              "#46039f"
             ],
             [
              0.2222222222222222,
              "#7201a8"
             ],
             [
              0.3333333333333333,
              "#9c179e"
             ],
             [
              0.4444444444444444,
              "#bd3786"
             ],
             [
              0.5555555555555556,
              "#d8576b"
             ],
             [
              0.6666666666666666,
              "#ed7953"
             ],
             [
              0.7777777777777778,
              "#fb9f3a"
             ],
             [
              0.8888888888888888,
              "#fdca26"
             ],
             [
              1,
              "#f0f921"
             ]
            ],
            "type": "histogram2d"
           }
          ],
          "histogram2dcontour": [
           {
            "colorbar": {
             "outlinewidth": 0,
             "ticks": ""
            },
            "colorscale": [
             [
              0,
              "#0d0887"
             ],
             [
              0.1111111111111111,
              "#46039f"
             ],
             [
              0.2222222222222222,
              "#7201a8"
             ],
             [
              0.3333333333333333,
              "#9c179e"
             ],
             [
              0.4444444444444444,
              "#bd3786"
             ],
             [
              0.5555555555555556,
              "#d8576b"
             ],
             [
              0.6666666666666666,
              "#ed7953"
             ],
             [
              0.7777777777777778,
              "#fb9f3a"
             ],
             [
              0.8888888888888888,
              "#fdca26"
             ],
             [
              1,
              "#f0f921"
             ]
            ],
            "type": "histogram2dcontour"
           }
          ],
          "mesh3d": [
           {
            "colorbar": {
             "outlinewidth": 0,
             "ticks": ""
            },
            "type": "mesh3d"
           }
          ],
          "parcoords": [
           {
            "line": {
             "colorbar": {
              "outlinewidth": 0,
              "ticks": ""
             }
            },
            "type": "parcoords"
           }
          ],
          "pie": [
           {
            "automargin": true,
            "type": "pie"
           }
          ],
          "scatter": [
           {
            "marker": {
             "colorbar": {
              "outlinewidth": 0,
              "ticks": ""
             }
            },
            "type": "scatter"
           }
          ],
          "scatter3d": [
           {
            "line": {
             "colorbar": {
              "outlinewidth": 0,
              "ticks": ""
             }
            },
            "marker": {
             "colorbar": {
              "outlinewidth": 0,
              "ticks": ""
             }
            },
            "type": "scatter3d"
           }
          ],
          "scattercarpet": [
           {
            "marker": {
             "colorbar": {
              "outlinewidth": 0,
              "ticks": ""
             }
            },
            "type": "scattercarpet"
           }
          ],
          "scattergeo": [
           {
            "marker": {
             "colorbar": {
              "outlinewidth": 0,
              "ticks": ""
             }
            },
            "type": "scattergeo"
           }
          ],
          "scattergl": [
           {
            "marker": {
             "colorbar": {
              "outlinewidth": 0,
              "ticks": ""
             }
            },
            "type": "scattergl"
           }
          ],
          "scattermapbox": [
           {
            "marker": {
             "colorbar": {
              "outlinewidth": 0,
              "ticks": ""
             }
            },
            "type": "scattermapbox"
           }
          ],
          "scatterpolar": [
           {
            "marker": {
             "colorbar": {
              "outlinewidth": 0,
              "ticks": ""
             }
            },
            "type": "scatterpolar"
           }
          ],
          "scatterpolargl": [
           {
            "marker": {
             "colorbar": {
              "outlinewidth": 0,
              "ticks": ""
             }
            },
            "type": "scatterpolargl"
           }
          ],
          "scatterternary": [
           {
            "marker": {
             "colorbar": {
              "outlinewidth": 0,
              "ticks": ""
             }
            },
            "type": "scatterternary"
           }
          ],
          "surface": [
           {
            "colorbar": {
             "outlinewidth": 0,
             "ticks": ""
            },
            "colorscale": [
             [
              0,
              "#0d0887"
             ],
             [
              0.1111111111111111,
              "#46039f"
             ],
             [
              0.2222222222222222,
              "#7201a8"
             ],
             [
              0.3333333333333333,
              "#9c179e"
             ],
             [
              0.4444444444444444,
              "#bd3786"
             ],
             [
              0.5555555555555556,
              "#d8576b"
             ],
             [
              0.6666666666666666,
              "#ed7953"
             ],
             [
              0.7777777777777778,
              "#fb9f3a"
             ],
             [
              0.8888888888888888,
              "#fdca26"
             ],
             [
              1,
              "#f0f921"
             ]
            ],
            "type": "surface"
           }
          ],
          "table": [
           {
            "cells": {
             "fill": {
              "color": "#EBF0F8"
             },
             "line": {
              "color": "white"
             }
            },
            "header": {
             "fill": {
              "color": "#C8D4E3"
             },
             "line": {
              "color": "white"
             }
            },
            "type": "table"
           }
          ]
         },
         "layout": {
          "annotationdefaults": {
           "arrowcolor": "#2a3f5f",
           "arrowhead": 0,
           "arrowwidth": 1
          },
          "coloraxis": {
           "colorbar": {
            "outlinewidth": 0,
            "ticks": ""
           }
          },
          "colorscale": {
           "diverging": [
            [
             0,
             "#8e0152"
            ],
            [
             0.1,
             "#c51b7d"
            ],
            [
             0.2,
             "#de77ae"
            ],
            [
             0.3,
             "#f1b6da"
            ],
            [
             0.4,
             "#fde0ef"
            ],
            [
             0.5,
             "#f7f7f7"
            ],
            [
             0.6,
             "#e6f5d0"
            ],
            [
             0.7,
             "#b8e186"
            ],
            [
             0.8,
             "#7fbc41"
            ],
            [
             0.9,
             "#4d9221"
            ],
            [
             1,
             "#276419"
            ]
           ],
           "sequential": [
            [
             0,
             "#0d0887"
            ],
            [
             0.1111111111111111,
             "#46039f"
            ],
            [
             0.2222222222222222,
             "#7201a8"
            ],
            [
             0.3333333333333333,
             "#9c179e"
            ],
            [
             0.4444444444444444,
             "#bd3786"
            ],
            [
             0.5555555555555556,
             "#d8576b"
            ],
            [
             0.6666666666666666,
             "#ed7953"
            ],
            [
             0.7777777777777778,
             "#fb9f3a"
            ],
            [
             0.8888888888888888,
             "#fdca26"
            ],
            [
             1,
             "#f0f921"
            ]
           ],
           "sequentialminus": [
            [
             0,
             "#0d0887"
            ],
            [
             0.1111111111111111,
             "#46039f"
            ],
            [
             0.2222222222222222,
             "#7201a8"
            ],
            [
             0.3333333333333333,
             "#9c179e"
            ],
            [
             0.4444444444444444,
             "#bd3786"
            ],
            [
             0.5555555555555556,
             "#d8576b"
            ],
            [
             0.6666666666666666,
             "#ed7953"
            ],
            [
             0.7777777777777778,
             "#fb9f3a"
            ],
            [
             0.8888888888888888,
             "#fdca26"
            ],
            [
             1,
             "#f0f921"
            ]
           ]
          },
          "colorway": [
           "#636efa",
           "#EF553B",
           "#00cc96",
           "#ab63fa",
           "#FFA15A",
           "#19d3f3",
           "#FF6692",
           "#B6E880",
           "#FF97FF",
           "#FECB52"
          ],
          "font": {
           "color": "#2a3f5f"
          },
          "geo": {
           "bgcolor": "white",
           "lakecolor": "white",
           "landcolor": "#E5ECF6",
           "showlakes": true,
           "showland": true,
           "subunitcolor": "white"
          },
          "hoverlabel": {
           "align": "left"
          },
          "hovermode": "closest",
          "mapbox": {
           "style": "light"
          },
          "paper_bgcolor": "white",
          "plot_bgcolor": "#E5ECF6",
          "polar": {
           "angularaxis": {
            "gridcolor": "white",
            "linecolor": "white",
            "ticks": ""
           },
           "bgcolor": "#E5ECF6",
           "radialaxis": {
            "gridcolor": "white",
            "linecolor": "white",
            "ticks": ""
           }
          },
          "scene": {
           "xaxis": {
            "backgroundcolor": "#E5ECF6",
            "gridcolor": "white",
            "gridwidth": 2,
            "linecolor": "white",
            "showbackground": true,
            "ticks": "",
            "zerolinecolor": "white"
           },
           "yaxis": {
            "backgroundcolor": "#E5ECF6",
            "gridcolor": "white",
            "gridwidth": 2,
            "linecolor": "white",
            "showbackground": true,
            "ticks": "",
            "zerolinecolor": "white"
           },
           "zaxis": {
            "backgroundcolor": "#E5ECF6",
            "gridcolor": "white",
            "gridwidth": 2,
            "linecolor": "white",
            "showbackground": true,
            "ticks": "",
            "zerolinecolor": "white"
           }
          },
          "shapedefaults": {
           "line": {
            "color": "#2a3f5f"
           }
          },
          "ternary": {
           "aaxis": {
            "gridcolor": "white",
            "linecolor": "white",
            "ticks": ""
           },
           "baxis": {
            "gridcolor": "white",
            "linecolor": "white",
            "ticks": ""
           },
           "bgcolor": "#E5ECF6",
           "caxis": {
            "gridcolor": "white",
            "linecolor": "white",
            "ticks": ""
           }
          },
          "title": {
           "x": 0.05
          },
          "xaxis": {
           "automargin": true,
           "gridcolor": "white",
           "linecolor": "white",
           "ticks": "",
           "title": {
            "standoff": 15
           },
           "zerolinecolor": "white",
           "zerolinewidth": 2
          },
          "yaxis": {
           "automargin": true,
           "gridcolor": "white",
           "linecolor": "white",
           "ticks": "",
           "title": {
            "standoff": 15
           },
           "zerolinecolor": "white",
           "zerolinewidth": 2
          }
         }
        },
        "xaxis": {
         "title": {
          "text": "Count"
         }
        },
        "yaxis": {
         "domain": [
          0.6,
          1
         ],
         "title": {
          "text": "Popularity"
         }
        }
       },
       "_model_module_version": "1.5.4",
       "_py2js_addTraces": {},
       "_py2js_animate": {},
       "_py2js_deleteTraces": {},
       "_py2js_moveTraces": {},
       "_py2js_removeLayoutProps": {},
       "_py2js_removeTraceProps": {},
       "_py2js_restyle": {},
       "_view_count": 0,
       "_view_module_version": "1.5.4"
      }
     },
     "ec4ae952cd974bb99f93e3da37506398": {
      "model_module": "@jupyter-widgets/base",
      "model_module_version": "1.2.0",
      "model_name": "LayoutModel",
      "state": {}
     },
     "ec758d81f35f428ca047b8f373598127": {
      "buffers": [
       {
        "data": "AQEBAQEAAAEAAQEAAAEAAQEAAQAAAAAAAAEBAQEAAAEAAQEAAQEAAQEAAQEAAAAAAQEBAQEAAAEBAQEAAQEAAQEBAQEAAAEAAAAAAQEAAQAAAQEAAAEAAQEAAQAAAQEBAAEBAAABAAABAAEAAQAAAAEBAAAA",
        "encoding": "base64",
        "path": [
         "_data",
         0,
         "marker",
         "color",
         "value"
        ]
       },
       {
        "data": "AAAAAACAOkAAAAAAAABCQAAAAAAAwENAAAAAAAAAMkAAAAAAAIBEQAAAAAAAgE1AAAAAAACAS0AAAAAAAEBEQAAAAAAAAFBAAAAAAAAAT0AAAAAAAIBDQAAAAAAAAFBAAAAAAAAATkAAAAAAAIBDQAAAAAAAAC5AAAAAAACASkAAAAAAAMBEQAAAAAAAgExAAAAAAADAQ0AAAAAAAABMQAAAAAAAgEBAAAAAAAAAAEAAAAAAAIBGQAAAAAAAgExAAAAAAABAQUAAAAAAAIBCQAAAAAAAAERAAAAAAAAAOkAAAAAAAMBCQAAAAAAAAExAAAAAAACAUUAAAAAAAABIQAAAAAAAAFBAAAAAAADAS0AAAAAAAABJQAAAAAAAwE9AAAAAAACAT0AAAAAAAEBEQAAAAAAAACBAAAAAAAAATEAAAAAAAIBCQAAAAAAAgEpAAAAAAAAARUAAAAAAAIBLQAAAAAAAACZAAAAAAACAQEAAAAAAAIBEQAAAAAAAwE5AAAAAAAAAP0AAAAAAAABCQAAAAAAAgEZAAAAAAADAQkAAAAAAAABKQAAAAAAAwFFAAAAAAACgUUAAAAAAAIBHQAAAAAAAQEhAAAAAAABATUAAAAAAAIBKQAAAAAAAQFJAAAAAAAAAUkAAAAAAAEBHQAAAAAAAAE1AAAAAAABATEAAAAAAAABCQAAAAAAAAElAAAAAAAAARUAAAAAAAIBIQAAAAAAAAEZAAAAAAAAARUAAAAAAAABDQAAAAAAAgEtAAAAAAAAAQkAAAAAAAABEQAAAAAAAAEpAAAAAAAAARUAAAAAAAABSQAAAAAAAQE5AAAAAAADAUEAAAAAAAIBGQAAAAAAAAExAAAAAAAAARkAAAAAAAIBKQAAAAAAAwFFAAAAAAABAT0AAAAAAAEBHQAAAAAAAgDJAAAAAAACAUEAAAAAAAABIQAAAAAAAAExAAAAAAACARkAAAAAAAIBLQAAAAAAAgERAAAAAAACAQUAAAAAAAABCQAAAAAAAgENAAAAAAACAQkAAAAAAAIBDQAAAAAAAAEZAAAAAAAAAP0AAAAAAAEBTQAAAAAAAgEZAAAAAAABASUAAAAAAAEBDQAAAAAAAAEVAAAAAAAAAN0AAAAAAAABIQAAAAAAAgFVAAAAAAACARUAAAAAAAAAmQAAAAAAAgElAAAAAAACAR0AAAAAAAIBLQAAAAAAAAEVAAAAAAACAREAAAAAAAEBDQAAAAAAAgElA",
        "encoding": "base64",
        "path": [
         "_data",
         0,
         "y",
         "value"
        ]
       },
       {
        "data": "AQEBAQEAAAEAAQEAAAEAAQEAAQAAAAAAAAEBAQEAAAEAAQEAAQEAAQEAAQEAAAAAAQEBAQEAAAEBAQEAAQEAAQEBAQEAAAEAAAAAAQEAAQAAAQEAAAEAAQEAAQAAAQEBAAEBAAABAAABAAEAAQAAAAEBAAAA",
        "encoding": "base64",
        "path": [
         "_data",
         1,
         "line",
         "color",
         "value"
        ]
       }
      ],
      "model_module": "plotlywidget",
      "model_module_version": "1.5.4",
      "model_name": "FigureModel",
      "state": {
       "_config": {
        "plotlyServerURL": "https://plot.ly"
       },
       "_data": [
        {
         "marker": {
          "cmax": 2.5,
          "cmin": -0.5,
          "color": {
           "dtype": "uint8",
           "shape": [
            117
           ],
           "value": {}
          },
          "colorbar": {
           "ticktext": [
            "None",
            "Red",
            "Blue"
           ],
           "tickvals": [
            0,
            1,
            2
           ]
          },
          "colorscale": [
           [
            0,
            "#FAEA74"
           ],
           [
            0.33,
            "#FAEA74"
           ],
           [
            0.33,
            "#A02A61"
           ],
           [
            0.66,
            "#A02A61"
           ],
           [
            0.66,
            "#2C0C50"
           ],
           [
            1,
            "#2C0C50"
           ]
          ],
          "showscale": true
         },
         "mode": "markers",
         "selectedpoints": [
          0,
          1,
          2,
          3,
          4,
          7,
          9,
          10,
          13,
          15,
          16,
          18,
          25,
          26,
          27,
          28,
          31,
          33,
          34,
          36,
          37,
          39,
          40,
          42,
          43,
          48,
          49,
          50,
          51,
          52,
          55,
          56,
          57,
          58,
          60,
          61,
          63,
          64,
          65,
          66,
          67,
          70,
          75,
          81,
          82,
          85,
          88,
          90,
          93,
          94,
          95,
          97,
          98,
          101,
          104,
          106,
          108,
          112,
          113
         ],
         "type": "scatter",
         "uid": "bece6e2a-67b4-4213-81a5-0d270c4e9382",
         "x": [
          70,
          88,
          214,
          126,
          153,
          39,
          37,
          146,
          39,
          136,
          317,
          39,
          52,
          166,
          3,
          130,
          106,
          27,
          128,
          34,
          9,
          20,
          19,
          29,
          32,
          155,
          158,
          141,
          148,
          57,
          41,
          150,
          81,
          162,
          190,
          72,
          132,
          174,
          3,
          155,
          183,
          65,
          131,
          84,
          21,
          22,
          43,
          30,
          56,
          302,
          151,
          246,
          214,
          85,
          76,
          192,
          228,
          174,
          204,
          98,
          137,
          138,
          1,
          176,
          163,
          217,
          57,
          268,
          8,
          19,
          68,
          34,
          652,
          674,
          584,
          411,
          343,
          574,
          396,
          566,
          657,
          110,
          342,
          264,
          510,
          176,
          2,
          419,
          194,
          757,
          68,
          805,
          12,
          105,
          367,
          93,
          39,
          47,
          65,
          33,
          21,
          54,
          26,
          30,
          59,
          7,
          99,
          5,
          75,
          3,
          15,
          5,
          98,
          56,
          3,
          32,
          13
         ],
         "y": {
          "dtype": "float64",
          "shape": [
           117
          ],
          "value": {}
         }
        },
        {
         "dimensions": [
          {
           "label": "year",
           "values": [
            2016,
            2016,
            2016,
            2016,
            2016,
            2016,
            2016,
            2016,
            2016,
            2016,
            2016,
            2016,
            2016,
            2016,
            2016,
            2016,
            2016,
            2016,
            2016,
            2016,
            2016,
            2016,
            2016,
            2016,
            2017,
            2017,
            2017,
            2017,
            2017,
            2017,
            2017,
            2017,
            2017,
            2017,
            2017,
            2017,
            2017,
            2017,
            2017,
            2017,
            2017,
            2017,
            2017,
            2017,
            2017,
            2017,
            2017,
            2017,
            2018,
            2018,
            2018,
            2018,
            2018,
            2018,
            2018,
            2018,
            2018,
            2018,
            2018,
            2018,
            2018,
            2018,
            2018,
            2018,
            2018,
            2018,
            2018,
            2018,
            2018,
            2018,
            2018,
            2018,
            2019,
            2019,
            2019,
            2019,
            2019,
            2019,
            2019,
            2019,
            2019,
            2019,
            2019,
            2019,
            2019,
            2019,
            2019,
            2019,
            2019,
            2019,
            2019,
            2019,
            2019,
            2019,
            2019,
            2019,
            2020,
            2020,
            2020,
            2020,
            2020,
            2020,
            2020,
            2020,
            2020,
            2020,
            2020,
            2020,
            2020,
            2020,
            2020,
            2020,
            2020,
            2020,
            2020,
            2020,
            2020
           ]
          },
          {
           "label": "genre",
           "values": [
            "edm",
            "edm",
            "edm",
            "edm",
            "latin",
            "latin",
            "latin",
            "latin",
            "pop",
            "pop",
            "pop",
            "pop",
            "r&b",
            "r&b",
            "r&b",
            "r&b",
            "rap",
            "rap",
            "rap",
            "rap",
            "rock",
            "rock",
            "rock",
            "rock",
            "edm",
            "edm",
            "edm",
            "edm",
            "latin",
            "latin",
            "latin",
            "latin",
            "pop",
            "pop",
            "pop",
            "pop",
            "r&b",
            "r&b",
            "r&b",
            "r&b",
            "rap",
            "rap",
            "rap",
            "rap",
            "rock",
            "rock",
            "rock",
            "rock",
            "edm",
            "edm",
            "edm",
            "edm",
            "latin",
            "latin",
            "latin",
            "latin",
            "pop",
            "pop",
            "pop",
            "pop",
            "r&b",
            "r&b",
            "r&b",
            "r&b",
            "rap",
            "rap",
            "rap",
            "rap",
            "rock",
            "rock",
            "rock",
            "rock",
            "edm",
            "edm",
            "edm",
            "edm",
            "latin",
            "latin",
            "latin",
            "latin",
            "pop",
            "pop",
            "pop",
            "pop",
            "r&b",
            "r&b",
            "r&b",
            "r&b",
            "rap",
            "rap",
            "rap",
            "rap",
            "rock",
            "rock",
            "rock",
            "rock",
            "edm",
            "edm",
            "edm",
            "edm",
            "latin",
            "latin",
            "latin",
            "latin",
            "pop",
            "pop",
            "pop",
            "pop",
            "r&b",
            "r&b",
            "r&b",
            "rap",
            "rap",
            "rap",
            "rock",
            "rock",
            "rock"
           ]
          },
          {
           "label": "subgenre",
           "values": [
            "big room",
            "electro house",
            "pop edm",
            "progressive electro house",
            "latin hip hop",
            "latin pop",
            "reggaeton",
            "tropical",
            "dance pop",
            "electropop",
            "indie poptimism",
            "post-teen pop",
            "hip pop",
            "neo soul",
            "new jack swing",
            "urban contemporary",
            "gangster rap",
            "hip hop",
            "southern hip hop",
            "trap",
            "album rock",
            "classic rock",
            "hard rock",
            "permanent wave",
            "big room",
            "electro house",
            "pop edm",
            "progressive electro house",
            "latin hip hop",
            "latin pop",
            "reggaeton",
            "tropical",
            "dance pop",
            "electropop",
            "indie poptimism",
            "post-teen pop",
            "hip pop",
            "neo soul",
            "new jack swing",
            "urban contemporary",
            "gangster rap",
            "hip hop",
            "southern hip hop",
            "trap",
            "album rock",
            "classic rock",
            "hard rock",
            "permanent wave",
            "big room",
            "electro house",
            "pop edm",
            "progressive electro house",
            "latin hip hop",
            "latin pop",
            "reggaeton",
            "tropical",
            "dance pop",
            "electropop",
            "indie poptimism",
            "post-teen pop",
            "hip pop",
            "neo soul",
            "new jack swing",
            "urban contemporary",
            "gangster rap",
            "hip hop",
            "southern hip hop",
            "trap",
            "album rock",
            "classic rock",
            "hard rock",
            "permanent wave",
            "big room",
            "electro house",
            "pop edm",
            "progressive electro house",
            "latin hip hop",
            "latin pop",
            "reggaeton",
            "tropical",
            "dance pop",
            "electropop",
            "indie poptimism",
            "post-teen pop",
            "hip pop",
            "neo soul",
            "new jack swing",
            "urban contemporary",
            "gangster rap",
            "hip hop",
            "southern hip hop",
            "trap",
            "album rock",
            "classic rock",
            "hard rock",
            "permanent wave",
            "big room",
            "electro house",
            "pop edm",
            "progressive electro house",
            "latin hip hop",
            "latin pop",
            "reggaeton",
            "tropical",
            "dance pop",
            "electropop",
            "indie poptimism",
            "post-teen pop",
            "hip pop",
            "neo soul",
            "urban contemporary",
            "gangster rap",
            "hip hop",
            "trap",
            "classic rock",
            "hard rock",
            "permanent wave"
           ]
          }
         ],
         "domain": {
          "y": [
           0,
           0.4
          ]
         },
         "line": {
          "cmax": 2.5,
          "cmin": -0.5,
          "color": {
           "dtype": "uint8",
           "shape": [
            117
           ],
           "value": {}
          },
          "colorscale": [
           [
            0,
            "#FAEA74"
           ],
           [
            0.33,
            "#FAEA74"
           ],
           [
            0.33,
            "#A02A61"
           ],
           [
            0.66,
            "#A02A61"
           ],
           [
            0.66,
            "#2C0C50"
           ],
           [
            1,
            "#2C0C50"
           ]
          ],
          "shape": "hspline"
         },
         "type": "parcats",
         "uid": "17174adb-0906-4f48-ad38-0e40b2190579"
        }
       ],
       "_js2py_restyle": {},
       "_js2py_update": {},
       "_last_layout_edit_id": 11,
       "_last_trace_edit_id": 9,
       "_layout": {
        "autosize": true,
        "dragmode": "lasso",
        "height": 800,
        "hovermode": "closest",
        "template": {
         "data": {
          "bar": [
           {
            "error_x": {
             "color": "#2a3f5f"
            },
            "error_y": {
             "color": "#2a3f5f"
            },
            "marker": {
             "line": {
              "color": "#E5ECF6",
              "width": 0.5
             }
            },
            "type": "bar"
           }
          ],
          "barpolar": [
           {
            "marker": {
             "line": {
              "color": "#E5ECF6",
              "width": 0.5
             }
            },
            "type": "barpolar"
           }
          ],
          "carpet": [
           {
            "aaxis": {
             "endlinecolor": "#2a3f5f",
             "gridcolor": "white",
             "linecolor": "white",
             "minorgridcolor": "white",
             "startlinecolor": "#2a3f5f"
            },
            "baxis": {
             "endlinecolor": "#2a3f5f",
             "gridcolor": "white",
             "linecolor": "white",
             "minorgridcolor": "white",
             "startlinecolor": "#2a3f5f"
            },
            "type": "carpet"
           }
          ],
          "choropleth": [
           {
            "colorbar": {
             "outlinewidth": 0,
             "ticks": ""
            },
            "type": "choropleth"
           }
          ],
          "contour": [
           {
            "colorbar": {
             "outlinewidth": 0,
             "ticks": ""
            },
            "colorscale": [
             [
              0,
              "#0d0887"
             ],
             [
              0.1111111111111111,
              "#46039f"
             ],
             [
              0.2222222222222222,
              "#7201a8"
             ],
             [
              0.3333333333333333,
              "#9c179e"
             ],
             [
              0.4444444444444444,
              "#bd3786"
             ],
             [
              0.5555555555555556,
              "#d8576b"
             ],
             [
              0.6666666666666666,
              "#ed7953"
             ],
             [
              0.7777777777777778,
              "#fb9f3a"
             ],
             [
              0.8888888888888888,
              "#fdca26"
             ],
             [
              1,
              "#f0f921"
             ]
            ],
            "type": "contour"
           }
          ],
          "contourcarpet": [
           {
            "colorbar": {
             "outlinewidth": 0,
             "ticks": ""
            },
            "type": "contourcarpet"
           }
          ],
          "heatmap": [
           {
            "colorbar": {
             "outlinewidth": 0,
             "ticks": ""
            },
            "colorscale": [
             [
              0,
              "#0d0887"
             ],
             [
              0.1111111111111111,
              "#46039f"
             ],
             [
              0.2222222222222222,
              "#7201a8"
             ],
             [
              0.3333333333333333,
              "#9c179e"
             ],
             [
              0.4444444444444444,
              "#bd3786"
             ],
             [
              0.5555555555555556,
              "#d8576b"
             ],
             [
              0.6666666666666666,
              "#ed7953"
             ],
             [
              0.7777777777777778,
              "#fb9f3a"
             ],
             [
              0.8888888888888888,
              "#fdca26"
             ],
             [
              1,
              "#f0f921"
             ]
            ],
            "type": "heatmap"
           }
          ],
          "heatmapgl": [
           {
            "colorbar": {
             "outlinewidth": 0,
             "ticks": ""
            },
            "colorscale": [
             [
              0,
              "#0d0887"
             ],
             [
              0.1111111111111111,
              "#46039f"
             ],
             [
              0.2222222222222222,
              "#7201a8"
             ],
             [
              0.3333333333333333,
              "#9c179e"
             ],
             [
              0.4444444444444444,
              "#bd3786"
             ],
             [
              0.5555555555555556,
              "#d8576b"
             ],
             [
              0.6666666666666666,
              "#ed7953"
             ],
             [
              0.7777777777777778,
              "#fb9f3a"
             ],
             [
              0.8888888888888888,
              "#fdca26"
             ],
             [
              1,
              "#f0f921"
             ]
            ],
            "type": "heatmapgl"
           }
          ],
          "histogram": [
           {
            "marker": {
             "colorbar": {
              "outlinewidth": 0,
              "ticks": ""
             }
            },
            "type": "histogram"
           }
          ],
          "histogram2d": [
           {
            "colorbar": {
             "outlinewidth": 0,
             "ticks": ""
            },
            "colorscale": [
             [
              0,
              "#0d0887"
             ],
             [
              0.1111111111111111,
              "#46039f"
             ],
             [
              0.2222222222222222,
              "#7201a8"
             ],
             [
              0.3333333333333333,
              "#9c179e"
             ],
             [
              0.4444444444444444,
              "#bd3786"
             ],
             [
              0.5555555555555556,
              "#d8576b"
             ],
             [
              0.6666666666666666,
              "#ed7953"
             ],
             [
              0.7777777777777778,
              "#fb9f3a"
             ],
             [
              0.8888888888888888,
              "#fdca26"
             ],
             [
              1,
              "#f0f921"
             ]
            ],
            "type": "histogram2d"
           }
          ],
          "histogram2dcontour": [
           {
            "colorbar": {
             "outlinewidth": 0,
             "ticks": ""
            },
            "colorscale": [
             [
              0,
              "#0d0887"
             ],
             [
              0.1111111111111111,
              "#46039f"
             ],
             [
              0.2222222222222222,
              "#7201a8"
             ],
             [
              0.3333333333333333,
              "#9c179e"
             ],
             [
              0.4444444444444444,
              "#bd3786"
             ],
             [
              0.5555555555555556,
              "#d8576b"
             ],
             [
              0.6666666666666666,
              "#ed7953"
             ],
             [
              0.7777777777777778,
              "#fb9f3a"
             ],
             [
              0.8888888888888888,
              "#fdca26"
             ],
             [
              1,
              "#f0f921"
             ]
            ],
            "type": "histogram2dcontour"
           }
          ],
          "mesh3d": [
           {
            "colorbar": {
             "outlinewidth": 0,
             "ticks": ""
            },
            "type": "mesh3d"
           }
          ],
          "parcoords": [
           {
            "line": {
             "colorbar": {
              "outlinewidth": 0,
              "ticks": ""
             }
            },
            "type": "parcoords"
           }
          ],
          "pie": [
           {
            "automargin": true,
            "type": "pie"
           }
          ],
          "scatter": [
           {
            "marker": {
             "colorbar": {
              "outlinewidth": 0,
              "ticks": ""
             }
            },
            "type": "scatter"
           }
          ],
          "scatter3d": [
           {
            "line": {
             "colorbar": {
              "outlinewidth": 0,
              "ticks": ""
             }
            },
            "marker": {
             "colorbar": {
              "outlinewidth": 0,
              "ticks": ""
             }
            },
            "type": "scatter3d"
           }
          ],
          "scattercarpet": [
           {
            "marker": {
             "colorbar": {
              "outlinewidth": 0,
              "ticks": ""
             }
            },
            "type": "scattercarpet"
           }
          ],
          "scattergeo": [
           {
            "marker": {
             "colorbar": {
              "outlinewidth": 0,
              "ticks": ""
             }
            },
            "type": "scattergeo"
           }
          ],
          "scattergl": [
           {
            "marker": {
             "colorbar": {
              "outlinewidth": 0,
              "ticks": ""
             }
            },
            "type": "scattergl"
           }
          ],
          "scattermapbox": [
           {
            "marker": {
             "colorbar": {
              "outlinewidth": 0,
              "ticks": ""
             }
            },
            "type": "scattermapbox"
           }
          ],
          "scatterpolar": [
           {
            "marker": {
             "colorbar": {
              "outlinewidth": 0,
              "ticks": ""
             }
            },
            "type": "scatterpolar"
           }
          ],
          "scatterpolargl": [
           {
            "marker": {
             "colorbar": {
              "outlinewidth": 0,
              "ticks": ""
             }
            },
            "type": "scatterpolargl"
           }
          ],
          "scatterternary": [
           {
            "marker": {
             "colorbar": {
              "outlinewidth": 0,
              "ticks": ""
             }
            },
            "type": "scatterternary"
           }
          ],
          "surface": [
           {
            "colorbar": {
             "outlinewidth": 0,
             "ticks": ""
            },
            "colorscale": [
             [
              0,
              "#0d0887"
             ],
             [
              0.1111111111111111,
              "#46039f"
             ],
             [
              0.2222222222222222,
              "#7201a8"
             ],
             [
              0.3333333333333333,
              "#9c179e"
             ],
             [
              0.4444444444444444,
              "#bd3786"
             ],
             [
              0.5555555555555556,
              "#d8576b"
             ],
             [
              0.6666666666666666,
              "#ed7953"
             ],
             [
              0.7777777777777778,
              "#fb9f3a"
             ],
             [
              0.8888888888888888,
              "#fdca26"
             ],
             [
              1,
              "#f0f921"
             ]
            ],
            "type": "surface"
           }
          ],
          "table": [
           {
            "cells": {
             "fill": {
              "color": "#EBF0F8"
             },
             "line": {
              "color": "white"
             }
            },
            "header": {
             "fill": {
              "color": "#C8D4E3"
             },
             "line": {
              "color": "white"
             }
            },
            "type": "table"
           }
          ]
         },
         "layout": {
          "annotationdefaults": {
           "arrowcolor": "#2a3f5f",
           "arrowhead": 0,
           "arrowwidth": 1
          },
          "coloraxis": {
           "colorbar": {
            "outlinewidth": 0,
            "ticks": ""
           }
          },
          "colorscale": {
           "diverging": [
            [
             0,
             "#8e0152"
            ],
            [
             0.1,
             "#c51b7d"
            ],
            [
             0.2,
             "#de77ae"
            ],
            [
             0.3,
             "#f1b6da"
            ],
            [
             0.4,
             "#fde0ef"
            ],
            [
             0.5,
             "#f7f7f7"
            ],
            [
             0.6,
             "#e6f5d0"
            ],
            [
             0.7,
             "#b8e186"
            ],
            [
             0.8,
             "#7fbc41"
            ],
            [
             0.9,
             "#4d9221"
            ],
            [
             1,
             "#276419"
            ]
           ],
           "sequential": [
            [
             0,
             "#0d0887"
            ],
            [
             0.1111111111111111,
             "#46039f"
            ],
            [
             0.2222222222222222,
             "#7201a8"
            ],
            [
             0.3333333333333333,
             "#9c179e"
            ],
            [
             0.4444444444444444,
             "#bd3786"
            ],
            [
             0.5555555555555556,
             "#d8576b"
            ],
            [
             0.6666666666666666,
             "#ed7953"
            ],
            [
             0.7777777777777778,
             "#fb9f3a"
            ],
            [
             0.8888888888888888,
             "#fdca26"
            ],
            [
             1,
             "#f0f921"
            ]
           ],
           "sequentialminus": [
            [
             0,
             "#0d0887"
            ],
            [
             0.1111111111111111,
             "#46039f"
            ],
            [
             0.2222222222222222,
             "#7201a8"
            ],
            [
             0.3333333333333333,
             "#9c179e"
            ],
            [
             0.4444444444444444,
             "#bd3786"
            ],
            [
             0.5555555555555556,
             "#d8576b"
            ],
            [
             0.6666666666666666,
             "#ed7953"
            ],
            [
             0.7777777777777778,
             "#fb9f3a"
            ],
            [
             0.8888888888888888,
             "#fdca26"
            ],
            [
             1,
             "#f0f921"
            ]
           ]
          },
          "colorway": [
           "#636efa",
           "#EF553B",
           "#00cc96",
           "#ab63fa",
           "#FFA15A",
           "#19d3f3",
           "#FF6692",
           "#B6E880",
           "#FF97FF",
           "#FECB52"
          ],
          "font": {
           "color": "#2a3f5f"
          },
          "geo": {
           "bgcolor": "white",
           "lakecolor": "white",
           "landcolor": "#E5ECF6",
           "showlakes": true,
           "showland": true,
           "subunitcolor": "white"
          },
          "hoverlabel": {
           "align": "left"
          },
          "hovermode": "closest",
          "mapbox": {
           "style": "light"
          },
          "paper_bgcolor": "white",
          "plot_bgcolor": "#E5ECF6",
          "polar": {
           "angularaxis": {
            "gridcolor": "white",
            "linecolor": "white",
            "ticks": ""
           },
           "bgcolor": "#E5ECF6",
           "radialaxis": {
            "gridcolor": "white",
            "linecolor": "white",
            "ticks": ""
           }
          },
          "scene": {
           "xaxis": {
            "backgroundcolor": "#E5ECF6",
            "gridcolor": "white",
            "gridwidth": 2,
            "linecolor": "white",
            "showbackground": true,
            "ticks": "",
            "zerolinecolor": "white"
           },
           "yaxis": {
            "backgroundcolor": "#E5ECF6",
            "gridcolor": "white",
            "gridwidth": 2,
            "linecolor": "white",
            "showbackground": true,
            "ticks": "",
            "zerolinecolor": "white"
           },
           "zaxis": {
            "backgroundcolor": "#E5ECF6",
            "gridcolor": "white",
            "gridwidth": 2,
            "linecolor": "white",
            "showbackground": true,
            "ticks": "",
            "zerolinecolor": "white"
           }
          },
          "shapedefaults": {
           "line": {
            "color": "#2a3f5f"
           }
          },
          "ternary": {
           "aaxis": {
            "gridcolor": "white",
            "linecolor": "white",
            "ticks": ""
           },
           "baxis": {
            "gridcolor": "white",
            "linecolor": "white",
            "ticks": ""
           },
           "bgcolor": "#E5ECF6",
           "caxis": {
            "gridcolor": "white",
            "linecolor": "white",
            "ticks": ""
           }
          },
          "title": {
           "x": 0.05
          },
          "xaxis": {
           "automargin": true,
           "gridcolor": "white",
           "linecolor": "white",
           "ticks": "",
           "title": {
            "standoff": 15
           },
           "zerolinecolor": "white",
           "zerolinewidth": 2
          },
          "yaxis": {
           "automargin": true,
           "gridcolor": "white",
           "linecolor": "white",
           "ticks": "",
           "title": {
            "standoff": 15
           },
           "zerolinecolor": "white",
           "zerolinewidth": 2
          }
         }
        },
        "xaxis": {
         "autorange": true,
         "title": {
          "text": "Count"
         }
        },
        "yaxis": {
         "autorange": true,
         "domain": [
          0.6,
          1
         ],
         "title": {
          "text": "Popularity"
         }
        }
       },
       "_model_module_version": "1.5.4",
       "_py2js_addTraces": {},
       "_py2js_animate": {},
       "_py2js_deleteTraces": {},
       "_py2js_moveTraces": {},
       "_py2js_removeLayoutProps": {},
       "_py2js_removeTraceProps": {},
       "_view_count": 0,
       "_view_module_version": "1.5.4"
      }
     },
     "f1f03607ed4347e682765f04804e11cb": {
      "model_module": "@jupyter-widgets/base",
      "model_module_version": "1.2.0",
      "model_name": "LayoutModel",
      "state": {}
     },
     "f2cb8a62479845aaa6803c5a01738c14": {
      "model_module": "@jupyter-widgets/base",
      "model_module_version": "1.2.0",
      "model_name": "LayoutModel",
      "state": {}
     },
     "f45e44c404734fa8acebd1d43ea35716": {
      "model_module": "@jupyter-widgets/base",
      "model_module_version": "1.2.0",
      "model_name": "LayoutModel",
      "state": {}
     },
     "f67b4ad66d9e49cbabd3d89027bf7bb2": {
      "model_module": "@jupyter-widgets/controls",
      "model_module_version": "1.5.0",
      "model_name": "ToggleButtonsStyleModel",
      "state": {
       "button_width": "",
       "description_width": ""
      }
     },
     "f7d99924c825416ca2b9eb7160f087d2": {
      "model_module": "@jupyter-widgets/controls",
      "model_module_version": "1.5.0",
      "model_name": "VBoxModel",
      "state": {
       "children": [
        "IPY_MODEL_fe8bd7caa5c348e0bb00ee78f564acc1",
        "IPY_MODEL_c75087ed2d884934a3d50553f6720f19"
       ],
       "layout": "IPY_MODEL_ec4ae952cd974bb99f93e3da37506398"
      }
     },
     "fdd29f156cd64e6a85c35335e25ff299": {
      "model_module": "@jupyter-widgets/base",
      "model_module_version": "1.2.0",
      "model_name": "LayoutModel",
      "state": {}
     },
     "fe8bd7caa5c348e0bb00ee78f564acc1": {
      "model_module": "@jupyter-widgets/controls",
      "model_module_version": "1.5.0",
      "model_name": "ToggleButtonsModel",
      "state": {
       "_options_labels": [
        "None",
        "Red",
        "Blue"
       ],
       "button_style": "",
       "description": "Brush Color:",
       "icons": [],
       "index": 1,
       "layout": "IPY_MODEL_4ceec64f60a64fe490a56a5237678667",
       "style": "IPY_MODEL_a7cfdf4736c545078e57ad8f484f67d0",
       "tooltips": []
      }
     },
     "ffb171ad262b4c53b4ba0a4d9076884a": {
      "model_module": "@jupyter-widgets/base",
      "model_module_version": "1.2.0",
      "model_name": "LayoutModel",
      "state": {}
     }
    },
    "version_major": 2,
    "version_minor": 0
   }
  }
 },
 "nbformat": 4,
 "nbformat_minor": 2
}
