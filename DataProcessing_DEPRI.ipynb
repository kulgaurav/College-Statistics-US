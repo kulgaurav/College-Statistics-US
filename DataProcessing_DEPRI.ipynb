{
 "cells": [
  {
   "cell_type": "code",
   "execution_count": 25,
   "metadata": {},
   "outputs": [
    {
     "data": {
      "text/html": [
       "        <script type=\"text/javascript\">\n",
       "        window.PlotlyConfig = {MathJaxConfig: 'local'};\n",
       "        if (window.MathJax) {MathJax.Hub.Config({SVG: {font: \"STIX-Web\"}});}\n",
       "        if (typeof require !== 'undefined') {\n",
       "        require.undef(\"plotly\");\n",
       "        requirejs.config({\n",
       "            paths: {\n",
       "                'plotly': ['https://cdn.plot.ly/plotly-latest.min']\n",
       "            }\n",
       "        });\n",
       "        require(['plotly'], function(Plotly) {\n",
       "            window._Plotly = Plotly;\n",
       "        });\n",
       "        }\n",
       "        </script>\n",
       "        "
      ]
     },
     "metadata": {},
     "output_type": "display_data"
    },
    {
     "data": {
      "text/html": [
       "        <script type=\"text/javascript\">\n",
       "        window.PlotlyConfig = {MathJaxConfig: 'local'};\n",
       "        if (window.MathJax) {MathJax.Hub.Config({SVG: {font: \"STIX-Web\"}});}\n",
       "        if (typeof require !== 'undefined') {\n",
       "        require.undef(\"plotly\");\n",
       "        requirejs.config({\n",
       "            paths: {\n",
       "                'plotly': ['https://cdn.plot.ly/plotly-latest.min']\n",
       "            }\n",
       "        });\n",
       "        require(['plotly'], function(Plotly) {\n",
       "            window._Plotly = Plotly;\n",
       "        });\n",
       "        }\n",
       "        </script>\n",
       "        "
      ]
     },
     "metadata": {},
     "output_type": "display_data"
    }
   ],
   "source": [
    "import pandas as pd\n",
    "import numpy as np\n",
    "\n",
    "import chart_studio.plotly as py\n",
    "import plotly.graph_objs as go\n",
    "import plotly.express as px\n",
    "from plotly.offline import iplot, init_notebook_mode\n",
    "\n",
    "import ipywidgets as widgets\n",
    "\n",
    "from sklearn import preprocessing\n",
    "\n",
    "import cufflinks as cf\n",
    "cf.go_offline()\n",
    "cf.set_config_file(offline=False, world_readable=True)\n",
    "init_notebook_mode(connected=True)"
   ]
  },
  {
   "cell_type": "code",
   "execution_count": 79,
   "metadata": {},
   "outputs": [],
   "source": [
    "df = pd.read_csv('Data/spotify_songs_raw.csv')\n",
    "data = df.drop_duplicates(['track_name','track_artist'],keep= 'last')"
   ]
  },
  {
   "cell_type": "code",
   "execution_count": 80,
   "metadata": {},
   "outputs": [],
   "source": [
    "data = data.dropna()"
   ]
  },
  {
   "cell_type": "code",
   "execution_count": 81,
   "metadata": {
    "scrolled": true
   },
   "outputs": [
    {
     "name": "stdout",
     "output_type": "stream",
     "text": [
      "<class 'pandas.core.frame.DataFrame'>\n",
      "Int64Index: 26229 entries, 3 to 32832\n",
      "Data columns (total 23 columns):\n",
      "track_id                    26229 non-null object\n",
      "track_name                  26229 non-null object\n",
      "track_artist                26229 non-null object\n",
      "track_popularity            26229 non-null int64\n",
      "track_album_id              26229 non-null object\n",
      "track_album_name            26229 non-null object\n",
      "track_album_release_date    26229 non-null object\n",
      "playlist_name               26229 non-null object\n",
      "playlist_id                 26229 non-null object\n",
      "playlist_genre              26229 non-null object\n",
      "playlist_subgenre           26229 non-null object\n",
      "danceability                26229 non-null float64\n",
      "energy                      26229 non-null float64\n",
      "key                         26229 non-null int64\n",
      "loudness                    26229 non-null float64\n",
      "mode                        26229 non-null int64\n",
      "speechiness                 26229 non-null float64\n",
      "acousticness                26229 non-null float64\n",
      "instrumentalness            26229 non-null float64\n",
      "liveness                    26229 non-null float64\n",
      "valence                     26229 non-null float64\n",
      "tempo                       26229 non-null float64\n",
      "duration_ms                 26229 non-null int64\n",
      "dtypes: float64(9), int64(4), object(10)\n",
      "memory usage: 4.8+ MB\n"
     ]
    }
   ],
   "source": [
    "data.info()"
   ]
  },
  {
   "cell_type": "code",
   "execution_count": 82,
   "metadata": {},
   "outputs": [],
   "source": [
    "data['track_album_release_date'] = pd.to_datetime(data['track_album_release_date'])"
   ]
  },
  {
   "cell_type": "code",
   "execution_count": 83,
   "metadata": {},
   "outputs": [],
   "source": [
    "mask = (data['track_album_release_date'] > '01-01-2010') & (data['track_album_release_date'] <= '31-12-2019')\n",
    "data = data.loc[mask]"
   ]
  },
  {
   "cell_type": "code",
   "execution_count": 84,
   "metadata": {},
   "outputs": [
    {
     "data": {
      "text/html": [
       "<div>\n",
       "<style scoped>\n",
       "    .dataframe tbody tr th:only-of-type {\n",
       "        vertical-align: middle;\n",
       "    }\n",
       "\n",
       "    .dataframe tbody tr th {\n",
       "        vertical-align: top;\n",
       "    }\n",
       "\n",
       "    .dataframe thead th {\n",
       "        text-align: right;\n",
       "    }\n",
       "</style>\n",
       "<table border=\"1\" class=\"dataframe\">\n",
       "  <thead>\n",
       "    <tr style=\"text-align: right;\">\n",
       "      <th></th>\n",
       "      <th>track_id</th>\n",
       "      <th>track_name</th>\n",
       "      <th>track_artist</th>\n",
       "      <th>track_popularity</th>\n",
       "      <th>track_album_id</th>\n",
       "      <th>track_album_name</th>\n",
       "      <th>track_album_release_date</th>\n",
       "      <th>playlist_name</th>\n",
       "      <th>playlist_id</th>\n",
       "      <th>playlist_genre</th>\n",
       "      <th>...</th>\n",
       "      <th>key</th>\n",
       "      <th>loudness</th>\n",
       "      <th>mode</th>\n",
       "      <th>speechiness</th>\n",
       "      <th>acousticness</th>\n",
       "      <th>instrumentalness</th>\n",
       "      <th>liveness</th>\n",
       "      <th>valence</th>\n",
       "      <th>tempo</th>\n",
       "      <th>duration_ms</th>\n",
       "    </tr>\n",
       "  </thead>\n",
       "  <tbody>\n",
       "    <tr>\n",
       "      <th>3</th>\n",
       "      <td>75FpbthrwQmzHlBJLuGdC7</td>\n",
       "      <td>Call You Mine - Keanu Silva Remix</td>\n",
       "      <td>The Chainsmokers</td>\n",
       "      <td>60</td>\n",
       "      <td>1nqYsOef1yKKuGOVchbsk6</td>\n",
       "      <td>Call You Mine - The Remixes</td>\n",
       "      <td>2019-07-19</td>\n",
       "      <td>Pop Remix</td>\n",
       "      <td>37i9dQZF1DXcZDD7cfEKhW</td>\n",
       "      <td>pop</td>\n",
       "      <td>...</td>\n",
       "      <td>7</td>\n",
       "      <td>-3.778</td>\n",
       "      <td>1</td>\n",
       "      <td>0.1020</td>\n",
       "      <td>0.0287</td>\n",
       "      <td>0.000009</td>\n",
       "      <td>0.2040</td>\n",
       "      <td>0.277</td>\n",
       "      <td>121.956</td>\n",
       "      <td>169093</td>\n",
       "    </tr>\n",
       "    <tr>\n",
       "      <th>4</th>\n",
       "      <td>1e8PAfcKUYoKkxPhrHqw4x</td>\n",
       "      <td>Someone You Loved - Future Humans Remix</td>\n",
       "      <td>Lewis Capaldi</td>\n",
       "      <td>69</td>\n",
       "      <td>7m7vv9wlQ4i0LFuJiE2zsQ</td>\n",
       "      <td>Someone You Loved (Future Humans Remix)</td>\n",
       "      <td>2019-03-05</td>\n",
       "      <td>Pop Remix</td>\n",
       "      <td>37i9dQZF1DXcZDD7cfEKhW</td>\n",
       "      <td>pop</td>\n",
       "      <td>...</td>\n",
       "      <td>1</td>\n",
       "      <td>-4.672</td>\n",
       "      <td>1</td>\n",
       "      <td>0.0359</td>\n",
       "      <td>0.0803</td>\n",
       "      <td>0.000000</td>\n",
       "      <td>0.0833</td>\n",
       "      <td>0.725</td>\n",
       "      <td>123.976</td>\n",
       "      <td>189052</td>\n",
       "    </tr>\n",
       "    <tr>\n",
       "      <th>6</th>\n",
       "      <td>2OAylPUDDfwRGfe0lYqlCQ</td>\n",
       "      <td>Never Really Over - R3HAB Remix</td>\n",
       "      <td>Katy Perry</td>\n",
       "      <td>62</td>\n",
       "      <td>7INHYSeusaFlyrHSNxm8qH</td>\n",
       "      <td>Never Really Over (R3HAB Remix)</td>\n",
       "      <td>2019-07-26</td>\n",
       "      <td>Pop Remix</td>\n",
       "      <td>37i9dQZF1DXcZDD7cfEKhW</td>\n",
       "      <td>pop</td>\n",
       "      <td>...</td>\n",
       "      <td>5</td>\n",
       "      <td>-4.788</td>\n",
       "      <td>0</td>\n",
       "      <td>0.0623</td>\n",
       "      <td>0.1870</td>\n",
       "      <td>0.000000</td>\n",
       "      <td>0.1760</td>\n",
       "      <td>0.152</td>\n",
       "      <td>112.648</td>\n",
       "      <td>187675</td>\n",
       "    </tr>\n",
       "    <tr>\n",
       "      <th>10</th>\n",
       "      <td>3eFJI470ALf1EYjywPRsJy</td>\n",
       "      <td>Cross Me (feat. Chance the Rapper &amp; PnB Rock) ...</td>\n",
       "      <td>Ed Sheeran</td>\n",
       "      <td>58</td>\n",
       "      <td>49bXZtlI5kQSqQMSCnSaWO</td>\n",
       "      <td>Cross Me (feat. Chance the Rapper &amp; PnB Rock) ...</td>\n",
       "      <td>2019-06-21</td>\n",
       "      <td>Pop Remix</td>\n",
       "      <td>37i9dQZF1DXcZDD7cfEKhW</td>\n",
       "      <td>pop</td>\n",
       "      <td>...</td>\n",
       "      <td>6</td>\n",
       "      <td>-6.500</td>\n",
       "      <td>1</td>\n",
       "      <td>0.1810</td>\n",
       "      <td>0.1460</td>\n",
       "      <td>0.000005</td>\n",
       "      <td>0.1240</td>\n",
       "      <td>0.752</td>\n",
       "      <td>121.984</td>\n",
       "      <td>207894</td>\n",
       "    </tr>\n",
       "    <tr>\n",
       "      <th>12</th>\n",
       "      <td>6e0CvGZf7CouOpYF8toXHC</td>\n",
       "      <td>Body On My</td>\n",
       "      <td>Loud Luxury</td>\n",
       "      <td>67</td>\n",
       "      <td>2R66I0nzp3NnuUlzIGWQ5P</td>\n",
       "      <td>Body On My</td>\n",
       "      <td>2019-03-29</td>\n",
       "      <td>Pop Remix</td>\n",
       "      <td>37i9dQZF1DXcZDD7cfEKhW</td>\n",
       "      <td>pop</td>\n",
       "      <td>...</td>\n",
       "      <td>1</td>\n",
       "      <td>-4.675</td>\n",
       "      <td>1</td>\n",
       "      <td>0.0463</td>\n",
       "      <td>0.0399</td>\n",
       "      <td>0.000000</td>\n",
       "      <td>0.3740</td>\n",
       "      <td>0.687</td>\n",
       "      <td>121.985</td>\n",
       "      <td>192507</td>\n",
       "    </tr>\n",
       "  </tbody>\n",
       "</table>\n",
       "<p>5 rows × 23 columns</p>\n",
       "</div>"
      ],
      "text/plain": [
       "                  track_id                                         track_name  \\\n",
       "3   75FpbthrwQmzHlBJLuGdC7                  Call You Mine - Keanu Silva Remix   \n",
       "4   1e8PAfcKUYoKkxPhrHqw4x            Someone You Loved - Future Humans Remix   \n",
       "6   2OAylPUDDfwRGfe0lYqlCQ                    Never Really Over - R3HAB Remix   \n",
       "10  3eFJI470ALf1EYjywPRsJy  Cross Me (feat. Chance the Rapper & PnB Rock) ...   \n",
       "12  6e0CvGZf7CouOpYF8toXHC                                         Body On My   \n",
       "\n",
       "        track_artist  track_popularity          track_album_id  \\\n",
       "3   The Chainsmokers                60  1nqYsOef1yKKuGOVchbsk6   \n",
       "4      Lewis Capaldi                69  7m7vv9wlQ4i0LFuJiE2zsQ   \n",
       "6         Katy Perry                62  7INHYSeusaFlyrHSNxm8qH   \n",
       "10        Ed Sheeran                58  49bXZtlI5kQSqQMSCnSaWO   \n",
       "12       Loud Luxury                67  2R66I0nzp3NnuUlzIGWQ5P   \n",
       "\n",
       "                                     track_album_name  \\\n",
       "3                         Call You Mine - The Remixes   \n",
       "4             Someone You Loved (Future Humans Remix)   \n",
       "6                     Never Really Over (R3HAB Remix)   \n",
       "10  Cross Me (feat. Chance the Rapper & PnB Rock) ...   \n",
       "12                                         Body On My   \n",
       "\n",
       "   track_album_release_date playlist_name             playlist_id  \\\n",
       "3                2019-07-19     Pop Remix  37i9dQZF1DXcZDD7cfEKhW   \n",
       "4                2019-03-05     Pop Remix  37i9dQZF1DXcZDD7cfEKhW   \n",
       "6                2019-07-26     Pop Remix  37i9dQZF1DXcZDD7cfEKhW   \n",
       "10               2019-06-21     Pop Remix  37i9dQZF1DXcZDD7cfEKhW   \n",
       "12               2019-03-29     Pop Remix  37i9dQZF1DXcZDD7cfEKhW   \n",
       "\n",
       "   playlist_genre  ... key  loudness  mode  speechiness  acousticness  \\\n",
       "3             pop  ...   7    -3.778     1       0.1020        0.0287   \n",
       "4             pop  ...   1    -4.672     1       0.0359        0.0803   \n",
       "6             pop  ...   5    -4.788     0       0.0623        0.1870   \n",
       "10            pop  ...   6    -6.500     1       0.1810        0.1460   \n",
       "12            pop  ...   1    -4.675     1       0.0463        0.0399   \n",
       "\n",
       "    instrumentalness  liveness  valence    tempo  duration_ms  \n",
       "3           0.000009    0.2040    0.277  121.956       169093  \n",
       "4           0.000000    0.0833    0.725  123.976       189052  \n",
       "6           0.000000    0.1760    0.152  112.648       187675  \n",
       "10          0.000005    0.1240    0.752  121.984       207894  \n",
       "12          0.000000    0.3740    0.687  121.985       192507  \n",
       "\n",
       "[5 rows x 23 columns]"
      ]
     },
     "execution_count": 84,
     "metadata": {},
     "output_type": "execute_result"
    }
   ],
   "source": [
    "data.head()"
   ]
  },
  {
   "cell_type": "code",
   "execution_count": 85,
   "metadata": {},
   "outputs": [],
   "source": [
    "data.to_csv('Data/spotify_songs.csv', index= False)"
   ]
  },
  {
   "cell_type": "code",
   "execution_count": 25,
   "metadata": {},
   "outputs": [],
   "source": [
    "\n",
    "# releaseYearCol = lambda x: x['track_album_release_date'].split(\"-\")[2]\n",
    "# data['releaseYear'] = data.apply(releaseYearCol, axis=1)\n",
    "# data.head()"
   ]
  },
  {
   "cell_type": "code",
   "execution_count": 26,
   "metadata": {},
   "outputs": [],
   "source": [
    "# g = data.groupby([\"releaseYear\"]).apply(lambda x: x.sort_values([\"track_popularity\"], ascending = False)).reset_index(drop=True)\n",
    "# # select top N rows within each continent\n",
    "# g.groupby('releaseYear').head(1)"
   ]
  },
  {
   "cell_type": "code",
   "execution_count": 32,
   "metadata": {},
   "outputs": [],
   "source": [
    "data = pd.read_csv('Data/spotify_songs.csv')"
   ]
  },
  {
   "cell_type": "code",
   "execution_count": 33,
   "metadata": {},
   "outputs": [],
   "source": [
    "data =data.sort_values(by='track_popularity', ascending=False)"
   ]
  },
  {
   "cell_type": "code",
   "execution_count": 35,
   "metadata": {},
   "outputs": [
    {
     "name": "stdout",
     "output_type": "stream",
     "text": [
      "The Box 98 2019\n",
      "Falling 97 2018\n",
      "goosebumps 86 2016\n",
      "Perfect 86 2017\n",
      "All of Me 85 2013\n",
      "The Less I Know The Better 85 2015\n",
      "Photograph 84 2014\n",
      "Mistletoe 84 2011\n",
      "Can't Hold Us - feat. Ray Dalton 83 2012\n",
      "Love The Way You Lie 82 2010\n"
     ]
    }
   ],
   "source": [
    "years = set()\n",
    "ls = []\n",
    "\n",
    "for index, row in data.iterrows():\n",
    "    if len(years) == 10:\n",
    "        break\n",
    "    yearNow = row['track_album_release_date'].split('-')[0]\n",
    "    if yearNow in years:\n",
    "        #if row['track_popularity'] == \n",
    "        continue\n",
    "        \n",
    "    years.add(yearNow)\n",
    "    ls.append(row)\n",
    "    print(row['track_name'], row['track_popularity'], yearNow)"
   ]
  },
  {
   "cell_type": "code",
   "execution_count": 36,
   "metadata": {},
   "outputs": [],
   "source": [
    "df = pd.DataFrame(ls) "
   ]
  },
  {
   "cell_type": "code",
   "execution_count": 37,
   "metadata": {},
   "outputs": [],
   "source": [
    "df = df[['danceability', 'energy', 'loudness', 'speechiness','acousticness','valence']]"
   ]
  },
  {
   "cell_type": "code",
   "execution_count": 38,
   "metadata": {},
   "outputs": [],
   "source": [
    "x = df.values \n",
    "min_max_scaler = preprocessing.MinMaxScaler()\n",
    "x_scaled = min_max_scaler.fit_transform(x)\n",
    "df = pd.DataFrame(x_scaled, columns=df.columns)"
   ]
  },
  {
   "cell_type": "code",
   "execution_count": 43,
   "metadata": {},
   "outputs": [
    {
     "data": {
      "text/html": [
       "<div>\n",
       "<style scoped>\n",
       "    .dataframe tbody tr th:only-of-type {\n",
       "        vertical-align: middle;\n",
       "    }\n",
       "\n",
       "    .dataframe tbody tr th {\n",
       "        vertical-align: top;\n",
       "    }\n",
       "\n",
       "    .dataframe thead th {\n",
       "        text-align: right;\n",
       "    }\n",
       "</style>\n",
       "<table border=\"1\" class=\"dataframe\">\n",
       "  <thead>\n",
       "    <tr style=\"text-align: right;\">\n",
       "      <th></th>\n",
       "      <th>danceability</th>\n",
       "      <th>energy</th>\n",
       "      <th>loudness</th>\n",
       "      <th>speechiness</th>\n",
       "      <th>acousticness</th>\n",
       "      <th>valence</th>\n",
       "    </tr>\n",
       "  </thead>\n",
       "  <tbody>\n",
       "    <tr>\n",
       "      <th>0</th>\n",
       "      <td>1.000000</td>\n",
       "      <td>0.487141</td>\n",
       "      <td>0.533474</td>\n",
       "      <td>0.160451</td>\n",
       "      <td>0.101593</td>\n",
       "      <td>0.690962</td>\n",
       "    </tr>\n",
       "    <tr>\n",
       "      <th>1</th>\n",
       "      <td>0.763713</td>\n",
       "      <td>0.251135</td>\n",
       "      <td>0.242475</td>\n",
       "      <td>0.064769</td>\n",
       "      <td>0.122460</td>\n",
       "      <td>0.099125</td>\n",
       "    </tr>\n",
       "    <tr>\n",
       "      <th>2</th>\n",
       "      <td>0.883966</td>\n",
       "      <td>0.701967</td>\n",
       "      <td>1.000000</td>\n",
       "      <td>0.123651</td>\n",
       "      <td>0.080395</td>\n",
       "      <td>0.381924</td>\n",
       "    </tr>\n",
       "    <tr>\n",
       "      <th>3</th>\n",
       "      <td>0.373418</td>\n",
       "      <td>0.278366</td>\n",
       "      <td>0.586217</td>\n",
       "      <td>0.000000</td>\n",
       "      <td>0.166392</td>\n",
       "      <td>0.000000</td>\n",
       "    </tr>\n",
       "    <tr>\n",
       "      <th>4</th>\n",
       "      <td>0.000000</td>\n",
       "      <td>0.000000</td>\n",
       "      <td>0.480450</td>\n",
       "      <td>0.044161</td>\n",
       "      <td>1.000000</td>\n",
       "      <td>0.237609</td>\n",
       "    </tr>\n",
       "  </tbody>\n",
       "</table>\n",
       "</div>"
      ],
      "text/plain": [
       "   danceability    energy  loudness  speechiness  acousticness   valence\n",
       "0      1.000000  0.487141  0.533474     0.160451      0.101593  0.690962\n",
       "1      0.763713  0.251135  0.242475     0.064769      0.122460  0.099125\n",
       "2      0.883966  0.701967  1.000000     0.123651      0.080395  0.381924\n",
       "3      0.373418  0.278366  0.586217     0.000000      0.166392  0.000000\n",
       "4      0.000000  0.000000  0.480450     0.044161      1.000000  0.237609"
      ]
     },
     "execution_count": 43,
     "metadata": {},
     "output_type": "execute_result"
    }
   ],
   "source": [
    "df.head()"
   ]
  },
  {
   "cell_type": "code",
   "execution_count": 44,
   "metadata": {},
   "outputs": [],
   "source": [
    "\n",
    "df[:1].to_csv('Data/top_spotify_songs.csv', index= False)"
   ]
  },
  {
   "cell_type": "code",
   "execution_count": null,
   "metadata": {},
   "outputs": [],
   "source": []
  }
 ],
 "metadata": {
  "kernelspec": {
   "display_name": "Python 3",
   "language": "python",
   "name": "python3"
  },
  "language_info": {
   "codemirror_mode": {
    "name": "ipython",
    "version": 3
   },
   "file_extension": ".py",
   "mimetype": "text/x-python",
   "name": "python",
   "nbconvert_exporter": "python",
   "pygments_lexer": "ipython3",
   "version": "3.7.3"
  }
 },
 "nbformat": 4,
 "nbformat_minor": 2
}
